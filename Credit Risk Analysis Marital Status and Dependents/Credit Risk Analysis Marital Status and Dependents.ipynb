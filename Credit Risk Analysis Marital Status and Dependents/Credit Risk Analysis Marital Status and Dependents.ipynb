{
 "cells": [
  {
   "cell_type": "markdown",
   "metadata": {},
   "source": [
    "<div style=\"border:solid black 2px; padding: 20px\"><h1 style=\"color:green; margin-bottom:20px\">Reviewer's comment v1</h1>\n",
    "Halo Azzam!\n",
    "\n",
    "Perkenalkan saya Naufal, disini saya akan mereview tugas Azzam ya.\n",
    "\n",
    "Saya akan memberikan beberapa komen seperti dibawah ini, tolong jangan dipindah, dirubah, maupun dihapus ya.\n",
    "\n",
    "Komen yang saya berikan akan muncul dalam warna hijau, kuning, atau pun merah seperti ini:\n",
    "\n",
    "<div class=\"alert alert-success\">\n",
    "<b>Reviewer's comment</b> <a class=\"tocSkip\"></a>\n",
    "\n",
    "Bagus, semua berjalan lancar.\n",
    "\n",
    "</div>\n",
    "\n",
    "<div class=\"alert alert-warning\">\n",
    "<b>Reviewer's comment</b> <a class=\"tocSkip\"></a>\n",
    "\n",
    "Terdapat beberapa catatan.\n",
    "\n",
    "</div>\n",
    "\n",
    "<div class=\"alert alert-danger\">\n",
    "<b>Reviewer's comment</b> <a class=\"tocSkip\"></a>\n",
    "\n",
    "Perlu beberapa perbaikan\n",
    "\n",
    "</div>\n",
    "\n",
    "Dan tentu saja Azzam dapat menjawab saya dengan menggunakan ini\n",
    "\n",
    "<div class=\"alert alert-block alert-info\">\n",
    "<b>Student answer.</b> <a class=\"tocSkip\"></a>\n",
    "</div>"
   ]
  },
  {
   "cell_type": "markdown",
   "metadata": {},
   "source": [
    "<div style=\"border:solid black 2px; padding: 20px\">\n",
    "<b>Reviewer's comment v1:</b>\n",
    "    \n",
    "<b>Overall Feedback</b> \n",
    "    \n",
    "- Project ini merupakan lompatan yang sangat jauh dibandingkan project sebelumnya maka dari itu saya berterima kasih telah memberikan waktu dan usaha yang tidak sedikit dalam pengerjaannya. Dan juga dengan menggunakan visualisasi yang sebenarnya masih belum menjadi cakupan di proyek ini.\n",
    "- Namun terdapat beberapa poin kritikal seperti intruksi-instruksi yang ada sebaiknya ditulis ulang sedemikian rupa agar seolah-olah Azzam sendiri yang memiliki inisiatif dalam alur pengerjaan project ini dan melatih sense of business dalam konteks project ini. \n",
    "    \n",
    "Untuk perbaikan nya ditunggu ya!\n",
    "</div>\n",
    "\n"
   ]
  },
  {
   "cell_type": "markdown",
   "metadata": {},
   "source": [
    "<div style=\"border:solid black 2px; padding: 20px\">\n",
    "<b>Reviewer's comment v2:</b>\n",
    "    \n",
    "<b>Overall Feedback</b> \n",
    "    \n",
    "Well-done! 💯 Perbaikan yang sangat bagus dengan menambahkan heading atau judul di tiap-tiap langkahnya yang mempermudah memahami tahapan dalam project ini. Namun sepertinya pada review sebelumnya saya terlewat mengenai `tarif_otomatis` apakah bisa dijelaskan terkait itu? karena berdasarkan brief yang tersedia `debt` merupakan pernah tidaknya gagal bayar dalam berhutang yang khususnya dibahas pada bagian terakhir terkait beberapa pertanyaan yang ada. Dan ada beberapa catatan lain yang perlu diperhatikan.\n",
    "    \n",
    "Untuk perbaikan tetap ditunggu ya!\n",
    "</div>\n",
    "\n"
   ]
  },
  {
   "cell_type": "markdown",
   "metadata": {},
   "source": [
    "<div style=\"border:solid black 2px; padding: 20px\">\n",
    "<b>Reviewer's comment v3:</b>\n",
    "    \n",
    "<b>Overall Feedback</b> \n",
    "    \n",
    "Terima kasih atas waktu dan usaha yang dikeluarkan dalam pengerjaan project ini. Project ini sudah disetujui dan dapat melangkah ke tahapan berikutnya. Namun tetap terdapat beberapa catatan seperit, penggunaan `print()` yang tidak perlu dan biasakan untuk memperjelas langkah-langkah pada project ini baik yang sudah dilakukan (outputnya) maupun yang akan dilakukan (planning). Keep up the good work ya. 💪💪💪\n",
    "</div>\n",
    "\n"
   ]
  },
  {
   "cell_type": "markdown",
   "metadata": {},
   "source": [
    "# Menganalisis risiko peminjam gagal membayar\n",
    "\n",
    "Proyek Anda ialah menyiapkan laporan untuk bank bagian kredit. Anda harus mencari tahu pengaruh status perkawinan seorang nasabah dan jumlah anak terhadap probabilitas ketepatan waktu dalam melunasi pinjaman. Bank sudah memiliki beberapa data mengenai kelayakan kredit nasabah.\n",
    "\n",
    "Laporan Anda akan dipertimbangkan pada saat membuat **penilaian kredit** untuk calon nasabah. **Penilaian kredit** digunakan untuk mengevaluasi kemampuan calon peminjam untuk melunasi pinjaman mereka.\n",
    "\n",
    "Tujuan dari proyek ini yaitu mengetahui hal-hal yang berpengaruh pada tingkat kegagalan membayar oleh peminjam. Terdapat beberapa faktor yang akan kita selidiki yaitu **jumlah anak, usia, lama pengalaman kerja, jenis pekerjaan, tingkat pendidikan, gender, status pernikahan dan total pendapatan peminjam**.\n",
    "\n",
    "Langkah-langkah yang yang dilakukan untuk mencapai tujuan tersebut yaitu:\n",
    "1. Memahami informasi yang terdapat pada dataframe (arti setiap informasi pada kolom)\n",
    "2. Mengindetifikasi dataframe: Memeriksa jumlah entry data, data yang hilang, nilai yang aneh/tidak masuk akal, nilai duplikat\n",
    "3. Melakukan transformasi data yaitu memperbaiki nilai yang aneh seperti typo (namun memiliki arti yang sama), usia dan pengalaman kerja bernilai negatif. Di akhir setiap langkah transformasi dilakukan pengecekan nilai duplikat yang bisa saja muncul karena proses tersebut.\n",
    "4. Mengidentifikasi faktor-faktor yang mempengaruhi nilai/value dari kolom yang hilang yang selanjutnya akan digunakan sabagai basis penentuan nilai yang kosong.\n",
    "5. Mengisi nilai yang kosong berdasarkan faktor yang telah teridentifikasi sebelumnya menggunakan nilai **mean/median**.\n",
    "6. Melakukan pengkategorian data yang bertujuan untuk menyederhanaan proses identifikasi.\n",
    "7. Melakukan analisis sederhana mengenai faktor apa saja yang mempengaruhi tingkat kegagalan membayar utang oleh peminjam.\n"
   ]
  },
  {
   "cell_type": "markdown",
   "metadata": {},
   "source": [
    "<div class=\"alert alert-danger\">\n",
    "<b>Reviewer's comment v1</b> <a class=\"tocSkip\"></a>\n",
    "\n",
    "Sebelum melangkah lebih jauh dalam project ini, instruksi atau petunjuk yang ditandai dalam `[]` bisa dihapus ya. Sebaiknya Azzam menjelaskan terkait projek ini terkait tujuan dan langkah-langkah yang akan diambil dalam pengerjaanya."
   ]
  },
  {
   "cell_type": "markdown",
   "metadata": {},
   "source": [
    "## Buka *file* data dan baca informasi umumnya. \n",
    "\n",
    "Terdapat beberapa library yang akan digunakan selama proses analisis data yaitu **pandas** untuk pengolahan dataframe, **matplotlib.pyplot** untuk pengolahan secara grafis, dan **numpy** untuk pengolahan data numerik."
   ]
  },
  {
   "cell_type": "code",
   "execution_count": 1,
   "metadata": {},
   "outputs": [],
   "source": [
    "# Memuat semua perpustakaan\n",
    "import pandas as pd\n",
    "import matplotlib.pyplot as plt\n",
    "import numpy as np"
   ]
  },
  {
   "cell_type": "markdown",
   "metadata": {},
   "source": [
    "Memuat dataframe dari direktori sistem kedalam variabel dataframe yang diberi nama **credit_df**."
   ]
  },
  {
   "cell_type": "code",
   "execution_count": 2,
   "metadata": {},
   "outputs": [],
   "source": [
    "# muat data\n",
    "try:\n",
    "    credit_df = pd.read_csv(\"credit_scoring_eng.csv.csv\")\n",
    "except:\n",
    "    credit_df = pd.read_csv(\"/datasets/credit_scoring_eng.csv\")"
   ]
  },
  {
   "cell_type": "markdown",
   "metadata": {},
   "source": [
    "<div class=\"alert alert-danger\">\n",
    "<b>Reviewer's comment v1</b> <a class=\"tocSkip\"></a>\n",
    "\n",
    "Akan lebih baik lagi apabila langkah memuat library dan data dipisah di dua sel yang berbeda. Hal ini akan meminimalisir perulangan ketika dilakukan muat ulang data saja tanpa muat ulang library yang sudah termuat sebelumnya.\n",
    "\n",
    "</div>"
   ]
  },
  {
   "cell_type": "markdown",
   "metadata": {},
   "source": [
    "Untuk menghindari kesalahan/error karena penulisan path dapat menggunakan fungsi try-except, biasanya file tersimpan di dalam **/datasets/**.\n",
    "               "
   ]
  },
  {
   "cell_type": "markdown",
   "metadata": {},
   "source": [
    "<div class=\"alert alert-success\">\n",
    "<b>Reviewer's comment v1</b> <a class=\"tocSkip\"></a>\n",
    "\n",
    "Solusi yang tepat!\n",
    "</div>"
   ]
  },
  {
   "cell_type": "markdown",
   "metadata": {},
   "source": [
    "## Soal 1. Eksplorasi Data\n",
    "\n",
    "**Deskripsi Data**\n",
    "- *`children`* - jumlah anak dalam keluarga\n",
    "- *`days_employed`* - pengalaman kerja dalam hari\n",
    "- *`dob_years`* - usia klien dalam tahun\n",
    "- *`education`* - pendidikan klien\n",
    "- *`education_id`* - tanda pengenal pendidikan\n",
    "- *`family_status`* - status perkawinan\n",
    "- *`family_status_id`* - tanda pengenal status perkawinan\n",
    "- *`gender`* - jenis kelamin klien\n",
    "- *`income_type`* - jenis pekerjaan\n",
    "- *`debt`* - apakah klien memiliki hutang pembayaran pinjaman\n",
    "- *`total_income`* - pendapatan bulanan\n",
    "- *`purpose`* - tujuan mendapatkan pinjaman\n",
    "\n",
    "Selanjutnya perlu dilakukan pengecekan terhadap jumlah data, dan potensi masalah yang terdapat pada dataframe. Langkah ini dilakukan untuk menentukan langkah data cleaning efektif yang diperlukan sebelum analisis data."
   ]
  },
  {
   "cell_type": "code",
   "execution_count": 3,
   "metadata": {},
   "outputs": [
    {
     "data": {
      "text/plain": [
       "(21525, 12)"
      ]
     },
     "execution_count": 3,
     "metadata": {},
     "output_type": "execute_result"
    }
   ],
   "source": [
    "# Mari kita lihat berapa banyak baris dan kolom yang dimiliki oleh dataset kita\n",
    "credit_df.shape"
   ]
  },
  {
   "cell_type": "markdown",
   "metadata": {},
   "source": [
    "Data credit scoring terdiri dari **21525 baris** dan **12 kolom**"
   ]
  },
  {
   "cell_type": "code",
   "execution_count": 4,
   "metadata": {},
   "outputs": [
    {
     "data": {
      "text/html": [
       "<div>\n",
       "<style scoped>\n",
       "    .dataframe tbody tr th:only-of-type {\n",
       "        vertical-align: middle;\n",
       "    }\n",
       "\n",
       "    .dataframe tbody tr th {\n",
       "        vertical-align: top;\n",
       "    }\n",
       "\n",
       "    .dataframe thead th {\n",
       "        text-align: right;\n",
       "    }\n",
       "</style>\n",
       "<table border=\"1\" class=\"dataframe\">\n",
       "  <thead>\n",
       "    <tr style=\"text-align: right;\">\n",
       "      <th></th>\n",
       "      <th>children</th>\n",
       "      <th>days_employed</th>\n",
       "      <th>dob_years</th>\n",
       "      <th>education</th>\n",
       "      <th>education_id</th>\n",
       "      <th>family_status</th>\n",
       "      <th>family_status_id</th>\n",
       "      <th>gender</th>\n",
       "      <th>income_type</th>\n",
       "      <th>debt</th>\n",
       "      <th>total_income</th>\n",
       "      <th>purpose</th>\n",
       "    </tr>\n",
       "  </thead>\n",
       "  <tbody>\n",
       "    <tr>\n",
       "      <th>0</th>\n",
       "      <td>1</td>\n",
       "      <td>-8437.673028</td>\n",
       "      <td>42</td>\n",
       "      <td>bachelor's degree</td>\n",
       "      <td>0</td>\n",
       "      <td>married</td>\n",
       "      <td>0</td>\n",
       "      <td>F</td>\n",
       "      <td>employee</td>\n",
       "      <td>0</td>\n",
       "      <td>40620.102</td>\n",
       "      <td>purchase of the house</td>\n",
       "    </tr>\n",
       "    <tr>\n",
       "      <th>1</th>\n",
       "      <td>1</td>\n",
       "      <td>-4024.803754</td>\n",
       "      <td>36</td>\n",
       "      <td>secondary education</td>\n",
       "      <td>1</td>\n",
       "      <td>married</td>\n",
       "      <td>0</td>\n",
       "      <td>F</td>\n",
       "      <td>employee</td>\n",
       "      <td>0</td>\n",
       "      <td>17932.802</td>\n",
       "      <td>car purchase</td>\n",
       "    </tr>\n",
       "    <tr>\n",
       "      <th>2</th>\n",
       "      <td>0</td>\n",
       "      <td>-5623.422610</td>\n",
       "      <td>33</td>\n",
       "      <td>Secondary Education</td>\n",
       "      <td>1</td>\n",
       "      <td>married</td>\n",
       "      <td>0</td>\n",
       "      <td>M</td>\n",
       "      <td>employee</td>\n",
       "      <td>0</td>\n",
       "      <td>23341.752</td>\n",
       "      <td>purchase of the house</td>\n",
       "    </tr>\n",
       "    <tr>\n",
       "      <th>3</th>\n",
       "      <td>3</td>\n",
       "      <td>-4124.747207</td>\n",
       "      <td>32</td>\n",
       "      <td>secondary education</td>\n",
       "      <td>1</td>\n",
       "      <td>married</td>\n",
       "      <td>0</td>\n",
       "      <td>M</td>\n",
       "      <td>employee</td>\n",
       "      <td>0</td>\n",
       "      <td>42820.568</td>\n",
       "      <td>supplementary education</td>\n",
       "    </tr>\n",
       "    <tr>\n",
       "      <th>4</th>\n",
       "      <td>0</td>\n",
       "      <td>340266.072047</td>\n",
       "      <td>53</td>\n",
       "      <td>secondary education</td>\n",
       "      <td>1</td>\n",
       "      <td>civil partnership</td>\n",
       "      <td>1</td>\n",
       "      <td>F</td>\n",
       "      <td>retiree</td>\n",
       "      <td>0</td>\n",
       "      <td>25378.572</td>\n",
       "      <td>to have a wedding</td>\n",
       "    </tr>\n",
       "  </tbody>\n",
       "</table>\n",
       "</div>"
      ],
      "text/plain": [
       "   children  days_employed  dob_years            education  education_id  \\\n",
       "0         1   -8437.673028         42    bachelor's degree             0   \n",
       "1         1   -4024.803754         36  secondary education             1   \n",
       "2         0   -5623.422610         33  Secondary Education             1   \n",
       "3         3   -4124.747207         32  secondary education             1   \n",
       "4         0  340266.072047         53  secondary education             1   \n",
       "\n",
       "       family_status  family_status_id gender income_type  debt  total_income  \\\n",
       "0            married                 0      F    employee     0     40620.102   \n",
       "1            married                 0      F    employee     0     17932.802   \n",
       "2            married                 0      M    employee     0     23341.752   \n",
       "3            married                 0      M    employee     0     42820.568   \n",
       "4  civil partnership                 1      F     retiree     0     25378.572   \n",
       "\n",
       "                   purpose  \n",
       "0    purchase of the house  \n",
       "1             car purchase  \n",
       "2    purchase of the house  \n",
       "3  supplementary education  \n",
       "4        to have a wedding  "
      ]
     },
     "execution_count": 4,
     "metadata": {},
     "output_type": "execute_result"
    }
   ],
   "source": [
    "# mari menampilkan N baris pertama\n",
    "credit_df.head(5)"
   ]
  },
  {
   "cell_type": "markdown",
   "metadata": {},
   "source": [
    "<div class=\"alert alert-success\">\n",
    "<b>Reviewer's comment v1</b> <a class=\"tocSkip\"></a>\n",
    "\n",
    "OK! Hindari penggunaan `print()` pada kode di baris terakhir suatu sel.\n",
    "\n",
    "</div>\n"
   ]
  },
  {
   "cell_type": "markdown",
   "metadata": {},
   "source": [
    "Apabila kita melihat data diatas, secara singkat kita telah menemukan beberapa kejanggalan yaitu:\n",
    "\n",
    "- Pada kolom education terdapat nilai yang sama namun dengan penulisan yang berbeda (nilai unik).\n",
    "  Solusi: gunakan fungsi lower, kemudian cek ulang nilai unique, ubah manual apabila terdapat typo yang tidak teratasi.\n",
    "- Pada kolom days_employed terdapat nilai negatif dan positif, nilai negatif perlu diatasi karena tidak mungkin pengalaman kerja bernilai negatif.\n"
   ]
  },
  {
   "cell_type": "markdown",
   "metadata": {},
   "source": [
    "Selanjutnya, yaitu mengecek info dari dataframe untuk melihat adanya data yang hilang"
   ]
  },
  {
   "cell_type": "code",
   "execution_count": 5,
   "metadata": {},
   "outputs": [
    {
     "name": "stdout",
     "output_type": "stream",
     "text": [
      "<class 'pandas.core.frame.DataFrame'>\n",
      "RangeIndex: 21525 entries, 0 to 21524\n",
      "Data columns (total 12 columns):\n",
      " #   Column            Non-Null Count  Dtype  \n",
      "---  ------            --------------  -----  \n",
      " 0   children          21525 non-null  int64  \n",
      " 1   days_employed     19351 non-null  float64\n",
      " 2   dob_years         21525 non-null  int64  \n",
      " 3   education         21525 non-null  object \n",
      " 4   education_id      21525 non-null  int64  \n",
      " 5   family_status     21525 non-null  object \n",
      " 6   family_status_id  21525 non-null  int64  \n",
      " 7   gender            21525 non-null  object \n",
      " 8   income_type       21525 non-null  object \n",
      " 9   debt              21525 non-null  int64  \n",
      " 10  total_income      19351 non-null  float64\n",
      " 11  purpose           21525 non-null  object \n",
      "dtypes: float64(2), int64(5), object(5)\n",
      "memory usage: 2.0+ MB\n"
     ]
    }
   ],
   "source": [
    "# Mendapatkan informasi data\n",
    "credit_df.info()"
   ]
  },
  {
   "cell_type": "markdown",
   "metadata": {},
   "source": [
    "Dari penampilan info dari dataframe di atas, dapat dilihat bahwa terdapat sejumlah data yang hilang pada kolom **days_employed** dan **total_income** karena jumlah entry lebih sedikit dibanding total entry yang ada. Untuk kolom lainnya, sudah tidak ada data yang hilang.\n"
   ]
  },
  {
   "cell_type": "markdown",
   "metadata": {},
   "source": [
    "<div class=\"alert alert-success\">\n",
    "<b>Reviewer's comment v1</b> <a class=\"tocSkip\"></a>\n",
    "\n",
    "Mantab!\n",
    "</div>"
   ]
  },
  {
   "cell_type": "code",
   "execution_count": 6,
   "metadata": {},
   "outputs": [
    {
     "data": {
      "text/plain": [
       "children               0\n",
       "days_employed       2174\n",
       "dob_years              0\n",
       "education              0\n",
       "education_id           0\n",
       "family_status          0\n",
       "family_status_id       0\n",
       "gender                 0\n",
       "income_type            0\n",
       "debt                   0\n",
       "total_income        2174\n",
       "purpose                0\n",
       "dtype: int64"
      ]
     },
     "execution_count": 6,
     "metadata": {},
     "output_type": "execute_result"
    }
   ],
   "source": [
    "# Mari kita melihat tabel yang telah difilter dengan nilai yang hilang di kolom pertama dengan data yang hilang\n",
    "credit_df.isna().sum()"
   ]
  },
  {
   "cell_type": "markdown",
   "metadata": {},
   "source": [
    "Dari informasi di atas, dapat dilihat bahwa nilai yang hilang berkemungkinan berbentuk simteris karena jumlah nilai yang hilang/nan sama yaitu sebanyak 2174 buah. Namun untuk memastikannya perlu dilihat apakah lokasi index nilai nan di kolom **days_employed** sama dengan di kolom **total_income** atau tidak.\n",
    "    \n",
    "   "
   ]
  },
  {
   "cell_type": "code",
   "execution_count": 7,
   "metadata": {},
   "outputs": [
    {
     "name": "stdout",
     "output_type": "stream",
     "text": [
      "Nilai hilang simetris\n"
     ]
    }
   ],
   "source": [
    "# Mari kita menerapkan beberapa persyaratan untuk memfilter data dan melihat jumlah baris dalam tabel yang difilter.\n",
    "symetric = all(credit_df['days_employed'].isna()==credit_df['total_income'].isna())\n",
    "if symetric == True:\n",
    "    print(\"Nilai hilang simetris\")\n",
    "else:\n",
    "    print(\"Nilai hilang tidak simetris\")"
   ]
  },
  {
   "cell_type": "markdown",
   "metadata": {},
   "source": [
    "Dari code diatas dapat disimpulkan bahwa nilai yang hilang simteris, dimana lokasi/index nan di kedua kolom sama."
   ]
  },
  {
   "cell_type": "code",
   "execution_count": 8,
   "metadata": {},
   "outputs": [
    {
     "name": "stdout",
     "output_type": "stream",
     "text": [
      "Persentase nilai hilang:\n",
      "children             0.000000\n",
      "days_employed       10.099884\n",
      "dob_years            0.000000\n",
      "education            0.000000\n",
      "education_id         0.000000\n",
      "family_status        0.000000\n",
      "family_status_id     0.000000\n",
      "gender               0.000000\n",
      "income_type          0.000000\n",
      "debt                 0.000000\n",
      "total_income        10.099884\n",
      "purpose              0.000000\n",
      "dtype: float64\n"
     ]
    }
   ],
   "source": [
    "# Mari kita memeriksa klien yang tidak memiliki data tentang karakteristik yang teridentifikasi dan kolom dengan nilai yang hilang\n",
    "print(\"Persentase nilai hilang:\")\n",
    "print(credit_df.isna().sum()/len(credit_df)*100)\n",
    "\n",
    "credit_df_nan = credit_df.loc[(credit_df['days_employed'].isna())&(credit_df['total_income'].isna()),:].reset_index(drop=True)"
   ]
  },
  {
   "cell_type": "markdown",
   "metadata": {},
   "source": [
    "**Kesimpulan sementara**\n",
    "\n",
    "Berdasarkan hasil identifikasi di atas, benar bahwa data yang hilang simteris dimana jumlah baris dan lokasi/index nilai yang hilang pada kedua kolom sama/indentik. \n",
    "\n",
    "Persentase nilai yang hilang yaitu sebesar 10.09%, dimana nilai ini masih dapat ditoleransi (dibawah 50%). Oleh karena itu, nilai yang hilang dapat diganti atau diisi nilainya oleh nilai yang secara statistika dapat mewakilinya. Karena persentase dibawah 50% juga dataframe ini valid untuk digunakan sebagai bahan analisis.\n",
    "\n",
    "Langkah yang dapat ditempuh yaitu dengan mengecek distribusi faktor di kolom lain yang paling dominan menyumbang nilai yang hilang, kemudian dibandingkan dengan distribusi keseluruhan data."
   ]
  },
  {
   "cell_type": "markdown",
   "metadata": {},
   "source": [
    "<div class=\"alert alert-warning\">\n",
    "<b>Reviewer's comment v1</b> <a class=\"tocSkip\"></a>\n",
    "\n",
    "Entah translasi dari template yang kurang tepat atau lainya, `kesimpulan menengah` disini seharusnya menjadi `kesimpulan sementara` sepanjang proyek ini sampai dengan akhir yang akan menjadi `kesimpulan akhir`.\n",
    " \n",
    "</div>"
   ]
  },
  {
   "cell_type": "code",
   "execution_count": 9,
   "metadata": {},
   "outputs": [
    {
     "name": "stdout",
     "output_type": "stream",
     "text": [
      "Distribusi Nilai NaN pada masing-masing kolom\n",
      "\n"
     ]
    },
    {
     "data": {
      "image/png": "[encoded data removed]",
      "text/plain": [
       "<Figure size 432x288 with 1 Axes>"
      ]
     },
     "metadata": {
      "needs_background": "light"
     },
     "output_type": "display_data"
    },
    {
     "data": {
      "image/png": "[encoded data removed]",
      "text/plain": [
       "<Figure size 432x288 with 1 Axes>"
      ]
     },
     "metadata": {
      "needs_background": "light"
     },
     "output_type": "display_data"
    },
    {
     "data": {
      "image/png": "[encoded data removed]",
      "text/plain": [
       "<Figure size 432x288 with 1 Axes>"
      ]
     },
     "metadata": {
      "needs_background": "light"
     },
     "output_type": "display_data"
    },
    {
     "data": {
      "image/png": "[encoded data removed]",
      "text/plain": [
       "<Figure size 432x288 with 1 Axes>"
      ]
     },
     "metadata": {
      "needs_background": "light"
     },
     "output_type": "display_data"
    },
    {
     "data": {
      "image/png": "[encoded data removed]",
      "text/plain": [
       "<Figure size 432x288 with 1 Axes>"
      ]
     },
     "metadata": {
      "needs_background": "light"
     },
     "output_type": "display_data"
    },
    {
     "data": {
      "image/png": "[encoded data removed]",
      "text/plain": [
       "<Figure size 432x288 with 1 Axes>"
      ]
     },
     "metadata": {
      "needs_background": "light"
     },
     "output_type": "display_data"
    },
    {
     "data": {
      "image/png": "[encoded data removed]",
      "text/plain": [
       "<Figure size 432x288 with 1 Axes>"
      ]
     },
     "metadata": {
      "needs_background": "light"
     },
     "output_type": "display_data"
    }
   ],
   "source": [
    "# Memeriksa distribusi di data filter dan seluruh dataset\n",
    "list_col = ['children','dob_years','education_id','family_status_id','gender','income_type','debt']\n",
    "print(\"Distribusi Nilai NaN pada masing-masing kolom\")\n",
    "print()\n",
    "for col in list_col:\n",
    "    plt.bar(credit_df_nan[col].value_counts().index,credit_df_nan[col].value_counts()/len(credit_df_nan),align='center',color='green',width = 1)\n",
    "    plt.bar(credit_df[col].value_counts().index,credit_df[col].value_counts()/len(credit_df),align='center',width = 0.5)\n",
    "    plt.title(\"Kolom \"+col)\n",
    "    plt.legend(['filter nan','dataset'])\n",
    "    plt.xticks(rotation=45)\n",
    "    plt.show()\n",
    "    "
   ]
  },
  {
   "cell_type": "markdown",
   "metadata": {},
   "source": [
    "Untuk membandingkan distribusi pada tabel terfilter dan dataset keseluruhan, saya tampilkan dalam satu grafik untuk mempermudah dalam membandingkan perbedaan distribusinya.\n",
    "\n",
    "\n",
    "**Kemungkinan penyebab hilangnya nilai dalam data**\n",
    "Dari perbandingan distribusi di atas, terlihat pada hampir seluruh kolom memiliki distribusi sama pada data yang telah terfilter dan keseluruhan dataset.\n",
    "\n",
    "Nilai yang hilang belum dapat ditentukan apakah terjadi secara acak atau mengikuti pola. Salah satu ide untuk menjawab pertanyaan tersebut adalah dengan membandingkan distribusi data terfilter dengan keseluruhan dataset. Apakah terjadi perubahaan distribusi atau tidak. Apabila ada, dapat dinilai apakah perubahan distribusi tersebut membentuk kecenderungan adanya nilai yang hilang."
   ]
  },
  {
   "cell_type": "markdown",
   "metadata": {},
   "source": [
    "**Kesimpulan Sementara**\n",
    "\n",
    "Distribusi dalam dataset asli dengan tabel yang telah difilter terlihat sama. Namun ada beberapa jenis pekerjaan yang tidak ada di tabel yang telah difilter.\n",
    "\n",
    "Pada kolom, **dob_years** terjadi perubahan distribusi. Terbentuk kecenderungan semakin tinggi usia responden menyumbang data hilang semakin besar. Hal tersebut dapat disebabkan karena penurunan ketelitian pengguna ketika menginput data.\n",
    "\n",
    "Berdasarkan hal tersebut, terdapat pola yang menyebabkan munculnya data hilang yaitu usia klien.\n",
    "\n"
   ]
  },
  {
   "cell_type": "markdown",
   "metadata": {},
   "source": [
    "**Kesimpulan**\n",
    "\n",
    "Berdasarkan analisis perbandingan distribusi pada usia klien. Terjadi pergeseran kurva distribusi dimana pada terfilter semakin tinggi usia klien maka kecenderungan munculnya nilai hilang semakin besar.\n",
    "\n",
    "Karena nilai yang hilang sebesar 10.09% maka kita dapat mengatasi nilai hilang tersebut dengan cara mengisinya dengan nilai yang mampu mempresentasikan nilai yang hilang tersebut dengan baik yaitu nilai **mean/median**. Namun sebelum itu, perlu dicari faktor pada kolom lain yang berkaitan dengan data yang hilang tersebut.\n",
    "\n",
    "Untuk mencari faktor yang mempengaruhi kolom yang terdapat nilai hilang. Sebelumnya kita perlu melakukan preparasi data. Data riil seringkali sangat crowded, terdapat kejanggalan/masalah seperti data terduplikasi, data yang aneh/tidak logis, data tidak valid, dan lain-lain. Oleh karenanya, dataset tersebut perlu diolah terlebih dahulu sebelum dianalisis."
   ]
  },
  {
   "cell_type": "markdown",
   "metadata": {},
   "source": [
    "<div class=\"alert alert-success\">\n",
    "<b>Reviewer's comment v1</b> <a class=\"tocSkip\"></a>\n",
    "\n",
    "Kerja bagus! \n",
    "</div>"
   ]
  },
  {
   "cell_type": "markdown",
   "metadata": {},
   "source": [
    "## Transformasi data\n",
    "\n",
    "Langkah transformasi data dilakukan dengan mengecek setiap nilai pada setiap kolom yang ada kemudian memperbaikinya. Pada setiap sebelum dan setelah langkah transformasi dilakukan pengecekan data terduplikat.\n",
    "\n",
    "Pertama-tama yaitu membuat variabel dataframe baru untuk menyimpan dataframe yang berhasil termodifikasi disetiap langkah transformasi data yang akan diberi nama **credit_df_mod**."
   ]
  },
  {
   "cell_type": "code",
   "execution_count": 10,
   "metadata": {},
   "outputs": [],
   "source": [
    "# Membuat variabel dataframe baru untuk menyimpan dataframe yang telah di modifikasi\n",
    "credit_df_mod = credit_df"
   ]
  },
  {
   "cell_type": "markdown",
   "metadata": {},
   "source": [
    "### Kolom pendidikan\n",
    "\n",
    "Pertama perlu dilakukan pengecekan adanya data duplikat sebelum transformasi dilakukan"
   ]
  },
  {
   "cell_type": "code",
   "execution_count": 11,
   "metadata": {},
   "outputs": [
    {
     "name": "stdout",
     "output_type": "stream",
     "text": [
      "<class 'pandas.core.frame.DataFrame'>\n",
      "Int64Index: 54 entries, 2849 to 21415\n",
      "Data columns (total 12 columns):\n",
      " #   Column            Non-Null Count  Dtype  \n",
      "---  ------            --------------  -----  \n",
      " 0   children          54 non-null     int64  \n",
      " 1   days_employed     0 non-null      float64\n",
      " 2   dob_years         54 non-null     int64  \n",
      " 3   education         54 non-null     object \n",
      " 4   education_id      54 non-null     int64  \n",
      " 5   family_status     54 non-null     object \n",
      " 6   family_status_id  54 non-null     int64  \n",
      " 7   gender            54 non-null     object \n",
      " 8   income_type       54 non-null     object \n",
      " 9   debt              54 non-null     int64  \n",
      " 10  total_income      0 non-null      float64\n",
      " 11  purpose           54 non-null     object \n",
      "dtypes: float64(2), int64(5), object(5)\n",
      "memory usage: 5.5+ KB\n"
     ]
    },
    {
     "data": {
      "text/html": [
       "<div>\n",
       "<style scoped>\n",
       "    .dataframe tbody tr th:only-of-type {\n",
       "        vertical-align: middle;\n",
       "    }\n",
       "\n",
       "    .dataframe tbody tr th {\n",
       "        vertical-align: top;\n",
       "    }\n",
       "\n",
       "    .dataframe thead th {\n",
       "        text-align: right;\n",
       "    }\n",
       "</style>\n",
       "<table border=\"1\" class=\"dataframe\">\n",
       "  <thead>\n",
       "    <tr style=\"text-align: right;\">\n",
       "      <th></th>\n",
       "      <th>children</th>\n",
       "      <th>days_employed</th>\n",
       "      <th>dob_years</th>\n",
       "      <th>education</th>\n",
       "      <th>education_id</th>\n",
       "      <th>family_status</th>\n",
       "      <th>family_status_id</th>\n",
       "      <th>gender</th>\n",
       "      <th>income_type</th>\n",
       "      <th>debt</th>\n",
       "      <th>total_income</th>\n",
       "      <th>purpose</th>\n",
       "    </tr>\n",
       "  </thead>\n",
       "  <tbody>\n",
       "    <tr>\n",
       "      <th>2849</th>\n",
       "      <td>0</td>\n",
       "      <td>NaN</td>\n",
       "      <td>41</td>\n",
       "      <td>secondary education</td>\n",
       "      <td>1</td>\n",
       "      <td>married</td>\n",
       "      <td>0</td>\n",
       "      <td>F</td>\n",
       "      <td>employee</td>\n",
       "      <td>0</td>\n",
       "      <td>NaN</td>\n",
       "      <td>purchase of the house for my family</td>\n",
       "    </tr>\n",
       "    <tr>\n",
       "      <th>4182</th>\n",
       "      <td>1</td>\n",
       "      <td>NaN</td>\n",
       "      <td>34</td>\n",
       "      <td>BACHELOR'S DEGREE</td>\n",
       "      <td>0</td>\n",
       "      <td>civil partnership</td>\n",
       "      <td>1</td>\n",
       "      <td>F</td>\n",
       "      <td>employee</td>\n",
       "      <td>0</td>\n",
       "      <td>NaN</td>\n",
       "      <td>wedding ceremony</td>\n",
       "    </tr>\n",
       "    <tr>\n",
       "      <th>4851</th>\n",
       "      <td>0</td>\n",
       "      <td>NaN</td>\n",
       "      <td>60</td>\n",
       "      <td>secondary education</td>\n",
       "      <td>1</td>\n",
       "      <td>civil partnership</td>\n",
       "      <td>1</td>\n",
       "      <td>F</td>\n",
       "      <td>retiree</td>\n",
       "      <td>0</td>\n",
       "      <td>NaN</td>\n",
       "      <td>wedding ceremony</td>\n",
       "    </tr>\n",
       "    <tr>\n",
       "      <th>5557</th>\n",
       "      <td>0</td>\n",
       "      <td>NaN</td>\n",
       "      <td>58</td>\n",
       "      <td>secondary education</td>\n",
       "      <td>1</td>\n",
       "      <td>civil partnership</td>\n",
       "      <td>1</td>\n",
       "      <td>F</td>\n",
       "      <td>retiree</td>\n",
       "      <td>0</td>\n",
       "      <td>NaN</td>\n",
       "      <td>to have a wedding</td>\n",
       "    </tr>\n",
       "    <tr>\n",
       "      <th>7808</th>\n",
       "      <td>0</td>\n",
       "      <td>NaN</td>\n",
       "      <td>57</td>\n",
       "      <td>secondary education</td>\n",
       "      <td>1</td>\n",
       "      <td>civil partnership</td>\n",
       "      <td>1</td>\n",
       "      <td>F</td>\n",
       "      <td>retiree</td>\n",
       "      <td>0</td>\n",
       "      <td>NaN</td>\n",
       "      <td>having a wedding</td>\n",
       "    </tr>\n",
       "  </tbody>\n",
       "</table>\n",
       "</div>"
      ],
      "text/plain": [
       "      children  days_employed  dob_years            education  education_id  \\\n",
       "2849         0            NaN         41  secondary education             1   \n",
       "4182         1            NaN         34    BACHELOR'S DEGREE             0   \n",
       "4851         0            NaN         60  secondary education             1   \n",
       "5557         0            NaN         58  secondary education             1   \n",
       "7808         0            NaN         57  secondary education             1   \n",
       "\n",
       "          family_status  family_status_id gender income_type  debt  \\\n",
       "2849            married                 0      F    employee     0   \n",
       "4182  civil partnership                 1      F    employee     0   \n",
       "4851  civil partnership                 1      F     retiree     0   \n",
       "5557  civil partnership                 1      F     retiree     0   \n",
       "7808  civil partnership                 1      F     retiree     0   \n",
       "\n",
       "      total_income                              purpose  \n",
       "2849           NaN  purchase of the house for my family  \n",
       "4182           NaN                     wedding ceremony  \n",
       "4851           NaN                     wedding ceremony  \n",
       "5557           NaN                    to have a wedding  \n",
       "7808           NaN                     having a wedding  "
      ]
     },
     "execution_count": 11,
     "metadata": {},
     "output_type": "execute_result"
    }
   ],
   "source": [
    "# Mengecek data duplikat\n",
    "credit_df_mod.loc[credit_df_mod.duplicated(),:].info()\n",
    "credit_df_mod.loc[credit_df_mod.duplicated(),:].head(5)"
   ]
  },
  {
   "cell_type": "markdown",
   "metadata": {},
   "source": [
    "Terdapat 54 data duplikat sebelum proses transformasi data."
   ]
  },
  {
   "cell_type": "code",
   "execution_count": 12,
   "metadata": {
    "scrolled": true
   },
   "outputs": [
    {
     "data": {
      "text/plain": [
       "[\"BACHELOR'S DEGREE\",\n",
       " \"Bachelor's Degree\",\n",
       " 'GRADUATE DEGREE',\n",
       " 'Graduate Degree',\n",
       " 'PRIMARY EDUCATION',\n",
       " 'Primary Education',\n",
       " 'SECONDARY EDUCATION',\n",
       " 'SOME COLLEGE',\n",
       " 'Secondary Education',\n",
       " 'Some College',\n",
       " \"bachelor's degree\",\n",
       " 'graduate degree',\n",
       " 'primary education',\n",
       " 'secondary education',\n",
       " 'some college']"
      ]
     },
     "execution_count": 12,
     "metadata": {},
     "output_type": "execute_result"
    }
   ],
   "source": [
    "# Mari kita lihat semua nilai di kolom pendidikan untuk memeriksa ejaan apa yang perlu diperbaiki\n",
    "sorted(credit_df_mod['education'].unique())"
   ]
  },
  {
   "cell_type": "markdown",
   "metadata": {},
   "source": [
    "Dapat dilihat bahwa terdapat nilai yang bermakna sama tetapi memiliki penulisan yang berbeda. Perbedaan yang ada hanya berupa perbedaan huruf besar dan kecil saja. Maka dapat diatasi dengan menggunakan perintah **.str.lower()**"
   ]
  },
  {
   "cell_type": "markdown",
   "metadata": {},
   "source": [
    "<div class=\"alert alert-danger\">\n",
    "<b>Reviewer's comment v1</b> <a class=\"tocSkip\"></a>\n",
    "\n",
    "Hindari penggunaan `print()` pada kode baris terakhir di suatu sel.\n",
    "</div>"
   ]
  },
  {
   "cell_type": "code",
   "execution_count": 13,
   "metadata": {},
   "outputs": [],
   "source": [
    "# Perbaiki register jika diperlukan\n",
    "credit_df_mod['education'] = credit_df_mod['education'].str.lower()"
   ]
  },
  {
   "cell_type": "code",
   "execution_count": 14,
   "metadata": {
    "scrolled": true
   },
   "outputs": [
    {
     "data": {
      "text/plain": [
       "[\"bachelor's degree\",\n",
       " 'graduate degree',\n",
       " 'primary education',\n",
       " 'secondary education',\n",
       " 'some college']"
      ]
     },
     "execution_count": 14,
     "metadata": {},
     "output_type": "execute_result"
    }
   ],
   "source": [
    "# Memeriksa semua nilai di kolom untuk memastikan kita telah memperbaikinya\n",
    "sorted(credit_df_mod['education'].unique())"
   ]
  },
  {
   "cell_type": "markdown",
   "metadata": {},
   "source": [
    "Nilai unik pada kolom **education** sudah teratasi dengan baik karena tidak ada nilai unik yang bermakna sama.\n",
    "\n",
    "Selanjutnya yaitu mengecek kembali data duplikat setelah proses transformasi dilakukan"
   ]
  },
  {
   "cell_type": "code",
   "execution_count": 15,
   "metadata": {},
   "outputs": [
    {
     "name": "stdout",
     "output_type": "stream",
     "text": [
      "<class 'pandas.core.frame.DataFrame'>\n",
      "Int64Index: 71 entries, 2849 to 21415\n",
      "Data columns (total 12 columns):\n",
      " #   Column            Non-Null Count  Dtype  \n",
      "---  ------            --------------  -----  \n",
      " 0   children          71 non-null     int64  \n",
      " 1   days_employed     0 non-null      float64\n",
      " 2   dob_years         71 non-null     int64  \n",
      " 3   education         71 non-null     object \n",
      " 4   education_id      71 non-null     int64  \n",
      " 5   family_status     71 non-null     object \n",
      " 6   family_status_id  71 non-null     int64  \n",
      " 7   gender            71 non-null     object \n",
      " 8   income_type       71 non-null     object \n",
      " 9   debt              71 non-null     int64  \n",
      " 10  total_income      0 non-null      float64\n",
      " 11  purpose           71 non-null     object \n",
      "dtypes: float64(2), int64(5), object(5)\n",
      "memory usage: 7.2+ KB\n"
     ]
    },
    {
     "data": {
      "text/html": [
       "<div>\n",
       "<style scoped>\n",
       "    .dataframe tbody tr th:only-of-type {\n",
       "        vertical-align: middle;\n",
       "    }\n",
       "\n",
       "    .dataframe tbody tr th {\n",
       "        vertical-align: top;\n",
       "    }\n",
       "\n",
       "    .dataframe thead th {\n",
       "        text-align: right;\n",
       "    }\n",
       "</style>\n",
       "<table border=\"1\" class=\"dataframe\">\n",
       "  <thead>\n",
       "    <tr style=\"text-align: right;\">\n",
       "      <th></th>\n",
       "      <th>children</th>\n",
       "      <th>days_employed</th>\n",
       "      <th>dob_years</th>\n",
       "      <th>education</th>\n",
       "      <th>education_id</th>\n",
       "      <th>family_status</th>\n",
       "      <th>family_status_id</th>\n",
       "      <th>gender</th>\n",
       "      <th>income_type</th>\n",
       "      <th>debt</th>\n",
       "      <th>total_income</th>\n",
       "      <th>purpose</th>\n",
       "    </tr>\n",
       "  </thead>\n",
       "  <tbody>\n",
       "    <tr>\n",
       "      <th>2849</th>\n",
       "      <td>0</td>\n",
       "      <td>NaN</td>\n",
       "      <td>41</td>\n",
       "      <td>secondary education</td>\n",
       "      <td>1</td>\n",
       "      <td>married</td>\n",
       "      <td>0</td>\n",
       "      <td>F</td>\n",
       "      <td>employee</td>\n",
       "      <td>0</td>\n",
       "      <td>NaN</td>\n",
       "      <td>purchase of the house for my family</td>\n",
       "    </tr>\n",
       "    <tr>\n",
       "      <th>3290</th>\n",
       "      <td>0</td>\n",
       "      <td>NaN</td>\n",
       "      <td>58</td>\n",
       "      <td>secondary education</td>\n",
       "      <td>1</td>\n",
       "      <td>civil partnership</td>\n",
       "      <td>1</td>\n",
       "      <td>F</td>\n",
       "      <td>retiree</td>\n",
       "      <td>0</td>\n",
       "      <td>NaN</td>\n",
       "      <td>to have a wedding</td>\n",
       "    </tr>\n",
       "    <tr>\n",
       "      <th>4182</th>\n",
       "      <td>1</td>\n",
       "      <td>NaN</td>\n",
       "      <td>34</td>\n",
       "      <td>bachelor's degree</td>\n",
       "      <td>0</td>\n",
       "      <td>civil partnership</td>\n",
       "      <td>1</td>\n",
       "      <td>F</td>\n",
       "      <td>employee</td>\n",
       "      <td>0</td>\n",
       "      <td>NaN</td>\n",
       "      <td>wedding ceremony</td>\n",
       "    </tr>\n",
       "    <tr>\n",
       "      <th>4851</th>\n",
       "      <td>0</td>\n",
       "      <td>NaN</td>\n",
       "      <td>60</td>\n",
       "      <td>secondary education</td>\n",
       "      <td>1</td>\n",
       "      <td>civil partnership</td>\n",
       "      <td>1</td>\n",
       "      <td>F</td>\n",
       "      <td>retiree</td>\n",
       "      <td>0</td>\n",
       "      <td>NaN</td>\n",
       "      <td>wedding ceremony</td>\n",
       "    </tr>\n",
       "    <tr>\n",
       "      <th>5557</th>\n",
       "      <td>0</td>\n",
       "      <td>NaN</td>\n",
       "      <td>58</td>\n",
       "      <td>secondary education</td>\n",
       "      <td>1</td>\n",
       "      <td>civil partnership</td>\n",
       "      <td>1</td>\n",
       "      <td>F</td>\n",
       "      <td>retiree</td>\n",
       "      <td>0</td>\n",
       "      <td>NaN</td>\n",
       "      <td>to have a wedding</td>\n",
       "    </tr>\n",
       "  </tbody>\n",
       "</table>\n",
       "</div>"
      ],
      "text/plain": [
       "      children  days_employed  dob_years            education  education_id  \\\n",
       "2849         0            NaN         41  secondary education             1   \n",
       "3290         0            NaN         58  secondary education             1   \n",
       "4182         1            NaN         34    bachelor's degree             0   \n",
       "4851         0            NaN         60  secondary education             1   \n",
       "5557         0            NaN         58  secondary education             1   \n",
       "\n",
       "          family_status  family_status_id gender income_type  debt  \\\n",
       "2849            married                 0      F    employee     0   \n",
       "3290  civil partnership                 1      F     retiree     0   \n",
       "4182  civil partnership                 1      F    employee     0   \n",
       "4851  civil partnership                 1      F     retiree     0   \n",
       "5557  civil partnership                 1      F     retiree     0   \n",
       "\n",
       "      total_income                              purpose  \n",
       "2849           NaN  purchase of the house for my family  \n",
       "3290           NaN                    to have a wedding  \n",
       "4182           NaN                     wedding ceremony  \n",
       "4851           NaN                     wedding ceremony  \n",
       "5557           NaN                    to have a wedding  "
      ]
     },
     "execution_count": 15,
     "metadata": {},
     "output_type": "execute_result"
    }
   ],
   "source": [
    "# Mengecek data duplikat\n",
    "credit_df_mod.loc[credit_df_mod.duplicated(),:].info()\n",
    "credit_df_mod.loc[credit_df_mod.duplicated(),:].head(5)"
   ]
  },
  {
   "cell_type": "markdown",
   "metadata": {},
   "source": [
    "Jumlah duplikat bertambah jadi 71 entry yang artinya terdapat pengguna yang melakukan input ulang untuk memperbaiki kesalahan yang dilakukan sebelumnya."
   ]
  },
  {
   "cell_type": "markdown",
   "metadata": {},
   "source": [
    "<div class=\"alert alert-danger\">\n",
    "<b>Reviewer's comment v1</b> <a class=\"tocSkip\"></a>\n",
    "\n",
    "Seharusnya ditahap ini dilakukan pengecekan nilai duplikat baik sebelum `lower()` maupun setelahnya. Dengan tujuan untuk mengetahui pola data duplikat yang ada dan kapan seharusnya dilakukan tahapan dalam mengatasi data duplikat\n",
    "\n",
    "</div>"
   ]
  },
  {
   "cell_type": "markdown",
   "metadata": {},
   "source": [
    "### Kolom children"
   ]
  },
  {
   "cell_type": "code",
   "execution_count": 16,
   "metadata": {},
   "outputs": [
    {
     "name": "stdout",
     "output_type": "stream",
     "text": [
      "[ 1  0  3  2 -1  4 20  5]\n",
      "Persentase nilai yang aneh adalah 0.22%\n"
     ]
    }
   ],
   "source": [
    "# Melihat data unik yang ada di kolom children\n",
    "print((credit_df_mod['children'].unique()))\n",
    "print(\"Persentase nilai yang aneh adalah {:4.2f}%\".format(credit_df_mod.loc[credit_df_mod['children']==-1,'children'].count()/len(credit_df_mod['children'])*100))"
   ]
  },
  {
   "cell_type": "markdown",
   "metadata": {},
   "source": [
    "Terdapat nilai pada kolom children yang bernilai -1 dimana hal tersebut tidak mungkin dapat terjadi di dunia nyata. Persentase nilai aneh cukup rendah sehingga yaitu sebesar 0.22% lebih baik data dengan nilai aneh pada kolom children digantikan dengan nilai median/mean dari data tersebut."
   ]
  },
  {
   "cell_type": "code",
   "execution_count": 17,
   "metadata": {},
   "outputs": [
    {
     "data": {
      "image/png": "[encoded data removed]",
      "text/plain": [
       "<Figure size 432x288 with 1 Axes>"
      ]
     },
     "metadata": {
      "needs_background": "light"
     },
     "output_type": "display_data"
    }
   ],
   "source": [
    "# Melihat distribusi\n",
    "plt.bar(credit_df_mod['children'].value_counts().index,credit_df_mod['children'].value_counts(),width = 1)\n",
    "plt.title('Distribusi kolom children sebelum diperbaiki')\n",
    "plt.show()"
   ]
  },
  {
   "cell_type": "markdown",
   "metadata": {},
   "source": [
    "Karena distribusi tidak simetris dan terdapat outliner. Maka digunakan nilai median untuk menggantikan nilai data yang aneh.\n",
    "Namun sebelum itu dilakukan pengecekan data duplikat sebelum transformasi dilakukan"
   ]
  },
  {
   "cell_type": "code",
   "execution_count": 18,
   "metadata": {},
   "outputs": [
    {
     "name": "stdout",
     "output_type": "stream",
     "text": [
      "<class 'pandas.core.frame.DataFrame'>\n",
      "Int64Index: 71 entries, 2849 to 21415\n",
      "Data columns (total 12 columns):\n",
      " #   Column            Non-Null Count  Dtype  \n",
      "---  ------            --------------  -----  \n",
      " 0   children          71 non-null     int64  \n",
      " 1   days_employed     0 non-null      float64\n",
      " 2   dob_years         71 non-null     int64  \n",
      " 3   education         71 non-null     object \n",
      " 4   education_id      71 non-null     int64  \n",
      " 5   family_status     71 non-null     object \n",
      " 6   family_status_id  71 non-null     int64  \n",
      " 7   gender            71 non-null     object \n",
      " 8   income_type       71 non-null     object \n",
      " 9   debt              71 non-null     int64  \n",
      " 10  total_income      0 non-null      float64\n",
      " 11  purpose           71 non-null     object \n",
      "dtypes: float64(2), int64(5), object(5)\n",
      "memory usage: 7.2+ KB\n"
     ]
    }
   ],
   "source": [
    "# Mengcek nilai duplikat\n",
    "credit_df_mod.loc[credit_df_mod.duplicated(),:].info()"
   ]
  },
  {
   "cell_type": "code",
   "execution_count": 19,
   "metadata": {},
   "outputs": [],
   "source": [
    "# Memperbaiki data\n",
    "median_children = (credit_df_mod['children'].median())\n",
    "credit_df_mod.loc[credit_df_mod['children']==-1,'children'] = median_children"
   ]
  },
  {
   "cell_type": "code",
   "execution_count": 20,
   "metadata": {},
   "outputs": [
    {
     "name": "stdout",
     "output_type": "stream",
     "text": [
      "[ 1.  0.  3.  2.  4. 20.  5.]\n",
      "\n"
     ]
    },
    {
     "data": {
      "image/png": "[encoded data removed]",
      "text/plain": [
       "<Figure size 432x288 with 1 Axes>"
      ]
     },
     "metadata": {
      "needs_background": "light"
     },
     "output_type": "display_data"
    }
   ],
   "source": [
    "# Periksa kembali kolom `children` untuk memastikan semua telah diperbaiki\n",
    "print(credit_df_mod['children'].unique())\n",
    "print()\n",
    "plt.bar(credit_df_mod['children'].value_counts().index,credit_df_mod['children'].value_counts())\n",
    "plt.title('Distribusi kolom children setelah diperbaiki')\n",
    "plt.show()\n"
   ]
  },
  {
   "cell_type": "markdown",
   "metadata": {},
   "source": [
    "Data jumlah anak sebesar **-1** sudah teratasi dengan baik, sehingga pada kolom ini sudah tidak ada lagi nilai yang aneh. Namun dapat dilihat bahwa terdapat klien dengan jumlah anak sebanyak 20 orang. Hal tersebut bisa saja terjadi apabila klien tersebut memiliki lebih dari satu istri."
   ]
  },
  {
   "cell_type": "markdown",
   "metadata": {},
   "source": [
    "Selanjutnya yaitu mengecek kembali nilain duplikat setelah proses transformasi"
   ]
  },
  {
   "cell_type": "code",
   "execution_count": 21,
   "metadata": {},
   "outputs": [
    {
     "name": "stdout",
     "output_type": "stream",
     "text": [
      "<class 'pandas.core.frame.DataFrame'>\n",
      "Int64Index: 71 entries, 2849 to 21415\n",
      "Data columns (total 12 columns):\n",
      " #   Column            Non-Null Count  Dtype  \n",
      "---  ------            --------------  -----  \n",
      " 0   children          71 non-null     float64\n",
      " 1   days_employed     0 non-null      float64\n",
      " 2   dob_years         71 non-null     int64  \n",
      " 3   education         71 non-null     object \n",
      " 4   education_id      71 non-null     int64  \n",
      " 5   family_status     71 non-null     object \n",
      " 6   family_status_id  71 non-null     int64  \n",
      " 7   gender            71 non-null     object \n",
      " 8   income_type       71 non-null     object \n",
      " 9   debt              71 non-null     int64  \n",
      " 10  total_income      0 non-null      float64\n",
      " 11  purpose           71 non-null     object \n",
      "dtypes: float64(3), int64(4), object(5)\n",
      "memory usage: 7.2+ KB\n"
     ]
    }
   ],
   "source": [
    "# Mengecek data duplikat\n",
    "credit_df_mod.loc[credit_df_mod.duplicated(),:].info()"
   ]
  },
  {
   "cell_type": "markdown",
   "metadata": {},
   "source": [
    "Tidak terjadi perubahan nilai duplikat yang artinya pengguna yang melakukan kesalahan pada input data **children** tidak melakukan peginputan ulang."
   ]
  },
  {
   "cell_type": "markdown",
   "metadata": {},
   "source": [
    "<div class=\"alert alert-success\">\n",
    "<b>Reviewer's comment v1</b> <a class=\"tocSkip\"></a>\n",
    "\n",
    "Poin yang cukup masuk akal.\n",
    "</div>"
   ]
  },
  {
   "cell_type": "markdown",
   "metadata": {},
   "source": [
    "### Kolom days_employed\n",
    "Pertama kita perlu melihat kesimpulan statistik pada kolom **days_employed**"
   ]
  },
  {
   "cell_type": "code",
   "execution_count": 22,
   "metadata": {},
   "outputs": [
    {
     "data": {
      "text/plain": [
       "count     19351.000000\n",
       "mean      63046.497661\n",
       "std      140827.311974\n",
       "min      -18388.949901\n",
       "25%       -2747.423625\n",
       "50%       -1203.369529\n",
       "75%        -291.095954\n",
       "max      401755.400475\n",
       "Name: days_employed, dtype: float64"
      ]
     },
     "execution_count": 22,
     "metadata": {},
     "output_type": "execute_result"
    }
   ],
   "source": [
    "# Menccari data yang bermasalah\n",
    "credit_df_mod['days_employed'].describe()"
   ]
  },
  {
   "cell_type": "markdown",
   "metadata": {},
   "source": [
    "<div class=\"alert alert-danger\">\n",
    "<b>Reviewer's comment v1</b> <a class=\"tocSkip\"></a>\n",
    "\n",
    "Hindari penggunaan `print()` pada kode baris terakhir di suatu sel.\n",
    "</div>"
   ]
  },
  {
   "cell_type": "markdown",
   "metadata": {},
   "source": [
    "Dapat dilihat bahwa pada kolom **days_employed** banyak sekali terdapat nilai yang minus, dimana hal tersebut tidak mungkin terjadi. Lamanya orang bekerja pasti lebih dari sama dengan nol."
   ]
  },
  {
   "cell_type": "code",
   "execution_count": 23,
   "metadata": {},
   "outputs": [
    {
     "name": "stdout",
     "output_type": "stream",
     "text": [
      "Persentase 73.90%:\n"
     ]
    }
   ],
   "source": [
    "# Temukan data yang bermasalah di `days_employed`, jika terdapat masalah, dan hitung persentasenya\n",
    "print(\"Persentase {:.2%}:\".format(credit_df_mod.loc[credit_df_mod['days_employed']<0,'days_employed'].count()/len(credit_df_mod)))"
   ]
  },
  {
   "cell_type": "markdown",
   "metadata": {},
   "source": [
    "Persentase data yang janggal pada kolom ini sangatlah besar. Kesalahan input data yang massive ini kemungkinan terjadi karena kesalahan teknis saat penginputan data. Baik pada proses perhitungan dibalik layar oleh sistem atau tidak adanya instruksi yang jelas pada saat menginput data tersebut oleh pengguna.\n",
    "\n",
    "Kemungkinan perhitungan **days_employed** salah dimana days employed terhitung berdasarkan date_awal - date_akhir. Karena date_akhir > date_awal maka, seharusnya perhitungan yang benar adalah date_akhir-date-awal. \n",
    "\n",
    "Bisa juga karena pada proses input salah, data yang di input tertukar sehingga nilai yang benar adalah nilai mutlak/absolut nya.\n",
    "\n",
    "Namun sebelum itu, perlu dilihat nilai terduplikat sebelum melakukan transformasi data."
   ]
  },
  {
   "cell_type": "code",
   "execution_count": 24,
   "metadata": {},
   "outputs": [
    {
     "name": "stdout",
     "output_type": "stream",
     "text": [
      "<class 'pandas.core.frame.DataFrame'>\n",
      "Int64Index: 71 entries, 2849 to 21415\n",
      "Data columns (total 12 columns):\n",
      " #   Column            Non-Null Count  Dtype  \n",
      "---  ------            --------------  -----  \n",
      " 0   children          71 non-null     float64\n",
      " 1   days_employed     0 non-null      float64\n",
      " 2   dob_years         71 non-null     int64  \n",
      " 3   education         71 non-null     object \n",
      " 4   education_id      71 non-null     int64  \n",
      " 5   family_status     71 non-null     object \n",
      " 6   family_status_id  71 non-null     int64  \n",
      " 7   gender            71 non-null     object \n",
      " 8   income_type       71 non-null     object \n",
      " 9   debt              71 non-null     int64  \n",
      " 10  total_income      0 non-null      float64\n",
      " 11  purpose           71 non-null     object \n",
      "dtypes: float64(3), int64(4), object(5)\n",
      "memory usage: 7.2+ KB\n"
     ]
    }
   ],
   "source": [
    "# Mengecek nilain duplikat\n",
    "credit_df_mod.loc[credit_df_mod.duplicated(),:].info()"
   ]
  },
  {
   "cell_type": "code",
   "execution_count": 25,
   "metadata": {},
   "outputs": [],
   "source": [
    "# Atasi nilai yang bermasalah, jika ada\n",
    "credit_df_mod['days_employed'] = abs(credit_df_mod['days_employed'])"
   ]
  },
  {
   "cell_type": "code",
   "execution_count": 26,
   "metadata": {
    "scrolled": true
   },
   "outputs": [
    {
     "data": {
      "text/plain": [
       "count     19351.000000\n",
       "mean      66914.728907\n",
       "std      139030.880527\n",
       "min          24.141633\n",
       "25%         927.009265\n",
       "50%        2194.220567\n",
       "75%        5537.882441\n",
       "max      401755.400475\n",
       "Name: days_employed, dtype: float64"
      ]
     },
     "execution_count": 26,
     "metadata": {},
     "output_type": "execute_result"
    }
   ],
   "source": [
    "# Periksa hasilnya - pastikan telah diperbaiki\n",
    "credit_df_mod['days_employed'].describe()"
   ]
  },
  {
   "cell_type": "markdown",
   "metadata": {},
   "source": [
    "Selanjutnya yaitu mengecek distribusi **pada days_employed** untuk melihat apakah masih ada nilai yang aneh"
   ]
  },
  {
   "cell_type": "code",
   "execution_count": 27,
   "metadata": {},
   "outputs": [
    {
     "data": {
      "image/png": "[encoded data removed]",
      "text/plain": [
       "<Figure size 432x288 with 1 Axes>"
      ]
     },
     "metadata": {
      "needs_background": "light"
     },
     "output_type": "display_data"
    }
   ],
   "source": [
    "# Mengecek distribusi data pada kolom **days employed**\n",
    "credit_df_mod['days_employed'].value_counts()\n",
    "plt.hist(credit_df_mod['days_employed'])\n",
    "plt.title('Distribusi kolom days_employed')\n",
    "plt.show()"
   ]
  },
  {
   "cell_type": "markdown",
   "metadata": {},
   "source": [
    "Dapat dilihat bahwa pada distribusi **days_employed** terdapat outliner yaitu bernilai diatas 300 ribu hari atau lebih dari 1000 tahun. Hal tersebut tidak masuk akal, sehingga nilai tersebut harus diganti dengan nilai median."
   ]
  },
  {
   "cell_type": "code",
   "execution_count": 28,
   "metadata": {},
   "outputs": [],
   "source": [
    "credit_df_mod.loc[credit_df_mod['days_employed']>3e5,'days_employed'] = credit_df_mod['days_employed'].median()"
   ]
  },
  {
   "cell_type": "code",
   "execution_count": 29,
   "metadata": {},
   "outputs": [
    {
     "data": {
      "image/png": "[encoded data removed]",
      "text/plain": [
       "<Figure size 432x288 with 1 Axes>"
      ]
     },
     "metadata": {
      "needs_background": "light"
     },
     "output_type": "display_data"
    }
   ],
   "source": [
    "credit_df_mod['days_employed'].value_counts()\n",
    "plt.hist(credit_df_mod['days_employed'])\n",
    "plt.title('Distribusi kolom days_employed')\n",
    "plt.show()"
   ]
  },
  {
   "cell_type": "markdown",
   "metadata": {},
   "source": [
    "Setelah diperbaiki, distribusi days_employed menjadi lebih logis."
   ]
  },
  {
   "cell_type": "code",
   "execution_count": 30,
   "metadata": {},
   "outputs": [
    {
     "name": "stdout",
     "output_type": "stream",
     "text": [
      "<class 'pandas.core.frame.DataFrame'>\n",
      "Int64Index: 71 entries, 2849 to 21415\n",
      "Data columns (total 12 columns):\n",
      " #   Column            Non-Null Count  Dtype  \n",
      "---  ------            --------------  -----  \n",
      " 0   children          71 non-null     float64\n",
      " 1   days_employed     0 non-null      float64\n",
      " 2   dob_years         71 non-null     int64  \n",
      " 3   education         71 non-null     object \n",
      " 4   education_id      71 non-null     int64  \n",
      " 5   family_status     71 non-null     object \n",
      " 6   family_status_id  71 non-null     int64  \n",
      " 7   gender            71 non-null     object \n",
      " 8   income_type       71 non-null     object \n",
      " 9   debt              71 non-null     int64  \n",
      " 10  total_income      0 non-null      float64\n",
      " 11  purpose           71 non-null     object \n",
      "dtypes: float64(3), int64(4), object(5)\n",
      "memory usage: 7.2+ KB\n"
     ]
    }
   ],
   "source": [
    "# Mengecek nilai duplikat setelah dilakukan transformasi\n",
    "credit_df_mod.loc[credit_df_mod.duplicated(),:].info()"
   ]
  },
  {
   "cell_type": "markdown",
   "metadata": {},
   "source": [
    "Tidak terjadi perubahan nilai duplikat yang artinya kemungkinan besar penyebab kesalahan yaitu perhitungan dibalik layar oleh sistem."
   ]
  },
  {
   "cell_type": "markdown",
   "metadata": {},
   "source": [
    "<div class=\"alert alert-danger\">\n",
    "<b>Reviewer's comment v1</b> <a class=\"tocSkip\"></a>\n",
    "\n",
    "Seharusnya ditahap ini dilakukan pengecekan nilai duplikat setelah proses transformasi dilakukan. Dengan tujuan untuk mengetahui apakah terdapat perubahan jumlah data duplikat setiap langkah-langkah transformasi data.\n",
    "\n",
    "</div>"
   ]
  },
  {
   "cell_type": "markdown",
   "metadata": {},
   "source": [
    "### Kolom dob_years\n",
    "\n",
    "Pertama yaitu mengecek kesimpulan statistik pada kolom **dob_years** dan menghitung persentasenya."
   ]
  },
  {
   "cell_type": "code",
   "execution_count": 31,
   "metadata": {},
   "outputs": [
    {
     "name": "stdout",
     "output_type": "stream",
     "text": [
      "count    21525.000000\n",
      "mean        43.293380\n",
      "std         12.574584\n",
      "min          0.000000\n",
      "25%         33.000000\n",
      "50%         42.000000\n",
      "75%         53.000000\n",
      "max         75.000000\n",
      "Name: dob_years, dtype: float64\n",
      "Persentase  0.0 %\n"
     ]
    },
    {
     "data": {
      "image/png": "[encoded data removed]",
      "text/plain": [
       "<Figure size 432x288 with 1 Axes>"
      ]
     },
     "metadata": {
      "needs_background": "light"
     },
     "output_type": "display_data"
    }
   ],
   "source": [
    "# Periksa `dob_years` untuk nilai yang mencurigakan dan hitung persentasenya\n",
    "print(credit_df_mod['dob_years'].describe())\n",
    "dob_percent = credit_df_mod.loc[credit_df['dob_years']=='XNA','dob_years'].count()/len(credit_df_mod)*100\n",
    "print(\"Persentase \", dob_percent, \"%\")\n",
    "\n",
    "plt.figure()\n",
    "plt.bar(credit_df_mod['dob_years'].value_counts().index,credit_df_mod['dob_years'].value_counts(),width = 1)\n",
    "plt.title('Distribusi dob_years Sebelum Diperbaiki')\n",
    "plt.show()"
   ]
  },
  {
   "cell_type": "markdown",
   "metadata": {},
   "source": [
    "Terdapat entry dengan **dob_years** bernilai 0, nilai tersebut bermasalah karena tidak mungkin seseorang yang baru lahir melakukan pinjaman Bank.\n",
    "\n",
    "Untuk mengatasi hal tersebut, nilai tersebut dapat diganti dengan nilai *`mean`*. Dipilih mean karena distribusi data bersifat simteris dan tanpa adanya outlier."
   ]
  },
  {
   "cell_type": "code",
   "execution_count": 32,
   "metadata": {},
   "outputs": [],
   "source": [
    "# Atasi masalah pada kolom `dob_years`, jika terdapat masalah\n",
    "credit_df_mod.loc[credit_df_mod['dob_years']==0,'dob_years'] = int(credit_df_mod['dob_years'].mean())"
   ]
  },
  {
   "cell_type": "code",
   "execution_count": 33,
   "metadata": {},
   "outputs": [
    {
     "data": {
      "image/png": "[encoded data removed]",
      "text/plain": [
       "<Figure size 432x288 with 1 Axes>"
      ]
     },
     "metadata": {
      "needs_background": "light"
     },
     "output_type": "display_data"
    }
   ],
   "source": [
    "# Periksa hasilnya - pastikan telah diperbaiki\n",
    "credit_df_mod['dob_years'].describe()\n",
    "plt.figure()\n",
    "plt.bar(credit_df_mod['dob_years'].value_counts().index,credit_df_mod['dob_years'].value_counts(),width=1)\n",
    "plt.title('Distribusi dob_years Setelah Diperbaiki')\n",
    "plt.show()"
   ]
  },
  {
   "cell_type": "markdown",
   "metadata": {},
   "source": [
    "Nilai 0 pada **dob_years** telah berhasil diperbaiki. Sudah tidak ada lagi nilai yang bernilai 0 pada grafik distribusi.\n",
    "\n",
    "Selanjutnya yaitu mengcek nilai duplikat yang mungkin terbentuk setelah proses transformasi ini."
   ]
  },
  {
   "cell_type": "code",
   "execution_count": 34,
   "metadata": {},
   "outputs": [
    {
     "name": "stdout",
     "output_type": "stream",
     "text": [
      "<class 'pandas.core.frame.DataFrame'>\n",
      "Int64Index: 71 entries, 2849 to 21415\n",
      "Data columns (total 12 columns):\n",
      " #   Column            Non-Null Count  Dtype  \n",
      "---  ------            --------------  -----  \n",
      " 0   children          71 non-null     float64\n",
      " 1   days_employed     0 non-null      float64\n",
      " 2   dob_years         71 non-null     int64  \n",
      " 3   education         71 non-null     object \n",
      " 4   education_id      71 non-null     int64  \n",
      " 5   family_status     71 non-null     object \n",
      " 6   family_status_id  71 non-null     int64  \n",
      " 7   gender            71 non-null     object \n",
      " 8   income_type       71 non-null     object \n",
      " 9   debt              71 non-null     int64  \n",
      " 10  total_income      0 non-null      float64\n",
      " 11  purpose           71 non-null     object \n",
      "dtypes: float64(3), int64(4), object(5)\n",
      "memory usage: 7.2+ KB\n"
     ]
    }
   ],
   "source": [
    "# Mengecek nilai duplikat setelah dilakukan transformasi\n",
    "credit_df_mod.loc[credit_df_mod.duplicated(),:].info()"
   ]
  },
  {
   "cell_type": "markdown",
   "metadata": {},
   "source": [
    "Tidak ada nilai duplikat yang terbentuk setelah proses transformasi"
   ]
  },
  {
   "cell_type": "markdown",
   "metadata": {},
   "source": [
    "<div class=\"alert alert-success\">\n",
    "<b>Reviewer's comment v1</b> <a class=\"tocSkip\"></a>\n",
    "\n",
    "Penggunaan nilai mean sebagai pengganti nilai 0 dengan penjelasan yang logis. \n",
    "\n",
    "</div>"
   ]
  },
  {
   "cell_type": "markdown",
   "metadata": {},
   "source": [
    "### Kolom family_status\n",
    "\n",
    "Pertama yaitu mengecek nilai unik pada kolom **family_status**."
   ]
  },
  {
   "cell_type": "code",
   "execution_count": 35,
   "metadata": {},
   "outputs": [
    {
     "data": {
      "text/plain": [
       "array(['married', 'civil partnership', 'widow / widower', 'divorced',\n",
       "       'unmarried'], dtype=object)"
      ]
     },
     "execution_count": 35,
     "metadata": {},
     "output_type": "execute_result"
    }
   ],
   "source": [
    "# Mari kita lihat nilai untuk kolom\n",
    "credit_df_mod['family_status'].unique()"
   ]
  },
  {
   "cell_type": "markdown",
   "metadata": {},
   "source": [
    "Nilai-nilai pada kolom **family_status** sudah terlibat baik. Setiap nilai unik memiliki makna yang berbeda, tanpa adanya kesalahan dalam penulisan."
   ]
  },
  {
   "cell_type": "markdown",
   "metadata": {},
   "source": [
    "### Kolom gender\n",
    "\n",
    "Pertama yaitu mengecek nilai unik pada kolom **gender** dan menghitung persentasenya."
   ]
  },
  {
   "cell_type": "code",
   "execution_count": 36,
   "metadata": {},
   "outputs": [
    {
     "name": "stdout",
     "output_type": "stream",
     "text": [
      "['F' 'M' 'XNA']\n",
      "Persentase 0.00%\n"
     ]
    }
   ],
   "source": [
    "# Mari kita melihat nilainya di kolom\n",
    "print(credit_df_mod['gender'].unique())\n",
    "print(\"Persentase {:.2%}\".format(credit_df_mod.loc[credit_df['gender']=='XNA','gender'].count()/len(credit_df_mod)))"
   ]
  },
  {
   "cell_type": "markdown",
   "metadata": {},
   "source": [
    "Karena entry dengan nilai XNA sangat kecil, maka lebih baik dihilangkan saja. Karena tidak akan mengubah data hasil analisis"
   ]
  },
  {
   "cell_type": "code",
   "execution_count": 37,
   "metadata": {},
   "outputs": [],
   "source": [
    "# Atasi nilai-nilai yang bermasalah, jika ada\n",
    "credit_df_mod = credit_df_mod.loc[credit_df['gender']!='XNA',:]"
   ]
  },
  {
   "cell_type": "code",
   "execution_count": 38,
   "metadata": {},
   "outputs": [
    {
     "data": {
      "text/plain": [
       "array(['F', 'M'], dtype=object)"
      ]
     },
     "execution_count": 38,
     "metadata": {},
     "output_type": "execute_result"
    }
   ],
   "source": [
    "# Periksa hasilnya - pastikan telah diperbaiki\n",
    "credit_df_mod['gender'].unique()"
   ]
  },
  {
   "cell_type": "markdown",
   "metadata": {},
   "source": [
    "Entry dengan gender XNA telah dihilangkan dari dataset. Karena tidak ada transformasi data yang dilakukan maka nilai duplikat tidak perlu dicek karena tidak akan berubah."
   ]
  },
  {
   "cell_type": "markdown",
   "metadata": {},
   "source": [
    "### Kolom income_type\n",
    "\n",
    "Pertama yaitu mengecek nilai unik pada kolom **income_type**."
   ]
  },
  {
   "cell_type": "code",
   "execution_count": 39,
   "metadata": {},
   "outputs": [
    {
     "data": {
      "text/plain": [
       "array(['employee', 'retiree', 'business', 'civil servant', 'unemployed',\n",
       "       'entrepreneur', 'student', 'paternity / maternity leave'],\n",
       "      dtype=object)"
      ]
     },
     "execution_count": 39,
     "metadata": {},
     "output_type": "execute_result"
    }
   ],
   "source": [
    "# Mari kita lihat nilai dalam kolom\n",
    "credit_df_mod['income_type'].unique()"
   ]
  },
  {
   "cell_type": "markdown",
   "metadata": {},
   "source": [
    "Nilai-nilai pada kolom **income_type** sudah terlibat baik. Setiap nilai unik memiliki makna yang berbeda, tanpa adanya kesalahan dalam penulisan."
   ]
  },
  {
   "cell_type": "markdown",
   "metadata": {},
   "source": [
    "### Memperbaiki data duplikat"
   ]
  },
  {
   "cell_type": "code",
   "execution_count": 40,
   "metadata": {},
   "outputs": [
    {
     "name": "stdout",
     "output_type": "stream",
     "text": [
      "<class 'pandas.core.frame.DataFrame'>\n",
      "Int64Index: 71 entries, 2849 to 21415\n",
      "Data columns (total 12 columns):\n",
      " #   Column            Non-Null Count  Dtype  \n",
      "---  ------            --------------  -----  \n",
      " 0   children          71 non-null     float64\n",
      " 1   days_employed     0 non-null      float64\n",
      " 2   dob_years         71 non-null     int64  \n",
      " 3   education         71 non-null     object \n",
      " 4   education_id      71 non-null     int64  \n",
      " 5   family_status     71 non-null     object \n",
      " 6   family_status_id  71 non-null     int64  \n",
      " 7   gender            71 non-null     object \n",
      " 8   income_type       71 non-null     object \n",
      " 9   debt              71 non-null     int64  \n",
      " 10  total_income      0 non-null      float64\n",
      " 11  purpose           71 non-null     object \n",
      "dtypes: float64(3), int64(4), object(5)\n",
      "memory usage: 7.2+ KB\n"
     ]
    },
    {
     "data": {
      "text/html": [
       "<div>\n",
       "<style scoped>\n",
       "    .dataframe tbody tr th:only-of-type {\n",
       "        vertical-align: middle;\n",
       "    }\n",
       "\n",
       "    .dataframe tbody tr th {\n",
       "        vertical-align: top;\n",
       "    }\n",
       "\n",
       "    .dataframe thead th {\n",
       "        text-align: right;\n",
       "    }\n",
       "</style>\n",
       "<table border=\"1\" class=\"dataframe\">\n",
       "  <thead>\n",
       "    <tr style=\"text-align: right;\">\n",
       "      <th></th>\n",
       "      <th>children</th>\n",
       "      <th>days_employed</th>\n",
       "      <th>dob_years</th>\n",
       "      <th>education</th>\n",
       "      <th>education_id</th>\n",
       "      <th>family_status</th>\n",
       "      <th>family_status_id</th>\n",
       "      <th>gender</th>\n",
       "      <th>income_type</th>\n",
       "      <th>debt</th>\n",
       "      <th>total_income</th>\n",
       "      <th>purpose</th>\n",
       "    </tr>\n",
       "  </thead>\n",
       "  <tbody>\n",
       "    <tr>\n",
       "      <th>2849</th>\n",
       "      <td>0.0</td>\n",
       "      <td>NaN</td>\n",
       "      <td>41</td>\n",
       "      <td>secondary education</td>\n",
       "      <td>1</td>\n",
       "      <td>married</td>\n",
       "      <td>0</td>\n",
       "      <td>F</td>\n",
       "      <td>employee</td>\n",
       "      <td>0</td>\n",
       "      <td>NaN</td>\n",
       "      <td>purchase of the house for my family</td>\n",
       "    </tr>\n",
       "    <tr>\n",
       "      <th>3290</th>\n",
       "      <td>0.0</td>\n",
       "      <td>NaN</td>\n",
       "      <td>58</td>\n",
       "      <td>secondary education</td>\n",
       "      <td>1</td>\n",
       "      <td>civil partnership</td>\n",
       "      <td>1</td>\n",
       "      <td>F</td>\n",
       "      <td>retiree</td>\n",
       "      <td>0</td>\n",
       "      <td>NaN</td>\n",
       "      <td>to have a wedding</td>\n",
       "    </tr>\n",
       "    <tr>\n",
       "      <th>4182</th>\n",
       "      <td>1.0</td>\n",
       "      <td>NaN</td>\n",
       "      <td>34</td>\n",
       "      <td>bachelor's degree</td>\n",
       "      <td>0</td>\n",
       "      <td>civil partnership</td>\n",
       "      <td>1</td>\n",
       "      <td>F</td>\n",
       "      <td>employee</td>\n",
       "      <td>0</td>\n",
       "      <td>NaN</td>\n",
       "      <td>wedding ceremony</td>\n",
       "    </tr>\n",
       "    <tr>\n",
       "      <th>4851</th>\n",
       "      <td>0.0</td>\n",
       "      <td>NaN</td>\n",
       "      <td>60</td>\n",
       "      <td>secondary education</td>\n",
       "      <td>1</td>\n",
       "      <td>civil partnership</td>\n",
       "      <td>1</td>\n",
       "      <td>F</td>\n",
       "      <td>retiree</td>\n",
       "      <td>0</td>\n",
       "      <td>NaN</td>\n",
       "      <td>wedding ceremony</td>\n",
       "    </tr>\n",
       "    <tr>\n",
       "      <th>5557</th>\n",
       "      <td>0.0</td>\n",
       "      <td>NaN</td>\n",
       "      <td>58</td>\n",
       "      <td>secondary education</td>\n",
       "      <td>1</td>\n",
       "      <td>civil partnership</td>\n",
       "      <td>1</td>\n",
       "      <td>F</td>\n",
       "      <td>retiree</td>\n",
       "      <td>0</td>\n",
       "      <td>NaN</td>\n",
       "      <td>to have a wedding</td>\n",
       "    </tr>\n",
       "  </tbody>\n",
       "</table>\n",
       "</div>"
      ],
      "text/plain": [
       "      children  days_employed  dob_years            education  education_id  \\\n",
       "2849       0.0            NaN         41  secondary education             1   \n",
       "3290       0.0            NaN         58  secondary education             1   \n",
       "4182       1.0            NaN         34    bachelor's degree             0   \n",
       "4851       0.0            NaN         60  secondary education             1   \n",
       "5557       0.0            NaN         58  secondary education             1   \n",
       "\n",
       "          family_status  family_status_id gender income_type  debt  \\\n",
       "2849            married                 0      F    employee     0   \n",
       "3290  civil partnership                 1      F     retiree     0   \n",
       "4182  civil partnership                 1      F    employee     0   \n",
       "4851  civil partnership                 1      F     retiree     0   \n",
       "5557  civil partnership                 1      F     retiree     0   \n",
       "\n",
       "      total_income                              purpose  \n",
       "2849           NaN  purchase of the house for my family  \n",
       "3290           NaN                    to have a wedding  \n",
       "4182           NaN                     wedding ceremony  \n",
       "4851           NaN                     wedding ceremony  \n",
       "5557           NaN                    to have a wedding  "
      ]
     },
     "execution_count": 40,
     "metadata": {},
     "output_type": "execute_result"
    }
   ],
   "source": [
    "# Memeriksa duplikat\n",
    "credit_df_mod.loc[credit_df_mod.duplicated(),:].info()\n",
    "credit_df_mod.loc[credit_df_mod.duplicated(),:].head(5)\n"
   ]
  },
  {
   "cell_type": "markdown",
   "metadata": {},
   "source": [
    "Terdapat 71 entry duplikat yang terdapat pada dataset. Data duplikat dapat diatasi cukup dengan menghapusnya."
   ]
  },
  {
   "cell_type": "code",
   "execution_count": 41,
   "metadata": {},
   "outputs": [],
   "source": [
    "# Atasi duplikat\n",
    "credit_df_mod = credit_df_mod.drop_duplicates().reset_index(drop=True)"
   ]
  },
  {
   "cell_type": "code",
   "execution_count": 42,
   "metadata": {},
   "outputs": [
    {
     "data": {
      "text/plain": [
       "0"
      ]
     },
     "execution_count": 42,
     "metadata": {},
     "output_type": "execute_result"
    }
   ],
   "source": [
    "# Terakhir periksa apakah kita memiliki duplikat\n",
    "credit_df_mod.duplicated().sum()"
   ]
  },
  {
   "cell_type": "markdown",
   "metadata": {},
   "source": [
    "Nilai duplikat telah berhasil dihapus dari dataset."
   ]
  },
  {
   "cell_type": "code",
   "execution_count": 43,
   "metadata": {},
   "outputs": [
    {
     "name": "stdout",
     "output_type": "stream",
     "text": [
      "(21525, 12)\n",
      "(21453, 12)\n",
      "Persentase perubahan 0.33%\n"
     ]
    }
   ],
   "source": [
    "# Periksa ukuran dataset yang sekarang Anda miliki setelah manipulasi pertama yang Anda lakukan\n",
    "print(credit_df.shape)\n",
    "print(credit_df_mod.shape)\n",
    "print(\"Persentase perubahan {:.2%}\".format((len(credit_df)-len(credit_df_mod))/len(credit_df)))"
   ]
  },
  {
   "cell_type": "markdown",
   "metadata": {},
   "source": [
    "Dataset yang baru yaitu **credit_df_mod** telah berhasil diperbaiki dengan rincian sebagai berikut:\n",
    "\n",
    "<font color='maroon'> <b>Perubahan yang terjadi adalah</b>\n",
    "- Perubahan nilai unique pada jenjang pendidikan\n",
    "- Menghilangkan data terduplikat\n",
    "- Mengubah entry children dengan nilai 0 dengan nilai median\n",
    "- Mengubah entry dengan usia 0 menjadi nilai mean\n",
    "- Mengubah entry dengan days_employment negatif dengan nilai absolute, dan nilai diatas 300 ribu diganti dengan nilai median\n",
    "- Menghapus entry dengan gender XNA\n",
    "    \n",
    "<b>Persentase perubahan : 0.33% </b> </font>"
   ]
  },
  {
   "cell_type": "markdown",
   "metadata": {},
   "source": [
    "<div class=\"alert alert-success\">\n",
    "<b>Reviewer's comment v1</b> <a class=\"tocSkip\"></a>\n",
    "\n",
    "Well-done!\n",
    "\n",
    "</div>"
   ]
  },
  {
   "cell_type": "markdown",
   "metadata": {},
   "source": [
    "<div class=\"alert alert-success\">\n",
    "<b>Reviewer's comment v2</b> <a class=\"tocSkip\"></a>\n",
    "\n",
    "Perbaikan yang sangat superb dibagian ini. Penambahan heading sangat membantu memperjelas tahapan-tahapan di setiap prosesnya.\n",
    "\n",
    "</div>"
   ]
  },
  {
   "cell_type": "markdown",
   "metadata": {},
   "source": [
    "# Bekerja dengan nilai yang hilang"
   ]
  },
  {
   "cell_type": "markdown",
   "metadata": {},
   "source": [
    "Dictionary dapat digunakan untuk mendefinisikan arti dari ID dengan keterangannya. Seperti pada kolom family_status_id yang bernilai 0 yang berarti orang tersebut telah menikah/married pada kolom married_status."
   ]
  },
  {
   "cell_type": "code",
   "execution_count": 44,
   "metadata": {},
   "outputs": [],
   "source": [
    "# Temukan dictionary\n",
    "family_dict = dict(list(dict.fromkeys(zip(credit_df_mod['family_status_id'],credit_df_mod['family_status']))))\n",
    "education_dict = dict(list(dict.fromkeys(zip(credit_df_mod['education_id'],credit_df_mod['education']))))"
   ]
  },
  {
   "cell_type": "markdown",
   "metadata": {},
   "source": [
    "Kolom **total_income** dan **dob_years** memiliki nilai hilang dan perlu ditangani. Karena kedua kolom tersebut digunakan untuk analisis faktor apa yang mempengaruhi ketepatan waktu pelunasan pinjaman. Entry data hilang tersebut tidak boleh dihapus karena mencakup kurang lebih 10% dari keseluruhan data.\n",
    "\n",
    "Oleh karena itu, nilai yang hilang dapat diganti dengan nilai yang dapat meresepresentasikan nilai di kolom tersebut. Dalam statistik nilai yang hilang dapat direpresentasi oleh nilai median atau mean. \n",
    "\n",
    "### Data hilang pada kolom total_income\n",
    "\n",
    "Pertama yaitu melakukan pengkategorian terhadap usia pengguna dengan tujuan untuk mempermudah proses analisis selanjutnya."
   ]
  },
  {
   "cell_type": "code",
   "execution_count": 45,
   "metadata": {},
   "outputs": [],
   "source": [
    "# Mari menulis fungsi untuk menghitung kategori usia\n",
    "def kategoriUsia(data):\n",
    "    age = data['dob_years']\n",
    "    if age<=15:return \"Di bawah 15 tahun\"\n",
    "    if 15 < age <=35:return \"16-35 tahun\"\n",
    "    if 35 < age <= 45:return \"36-45 tahun\"\n",
    "    if 45 < age <=54:return \"46-55 tahun\"\n",
    "    return \"di atas 55 tahun\""
   ]
  },
  {
   "cell_type": "markdown",
   "metadata": {},
   "source": [
    "<div class=\"alert alert-warning\">\n",
    "<b>Reviewer's comment v1</b> <a class=\"tocSkip\"></a>\n",
    "\n",
    "Akan lebih bijak apabila pengelompokan umur ini dilabeli oleh range umur itu sendiri daripada status muda-pensiun dikarenakan tidak ada referensi yang digunakan, contoh 'dibawah 30', 'diatas 64' dst.\n",
    "\n",
    "</div>"
   ]
  },
  {
   "cell_type": "code",
   "execution_count": 46,
   "metadata": {},
   "outputs": [],
   "source": [
    "# Lakukan pengujian apakah fungsi bekerja atau tidak\n",
    "row_value = [24]\n",
    "row_index = ['dob_years']\n",
    "row = pd.Series(row_value, index = row_index)"
   ]
  },
  {
   "cell_type": "code",
   "execution_count": 47,
   "metadata": {},
   "outputs": [
    {
     "data": {
      "text/plain": [
       "'16-35 tahun'"
      ]
     },
     "execution_count": 47,
     "metadata": {},
     "output_type": "execute_result"
    }
   ],
   "source": [
    "# Membuat kolom baru berdasarkan fungsi\n",
    "kategoriUsia(row)"
   ]
  },
  {
   "cell_type": "markdown",
   "metadata": {},
   "source": [
    "Fungsi bekerja dengan sangat baik"
   ]
  },
  {
   "cell_type": "code",
   "execution_count": 48,
   "metadata": {},
   "outputs": [
    {
     "data": {
      "text/html": [
       "<div>\n",
       "<style scoped>\n",
       "    .dataframe tbody tr th:only-of-type {\n",
       "        vertical-align: middle;\n",
       "    }\n",
       "\n",
       "    .dataframe tbody tr th {\n",
       "        vertical-align: top;\n",
       "    }\n",
       "\n",
       "    .dataframe thead th {\n",
       "        text-align: right;\n",
       "    }\n",
       "</style>\n",
       "<table border=\"1\" class=\"dataframe\">\n",
       "  <thead>\n",
       "    <tr style=\"text-align: right;\">\n",
       "      <th></th>\n",
       "      <th>children</th>\n",
       "      <th>days_employed</th>\n",
       "      <th>dob_years</th>\n",
       "      <th>education</th>\n",
       "      <th>education_id</th>\n",
       "      <th>family_status</th>\n",
       "      <th>family_status_id</th>\n",
       "      <th>gender</th>\n",
       "      <th>income_type</th>\n",
       "      <th>debt</th>\n",
       "      <th>total_income</th>\n",
       "      <th>purpose</th>\n",
       "      <th>age_category</th>\n",
       "    </tr>\n",
       "  </thead>\n",
       "  <tbody>\n",
       "    <tr>\n",
       "      <th>0</th>\n",
       "      <td>1.0</td>\n",
       "      <td>8437.673028</td>\n",
       "      <td>42</td>\n",
       "      <td>bachelor's degree</td>\n",
       "      <td>0</td>\n",
       "      <td>married</td>\n",
       "      <td>0</td>\n",
       "      <td>F</td>\n",
       "      <td>employee</td>\n",
       "      <td>0</td>\n",
       "      <td>40620.102</td>\n",
       "      <td>purchase of the house</td>\n",
       "      <td>36-45 tahun</td>\n",
       "    </tr>\n",
       "    <tr>\n",
       "      <th>1</th>\n",
       "      <td>1.0</td>\n",
       "      <td>4024.803754</td>\n",
       "      <td>36</td>\n",
       "      <td>secondary education</td>\n",
       "      <td>1</td>\n",
       "      <td>married</td>\n",
       "      <td>0</td>\n",
       "      <td>F</td>\n",
       "      <td>employee</td>\n",
       "      <td>0</td>\n",
       "      <td>17932.802</td>\n",
       "      <td>car purchase</td>\n",
       "      <td>36-45 tahun</td>\n",
       "    </tr>\n",
       "    <tr>\n",
       "      <th>2</th>\n",
       "      <td>0.0</td>\n",
       "      <td>5623.422610</td>\n",
       "      <td>33</td>\n",
       "      <td>secondary education</td>\n",
       "      <td>1</td>\n",
       "      <td>married</td>\n",
       "      <td>0</td>\n",
       "      <td>M</td>\n",
       "      <td>employee</td>\n",
       "      <td>0</td>\n",
       "      <td>23341.752</td>\n",
       "      <td>purchase of the house</td>\n",
       "      <td>16-35 tahun</td>\n",
       "    </tr>\n",
       "    <tr>\n",
       "      <th>3</th>\n",
       "      <td>3.0</td>\n",
       "      <td>4124.747207</td>\n",
       "      <td>32</td>\n",
       "      <td>secondary education</td>\n",
       "      <td>1</td>\n",
       "      <td>married</td>\n",
       "      <td>0</td>\n",
       "      <td>M</td>\n",
       "      <td>employee</td>\n",
       "      <td>0</td>\n",
       "      <td>42820.568</td>\n",
       "      <td>supplementary education</td>\n",
       "      <td>16-35 tahun</td>\n",
       "    </tr>\n",
       "    <tr>\n",
       "      <th>4</th>\n",
       "      <td>0.0</td>\n",
       "      <td>2194.220567</td>\n",
       "      <td>53</td>\n",
       "      <td>secondary education</td>\n",
       "      <td>1</td>\n",
       "      <td>civil partnership</td>\n",
       "      <td>1</td>\n",
       "      <td>F</td>\n",
       "      <td>retiree</td>\n",
       "      <td>0</td>\n",
       "      <td>25378.572</td>\n",
       "      <td>to have a wedding</td>\n",
       "      <td>46-55 tahun</td>\n",
       "    </tr>\n",
       "  </tbody>\n",
       "</table>\n",
       "</div>"
      ],
      "text/plain": [
       "   children  days_employed  dob_years            education  education_id  \\\n",
       "0       1.0    8437.673028         42    bachelor's degree             0   \n",
       "1       1.0    4024.803754         36  secondary education             1   \n",
       "2       0.0    5623.422610         33  secondary education             1   \n",
       "3       3.0    4124.747207         32  secondary education             1   \n",
       "4       0.0    2194.220567         53  secondary education             1   \n",
       "\n",
       "       family_status  family_status_id gender income_type  debt  total_income  \\\n",
       "0            married                 0      F    employee     0     40620.102   \n",
       "1            married                 0      F    employee     0     17932.802   \n",
       "2            married                 0      M    employee     0     23341.752   \n",
       "3            married                 0      M    employee     0     42820.568   \n",
       "4  civil partnership                 1      F     retiree     0     25378.572   \n",
       "\n",
       "                   purpose age_category  \n",
       "0    purchase of the house  36-45 tahun  \n",
       "1             car purchase  36-45 tahun  \n",
       "2    purchase of the house  16-35 tahun  \n",
       "3  supplementary education  16-35 tahun  \n",
       "4        to have a wedding  46-55 tahun  "
      ]
     },
     "execution_count": 48,
     "metadata": {},
     "output_type": "execute_result"
    }
   ],
   "source": [
    "# Memeriksa bagaimana nilai di dalam kolom baru\n",
    "credit_df_mod['age_category'] = credit_df_mod.apply(kategoriUsia,axis = 1)\n",
    "credit_df_mod.head()"
   ]
  },
  {
   "cell_type": "markdown",
   "metadata": {},
   "source": [
    "Untuk mengisi nilai yang hilang pada kolom **total_income** perlu dilakukan analisis setiap faktor yang ada terhadap nilai pada kolom **total_income** analisis dilakukan dengan melihat nilai median/mean **total_income** terhadap faktor yang diidentifikasi.\n",
    "\n",
    "Langkah pertama yaitu membuat dataframe yang hanya memuat data yang lengkah (tanpa adanya nilai nan) kemudian menampikan data tersebut."
   ]
  },
  {
   "cell_type": "code",
   "execution_count": 49,
   "metadata": {},
   "outputs": [
    {
     "name": "stdout",
     "output_type": "stream",
     "text": [
      "<class 'pandas.core.frame.DataFrame'>\n",
      "Int64Index: 19350 entries, 0 to 21452\n",
      "Data columns (total 13 columns):\n",
      " #   Column            Non-Null Count  Dtype  \n",
      "---  ------            --------------  -----  \n",
      " 0   children          19350 non-null  float64\n",
      " 1   days_employed     19350 non-null  float64\n",
      " 2   dob_years         19350 non-null  int64  \n",
      " 3   education         19350 non-null  object \n",
      " 4   education_id      19350 non-null  int64  \n",
      " 5   family_status     19350 non-null  object \n",
      " 6   family_status_id  19350 non-null  int64  \n",
      " 7   gender            19350 non-null  object \n",
      " 8   income_type       19350 non-null  object \n",
      " 9   debt              19350 non-null  int64  \n",
      " 10  total_income      19350 non-null  float64\n",
      " 11  purpose           19350 non-null  object \n",
      " 12  age_category      19350 non-null  object \n",
      "dtypes: float64(3), int64(4), object(6)\n",
      "memory usage: 2.1+ MB\n"
     ]
    },
    {
     "data": {
      "text/html": [
       "<div>\n",
       "<style scoped>\n",
       "    .dataframe tbody tr th:only-of-type {\n",
       "        vertical-align: middle;\n",
       "    }\n",
       "\n",
       "    .dataframe tbody tr th {\n",
       "        vertical-align: top;\n",
       "    }\n",
       "\n",
       "    .dataframe thead th {\n",
       "        text-align: right;\n",
       "    }\n",
       "</style>\n",
       "<table border=\"1\" class=\"dataframe\">\n",
       "  <thead>\n",
       "    <tr style=\"text-align: right;\">\n",
       "      <th></th>\n",
       "      <th>children</th>\n",
       "      <th>days_employed</th>\n",
       "      <th>dob_years</th>\n",
       "      <th>education</th>\n",
       "      <th>education_id</th>\n",
       "      <th>family_status</th>\n",
       "      <th>family_status_id</th>\n",
       "      <th>gender</th>\n",
       "      <th>income_type</th>\n",
       "      <th>debt</th>\n",
       "      <th>total_income</th>\n",
       "      <th>purpose</th>\n",
       "      <th>age_category</th>\n",
       "    </tr>\n",
       "  </thead>\n",
       "  <tbody>\n",
       "    <tr>\n",
       "      <th>0</th>\n",
       "      <td>1.0</td>\n",
       "      <td>8437.673028</td>\n",
       "      <td>42</td>\n",
       "      <td>bachelor's degree</td>\n",
       "      <td>0</td>\n",
       "      <td>married</td>\n",
       "      <td>0</td>\n",
       "      <td>F</td>\n",
       "      <td>employee</td>\n",
       "      <td>0</td>\n",
       "      <td>40620.102</td>\n",
       "      <td>purchase of the house</td>\n",
       "      <td>36-45 tahun</td>\n",
       "    </tr>\n",
       "    <tr>\n",
       "      <th>1</th>\n",
       "      <td>1.0</td>\n",
       "      <td>4024.803754</td>\n",
       "      <td>36</td>\n",
       "      <td>secondary education</td>\n",
       "      <td>1</td>\n",
       "      <td>married</td>\n",
       "      <td>0</td>\n",
       "      <td>F</td>\n",
       "      <td>employee</td>\n",
       "      <td>0</td>\n",
       "      <td>17932.802</td>\n",
       "      <td>car purchase</td>\n",
       "      <td>36-45 tahun</td>\n",
       "    </tr>\n",
       "    <tr>\n",
       "      <th>2</th>\n",
       "      <td>0.0</td>\n",
       "      <td>5623.422610</td>\n",
       "      <td>33</td>\n",
       "      <td>secondary education</td>\n",
       "      <td>1</td>\n",
       "      <td>married</td>\n",
       "      <td>0</td>\n",
       "      <td>M</td>\n",
       "      <td>employee</td>\n",
       "      <td>0</td>\n",
       "      <td>23341.752</td>\n",
       "      <td>purchase of the house</td>\n",
       "      <td>16-35 tahun</td>\n",
       "    </tr>\n",
       "    <tr>\n",
       "      <th>3</th>\n",
       "      <td>3.0</td>\n",
       "      <td>4124.747207</td>\n",
       "      <td>32</td>\n",
       "      <td>secondary education</td>\n",
       "      <td>1</td>\n",
       "      <td>married</td>\n",
       "      <td>0</td>\n",
       "      <td>M</td>\n",
       "      <td>employee</td>\n",
       "      <td>0</td>\n",
       "      <td>42820.568</td>\n",
       "      <td>supplementary education</td>\n",
       "      <td>16-35 tahun</td>\n",
       "    </tr>\n",
       "    <tr>\n",
       "      <th>4</th>\n",
       "      <td>0.0</td>\n",
       "      <td>2194.220567</td>\n",
       "      <td>53</td>\n",
       "      <td>secondary education</td>\n",
       "      <td>1</td>\n",
       "      <td>civil partnership</td>\n",
       "      <td>1</td>\n",
       "      <td>F</td>\n",
       "      <td>retiree</td>\n",
       "      <td>0</td>\n",
       "      <td>25378.572</td>\n",
       "      <td>to have a wedding</td>\n",
       "      <td>46-55 tahun</td>\n",
       "    </tr>\n",
       "  </tbody>\n",
       "</table>\n",
       "</div>"
      ],
      "text/plain": [
       "   children  days_employed  dob_years            education  education_id  \\\n",
       "0       1.0    8437.673028         42    bachelor's degree             0   \n",
       "1       1.0    4024.803754         36  secondary education             1   \n",
       "2       0.0    5623.422610         33  secondary education             1   \n",
       "3       3.0    4124.747207         32  secondary education             1   \n",
       "4       0.0    2194.220567         53  secondary education             1   \n",
       "\n",
       "       family_status  family_status_id gender income_type  debt  total_income  \\\n",
       "0            married                 0      F    employee     0     40620.102   \n",
       "1            married                 0      F    employee     0     17932.802   \n",
       "2            married                 0      M    employee     0     23341.752   \n",
       "3            married                 0      M    employee     0     42820.568   \n",
       "4  civil partnership                 1      F     retiree     0     25378.572   \n",
       "\n",
       "                   purpose age_category  \n",
       "0    purchase of the house  36-45 tahun  \n",
       "1             car purchase  36-45 tahun  \n",
       "2    purchase of the house  16-35 tahun  \n",
       "3  supplementary education  16-35 tahun  \n",
       "4        to have a wedding  46-55 tahun  "
      ]
     },
     "execution_count": 49,
     "metadata": {},
     "output_type": "execute_result"
    }
   ],
   "source": [
    "# Membuat data baru yang membuat data yang lengkap\n",
    "credit_df_nonan = credit_df_mod.loc[(credit_df_mod['days_employed']>=0) & (credit_df_mod['total_income']>=0)]\n",
    "\n",
    "# Menampilkan info dan dataframe\n",
    "credit_df_nonan.info()\n",
    "credit_df_nonan.head(5)"
   ]
  },
  {
   "cell_type": "code",
   "execution_count": 50,
   "metadata": {},
   "outputs": [
    {
     "data": {
      "text/html": [
       "<div>\n",
       "<style scoped>\n",
       "    .dataframe tbody tr th:only-of-type {\n",
       "        vertical-align: middle;\n",
       "    }\n",
       "\n",
       "    .dataframe tbody tr th {\n",
       "        vertical-align: top;\n",
       "    }\n",
       "\n",
       "    .dataframe thead th {\n",
       "        text-align: right;\n",
       "    }\n",
       "</style>\n",
       "<table border=\"1\" class=\"dataframe\">\n",
       "  <thead>\n",
       "    <tr style=\"text-align: right;\">\n",
       "      <th></th>\n",
       "      <th>children</th>\n",
       "      <th>days_employed</th>\n",
       "      <th>dob_years</th>\n",
       "      <th>education_id</th>\n",
       "      <th>family_status_id</th>\n",
       "      <th>debt</th>\n",
       "      <th>total_income</th>\n",
       "    </tr>\n",
       "  </thead>\n",
       "  <tbody>\n",
       "    <tr>\n",
       "      <th>count</th>\n",
       "      <td>19350.000000</td>\n",
       "      <td>19350.000000</td>\n",
       "      <td>19350.000000</td>\n",
       "      <td>19350.000000</td>\n",
       "      <td>19350.000000</td>\n",
       "      <td>19350.000000</td>\n",
       "      <td>19350.000000</td>\n",
       "    </tr>\n",
       "    <tr>\n",
       "      <th>mean</th>\n",
       "      <td>0.539690</td>\n",
       "      <td>2324.744324</td>\n",
       "      <td>43.458553</td>\n",
       "      <td>0.819018</td>\n",
       "      <td>0.972248</td>\n",
       "      <td>0.081189</td>\n",
       "      <td>26787.266688</td>\n",
       "    </tr>\n",
       "    <tr>\n",
       "      <th>std</th>\n",
       "      <td>1.369715</td>\n",
       "      <td>2090.015644</td>\n",
       "      <td>12.222273</td>\n",
       "      <td>0.550053</td>\n",
       "      <td>1.420633</td>\n",
       "      <td>0.273132</td>\n",
       "      <td>16475.822926</td>\n",
       "    </tr>\n",
       "    <tr>\n",
       "      <th>min</th>\n",
       "      <td>0.000000</td>\n",
       "      <td>24.141633</td>\n",
       "      <td>19.000000</td>\n",
       "      <td>0.000000</td>\n",
       "      <td>0.000000</td>\n",
       "      <td>0.000000</td>\n",
       "      <td>3306.762000</td>\n",
       "    </tr>\n",
       "    <tr>\n",
       "      <th>25%</th>\n",
       "      <td>0.000000</td>\n",
       "      <td>926.990457</td>\n",
       "      <td>33.000000</td>\n",
       "      <td>1.000000</td>\n",
       "      <td>0.000000</td>\n",
       "      <td>0.000000</td>\n",
       "      <td>16486.515250</td>\n",
       "    </tr>\n",
       "    <tr>\n",
       "      <th>50%</th>\n",
       "      <td>0.000000</td>\n",
       "      <td>2194.218768</td>\n",
       "      <td>43.000000</td>\n",
       "      <td>1.000000</td>\n",
       "      <td>0.000000</td>\n",
       "      <td>0.000000</td>\n",
       "      <td>23201.873500</td>\n",
       "    </tr>\n",
       "    <tr>\n",
       "      <th>75%</th>\n",
       "      <td>1.000000</td>\n",
       "      <td>2747.486276</td>\n",
       "      <td>53.000000</td>\n",
       "      <td>1.000000</td>\n",
       "      <td>1.000000</td>\n",
       "      <td>0.000000</td>\n",
       "      <td>32547.910750</td>\n",
       "    </tr>\n",
       "    <tr>\n",
       "      <th>max</th>\n",
       "      <td>20.000000</td>\n",
       "      <td>18388.949901</td>\n",
       "      <td>75.000000</td>\n",
       "      <td>4.000000</td>\n",
       "      <td>4.000000</td>\n",
       "      <td>1.000000</td>\n",
       "      <td>362496.645000</td>\n",
       "    </tr>\n",
       "  </tbody>\n",
       "</table>\n",
       "</div>"
      ],
      "text/plain": [
       "           children  days_employed     dob_years  education_id  \\\n",
       "count  19350.000000   19350.000000  19350.000000  19350.000000   \n",
       "mean       0.539690    2324.744324     43.458553      0.819018   \n",
       "std        1.369715    2090.015644     12.222273      0.550053   \n",
       "min        0.000000      24.141633     19.000000      0.000000   \n",
       "25%        0.000000     926.990457     33.000000      1.000000   \n",
       "50%        0.000000    2194.218768     43.000000      1.000000   \n",
       "75%        1.000000    2747.486276     53.000000      1.000000   \n",
       "max       20.000000   18388.949901     75.000000      4.000000   \n",
       "\n",
       "       family_status_id          debt   total_income  \n",
       "count      19350.000000  19350.000000   19350.000000  \n",
       "mean           0.972248      0.081189   26787.266688  \n",
       "std            1.420633      0.273132   16475.822926  \n",
       "min            0.000000      0.000000    3306.762000  \n",
       "25%            0.000000      0.000000   16486.515250  \n",
       "50%            0.000000      0.000000   23201.873500  \n",
       "75%            1.000000      0.000000   32547.910750  \n",
       "max            4.000000      1.000000  362496.645000  "
      ]
     },
     "execution_count": 50,
     "metadata": {},
     "output_type": "execute_result"
    }
   ],
   "source": [
    "credit_df_nonan.describe()"
   ]
  },
  {
   "cell_type": "markdown",
   "metadata": {},
   "source": [
    "Melihat nilai **mean** pada kolom **total income** terhadap masing-masing faktor."
   ]
  },
  {
   "cell_type": "code",
   "execution_count": 51,
   "metadata": {},
   "outputs": [
    {
     "data": {
      "image/png": "[encoded data removed]",
      "text/plain": [
       "<Figure size 432x288 with 1 Axes>"
      ]
     },
     "metadata": {
      "needs_background": "light"
     },
     "output_type": "display_data"
    },
    {
     "data": {
      "image/png": "[encoded data removed]",
      "text/plain": [
       "<Figure size 432x288 with 1 Axes>"
      ]
     },
     "metadata": {
      "needs_background": "light"
     },
     "output_type": "display_data"
    },
    {
     "data": {
      "image/png": "[encoded data removed]",
      "text/plain": [
       "<Figure size 432x288 with 1 Axes>"
      ]
     },
     "metadata": {
      "needs_background": "light"
     },
     "output_type": "display_data"
    },
    {
     "data": {
      "image/png": "[encoded data removed]",
      "text/plain": [
       "<Figure size 432x288 with 1 Axes>"
      ]
     },
     "metadata": {
      "needs_background": "light"
     },
     "output_type": "display_data"
    },
    {
     "data": {
      "image/png": "[encoded data removed]",
      "text/plain": [
       "<Figure size 432x288 with 1 Axes>"
      ]
     },
     "metadata": {
      "needs_background": "light"
     },
     "output_type": "display_data"
    }
   ],
   "source": [
    "# Perhatikan nilai rata-rata untuk pendapatan berdasarkan faktor yang telah Anda identifikasi\n",
    "candidates = ['children','education_id','family_status_id','income_type','age_category']\n",
    "for col in candidates:\n",
    "    plt.bar(credit_df_nonan.groupby(col)['total_income'].mean().index,credit_df_nonan.groupby(col)['total_income'].mean(),width = 1)\n",
    "    plt.title(\"Mean kolom \"+col)\n",
    "    plt.xticks(rotation = 90)\n",
    "    plt.show()"
   ]
  },
  {
   "cell_type": "markdown",
   "metadata": {},
   "source": [
    "Melihat nilai **median** pada kolom **total income** terhadap masing-masing faktor."
   ]
  },
  {
   "cell_type": "code",
   "execution_count": 52,
   "metadata": {},
   "outputs": [
    {
     "data": {
      "image/png": "[encoded data removed]",
      "text/plain": [
       "<Figure size 432x288 with 1 Axes>"
      ]
     },
     "metadata": {
      "needs_background": "light"
     },
     "output_type": "display_data"
    },
    {
     "data": {
      "image/png": "[encoded data removed]",
      "text/plain": [
       "<Figure size 432x288 with 1 Axes>"
      ]
     },
     "metadata": {
      "needs_background": "light"
     },
     "output_type": "display_data"
    },
    {
     "data": {
      "image/png": "[encoded data removed]",
      "text/plain": [
       "<Figure size 432x288 with 1 Axes>"
      ]
     },
     "metadata": {
      "needs_background": "light"
     },
     "output_type": "display_data"
    },
    {
     "data": {
      "image/png": "[encoded data removed]",
      "text/plain": [
       "<Figure size 432x288 with 1 Axes>"
      ]
     },
     "metadata": {
      "needs_background": "light"
     },
     "output_type": "display_data"
    },
    {
     "data": {
      "image/png": "[encoded data removed]",
      "text/plain": [
       "<Figure size 432x288 with 1 Axes>"
      ]
     },
     "metadata": {
      "needs_background": "light"
     },
     "output_type": "display_data"
    }
   ],
   "source": [
    "# Perhatikan nilai median untuk pendapatan berdasarkan faktor yang telah Anda identifikasi\n",
    "candidates = ['children','education','family_status','income_type','age_category']\n",
    "for col in candidates:\n",
    "    plt.bar(credit_df_nonan.groupby(col)['total_income'].median().index,credit_df_nonan.groupby(col)['total_income'].median(),width = 1)\n",
    "    plt.title(\"Median kolom \"+col)\n",
    "    plt.xticks(rotation = 90)\n",
    "    plt.show()"
   ]
  },
  {
   "cell_type": "code",
   "execution_count": 53,
   "metadata": {},
   "outputs": [
    {
     "data": {
      "image/png": "[encoded data removed]",
      "text/plain": [
       "<Figure size 432x288 with 1 Axes>"
      ]
     },
     "metadata": {
      "needs_background": "light"
     },
     "output_type": "display_data"
    }
   ],
   "source": [
    "plt.hist(credit_df_nonan['total_income'])\n",
    "plt.show()"
   ]
  },
  {
   "cell_type": "markdown",
   "metadata": {},
   "source": [
    "Nilai median digunakan untuk menggantikan nilai yang hilang pada kolom **total_income** karena nilai max dan min untuk total_income terpaut jauh dan nilai max nya jauh di atas nilai mean untuk kesuluruhan data (adanya outliner).\n",
    "\n",
    "Faktor yang dipakai untuk mengisi nilai data yang hilang ada income_type/ jenis pekerjaan klien yang kemudian dikelompokkan lagi berdasarkan **age_category** sehingga, **total_income** akan bergantung pada usia dan jenis pekerjaan.\n",
    "\n",
    "Dipilih faktor **income_type** karena pada grafik di atas, faktor **income_type** memberikan nilai gaji yang lebih variatif. Memang jenis pekerjaan menentukan besar gaji/pendapatan yang diterima seseorang.\n",
    "\n",
    "Selanjutnya yaitu membuat **pivot_table** dengan index **income_type** dan **age_category** dan melihat nilai **total_income median** pada masing-masing index."
   ]
  },
  {
   "cell_type": "code",
   "execution_count": 54,
   "metadata": {
    "scrolled": true
   },
   "outputs": [
    {
     "data": {
      "text/html": [
       "<div>\n",
       "<style scoped>\n",
       "    .dataframe tbody tr th:only-of-type {\n",
       "        vertical-align: middle;\n",
       "    }\n",
       "\n",
       "    .dataframe tbody tr th {\n",
       "        vertical-align: top;\n",
       "    }\n",
       "\n",
       "    .dataframe thead th {\n",
       "        text-align: right;\n",
       "    }\n",
       "</style>\n",
       "<table border=\"1\" class=\"dataframe\">\n",
       "  <thead>\n",
       "    <tr style=\"text-align: right;\">\n",
       "      <th></th>\n",
       "      <th></th>\n",
       "      <th>total_income</th>\n",
       "    </tr>\n",
       "    <tr>\n",
       "      <th>income_type</th>\n",
       "      <th>age_category</th>\n",
       "      <th></th>\n",
       "    </tr>\n",
       "  </thead>\n",
       "  <tbody>\n",
       "    <tr>\n",
       "      <th rowspan=\"4\" valign=\"top\">business</th>\n",
       "      <th>16-35 tahun</th>\n",
       "      <td>26510.1310</td>\n",
       "    </tr>\n",
       "    <tr>\n",
       "      <th>36-45 tahun</th>\n",
       "      <td>28505.9190</td>\n",
       "    </tr>\n",
       "    <tr>\n",
       "      <th>46-55 tahun</th>\n",
       "      <td>28837.2555</td>\n",
       "    </tr>\n",
       "    <tr>\n",
       "      <th>di atas 55 tahun</th>\n",
       "      <td>27476.8095</td>\n",
       "    </tr>\n",
       "    <tr>\n",
       "      <th rowspan=\"4\" valign=\"top\">civil servant</th>\n",
       "      <th>16-35 tahun</th>\n",
       "      <td>24368.0150</td>\n",
       "    </tr>\n",
       "    <tr>\n",
       "      <th>36-45 tahun</th>\n",
       "      <td>23202.1090</td>\n",
       "    </tr>\n",
       "    <tr>\n",
       "      <th>46-55 tahun</th>\n",
       "      <td>24100.2020</td>\n",
       "    </tr>\n",
       "    <tr>\n",
       "      <th>di atas 55 tahun</th>\n",
       "      <td>23585.3185</td>\n",
       "    </tr>\n",
       "    <tr>\n",
       "      <th rowspan=\"4\" valign=\"top\">employee</th>\n",
       "      <th>16-35 tahun</th>\n",
       "      <td>22261.7270</td>\n",
       "    </tr>\n",
       "    <tr>\n",
       "      <th>36-45 tahun</th>\n",
       "      <td>23190.1320</td>\n",
       "    </tr>\n",
       "    <tr>\n",
       "      <th>46-55 tahun</th>\n",
       "      <td>22533.2580</td>\n",
       "    </tr>\n",
       "    <tr>\n",
       "      <th>di atas 55 tahun</th>\n",
       "      <td>23440.5650</td>\n",
       "    </tr>\n",
       "    <tr>\n",
       "      <th>entrepreneur</th>\n",
       "      <th>16-35 tahun</th>\n",
       "      <td>79866.1030</td>\n",
       "    </tr>\n",
       "    <tr>\n",
       "      <th>paternity / maternity leave</th>\n",
       "      <th>36-45 tahun</th>\n",
       "      <td>8612.6610</td>\n",
       "    </tr>\n",
       "    <tr>\n",
       "      <th rowspan=\"4\" valign=\"top\">retiree</th>\n",
       "      <th>16-35 tahun</th>\n",
       "      <td>15378.5635</td>\n",
       "    </tr>\n",
       "    <tr>\n",
       "      <th>36-45 tahun</th>\n",
       "      <td>20294.8105</td>\n",
       "    </tr>\n",
       "    <tr>\n",
       "      <th>46-55 tahun</th>\n",
       "      <td>19760.4540</td>\n",
       "    </tr>\n",
       "    <tr>\n",
       "      <th>di atas 55 tahun</th>\n",
       "      <td>18795.8360</td>\n",
       "    </tr>\n",
       "    <tr>\n",
       "      <th>student</th>\n",
       "      <th>16-35 tahun</th>\n",
       "      <td>15712.2600</td>\n",
       "    </tr>\n",
       "    <tr>\n",
       "      <th rowspan=\"2\" valign=\"top\">unemployed</th>\n",
       "      <th>16-35 tahun</th>\n",
       "      <td>9593.1190</td>\n",
       "    </tr>\n",
       "    <tr>\n",
       "      <th>36-45 tahun</th>\n",
       "      <td>32435.6020</td>\n",
       "    </tr>\n",
       "  </tbody>\n",
       "</table>\n",
       "</div>"
      ],
      "text/plain": [
       "                                              total_income\n",
       "income_type                 age_category                  \n",
       "business                    16-35 tahun         26510.1310\n",
       "                            36-45 tahun         28505.9190\n",
       "                            46-55 tahun         28837.2555\n",
       "                            di atas 55 tahun    27476.8095\n",
       "civil servant               16-35 tahun         24368.0150\n",
       "                            36-45 tahun         23202.1090\n",
       "                            46-55 tahun         24100.2020\n",
       "                            di atas 55 tahun    23585.3185\n",
       "employee                    16-35 tahun         22261.7270\n",
       "                            36-45 tahun         23190.1320\n",
       "                            46-55 tahun         22533.2580\n",
       "                            di atas 55 tahun    23440.5650\n",
       "entrepreneur                16-35 tahun         79866.1030\n",
       "paternity / maternity leave 36-45 tahun          8612.6610\n",
       "retiree                     16-35 tahun         15378.5635\n",
       "                            36-45 tahun         20294.8105\n",
       "                            46-55 tahun         19760.4540\n",
       "                            di atas 55 tahun    18795.8360\n",
       "student                     16-35 tahun         15712.2600\n",
       "unemployed                  16-35 tahun          9593.1190\n",
       "                            36-45 tahun         32435.6020"
      ]
     },
     "execution_count": 54,
     "metadata": {},
     "output_type": "execute_result"
    }
   ],
   "source": [
    "# Membuat pivot table dengan index income type dan age category dengan value total income\n",
    "pivot_median = credit_df_nonan.pivot_table(index = ['income_type','age_category'],values = ['total_income'],aggfunc='median')\n",
    "\n",
    "# Menampilkan tabel pivot\n",
    "pivot_median"
   ]
  },
  {
   "cell_type": "markdown",
   "metadata": {},
   "source": [
    "<div class=\"alert alert-danger\">\n",
    "<b>Reviewer's comment v1</b> <a class=\"tocSkip\"></a>\n",
    "\n",
    "Hindari penggunaan `print()` pada kode baris terakhir di suatu sel. Dalam kasus ini output dapat ditampilkan dengan menulis nama variabel yang telah dibuat sebelumnya.\n",
    "    \n",
    "    pivot_median = credit_df_nonan.pivot_table(index = ['income_type','age_category'],values = ['total_income'],aggfunc='median')\n",
    "    pivot_median\n",
    "</div>"
   ]
  },
  {
   "cell_type": "markdown",
   "metadata": {},
   "source": [
    "Selanjutnya yaitu membuat fungsi yang akan digunakan untuk mengisi nilai yang hilang pada kolom **total_income**."
   ]
  },
  {
   "cell_type": "code",
   "execution_count": 55,
   "metadata": {},
   "outputs": [],
   "source": [
    "#  Tulis fungsi yang akan kita gunakan untuk mengisi nilai yang hilang\n",
    "def incomeByJobAge(data,pivot_data):\n",
    "    try:return np.float64(pivot_data.loc[tuple([data['income_type'],data['age_category']]),'total_income'])\n",
    "    except:return \n"
   ]
  },
  {
   "cell_type": "markdown",
   "metadata": {},
   "source": [
    "<div class=\"alert alert-success\">\n",
    "<b>Reviewer's comment v1</b> <a class=\"tocSkip\"></a>\n",
    "\n",
    "Penggunaan `try except` yang kreatif.\n",
    "</div>"
   ]
  },
  {
   "cell_type": "code",
   "execution_count": 56,
   "metadata": {},
   "outputs": [
    {
     "data": {
      "text/plain": [
       "26510.131"
      ]
     },
     "execution_count": 56,
     "metadata": {},
     "output_type": "execute_result"
    }
   ],
   "source": [
    "# Memeriksa bagaimana nilai di dalam kolom baru\n",
    "row_value =  ['16-35 tahun','business']\n",
    "row_index = ['age_category','income_type']\n",
    "row =pd.Series(row_value,index = row_index)\n",
    "\n",
    "# Menguji fungsi\n",
    "incomeByJobAge(row,pivot_median)"
   ]
  },
  {
   "cell_type": "markdown",
   "metadata": {},
   "source": [
    "Fungsi berjalan dengan sangat baik"
   ]
  },
  {
   "cell_type": "code",
   "execution_count": 57,
   "metadata": {},
   "outputs": [],
   "source": [
    "# Terapkan fungsi ke setiap baris\n",
    "credit_df_temp = credit_df_mod\n",
    "credit_df_temp.loc[credit_df_mod['total_income'].isnull(),'total_income'] = credit_df_mod.loc[credit_df_mod['total_income'].isnull(),].apply(incomeByJobAge,axis = 1, args = (pivot_median,))"
   ]
  },
  {
   "cell_type": "code",
   "execution_count": 58,
   "metadata": {},
   "outputs": [
    {
     "name": "stdout",
     "output_type": "stream",
     "text": [
      "<class 'pandas.core.frame.DataFrame'>\n",
      "RangeIndex: 21453 entries, 0 to 21452\n",
      "Data columns (total 13 columns):\n",
      " #   Column            Non-Null Count  Dtype  \n",
      "---  ------            --------------  -----  \n",
      " 0   children          21453 non-null  float64\n",
      " 1   days_employed     19350 non-null  float64\n",
      " 2   dob_years         21453 non-null  int64  \n",
      " 3   education         21453 non-null  object \n",
      " 4   education_id      21453 non-null  int64  \n",
      " 5   family_status     21453 non-null  object \n",
      " 6   family_status_id  21453 non-null  int64  \n",
      " 7   gender            21453 non-null  object \n",
      " 8   income_type       21453 non-null  object \n",
      " 9   debt              21453 non-null  int64  \n",
      " 10  total_income      21452 non-null  float64\n",
      " 11  purpose           21453 non-null  object \n",
      " 12  age_category      21453 non-null  object \n",
      "dtypes: float64(3), int64(4), object(6)\n",
      "memory usage: 2.1+ MB\n"
     ]
    }
   ],
   "source": [
    "# Periksa apakah kita mendapatkan kesalahan\n",
    "credit_df_temp.info()"
   ]
  },
  {
   "cell_type": "markdown",
   "metadata": {},
   "source": [
    "Setelah fungsi tersebut diterapkan, masih terdapat satu kesalahan yaitu ada satu data di kolom **total_income** yang bernilai nan"
   ]
  },
  {
   "cell_type": "code",
   "execution_count": 59,
   "metadata": {},
   "outputs": [
    {
     "data": {
      "text/html": [
       "<div>\n",
       "<style scoped>\n",
       "    .dataframe tbody tr th:only-of-type {\n",
       "        vertical-align: middle;\n",
       "    }\n",
       "\n",
       "    .dataframe tbody tr th {\n",
       "        vertical-align: top;\n",
       "    }\n",
       "\n",
       "    .dataframe thead th {\n",
       "        text-align: right;\n",
       "    }\n",
       "</style>\n",
       "<table border=\"1\" class=\"dataframe\">\n",
       "  <thead>\n",
       "    <tr style=\"text-align: right;\">\n",
       "      <th></th>\n",
       "      <th>children</th>\n",
       "      <th>days_employed</th>\n",
       "      <th>dob_years</th>\n",
       "      <th>education</th>\n",
       "      <th>education_id</th>\n",
       "      <th>family_status</th>\n",
       "      <th>family_status_id</th>\n",
       "      <th>gender</th>\n",
       "      <th>income_type</th>\n",
       "      <th>debt</th>\n",
       "      <th>total_income</th>\n",
       "      <th>purpose</th>\n",
       "      <th>age_category</th>\n",
       "    </tr>\n",
       "  </thead>\n",
       "  <tbody>\n",
       "    <tr>\n",
       "      <th>5931</th>\n",
       "      <td>0.0</td>\n",
       "      <td>NaN</td>\n",
       "      <td>58</td>\n",
       "      <td>bachelor's degree</td>\n",
       "      <td>0</td>\n",
       "      <td>married</td>\n",
       "      <td>0</td>\n",
       "      <td>M</td>\n",
       "      <td>entrepreneur</td>\n",
       "      <td>0</td>\n",
       "      <td>NaN</td>\n",
       "      <td>buy residential real estate</td>\n",
       "      <td>di atas 55 tahun</td>\n",
       "    </tr>\n",
       "  </tbody>\n",
       "</table>\n",
       "</div>"
      ],
      "text/plain": [
       "      children  days_employed  dob_years          education  education_id  \\\n",
       "5931       0.0            NaN         58  bachelor's degree             0   \n",
       "\n",
       "     family_status  family_status_id gender   income_type  debt  total_income  \\\n",
       "5931       married                 0      M  entrepreneur     0           NaN   \n",
       "\n",
       "                          purpose      age_category  \n",
       "5931  buy residential real estate  di atas 55 tahun  "
      ]
     },
     "execution_count": 59,
     "metadata": {},
     "output_type": "execute_result"
    }
   ],
   "source": [
    "# Mengecek lokasi dan penyebab kesalahan\n",
    "credit_df_temp.loc[credit_df_temp['total_income'].isnull(),:]"
   ]
  },
  {
   "cell_type": "markdown",
   "metadata": {},
   "source": [
    "Kesalahan terjadi saat entry data memiliki pekerjaan **entrepreneur** dengan kategory usia **pensiun**, memang didunia nyata tidak ada batasan usia seorang entrepreneur harus pensiun. Bisa juga dikatakan seorang entrepreneur tidak akan pernah pensiun.\n",
    "\n",
    "Nilai seperti ini, bisa digantikan dengan nilai median secara umum untuk tipe pekerjaan enterpreneur."
   ]
  },
  {
   "cell_type": "code",
   "execution_count": 60,
   "metadata": {},
   "outputs": [],
   "source": [
    "# Mengganti nilai secara manual\n",
    "credit_df_temp.loc[credit_df_temp['total_income'].isnull(),'total_income'] = np.float64(credit_df_nonan.groupby('income_type')['total_income'].median()['entrepreneur'])"
   ]
  },
  {
   "cell_type": "code",
   "execution_count": 61,
   "metadata": {},
   "outputs": [
    {
     "data": {
      "text/html": [
       "<div>\n",
       "<style scoped>\n",
       "    .dataframe tbody tr th:only-of-type {\n",
       "        vertical-align: middle;\n",
       "    }\n",
       "\n",
       "    .dataframe tbody tr th {\n",
       "        vertical-align: top;\n",
       "    }\n",
       "\n",
       "    .dataframe thead th {\n",
       "        text-align: right;\n",
       "    }\n",
       "</style>\n",
       "<table border=\"1\" class=\"dataframe\">\n",
       "  <thead>\n",
       "    <tr style=\"text-align: right;\">\n",
       "      <th></th>\n",
       "      <th>children</th>\n",
       "      <th>days_employed</th>\n",
       "      <th>dob_years</th>\n",
       "      <th>education</th>\n",
       "      <th>education_id</th>\n",
       "      <th>family_status</th>\n",
       "      <th>family_status_id</th>\n",
       "      <th>gender</th>\n",
       "      <th>income_type</th>\n",
       "      <th>debt</th>\n",
       "      <th>total_income</th>\n",
       "      <th>purpose</th>\n",
       "      <th>age_category</th>\n",
       "    </tr>\n",
       "  </thead>\n",
       "  <tbody>\n",
       "  </tbody>\n",
       "</table>\n",
       "</div>"
      ],
      "text/plain": [
       "Empty DataFrame\n",
       "Columns: [children, days_employed, dob_years, education, education_id, family_status, family_status_id, gender, income_type, debt, total_income, purpose, age_category]\n",
       "Index: []"
      ]
     },
     "execution_count": 61,
     "metadata": {},
     "output_type": "execute_result"
    }
   ],
   "source": [
    "# Mengek kembali dataframe\n",
    "credit_df_mod = credit_df_temp\n",
    "credit_df_mod.loc[credit_df_mod['total_income'].isnull(),:]"
   ]
  },
  {
   "cell_type": "markdown",
   "metadata": {},
   "source": [
    "Nilai yang tidak terisi oleh fungsi berhasil diatasi. Selanjutnya dilakukan pengecekan apakah seluruh nilai yang hilang pada kolom **total_income** berhasil teratasi dengan cara melihat total entry-nya."
   ]
  },
  {
   "cell_type": "code",
   "execution_count": 62,
   "metadata": {},
   "outputs": [
    {
     "name": "stdout",
     "output_type": "stream",
     "text": [
      "<class 'pandas.core.frame.DataFrame'>\n",
      "RangeIndex: 21453 entries, 0 to 21452\n",
      "Data columns (total 13 columns):\n",
      " #   Column            Non-Null Count  Dtype  \n",
      "---  ------            --------------  -----  \n",
      " 0   children          21453 non-null  float64\n",
      " 1   days_employed     19350 non-null  float64\n",
      " 2   dob_years         21453 non-null  int64  \n",
      " 3   education         21453 non-null  object \n",
      " 4   education_id      21453 non-null  int64  \n",
      " 5   family_status     21453 non-null  object \n",
      " 6   family_status_id  21453 non-null  int64  \n",
      " 7   gender            21453 non-null  object \n",
      " 8   income_type       21453 non-null  object \n",
      " 9   debt              21453 non-null  int64  \n",
      " 10  total_income      21453 non-null  float64\n",
      " 11  purpose           21453 non-null  object \n",
      " 12  age_category      21453 non-null  object \n",
      "dtypes: float64(3), int64(4), object(6)\n",
      "memory usage: 2.1+ MB\n"
     ]
    }
   ],
   "source": [
    "# Memeriksa jumlah entri di kolom\n",
    "credit_df_mod['total_income'] = list(map(np.float64,credit_df_mod['total_income']))\n",
    "credit_df_mod.info()"
   ]
  },
  {
   "cell_type": "markdown",
   "metadata": {},
   "source": [
    "Fungsi map digunakan untuk mengubah seluruh tipe data numerik dalam kolom total_income menjadi float64 hal ini untuk memastikan bahwa seluruh data pada kolom tersebut bertipe numerik.\n",
    "\n",
    "Seluruh nilai hilang pada kolom **total_income** berhasil diatasi."
   ]
  },
  {
   "cell_type": "markdown",
   "metadata": {},
   "source": [
    "###  Data hilang pada kolom days_employed"
   ]
  },
  {
   "cell_type": "markdown",
   "metadata": {},
   "source": [
    "Sama seperti analisis sebelumnya, langkah awal yaitu menentukan faktorn yang mempengaruhi nilai pada kolom **days_employed**. \n",
    "Dengan melihat nilai **mean** pada kolom **total income** terhadap masing-masing faktor."
   ]
  },
  {
   "cell_type": "code",
   "execution_count": 63,
   "metadata": {},
   "outputs": [
    {
     "data": {
      "image/png": "[encoded data removed]",
      "text/plain": [
       "<Figure size 432x288 with 1 Axes>"
      ]
     },
     "metadata": {
      "needs_background": "light"
     },
     "output_type": "display_data"
    },
    {
     "data": {
      "image/png": "[encoded data removed]",
      "text/plain": [
       "<Figure size 432x288 with 1 Axes>"
      ]
     },
     "metadata": {
      "needs_background": "light"
     },
     "output_type": "display_data"
    },
    {
     "data": {
      "image/png": "[encoded data removed]",
      "text/plain": [
       "<Figure size 432x288 with 1 Axes>"
      ]
     },
     "metadata": {
      "needs_background": "light"
     },
     "output_type": "display_data"
    },
    {
     "data": {
      "image/png": "[encoded data removed]",
      "text/plain": [
       "<Figure size 432x288 with 1 Axes>"
      ]
     },
     "metadata": {
      "needs_background": "light"
     },
     "output_type": "display_data"
    },
    {
     "data": {
      "image/png": "[encoded data removed]",
      "text/plain": [
       "<Figure size 432x288 with 1 Axes>"
      ]
     },
     "metadata": {
      "needs_background": "light"
     },
     "output_type": "display_data"
    }
   ],
   "source": [
    "candidates = ['children','education','family_status','income_type','age_category']\n",
    "for col in candidates:\n",
    "    plt.bar(credit_df_nonan.groupby(col)['days_employed'].median().index,credit_df_nonan.groupby(col)['days_employed'].median(),width = 1)\n",
    "    plt.title(\"Median kolom \"+col)\n",
    "    plt.xticks(rotation = 90)\n",
    "    plt.show()"
   ]
  },
  {
   "cell_type": "markdown",
   "metadata": {},
   "source": [
    "Melihat nilai **median** pada kolom **total income** terhadap masing-masing faktor."
   ]
  },
  {
   "cell_type": "code",
   "execution_count": 64,
   "metadata": {},
   "outputs": [
    {
     "data": {
      "image/png": "[encoded data removed]",
      "text/plain": [
       "<Figure size 432x288 with 1 Axes>"
      ]
     },
     "metadata": {
      "needs_background": "light"
     },
     "output_type": "display_data"
    },
    {
     "data": {
      "image/png": "[encoded data removed]",
      "text/plain": [
       "<Figure size 432x288 with 1 Axes>"
      ]
     },
     "metadata": {
      "needs_background": "light"
     },
     "output_type": "display_data"
    },
    {
     "data": {
      "image/png": "[encoded data removed]",
      "text/plain": [
       "<Figure size 432x288 with 1 Axes>"
      ]
     },
     "metadata": {
      "needs_background": "light"
     },
     "output_type": "display_data"
    },
    {
     "data": {
      "image/png": "[encoded data removed]",
      "text/plain": [
       "<Figure size 432x288 with 1 Axes>"
      ]
     },
     "metadata": {
      "needs_background": "light"
     },
     "output_type": "display_data"
    },
    {
     "data": {
      "image/png": "[encoded data removed]",
      "text/plain": [
       "<Figure size 432x288 with 1 Axes>"
      ]
     },
     "metadata": {
      "needs_background": "light"
     },
     "output_type": "display_data"
    }
   ],
   "source": [
    "candidates = ['children','education','family_status','income_type','age_category']\n",
    "for col in candidates:\n",
    "    plt.bar(credit_df_nonan.groupby(col)['days_employed'].mean().index,credit_df_nonan.groupby(col)['days_employed'].mean(), width = 1)\n",
    "    plt.title(\"Median kolom \"+col)\n",
    "    plt.xticks(rotation = 90)\n",
    "    plt.show()"
   ]
  },
  {
   "cell_type": "markdown",
   "metadata": {},
   "source": [
    "Nilai hilang pada kolom **days_employed** diisi oleh data median/mean dari kolom tersebut dengan pengkategorian berdasarkan kolom **age_category**.\n",
    "\n",
    "Selanjutnya yaitu menentukan apakah menggunakan median atau mean."
   ]
  },
  {
   "cell_type": "code",
   "execution_count": 65,
   "metadata": {
    "pycharm": {
     "name": "#%%\n"
    }
   },
   "outputs": [
    {
     "data": {
      "image/png": "[encoded data removed]",
      "text/plain": [
       "<Figure size 432x288 with 1 Axes>"
      ]
     },
     "metadata": {
      "needs_background": "light"
     },
     "output_type": "display_data"
    }
   ],
   "source": [
    "# Distribusi median dari `days_employed` berdasarkan parameter yang terpilih\n",
    "plt.bar(credit_df_nonan.groupby('age_category')['days_employed'].median().index,credit_df_nonan.groupby('age_category')['days_employed'].median())\n",
    "plt.title(\"Median kolom \"+col)\n",
    "plt.show()\n"
   ]
  },
  {
   "cell_type": "code",
   "execution_count": 66,
   "metadata": {},
   "outputs": [
    {
     "data": {
      "image/png": "[encoded data removed]",
      "text/plain": [
       "<Figure size 432x288 with 1 Axes>"
      ]
     },
     "metadata": {
      "needs_background": "light"
     },
     "output_type": "display_data"
    }
   ],
   "source": [
    "# Distribusi rata-rata dari `days_employed` berdasarkan parameter yang terpilih\n",
    "\n",
    "plt.bar(credit_df_nonan.groupby('age_category')['days_employed'].mean().index,credit_df_nonan.groupby('age_category')['days_employed'].mean())\n",
    "plt.title(\"Median kolom \"+col)\n",
    "plt.show()"
   ]
  },
  {
   "cell_type": "code",
   "execution_count": 67,
   "metadata": {},
   "outputs": [
    {
     "data": {
      "image/png": "[encoded data removed]",
      "text/plain": [
       "<Figure size 432x288 with 1 Axes>"
      ]
     },
     "metadata": {
      "needs_background": "light"
     },
     "output_type": "display_data"
    }
   ],
   "source": [
    "# Melihat distribusi \n",
    "plt.hist(credit_df_nonan['days_employed'])\n",
    "plt.show()"
   ]
  },
  {
   "cell_type": "markdown",
   "metadata": {},
   "source": [
    "Nilai digunakan yaitu median karena distribusi data pada kolom **days_employed** bersifat skewed.\n",
    "\n",
    "Selanjutnya yaitu membuat fungsi untuk mengisi nilai yang hilang pada kolom **days_employed**.\n"
   ]
  },
  {
   "cell_type": "code",
   "execution_count": 68,
   "metadata": {},
   "outputs": [],
   "source": [
    "# Mari tulis fungsi yang menghitung rata-rata atau median (tergantung keputusan Anda) berdasarkan parameter yang Anda identifikasi\n",
    "def daysEmployedByAge(data,value):\n",
    "    return value[data['age_category']]"
   ]
  },
  {
   "cell_type": "code",
   "execution_count": 69,
   "metadata": {},
   "outputs": [],
   "source": [
    "# Menghitung nilai median berdasarkan paramter age_category\n",
    "days_employed_median = dict(credit_df_nonan.groupby('age_category')['days_employed'].median().sort_index(ascending=True))"
   ]
  },
  {
   "cell_type": "code",
   "execution_count": 70,
   "metadata": {},
   "outputs": [],
   "source": [
    "# Terapkan fungsi ke parameter age_category\n",
    "row_value = ['16-35 tahun']\n",
    "row_column= ['age_category']\n",
    "row = pd.Series(row_value, index = row_column)"
   ]
  },
  {
   "cell_type": "code",
   "execution_count": 71,
   "metadata": {},
   "outputs": [
    {
     "data": {
      "text/plain": [
       "1205.8836942465837"
      ]
     },
     "execution_count": 71,
     "metadata": {},
     "output_type": "execute_result"
    }
   ],
   "source": [
    "# Periksa fungsi bekerja\n",
    "daysEmployedByAge(row,days_employed_median)"
   ]
  },
  {
   "cell_type": "markdown",
   "metadata": {},
   "source": [
    "Fungsi berjalan dengan sangat baik"
   ]
  },
  {
   "cell_type": "code",
   "execution_count": 72,
   "metadata": {},
   "outputs": [],
   "source": [
    "# Mengganti nilai yang hilang\n",
    "credit_df_mod.loc[credit_df_mod['days_employed'].isnull(),'days_employed'] = credit_df_mod.loc[credit_df_mod['days_employed'].isnull(),].apply(daysEmployedByAge,axis = 1, args = (days_employed_median,))"
   ]
  },
  {
   "cell_type": "markdown",
   "metadata": {},
   "source": [
    "Selanjutnya dilakukan pengecekan apakah nilai yang hilang pada kolom **days_employed** sepenuhnya teratasi."
   ]
  },
  {
   "cell_type": "code",
   "execution_count": 73,
   "metadata": {},
   "outputs": [
    {
     "name": "stdout",
     "output_type": "stream",
     "text": [
      "<class 'pandas.core.frame.DataFrame'>\n",
      "RangeIndex: 21453 entries, 0 to 21452\n",
      "Data columns (total 13 columns):\n",
      " #   Column            Non-Null Count  Dtype  \n",
      "---  ------            --------------  -----  \n",
      " 0   children          21453 non-null  float64\n",
      " 1   days_employed     21453 non-null  float64\n",
      " 2   dob_years         21453 non-null  int64  \n",
      " 3   education         21453 non-null  object \n",
      " 4   education_id      21453 non-null  int64  \n",
      " 5   family_status     21453 non-null  object \n",
      " 6   family_status_id  21453 non-null  int64  \n",
      " 7   gender            21453 non-null  object \n",
      " 8   income_type       21453 non-null  object \n",
      " 9   debt              21453 non-null  int64  \n",
      " 10  total_income      21453 non-null  float64\n",
      " 11  purpose           21453 non-null  object \n",
      " 12  age_category      21453 non-null  object \n",
      "dtypes: float64(3), int64(4), object(6)\n",
      "memory usage: 2.1+ MB\n"
     ]
    }
   ],
   "source": [
    "# Periksa entri di semua kolom - pastikan kita memperbaiki semua nilai yang hilang\n",
    "credit_df_mod.info()"
   ]
  },
  {
   "cell_type": "markdown",
   "metadata": {},
   "source": [
    "Seluruh data hilang di kolom **dob_years** berhasil di atasi."
   ]
  },
  {
   "cell_type": "markdown",
   "metadata": {},
   "source": [
    "## Pengkategorian Data\n",
    "\n",
    "Pengkategorian perlu diterapkan kepada kolom purpose karena nilai pada kolom tersebut sangat bervariatif namun dapat dikelompokkan berdasarkan jenisnya seperti kendaraan, property, dan sebagainya. Selain itu, kolom dengan tipe data numerik dan rasio yaitu kolom **total_income** dan **children** juga perlu dikategorikan. Hal tersebut bertujuan untuk mempermudah analisa dengan mengubah tujuan spesifik menjadi tujuan yang lebih umum namun masih dapat mewakili."
   ]
  },
  {
   "cell_type": "markdown",
   "metadata": {},
   "source": [
    "### Pengkategorian kolom purpose"
   ]
  },
  {
   "cell_type": "markdown",
   "metadata": {},
   "source": [
    "Langkah pertama yaitu menampilkan nilai unik pada kolom **purpose** untuk menentukan strategi apa yang efektif untuk mengatasi kolom ini."
   ]
  },
  {
   "cell_type": "code",
   "execution_count": 74,
   "metadata": {},
   "outputs": [
    {
     "data": {
      "text/plain": [
       "0                  purchase of the house\n",
       "1                           car purchase\n",
       "2                  purchase of the house\n",
       "3                supplementary education\n",
       "4                      to have a wedding\n",
       "5                  purchase of the house\n",
       "6                   housing transactions\n",
       "7                              education\n",
       "8                       having a wedding\n",
       "9    purchase of the house for my family\n",
       "Name: purpose, dtype: object"
      ]
     },
     "execution_count": 74,
     "metadata": {},
     "output_type": "execute_result"
    }
   ],
   "source": [
    "# Tampilkan nilai data yang Anda pilih untuk pengkategorian\n",
    "credit_df_mod['purpose'].head(10)"
   ]
  },
  {
   "cell_type": "code",
   "execution_count": 75,
   "metadata": {},
   "outputs": [
    {
     "data": {
      "text/plain": [
       "array(['purchase of the house', 'car purchase', 'supplementary education',\n",
       "       'to have a wedding', 'housing transactions', 'education',\n",
       "       'having a wedding', 'purchase of the house for my family',\n",
       "       'buy real estate', 'buy commercial real estate',\n",
       "       'buy residential real estate', 'construction of own property',\n",
       "       'property', 'building a property', 'buying a second-hand car',\n",
       "       'buying my own car', 'transactions with commercial real estate',\n",
       "       'building a real estate', 'housing',\n",
       "       'transactions with my real estate', 'cars', 'to become educated',\n",
       "       'second-hand car purchase', 'getting an education', 'car',\n",
       "       'wedding ceremony', 'to get a supplementary education',\n",
       "       'purchase of my own house', 'real estate transactions',\n",
       "       'getting higher education', 'to own a car', 'purchase of a car',\n",
       "       'profile education', 'university education',\n",
       "       'buying property for renting out', 'to buy a car',\n",
       "       'housing renovation', 'going to university'], dtype=object)"
      ]
     },
     "execution_count": 75,
     "metadata": {},
     "output_type": "execute_result"
    }
   ],
   "source": [
    "# Periksa nilai unik\n",
    "credit_df_mod['purpose'].unique()"
   ]
  },
  {
   "cell_type": "markdown",
   "metadata": {},
   "source": [
    "Berdasarkan nilai unik di atas, tujuan peminjaman dapat dikelompokkan ke dalam beberapa kategori sebagai berikut\n",
    "\n",
    "> property (pembelian/transaksi rumah)\n",
    "\n",
    "> vehicle (pembelian kendaraan)\n",
    "\n",
    "> education (pengeluaran untuk pendidikan)\n",
    "\n",
    "> wedding (kegiatan pernikahan).\n",
    "\n",
    "Selanjutnya yaitu menulis fungsi yang akan digunakan untuk proses pengkategorian data pada kolom **purpose**.\n"
   ]
  },
  {
   "cell_type": "code",
   "execution_count": 76,
   "metadata": {},
   "outputs": [],
   "source": [
    "# Mari kita menulis fungsi untuk mengkategorikan data berdasarkan topik umum\n",
    "def purposeCat(data):\n",
    "    pur = data['purpose']\n",
    "    if ('hous' in pur) or ('estate' in pur) or ('prop' in pur):return 'property'\n",
    "    if ('car' in pur):return 'vehicle'\n",
    "    if ('edu' in pur) or ('univ' in pur) or ('edu' in pur):return 'education'\n",
    "    if ('wed' in pur) or ('cer' in pur):return 'wedding'\n",
    "    return 'unidentified'"
   ]
  },
  {
   "cell_type": "code",
   "execution_count": 77,
   "metadata": {},
   "outputs": [
    {
     "data": {
      "text/plain": [
       "'property'"
      ]
     },
     "execution_count": 77,
     "metadata": {},
     "output_type": "execute_result"
    }
   ],
   "source": [
    "# Menguji fungsi berfungsi dengan baik\n",
    "row_value = ['buying a house']\n",
    "row_column = ['purpose']\n",
    "row = pd.Series(row_value, index = row_column)\n",
    "\n",
    "purposeCat(row)"
   ]
  },
  {
   "cell_type": "markdown",
   "metadata": {},
   "source": [
    "Fungsi berjalan dengan sangat baik. Selanjutnya yaitu membuat kolom baru yang memuat hasil pengkategorian kolom **purpose** yang diberi nama **purpose_category**."
   ]
  },
  {
   "cell_type": "code",
   "execution_count": 78,
   "metadata": {},
   "outputs": [],
   "source": [
    "# Buat kolom dengan kategori dan hitung nilainya\n",
    "credit_df_mod['purpose_category'] = credit_df_mod.apply(purposeCat,axis = 1)"
   ]
  },
  {
   "cell_type": "markdown",
   "metadata": {},
   "source": [
    "Mengecek nilai pada kolom **purpose_category** dan jumlahnya."
   ]
  },
  {
   "cell_type": "code",
   "execution_count": 79,
   "metadata": {},
   "outputs": [
    {
     "data": {
      "text/plain": [
       "property     10810\n",
       "vehicle       4306\n",
       "education     4013\n",
       "wedding       2324\n",
       "Name: purpose_category, dtype: int64"
      ]
     },
     "execution_count": 79,
     "metadata": {},
     "output_type": "execute_result"
    }
   ],
   "source": [
    "# Mengecek nilai unik pada kolom terkategori\n",
    "credit_df_mod['purpose_category'].value_counts()"
   ]
  },
  {
   "cell_type": "markdown",
   "metadata": {},
   "source": [
    "Seluruh data pada kolom **purpose** berhasil terkategorikan yang ditandai dengan tidak adanya nilai *`unindentified`*."
   ]
  },
  {
   "cell_type": "markdown",
   "metadata": {},
   "source": [
    "### Pengkategorian kolom total_income"
   ]
  },
  {
   "cell_type": "markdown",
   "metadata": {},
   "source": [
    "Kolom **total_income** perlu dikategorikan berdasarkan range tertentu karena kolom ini memuat data numerik yang nilainya sangat bervariatif. Langkah awal yaitu melihat secara sekilas nilai di dalam kolom **total_income**"
   ]
  },
  {
   "cell_type": "code",
   "execution_count": 80,
   "metadata": {},
   "outputs": [
    {
     "data": {
      "text/plain": [
       "0    40620.102\n",
       "1    17932.802\n",
       "2    23341.752\n",
       "3    42820.568\n",
       "4    25378.572\n",
       "5    40922.170\n",
       "6    38484.156\n",
       "7    21731.829\n",
       "8    15337.093\n",
       "9    23108.150\n",
       "Name: total_income, dtype: float64"
      ]
     },
     "execution_count": 80,
     "metadata": {},
     "output_type": "execute_result"
    }
   ],
   "source": [
    "# Lihat melalui semua data numerik di kolom yang Anda pilih untuk pengkategorian\n",
    "credit_df_mod['total_income'].head(10)"
   ]
  },
  {
   "cell_type": "code",
   "execution_count": 81,
   "metadata": {},
   "outputs": [
    {
     "data": {
      "image/png": "[encoded data removed]",
      "text/plain": [
       "<Figure size 432x288 with 1 Axes>"
      ]
     },
     "metadata": {
      "needs_background": "light"
     },
     "output_type": "display_data"
    },
    {
     "data": {
      "text/plain": [
       "count     21453.000000\n",
       "mean      26449.849956\n",
       "std       15712.733112\n",
       "min        3306.762000\n",
       "25%       17210.289000\n",
       "50%       23190.132000\n",
       "75%       31331.009000\n",
       "max      362496.645000\n",
       "Name: total_income, dtype: float64"
      ]
     },
     "execution_count": 81,
     "metadata": {},
     "output_type": "execute_result"
    }
   ],
   "source": [
    "# Mendapatkan kesimpulan statistik untuk kolomnya\n",
    "plt.hist(credit_df_mod['total_income'])\n",
    "plt.title('Distribusi total_income')\n",
    "plt.show()\n",
    "\n",
    "credit_df_mod['total_income'].describe()\n"
   ]
  },
  {
   "cell_type": "markdown",
   "metadata": {},
   "source": [
    "Selanutnya nilai pada kolom **total_income** akan dibagi ke dalam beberapa kategori dengan batasan acuan nilai **mean** dengan ketentuan sebagai berikut: \n",
    "> 1. Income > 1.3*Mean = kelas atas\n",
    "\n",
    ">  2. Income < 0.7*Mean = kelas bawah\n",
    "\n",
    ">  3. Diantaranya  = kelas menengah\n",
    "\n",
    "Apabila digunakan nilai Q2/median pengkategorian akan menghasilkan dua kubu dengan jumlah data yang sama, sehingga mean akan lebih cocok dipakai sebagai batasan.\n",
    "\n",
    "Selanjutnya membuat fungsi yang akan digunakan untuk proses pengkategorian kolom **total_income**."
   ]
  },
  {
   "cell_type": "code",
   "execution_count": 82,
   "metadata": {},
   "outputs": [],
   "source": [
    "# Membuat fungsi untuk pengkategorian menjadi kelompok numerik yang berbeda berdasarkan rentang\n",
    "def incomeCat(data,mean_val):\n",
    "    income = data\n",
    "    if income>1.3*mean_val:return 'kelas atas'\n",
    "    if income<0.7*mean_val:return 'kelas bawah'\n",
    "    return 'kelas menengah'\n"
   ]
  },
  {
   "cell_type": "code",
   "execution_count": 83,
   "metadata": {},
   "outputs": [],
   "source": [
    "# Menghitung nilai mean\n",
    "mean_value = np.float64(credit_df_mod['total_income'].mean())"
   ]
  },
  {
   "cell_type": "markdown",
   "metadata": {},
   "source": [
    "Selanjutnya yaitu menerapkan fungsi kedalam dataframe dan menyimpannya pada kolom **income_category** setelah itu dilihat distribusinya."
   ]
  },
  {
   "cell_type": "code",
   "execution_count": 84,
   "metadata": {},
   "outputs": [],
   "source": [
    "# Membuat kolom dengan kategori\n",
    "credit_df_mod['income_category'] = credit_df_mod['total_income'].apply(incomeCat,args=(mean_value,))"
   ]
  },
  {
   "cell_type": "code",
   "execution_count": 85,
   "metadata": {},
   "outputs": [
    {
     "name": "stdout",
     "output_type": "stream",
     "text": [
      "kelas menengah    10775\n",
      "kelas bawah        6403\n",
      "kelas atas         4275\n",
      "Name: income_category, dtype: int64\n"
     ]
    },
    {
     "data": {
      "image/png": "[encoded data removed]",
      "text/plain": [
       "<Figure size 432x288 with 1 Axes>"
      ]
     },
     "metadata": {
      "needs_background": "light"
     },
     "output_type": "display_data"
    }
   ],
   "source": [
    "# Menghitung setiap nilai kategori untuk melihat pendistribusian\n",
    "print(credit_df_mod['income_category'].value_counts())\n",
    "plt.hist(credit_df_mod['income_category'])\n",
    "plt.show()\n"
   ]
  },
  {
   "cell_type": "markdown",
   "metadata": {},
   "source": [
    "Dari distribusi di atas dapat dilihat bahwa sebagian besar entry berada pada kelas menengah disusul oleh kelas bawah, dan kelas atas."
   ]
  },
  {
   "cell_type": "markdown",
   "metadata": {},
   "source": [
    "### Pengkategorian kolom children\n",
    "\n",
    "Untuk mempermudah analisis kepemilikan anak dikelompokan menjadi dua kategori yaitu **tidak punya anak** dan **punya anak**.\n",
    "Pertama yaitu melihat secara sekilas nilai pada kolom **children**."
   ]
  },
  {
   "cell_type": "code",
   "execution_count": 86,
   "metadata": {},
   "outputs": [
    {
     "data": {
      "text/plain": [
       "0    1.0\n",
       "1    1.0\n",
       "2    0.0\n",
       "3    3.0\n",
       "4    0.0\n",
       "Name: children, dtype: float64"
      ]
     },
     "execution_count": 86,
     "metadata": {},
     "output_type": "execute_result"
    }
   ],
   "source": [
    "# Menampikan 5 data pertama kolom children\n",
    "credit_df_mod['children'].head()"
   ]
  },
  {
   "cell_type": "markdown",
   "metadata": {},
   "source": [
    "Selanjutnya membuat fungsi yang akan digunakan untuk mengketogrikan kolom **children**."
   ]
  },
  {
   "cell_type": "code",
   "execution_count": 87,
   "metadata": {},
   "outputs": [],
   "source": [
    "# Membuat fungsi pengkategorian\n",
    "def childCat(data):\n",
    "    child = data['children']\n",
    "    if child > 0: return 'punya anak'\n",
    "    return 'tidak punya anak'"
   ]
  },
  {
   "cell_type": "markdown",
   "metadata": {},
   "source": [
    "Selanjutnya menerapkan fungsi ke dalam dataframe dan menyimpannya dalam kolom **children_category**."
   ]
  },
  {
   "cell_type": "code",
   "execution_count": 88,
   "metadata": {},
   "outputs": [],
   "source": [
    "# Membuat kolom children_category\n",
    "credit_df_mod['children_category'] = credit_df_mod.apply(childCat,axis = 1)"
   ]
  },
  {
   "cell_type": "code",
   "execution_count": 89,
   "metadata": {},
   "outputs": [
    {
     "name": "stdout",
     "output_type": "stream",
     "text": [
      "tidak punya anak    14137\n",
      "punya anak           7316\n",
      "Name: children_category, dtype: int64\n"
     ]
    },
    {
     "data": {
      "image/png": "[encoded data removed]",
      "text/plain": [
       "<Figure size 432x288 with 1 Axes>"
      ]
     },
     "metadata": {
      "needs_background": "light"
     },
     "output_type": "display_data"
    }
   ],
   "source": [
    "# Mengecek distribusinya\n",
    "print(credit_df_mod['children_category'].value_counts())\n",
    "plt.hist(credit_df_mod['children_category'])\n",
    "plt.xticks([0,1])\n",
    "plt.show()\n"
   ]
  },
  {
   "cell_type": "markdown",
   "metadata": {},
   "source": [
    "Kolom children berhasil terkategorikan dengan baik. Entry lebih banyak tersebar pada kategori 0 (tidak memiliki anak)."
   ]
  },
  {
   "cell_type": "markdown",
   "metadata": {},
   "source": [
    "## Memeriksa Hipotesis\n",
    "\n",
    "langkah awal yaitu dengan memfilter dataframe dengan hanya mengambil kolom yang akan digunakan dalam analisis yang selanjutnya akan disimpan pada dataframe baru dengan nama **credit_df_hipo**."
   ]
  },
  {
   "cell_type": "code",
   "execution_count": 90,
   "metadata": {},
   "outputs": [],
   "source": [
    "# Memfilter dan membuat dataframe\n",
    "credit_df_hipo = credit_df_mod.loc[:,['children_category','family_status','debt','income_category','income_type','purpose_category']]\n",
    "credit_df_hipo['debt_count'] = credit_df_hipo['debt']"
   ]
  },
  {
   "cell_type": "markdown",
   "metadata": {},
   "source": [
    "Tarif otomatis merupakan persentase tingkat kegagalan membayar peminjam. Nilai ini diperoleh dengan membagi total peminjam yang gagal membayar hutang dengan total peminjam yang ada dikategori tersebut. Selanjutnya kita akan menggunakan definisi ini untuk menguji hipotesis kita."
   ]
  },
  {
   "cell_type": "markdown",
   "metadata": {},
   "source": [
    "### Apakah terdapat korelasi antara memiliki anak dengan membayar kembali tepat waktu?\n",
    "\n",
    "Menghitung tarif otomatis dengan menggunakan pivot table."
   ]
  },
  {
   "cell_type": "code",
   "execution_count": 91,
   "metadata": {},
   "outputs": [
    {
     "name": "stdout",
     "output_type": "stream",
     "text": [
      "                   count       tarif_otomatis\n",
      "debt                   0     1               \n",
      "children_category                            \n",
      "punya anak          6639   677       9.253691\n",
      "tidak punya anak   13073  1064       7.526349\n"
     ]
    },
    {
     "data": {
      "image/png": "[encoded data removed]",
      "text/plain": [
       "<Figure size 432x288 with 1 Axes>"
      ]
     },
     "metadata": {
      "needs_background": "light"
     },
     "output_type": "display_data"
    }
   ],
   "source": [
    "#tarif otomatis child_category\n",
    "tarif_child = credit_df_hipo.pivot_table(index='children_category',columns='debt',values='debt_count',aggfunc=['count'])\n",
    "tarif_child['tarif_otomatis'] = tarif_child[('count',1)]/(tarif_child[('count',1)]+tarif_child[('count',0)])*100\n",
    "print(tarif_child)\n",
    "\n",
    "#plot\n",
    "plt.title('Tarif Otomatis Parameter child_category')\n",
    "plt.grid()\n",
    "plt.xticks([0,1])\n",
    "plt.ylabel('Tarif otomatis (persen)')\n",
    "plt.bar(tarif_child.index,tarif_child['tarif_otomatis'])\n",
    "plt.show()\n"
   ]
  },
  {
   "cell_type": "markdown",
   "metadata": {},
   "source": [
    "**Kesimpulan**\n",
    "\n",
    "Berikut adalah beberapa kesimpulan yang dapat diambil dari hasil di atas:\n",
    "- Klien yang tidak memiliki anak cenderung membayar tagihan pinjaman tepat waktu, dapat dilihat pada data diatas bahwa orang yang memiliki anak memiliki nilai tarif otomatis yang lebih besar. Dapat disimpulkan bahwa memiliki anak mempengaruhi tingkat ketepatan membayar hutang.\n",
    "- Bisa jadi jika seseorang memiliki anak, maka pengeluaran bulanan menjadi lebih banyak. Sehingga pembayaran hutang sedikit terganggu oleh pengeluaran untuk anak.\n"
   ]
  },
  {
   "cell_type": "markdown",
   "metadata": {},
   "source": [
    "### Apakah terdapat korelasi antara status keluarga dengan membayar kembali tepat waktu?\n",
    "\n",
    "Menghitung tarif otomatis dengan menggunakan pivot_table"
   ]
  },
  {
   "cell_type": "code",
   "execution_count": 92,
   "metadata": {},
   "outputs": [
    {
     "name": "stdout",
     "output_type": "stream",
     "text": [
      "                   count      tarif_otomatis\n",
      "debt                   0    1               \n",
      "family_status                               \n",
      "civil partnership   3762  388       9.349398\n",
      "divorced            1110   85       7.112971\n",
      "married            11408  931       7.545182\n",
      "unmarried           2536  274       9.750890\n",
      "widow / widower      896   63       6.569343\n"
     ]
    },
    {
     "data": {
      "image/png": "[encoded data removed]",
      "text/plain": [
       "<Figure size 432x288 with 1 Axes>"
      ]
     },
     "metadata": {
      "needs_background": "light"
     },
     "output_type": "display_data"
    }
   ],
   "source": [
    "#tarif otomatis family_status\n",
    "tarif_fam = credit_df_hipo.pivot_table(index='family_status',columns='debt',values='debt_count',aggfunc=['count'])\n",
    "tarif_fam['tarif_otomatis'] = tarif_fam[('count',1)]/(tarif_fam[('count',1)]+tarif_fam[('count',0)])*100\n",
    "print(tarif_fam)\n",
    "\n",
    "#plot\n",
    "plt.title('Tarif Otomatis Parameter family_status')\n",
    "plt.grid()\n",
    "plt.ylabel('Tarif otomatis (persen)')\n",
    "plt.xticks(rotation=90)\n",
    "plt.bar(tarif_fam.index,tarif_fam['tarif_otomatis'])\n",
    "plt.show()"
   ]
  },
  {
   "cell_type": "markdown",
   "metadata": {},
   "source": [
    "**Kesimpulan**\n",
    "\n",
    "Berikut adalah beberapa kesimpulan yang dapat diambil dari hasil di atas:\n",
    "- Seorang duda/janda cenderung membayar tagihan pinjaman tepat waktu, sedangkan yang paling tidak tepat waktu adalah seseorang yang masih lajang.\n",
    "- Peminjam paling banyak berada pada golongan orang yang sudah menikah. Bisa jadi karena kebutuhan setelah menikah meningkat dengan pesat sehingga menuntut orang untuk meminjam uang ke Bank."
   ]
  },
  {
   "cell_type": "markdown",
   "metadata": {},
   "source": [
    "### Apakah terdapat korelasi antara tingkat pendapatan dengan membayar kembali tepat waktu?\n",
    "\n",
    "Menghitung tarif otomatis dengan menggunakan pivot_table"
   ]
  },
  {
   "cell_type": "code",
   "execution_count": 93,
   "metadata": {},
   "outputs": [
    {
     "name": "stdout",
     "output_type": "stream",
     "text": [
      "                count      tarif_otomatis\n",
      "debt                0    1               \n",
      "income_category                          \n",
      "kelas atas       3976  299       6.994152\n",
      "kelas bawah      5883  520       8.121193\n",
      "kelas menengah   9853  922       8.556845\n"
     ]
    },
    {
     "data": {
      "image/png": "[encoded data removed]",
      "text/plain": [
       "<Figure size 432x288 with 1 Axes>"
      ]
     },
     "metadata": {
      "needs_background": "light"
     },
     "output_type": "display_data"
    }
   ],
   "source": [
    "#tarif otomatis income_category\n",
    "tarif_income = credit_df_hipo.pivot_table(index='income_category',columns='debt',values='debt_count',aggfunc=['count'])\n",
    "tarif_income['tarif_otomatis'] = tarif_income[('count',1)]/(tarif_income[('count',1)]+tarif_income[('count',0)])*100\n",
    "print(tarif_income)\n",
    "\n",
    "#plot\n",
    "plt.title('Tarif Otomatis Parameter income_category')\n",
    "plt.grid()\n",
    "plt.ylabel('Tarif otomatis (persen)')\n",
    "plt.bar(tarif_income.index,tarif_income['tarif_otomatis'])\n",
    "plt.show()"
   ]
  },
  {
   "cell_type": "markdown",
   "metadata": {},
   "source": [
    "**Kesimpulan**\n",
    "\n",
    "Berikut adalah beberapa kesimpulan yang dapat diambil dari hasil di atas:\n",
    "- Kelas atas cenderung membayar tagihan pinjaman tepat waktu, karena kondisi keuangan mereka dapat dikatakan tercukupi. Dapat dilihat dari ketepatan pembayaran dan jumlah peminjam yang lebih sedikit dibandingkan kelas bawah dan menengah.\n",
    "- Kelas bawah dan menengah berada dibawah kelas atas dalam hal ketepatan membayar pinjaman. Sebagian besar peminjam berada di kelas ini.\n",
    "- Kelas menengah menduduki peringkat pertama dalam hal keterlambatan membayar hutang. Hal tersebut dapat disebabkan karena tingkatan ini merupakan tingkatan \"tanggung\". Kelas atas cukup stabil untuk membayar hutang. Kelas bawah cenderung menahan diri untuk tidak meminjam hutang dengan kata lain tingkatan ini lebih berhati-hati ketika melakukan pinjaman. \n",
    "- Dapat disimpulkan bahwa tingkat penghasilan cukup mempengaruhi banyaknya peminjam."
   ]
  },
  {
   "cell_type": "markdown",
   "metadata": {},
   "source": [
    "### Bagaimana tujuan kredit memengaruhi tarif otomatis?\n",
    "\n",
    "Menghitung tarif otomatis dengan menggunakan pivot_table"
   ]
  },
  {
   "cell_type": "code",
   "execution_count": 94,
   "metadata": {},
   "outputs": [
    {
     "name": "stdout",
     "output_type": "stream",
     "text": [
      "                  count      tarif_otomatis\n",
      "debt                  0    1               \n",
      "purpose_category                           \n",
      "education          3643  370       9.220035\n",
      "property          10028  782       7.234043\n",
      "vehicle            3903  403       9.359034\n",
      "wedding            2138  186       8.003442\n"
     ]
    },
    {
     "data": {
      "image/png": "[encoded data removed]",
      "text/plain": [
       "<Figure size 432x288 with 1 Axes>"
      ]
     },
     "metadata": {
      "needs_background": "light"
     },
     "output_type": "display_data"
    }
   ],
   "source": [
    "#tarif otomatis purpose_category\n",
    "tarif_purp = credit_df_hipo.pivot_table(index='purpose_category',columns='debt',values='debt_count',aggfunc=['count'])\n",
    "tarif_purp['tarif_otomatis'] = tarif_purp[('count',1)]/(tarif_purp[('count',1)]+tarif_purp[('count',0)])*100\n",
    "print(tarif_purp)\n",
    "\n",
    "#plot\n",
    "plt.title('Tarif Otomatis Parameter purpose_category')\n",
    "plt.grid()\n",
    "plt.ylabel('Tarif otomatis (persen)')\n",
    "plt.bar(tarif_purp.index,tarif_purp['tarif_otomatis'])\n",
    "plt.show()"
   ]
  },
  {
   "cell_type": "markdown",
   "metadata": {},
   "source": [
    "**Kesimpulan**\n",
    "\n",
    "Berikut adalah beberapa kesimpulan yang dapat diambil dari hasil di atas:\n",
    "- Tingkat pembayaran tepat waktu untuk tujuan property dan wedding cukup tinggi, karena kebutuhan jenis ini biasanya diperhitungkan dengan matang terkait anggaran yang dibutuhkan.\n",
    "- Tujuan pinjaman untuk vehicle menduduki peringkat pertama dalam keterlambatan membayar pinjaman.\n",
    "- Peminjam paling banyak  berasal dari kebutuhan property dan vehicle.\n"
   ]
  },
  {
   "cell_type": "markdown",
   "metadata": {},
   "source": [
    "<div class=\"alert alert-danger\">\n",
    "<b>Reviewer's comment v1</b> <a class=\"tocSkip\"></a>\n",
    "\n",
    "Sepertinya saya terlewat dibagian ini namun saya coba konfirmasi ulang. `tarif otomatis` ini apa ya? apabila dilihat dari brief yang tersedia `debt` merupakan kategori pernah tidaknya gagal bayar dalam berhutang. Output dalam menjawab pertanyaan-pertanyaan ini akan lebih singkat (daripada menggunakan dua dataframe) menggunakan pivot tabel dengan mencantumkan proporsi kedua kategori `debt` serta persentase yang pernah gagal bayar dimasing-masing kategorinya.\n",
    "</div>"
   ]
  },
  {
   "cell_type": "markdown",
   "metadata": {},
   "source": [
    "<div class=\"alert alert-block alert-info\">\n",
    "<b>Student answer.</b> <a class=\"tocSkip\"></a>\n",
    "\n",
    "Sepertinya saya keliru terkait definisi tarif otomatis. Saya sudah mengganti dengan definisi yang baru pada poin 5 di atas. Saya juga telah memperbaiki terkait penggunaan dataframe saat menjelaskan point hipotesis sehingga hanya dibutuhkan 1 dataframe (pivot_table) saja.\n",
    "</div>"
   ]
  },
  {
   "cell_type": "markdown",
   "metadata": {},
   "source": [
    "# Kesimpulan Umum \n",
    "\n",
    "Berikut adalah kesimpulan akhir yang dapat diambil dari keseluruhan proyek ini mulai dari tahap preparasi data hingga menjawab hipotesis:\n",
    "- Data preparasi/data wrangling merupakan tahapan yang paling krusial dan penting bagi seorang data analyst/scientist. Selain merapikan data, proses data preparasi merupakan tahapan untuk kita memahami makna dari setiap data. Tujuan memahami data tersebut yaitu untuk mengetahui dan mengatur strategi apa yang akan dilakukan baik untuk proses preparasi itu sendiri maupun proses analisis kedepannya.\n",
    "- Data preparasi terdiri dari beberapa langkah yaitu pemanggilan data, memahami makna dari setiap kolom, mengatasi nilai yang hilang, mengatasi duplikat, mengatasi input data yang dirasa janggal/aneh.\n",
    "- Data yang hilang akan mengganggu proses analisis, terutama jika jumlahnya diatas 50% dari total data. Data yang hilang dapat diatasi dengan 3 cara yaitu dihapus, diganti dengan nilai yang merepresentasikan (mean/median/faktor yang mempengaruhi), maupun diisi dengan \"unknown\" apabila data bersidat deskriptif.\n",
    "- Menggunakan mean/median tergantung dari distribusi data pada nilai tersebut, apakah terdapat outliner, apakah distribusi simteris/tidak simeteris.\n",
    "- Pengkategorian juga sering kali dilakukan dalam proses preanalisis data, contohnya yaitu untuk mempermudah analisa data yang sangat bervariatif. Seperti data numerik (gaji, suhu, lama bekerja, dll), maupun deksriptif (tujuan peminjaman). Dengan adanya pengkategorian ini maka data yang dianalisis akan menjadi lebih sederhana sehingga memudahkan dalam pengambilan kesimpulan.\n",
    "- Pada project ini, menguji hipotesis masih dilakukan secara sederhana yaitu dengan membandingkan nilai tarif otomatis baik dengan tabel maupun gambar. Sehingga pengambilan keputusan masih cukup dangkal. Untuk selanjutnya bisa digunakan uji tes hipotesis dengan ilmu statistika. \n",
    "\n",
    "Pertanyaan:\n",
    "- Saya masih bingung, tujuan dictionary pada poin 3 untuk apa. Jadi analisa pada poin tersebut saya menggunakan metode yang tidak memerlukan pembuatan dictionary.\n",
    "- Masih bingung untuk menentukan faktor yang mempengaruhi nilai hilang disuatu kolom. Selama pengerjaan ini, saya hanya memilih faktor dengan nilai distribusi yang variatif ada juga yang berdasarkan feeling. Seperti days_employed saya memilih berdasarkan logika bahwa pengalaman akan berbanding lurus denga usia.\n"
   ]
  },
  {
   "cell_type": "markdown",
   "metadata": {},
   "source": [
    "<div class=\"alert alert-success\">\n",
    "<b>Reviewer's comment v1</b> <a class=\"tocSkip\"></a>\n",
    "\n",
    "Secara overall ini adalah hasil yang sangat bagus bahkan terdapat visualisasi di setiap langkahnya yang masih belum menjadi cakupan di proyek ini. Benar terkait dictionary hanya sebagai highlight terkait kolom-kolom yang ada karena sudah berupa `id` dan `nilai sebenarnya`. Feeling yang Azzam sebutkan disini sudah didukung dari data yaitu melalui beberapa visualisasi, namun terkait ini akan lebih lanjut dibahas di tahap selanjutnya. Mungkin kedepanya bisa dieksplor terkait keterkaitan `age_group`, `education`, `income_type` terkait `total_income` dan `days_employed`.\n",
    "</div>"
   ]
  },
  {
   "cell_type": "markdown",
   "metadata": {},
   "source": [
    "<font color = 'Maroon' size = 3> <i>Terima kasih! </i></font>"
   ]
  }
 ],
 "metadata": {
  "ExecuteTimeLog": [
   {
    "duration": 2741,
    "start_time": "2021-10-21T01:08:49.480Z"
   },
   {
    "duration": 52,
    "start_time": "2021-10-21T01:08:53.315Z"
   },
   {
    "duration": 49,
    "start_time": "2021-10-21T01:08:57.432Z"
   },
   {
    "duration": 70,
    "start_time": "2021-10-21T01:09:07.706Z"
   },
   {
    "duration": 1045,
    "start_time": "2022-08-30T05:29:42.385Z"
   },
   {
    "duration": 87,
    "start_time": "2022-08-30T05:29:48.226Z"
   },
   {
    "duration": 41,
    "start_time": "2022-08-30T05:31:13.002Z"
   },
   {
    "duration": 12,
    "start_time": "2022-08-30T05:31:23.537Z"
   },
   {
    "duration": 2,
    "start_time": "2022-08-30T05:32:07.196Z"
   },
   {
    "duration": 11,
    "start_time": "2022-08-30T05:32:22.483Z"
   },
   {
    "duration": 12,
    "start_time": "2022-08-30T05:42:36.002Z"
   },
   {
    "duration": 13,
    "start_time": "2022-08-30T05:43:00.512Z"
   },
   {
    "duration": 44,
    "start_time": "2022-08-30T05:47:07.693Z"
   },
   {
    "duration": 12,
    "start_time": "2022-08-30T05:49:32.572Z"
   },
   {
    "duration": 12,
    "start_time": "2022-08-30T05:50:59.590Z"
   },
   {
    "duration": 9,
    "start_time": "2022-08-30T05:51:08.483Z"
   },
   {
    "duration": 11,
    "start_time": "2022-08-30T05:51:28.258Z"
   },
   {
    "duration": 64,
    "start_time": "2022-08-30T05:51:32.414Z"
   },
   {
    "duration": 12,
    "start_time": "2022-08-30T05:51:35.981Z"
   },
   {
    "duration": 6,
    "start_time": "2022-08-30T05:52:19.647Z"
   },
   {
    "duration": 5,
    "start_time": "2022-08-30T05:52:26.559Z"
   },
   {
    "duration": 7,
    "start_time": "2022-08-30T05:52:34.036Z"
   },
   {
    "duration": 6,
    "start_time": "2022-08-30T05:52:58.999Z"
   },
   {
    "duration": 8,
    "start_time": "2022-08-30T05:53:25.446Z"
   },
   {
    "duration": 52,
    "start_time": "2022-08-30T05:53:31.995Z"
   },
   {
    "duration": 7,
    "start_time": "2022-08-30T05:53:35.324Z"
   },
   {
    "duration": 14,
    "start_time": "2022-08-30T05:54:09.298Z"
   },
   {
    "duration": 13,
    "start_time": "2022-08-30T05:54:43.786Z"
   },
   {
    "duration": 6,
    "start_time": "2022-08-30T05:55:17.196Z"
   },
   {
    "duration": 46,
    "start_time": "2022-08-30T05:56:09.107Z"
   },
   {
    "duration": 5,
    "start_time": "2022-08-30T05:56:13.617Z"
   },
   {
    "duration": 6,
    "start_time": "2022-08-30T05:56:18.998Z"
   },
   {
    "duration": 5,
    "start_time": "2022-08-30T05:56:50.997Z"
   },
   {
    "duration": 60,
    "start_time": "2022-08-30T05:58:11.044Z"
   },
   {
    "duration": 51,
    "start_time": "2022-08-30T05:58:14.215Z"
   },
   {
    "duration": 8,
    "start_time": "2022-08-30T05:58:18.097Z"
   },
   {
    "duration": 83,
    "start_time": "2022-08-30T05:59:00.052Z"
   },
   {
    "duration": 8,
    "start_time": "2022-08-30T05:59:06.407Z"
   },
   {
    "duration": 19,
    "start_time": "2022-08-30T06:00:18.011Z"
   },
   {
    "duration": 20,
    "start_time": "2022-08-30T06:00:33.927Z"
   },
   {
    "duration": 13,
    "start_time": "2022-08-30T06:01:14.435Z"
   },
   {
    "duration": 13,
    "start_time": "2022-08-30T06:01:22.597Z"
   },
   {
    "duration": 20,
    "start_time": "2022-08-30T06:06:34.922Z"
   },
   {
    "duration": 5,
    "start_time": "2022-08-30T06:07:16.862Z"
   },
   {
    "duration": 23,
    "start_time": "2022-08-30T06:07:39.177Z"
   },
   {
    "duration": 7,
    "start_time": "2022-08-30T06:08:26.872Z"
   },
   {
    "duration": 14,
    "start_time": "2022-08-30T06:08:34.040Z"
   },
   {
    "duration": 7,
    "start_time": "2022-08-30T06:10:20.696Z"
   },
   {
    "duration": 23,
    "start_time": "2022-08-30T06:10:36.879Z"
   },
   {
    "duration": 13,
    "start_time": "2022-08-30T06:10:51.611Z"
   },
   {
    "duration": 15,
    "start_time": "2022-08-30T06:12:48.256Z"
   },
   {
    "duration": 27,
    "start_time": "2022-08-30T06:13:34.636Z"
   },
   {
    "duration": 13,
    "start_time": "2022-08-30T06:14:41.219Z"
   },
   {
    "duration": 12,
    "start_time": "2022-08-30T06:15:12.447Z"
   },
   {
    "duration": 8,
    "start_time": "2022-08-30T06:15:23.196Z"
   },
   {
    "duration": 8,
    "start_time": "2022-08-30T06:15:30.905Z"
   },
   {
    "duration": 9,
    "start_time": "2022-08-30T06:15:37.699Z"
   },
   {
    "duration": 11,
    "start_time": "2022-08-30T06:16:14.950Z"
   },
   {
    "duration": 8,
    "start_time": "2022-08-30T06:16:24.782Z"
   },
   {
    "duration": 6,
    "start_time": "2022-08-30T06:17:21.192Z"
   },
   {
    "duration": 18,
    "start_time": "2022-08-30T06:17:26.949Z"
   },
   {
    "duration": 10,
    "start_time": "2022-08-30T06:18:17.580Z"
   },
   {
    "duration": 9,
    "start_time": "2022-08-30T06:19:15.303Z"
   },
   {
    "duration": 1404,
    "start_time": "2022-08-30T06:19:23.357Z"
   },
   {
    "duration": 1517,
    "start_time": "2022-08-30T06:19:35.340Z"
   },
   {
    "duration": 75,
    "start_time": "2022-08-30T06:25:22.800Z"
   },
   {
    "duration": 13,
    "start_time": "2022-08-30T06:25:34.144Z"
   },
   {
    "duration": 111,
    "start_time": "2022-08-30T06:25:42.429Z"
   },
   {
    "duration": 11,
    "start_time": "2022-08-30T06:25:59.095Z"
   },
   {
    "duration": 13,
    "start_time": "2022-08-30T06:26:06.876Z"
   },
   {
    "duration": 13,
    "start_time": "2022-08-30T06:26:13.301Z"
   },
   {
    "duration": 12,
    "start_time": "2022-08-30T06:26:26.683Z"
   },
   {
    "duration": 12,
    "start_time": "2022-08-30T06:26:41.202Z"
   },
   {
    "duration": 14,
    "start_time": "2022-08-30T06:26:52.888Z"
   },
   {
    "duration": 11,
    "start_time": "2022-08-30T06:26:58.967Z"
   },
   {
    "duration": 1350,
    "start_time": "2022-08-30T06:27:16.551Z"
   },
   {
    "duration": 1403,
    "start_time": "2022-08-30T06:27:40.606Z"
   },
   {
    "duration": 172,
    "start_time": "2022-08-30T06:27:54.594Z"
   },
   {
    "duration": 1448,
    "start_time": "2022-08-30T06:28:00.075Z"
   },
   {
    "duration": 1435,
    "start_time": "2022-08-30T06:28:06.112Z"
   },
   {
    "duration": 40,
    "start_time": "2022-08-30T06:28:57.582Z"
   },
   {
    "duration": 667,
    "start_time": "2022-08-30T06:31:54.185Z"
   },
   {
    "duration": 49,
    "start_time": "2022-08-30T06:40:37.326Z"
   },
   {
    "duration": 5,
    "start_time": "2022-08-30T06:40:48.837Z"
   },
   {
    "duration": 6,
    "start_time": "2022-08-30T06:41:09.622Z"
   },
   {
    "duration": 11,
    "start_time": "2022-08-30T06:41:19.335Z"
   },
   {
    "duration": 9,
    "start_time": "2022-08-30T06:41:25.352Z"
   },
   {
    "duration": 6,
    "start_time": "2022-08-30T06:41:29.913Z"
   },
   {
    "duration": 7,
    "start_time": "2022-08-30T06:41:53.489Z"
   },
   {
    "duration": 4,
    "start_time": "2022-08-30T06:45:55.311Z"
   },
   {
    "duration": 9,
    "start_time": "2022-08-30T06:46:39.030Z"
   },
   {
    "duration": 7,
    "start_time": "2022-08-30T06:46:56.788Z"
   },
   {
    "duration": 6,
    "start_time": "2022-08-30T06:47:02.041Z"
   },
   {
    "duration": 8,
    "start_time": "2022-08-30T06:47:39.608Z"
   },
   {
    "duration": 8,
    "start_time": "2022-08-30T06:48:21.426Z"
   },
   {
    "duration": 12,
    "start_time": "2022-08-30T06:48:31.260Z"
   },
   {
    "duration": 9,
    "start_time": "2022-08-30T06:48:45.383Z"
   },
   {
    "duration": 5,
    "start_time": "2022-08-30T06:48:47.719Z"
   },
   {
    "duration": 5,
    "start_time": "2022-08-30T06:49:19.075Z"
   },
   {
    "duration": 6,
    "start_time": "2022-08-30T06:51:07.046Z"
   },
   {
    "duration": 6,
    "start_time": "2022-08-30T06:51:26.187Z"
   },
   {
    "duration": 84,
    "start_time": "2022-08-30T06:51:32.769Z"
   },
   {
    "duration": 6,
    "start_time": "2022-08-30T06:51:37.145Z"
   },
   {
    "duration": 43,
    "start_time": "2022-08-30T06:51:44.759Z"
   },
   {
    "duration": 6,
    "start_time": "2022-08-30T06:51:57.292Z"
   },
   {
    "duration": 5,
    "start_time": "2022-08-30T06:52:20.953Z"
   },
   {
    "duration": 5,
    "start_time": "2022-08-30T06:52:24.807Z"
   },
   {
    "duration": 4,
    "start_time": "2022-08-30T06:55:33.259Z"
   },
   {
    "duration": 3,
    "start_time": "2022-08-30T06:55:45.687Z"
   },
   {
    "duration": 4,
    "start_time": "2022-08-30T06:55:50.422Z"
   },
   {
    "duration": 3,
    "start_time": "2022-08-30T06:56:11.808Z"
   },
   {
    "duration": 5,
    "start_time": "2022-08-30T06:56:54.632Z"
   },
   {
    "duration": 5,
    "start_time": "2022-08-30T06:57:20.357Z"
   },
   {
    "duration": 7,
    "start_time": "2022-08-30T07:28:03.545Z"
   },
   {
    "duration": 9,
    "start_time": "2022-08-30T07:28:44.604Z"
   },
   {
    "duration": 32,
    "start_time": "2022-08-30T07:28:48.515Z"
   },
   {
    "duration": 197,
    "start_time": "2022-08-30T07:29:49.666Z"
   },
   {
    "duration": 102,
    "start_time": "2022-08-30T07:30:16.903Z"
   },
   {
    "duration": 107,
    "start_time": "2022-08-30T07:30:43.252Z"
   },
   {
    "duration": 23,
    "start_time": "2022-08-30T07:30:57.496Z"
   },
   {
    "duration": 87,
    "start_time": "2022-08-30T07:31:19.520Z"
   },
   {
    "duration": 110,
    "start_time": "2022-08-30T07:31:33.659Z"
   },
   {
    "duration": 118,
    "start_time": "2022-08-30T07:31:41.773Z"
   },
   {
    "duration": 28,
    "start_time": "2022-08-30T07:32:04.289Z"
   },
   {
    "duration": 206,
    "start_time": "2022-08-30T07:32:09.959Z"
   },
   {
    "duration": 203,
    "start_time": "2022-08-30T07:32:20.717Z"
   },
   {
    "duration": 140,
    "start_time": "2022-08-30T07:32:22.996Z"
   },
   {
    "duration": 33,
    "start_time": "2022-08-30T07:32:35.267Z"
   },
   {
    "duration": 24,
    "start_time": "2022-08-30T07:33:31.042Z"
   },
   {
    "duration": 27,
    "start_time": "2022-08-30T07:33:42.055Z"
   },
   {
    "duration": 28,
    "start_time": "2022-08-30T07:33:48.369Z"
   },
   {
    "duration": 3,
    "start_time": "2022-08-30T07:36:47.081Z"
   },
   {
    "duration": 5,
    "start_time": "2022-08-30T07:36:56.401Z"
   },
   {
    "duration": 28,
    "start_time": "2022-08-30T07:37:04.281Z"
   },
   {
    "duration": 51,
    "start_time": "2022-08-30T09:56:16.518Z"
   },
   {
    "duration": 1175,
    "start_time": "2022-08-30T09:56:35.749Z"
   },
   {
    "duration": 22,
    "start_time": "2022-08-30T09:56:36.927Z"
   },
   {
    "duration": 10,
    "start_time": "2022-08-30T09:56:36.951Z"
   },
   {
    "duration": 79,
    "start_time": "2022-08-30T09:56:36.963Z"
   },
   {
    "duration": 9,
    "start_time": "2022-08-30T09:56:37.046Z"
   },
   {
    "duration": 29,
    "start_time": "2022-08-30T09:56:37.057Z"
   },
   {
    "duration": 22,
    "start_time": "2022-08-30T09:56:37.088Z"
   },
   {
    "duration": 766,
    "start_time": "2022-08-30T09:56:37.112Z"
   },
   {
    "duration": 2,
    "start_time": "2022-08-30T09:56:37.880Z"
   },
   {
    "duration": 13,
    "start_time": "2022-08-30T09:56:37.884Z"
   },
   {
    "duration": 7,
    "start_time": "2022-08-30T09:56:37.899Z"
   },
   {
    "duration": 5,
    "start_time": "2022-08-30T09:56:37.907Z"
   },
   {
    "duration": 21,
    "start_time": "2022-08-30T09:56:37.913Z"
   },
   {
    "duration": 6,
    "start_time": "2022-08-30T09:56:37.938Z"
   },
   {
    "duration": 9,
    "start_time": "2022-08-30T09:56:37.946Z"
   },
   {
    "duration": 7,
    "start_time": "2022-08-30T09:56:37.956Z"
   },
   {
    "duration": 4,
    "start_time": "2022-08-30T09:56:37.965Z"
   },
   {
    "duration": 53,
    "start_time": "2022-08-30T09:56:37.971Z"
   },
   {
    "duration": 3,
    "start_time": "2022-08-30T09:56:38.026Z"
   },
   {
    "duration": 36,
    "start_time": "2022-08-30T09:56:38.030Z"
   },
   {
    "duration": 2,
    "start_time": "2022-08-30T09:56:38.069Z"
   },
   {
    "duration": 6,
    "start_time": "2022-08-30T09:56:38.073Z"
   },
   {
    "duration": 8,
    "start_time": "2022-08-30T09:56:38.081Z"
   },
   {
    "duration": 3,
    "start_time": "2022-08-30T09:56:38.106Z"
   },
   {
    "duration": 20,
    "start_time": "2022-08-30T09:56:38.110Z"
   },
   {
    "duration": 14,
    "start_time": "2022-08-30T09:56:38.132Z"
   },
   {
    "duration": 8,
    "start_time": "2022-08-30T09:56:38.148Z"
   },
   {
    "duration": 14,
    "start_time": "2022-08-30T09:56:38.157Z"
   },
   {
    "duration": 6,
    "start_time": "2022-08-30T09:56:38.172Z"
   },
   {
    "duration": 6,
    "start_time": "2022-08-30T09:56:38.180Z"
   },
   {
    "duration": 10,
    "start_time": "2022-08-30T09:56:38.187Z"
   },
   {
    "duration": 7,
    "start_time": "2022-08-30T09:56:38.198Z"
   },
   {
    "duration": 9,
    "start_time": "2022-08-30T09:56:38.207Z"
   },
   {
    "duration": 8,
    "start_time": "2022-08-30T09:56:38.218Z"
   },
   {
    "duration": 11,
    "start_time": "2022-08-30T09:56:38.228Z"
   },
   {
    "duration": 4,
    "start_time": "2022-08-30T09:56:38.241Z"
   },
   {
    "duration": 12,
    "start_time": "2022-08-30T09:56:38.246Z"
   },
   {
    "duration": 5,
    "start_time": "2022-08-30T09:56:38.260Z"
   },
   {
    "duration": 6,
    "start_time": "2022-08-30T09:56:38.267Z"
   },
   {
    "duration": 6,
    "start_time": "2022-08-30T09:56:38.275Z"
   },
   {
    "duration": 3,
    "start_time": "2022-08-30T09:56:38.286Z"
   },
   {
    "duration": 12,
    "start_time": "2022-08-30T09:56:38.291Z"
   },
   {
    "duration": 7,
    "start_time": "2022-08-30T09:56:38.305Z"
   },
   {
    "duration": 9,
    "start_time": "2022-08-30T09:56:38.314Z"
   },
   {
    "duration": 7,
    "start_time": "2022-08-30T09:56:38.325Z"
   },
   {
    "duration": 9,
    "start_time": "2022-08-30T09:56:38.333Z"
   },
   {
    "duration": 5,
    "start_time": "2022-08-30T09:56:38.344Z"
   },
   {
    "duration": 5,
    "start_time": "2022-08-30T09:56:38.350Z"
   },
   {
    "duration": 6,
    "start_time": "2022-08-30T09:56:38.357Z"
   },
   {
    "duration": 5,
    "start_time": "2022-08-30T09:56:38.364Z"
   },
   {
    "duration": 5,
    "start_time": "2022-08-30T09:56:38.371Z"
   },
   {
    "duration": 7,
    "start_time": "2022-08-30T09:56:38.378Z"
   },
   {
    "duration": 6,
    "start_time": "2022-08-30T09:56:38.386Z"
   },
   {
    "duration": 4,
    "start_time": "2022-08-30T09:56:38.393Z"
   },
   {
    "duration": 7,
    "start_time": "2022-08-30T09:56:38.399Z"
   },
   {
    "duration": 5,
    "start_time": "2022-08-30T09:56:38.408Z"
   },
   {
    "duration": 4,
    "start_time": "2022-08-30T09:56:38.415Z"
   },
   {
    "duration": 9,
    "start_time": "2022-08-30T09:56:38.421Z"
   },
   {
    "duration": 8,
    "start_time": "2022-08-30T09:56:38.432Z"
   },
   {
    "duration": 8,
    "start_time": "2022-08-30T09:56:38.442Z"
   },
   {
    "duration": 6,
    "start_time": "2022-08-30T09:56:38.452Z"
   },
   {
    "duration": 4,
    "start_time": "2022-08-30T09:56:38.460Z"
   },
   {
    "duration": 7,
    "start_time": "2022-08-30T09:56:38.466Z"
   },
   {
    "duration": 6,
    "start_time": "2022-08-30T09:56:38.474Z"
   },
   {
    "duration": 5,
    "start_time": "2022-08-30T09:56:38.481Z"
   },
   {
    "duration": 20,
    "start_time": "2022-08-30T09:56:38.488Z"
   },
   {
    "duration": 9,
    "start_time": "2022-08-30T09:56:38.511Z"
   },
   {
    "duration": 4,
    "start_time": "2022-08-30T09:56:38.523Z"
   },
   {
    "duration": 8,
    "start_time": "2022-08-30T09:56:38.530Z"
   },
   {
    "duration": 4,
    "start_time": "2022-08-30T09:56:38.540Z"
   },
   {
    "duration": 5,
    "start_time": "2022-08-30T09:56:38.546Z"
   },
   {
    "duration": 4,
    "start_time": "2022-08-30T09:57:56.229Z"
   },
   {
    "duration": 6,
    "start_time": "2022-08-30T09:58:34.416Z"
   },
   {
    "duration": 6,
    "start_time": "2022-08-30T09:58:57.010Z"
   },
   {
    "duration": 76,
    "start_time": "2022-08-30T09:59:07.110Z"
   },
   {
    "duration": 7,
    "start_time": "2022-08-30T09:59:09.750Z"
   },
   {
    "duration": 5,
    "start_time": "2022-08-30T09:59:20.121Z"
   },
   {
    "duration": 8,
    "start_time": "2022-08-30T09:59:26.702Z"
   },
   {
    "duration": 7,
    "start_time": "2022-08-30T09:59:40.929Z"
   },
   {
    "duration": 66,
    "start_time": "2022-08-30T09:59:45.528Z"
   },
   {
    "duration": 13,
    "start_time": "2022-08-30T09:59:48.381Z"
   },
   {
    "duration": 15,
    "start_time": "2022-08-30T10:00:11.299Z"
   },
   {
    "duration": 4,
    "start_time": "2022-08-30T10:03:09.856Z"
   },
   {
    "duration": 5,
    "start_time": "2022-08-30T10:03:13.186Z"
   },
   {
    "duration": 5,
    "start_time": "2022-08-30T10:04:03.911Z"
   },
   {
    "duration": 4,
    "start_time": "2022-08-30T10:04:35.329Z"
   },
   {
    "duration": 4,
    "start_time": "2022-08-30T10:04:54.546Z"
   },
   {
    "duration": 8,
    "start_time": "2022-08-30T10:05:14.554Z"
   },
   {
    "duration": 7,
    "start_time": "2022-08-30T10:05:23.505Z"
   },
   {
    "duration": 5,
    "start_time": "2022-08-30T10:05:26.707Z"
   },
   {
    "duration": 52,
    "start_time": "2022-08-30T10:06:50.889Z"
   },
   {
    "duration": 689,
    "start_time": "2022-08-30T10:07:03.920Z"
   },
   {
    "duration": 12,
    "start_time": "2022-08-30T10:07:04.611Z"
   },
   {
    "duration": 26,
    "start_time": "2022-08-30T10:07:04.624Z"
   },
   {
    "duration": 61,
    "start_time": "2022-08-30T10:07:04.652Z"
   },
   {
    "duration": 6,
    "start_time": "2022-08-30T10:07:04.714Z"
   },
   {
    "duration": 27,
    "start_time": "2022-08-30T10:07:04.722Z"
   },
   {
    "duration": 22,
    "start_time": "2022-08-30T10:07:04.751Z"
   },
   {
    "duration": 720,
    "start_time": "2022-08-30T10:07:04.775Z"
   },
   {
    "duration": 9,
    "start_time": "2022-08-30T10:07:05.497Z"
   },
   {
    "duration": 11,
    "start_time": "2022-08-30T10:07:05.510Z"
   },
   {
    "duration": 12,
    "start_time": "2022-08-30T10:07:05.522Z"
   },
   {
    "duration": 25,
    "start_time": "2022-08-30T10:07:05.536Z"
   },
   {
    "duration": 39,
    "start_time": "2022-08-30T10:07:05.563Z"
   },
   {
    "duration": 23,
    "start_time": "2022-08-30T10:07:05.604Z"
   },
   {
    "duration": 21,
    "start_time": "2022-08-30T10:07:05.629Z"
   },
   {
    "duration": 9,
    "start_time": "2022-08-30T10:07:05.652Z"
   },
   {
    "duration": 17,
    "start_time": "2022-08-30T10:07:05.663Z"
   },
   {
    "duration": 35,
    "start_time": "2022-08-30T10:07:05.682Z"
   },
   {
    "duration": 5,
    "start_time": "2022-08-30T10:07:05.719Z"
   },
   {
    "duration": 38,
    "start_time": "2022-08-30T10:07:05.725Z"
   },
   {
    "duration": 13,
    "start_time": "2022-08-30T10:07:05.764Z"
   },
   {
    "duration": 24,
    "start_time": "2022-08-30T10:07:05.779Z"
   },
   {
    "duration": 18,
    "start_time": "2022-08-30T10:07:05.804Z"
   },
   {
    "duration": 18,
    "start_time": "2022-08-30T10:07:05.824Z"
   },
   {
    "duration": 11,
    "start_time": "2022-08-30T10:07:05.844Z"
   },
   {
    "duration": 27,
    "start_time": "2022-08-30T10:07:05.856Z"
   },
   {
    "duration": 32,
    "start_time": "2022-08-30T10:07:05.884Z"
   },
   {
    "duration": 13,
    "start_time": "2022-08-30T10:07:05.922Z"
   },
   {
    "duration": 11,
    "start_time": "2022-08-30T10:07:05.937Z"
   },
   {
    "duration": 6,
    "start_time": "2022-08-30T10:07:05.950Z"
   },
   {
    "duration": 16,
    "start_time": "2022-08-30T10:07:05.958Z"
   },
   {
    "duration": 71,
    "start_time": "2022-08-30T10:07:05.976Z"
   },
   {
    "duration": 47,
    "start_time": "2022-08-30T10:07:06.050Z"
   },
   {
    "duration": 22,
    "start_time": "2022-08-30T10:07:06.099Z"
   },
   {
    "duration": 20,
    "start_time": "2022-08-30T10:07:06.123Z"
   },
   {
    "duration": 31,
    "start_time": "2022-08-30T10:07:06.145Z"
   },
   {
    "duration": 22,
    "start_time": "2022-08-30T10:07:06.178Z"
   },
   {
    "duration": 11,
    "start_time": "2022-08-30T10:07:06.202Z"
   },
   {
    "duration": 18,
    "start_time": "2022-08-30T10:07:06.215Z"
   },
   {
    "duration": 7,
    "start_time": "2022-08-30T10:07:06.235Z"
   },
   {
    "duration": 15,
    "start_time": "2022-08-30T10:07:06.245Z"
   },
   {
    "duration": 8,
    "start_time": "2022-08-30T10:07:06.262Z"
   },
   {
    "duration": 9,
    "start_time": "2022-08-30T10:07:06.272Z"
   },
   {
    "duration": 5,
    "start_time": "2022-08-30T10:07:06.283Z"
   },
   {
    "duration": 14,
    "start_time": "2022-08-30T10:07:06.289Z"
   },
   {
    "duration": 19,
    "start_time": "2022-08-30T10:07:06.304Z"
   },
   {
    "duration": 11,
    "start_time": "2022-08-30T10:07:06.325Z"
   },
   {
    "duration": 10,
    "start_time": "2022-08-30T10:07:06.338Z"
   },
   {
    "duration": 16,
    "start_time": "2022-08-30T10:07:06.349Z"
   },
   {
    "duration": 8,
    "start_time": "2022-08-30T10:07:06.366Z"
   },
   {
    "duration": 13,
    "start_time": "2022-08-30T10:07:06.376Z"
   },
   {
    "duration": 18,
    "start_time": "2022-08-30T10:07:06.391Z"
   },
   {
    "duration": 11,
    "start_time": "2022-08-30T10:07:06.410Z"
   },
   {
    "duration": 16,
    "start_time": "2022-08-30T10:07:06.423Z"
   },
   {
    "duration": 16,
    "start_time": "2022-08-30T10:07:06.441Z"
   },
   {
    "duration": 22,
    "start_time": "2022-08-30T10:07:06.458Z"
   },
   {
    "duration": 12,
    "start_time": "2022-08-30T10:07:06.482Z"
   },
   {
    "duration": 17,
    "start_time": "2022-08-30T10:07:06.495Z"
   },
   {
    "duration": 7,
    "start_time": "2022-08-30T10:07:06.514Z"
   },
   {
    "duration": 10,
    "start_time": "2022-08-30T10:07:06.523Z"
   },
   {
    "duration": 20,
    "start_time": "2022-08-30T10:07:06.535Z"
   },
   {
    "duration": 14,
    "start_time": "2022-08-30T10:07:06.557Z"
   },
   {
    "duration": 15,
    "start_time": "2022-08-30T10:07:06.573Z"
   },
   {
    "duration": 30,
    "start_time": "2022-08-30T10:07:06.589Z"
   },
   {
    "duration": 23,
    "start_time": "2022-08-30T10:07:06.621Z"
   },
   {
    "duration": 6,
    "start_time": "2022-08-30T10:07:06.646Z"
   },
   {
    "duration": 15,
    "start_time": "2022-08-30T10:07:06.654Z"
   },
   {
    "duration": 12,
    "start_time": "2022-08-30T10:07:06.671Z"
   },
   {
    "duration": 15,
    "start_time": "2022-08-30T10:07:06.685Z"
   },
   {
    "duration": 15,
    "start_time": "2022-08-30T10:07:06.701Z"
   },
   {
    "duration": 10,
    "start_time": "2022-08-30T10:07:06.717Z"
   },
   {
    "duration": 6,
    "start_time": "2022-08-30T10:07:40.772Z"
   },
   {
    "duration": 6,
    "start_time": "2022-08-30T10:08:03.168Z"
   },
   {
    "duration": 30,
    "start_time": "2022-08-30T10:08:10.745Z"
   },
   {
    "duration": 33,
    "start_time": "2022-08-30T10:11:09.428Z"
   },
   {
    "duration": 1206,
    "start_time": "2022-08-30T10:11:14.457Z"
   },
   {
    "duration": 5,
    "start_time": "2022-08-30T10:11:25.493Z"
   },
   {
    "duration": 6,
    "start_time": "2022-08-30T10:14:31.448Z"
   },
   {
    "duration": 1382,
    "start_time": "2022-08-30T10:15:43.279Z"
   },
   {
    "duration": 99,
    "start_time": "2022-08-30T10:16:37.979Z"
   },
   {
    "duration": 12,
    "start_time": "2022-08-30T10:16:38.080Z"
   },
   {
    "duration": 14,
    "start_time": "2022-08-30T10:16:38.093Z"
   },
   {
    "duration": 48,
    "start_time": "2022-08-30T10:16:38.109Z"
   },
   {
    "duration": 7,
    "start_time": "2022-08-30T10:16:38.159Z"
   },
   {
    "duration": 22,
    "start_time": "2022-08-30T10:16:38.167Z"
   },
   {
    "duration": 7,
    "start_time": "2022-08-30T10:16:38.205Z"
   },
   {
    "duration": 779,
    "start_time": "2022-08-30T10:16:38.213Z"
   },
   {
    "duration": 2,
    "start_time": "2022-08-30T10:16:38.994Z"
   },
   {
    "duration": 2,
    "start_time": "2022-08-30T10:16:39.005Z"
   },
   {
    "duration": 4,
    "start_time": "2022-08-30T10:16:39.009Z"
   },
   {
    "duration": 7,
    "start_time": "2022-08-30T10:16:39.015Z"
   },
   {
    "duration": 11,
    "start_time": "2022-08-30T10:16:39.024Z"
   },
   {
    "duration": 8,
    "start_time": "2022-08-30T10:16:39.037Z"
   },
   {
    "duration": 5,
    "start_time": "2022-08-30T10:16:39.047Z"
   },
   {
    "duration": 6,
    "start_time": "2022-08-30T10:16:39.054Z"
   },
   {
    "duration": 5,
    "start_time": "2022-08-30T10:16:39.062Z"
   },
   {
    "duration": 59,
    "start_time": "2022-08-30T10:16:39.069Z"
   },
   {
    "duration": 4,
    "start_time": "2022-08-30T10:16:39.130Z"
   },
   {
    "duration": 32,
    "start_time": "2022-08-30T10:16:39.136Z"
   },
   {
    "duration": 6,
    "start_time": "2022-08-30T10:16:39.170Z"
   },
   {
    "duration": 31,
    "start_time": "2022-08-30T10:16:39.178Z"
   },
   {
    "duration": 9,
    "start_time": "2022-08-30T10:16:39.210Z"
   },
   {
    "duration": 24,
    "start_time": "2022-08-30T10:16:39.221Z"
   },
   {
    "duration": 4,
    "start_time": "2022-08-30T10:16:39.247Z"
   },
   {
    "duration": 6,
    "start_time": "2022-08-30T10:16:39.252Z"
   },
   {
    "duration": 7,
    "start_time": "2022-08-30T10:16:39.259Z"
   },
   {
    "duration": 7,
    "start_time": "2022-08-30T10:16:39.269Z"
   },
   {
    "duration": 4,
    "start_time": "2022-08-30T10:16:39.278Z"
   },
   {
    "duration": 5,
    "start_time": "2022-08-30T10:16:39.284Z"
   },
   {
    "duration": 7,
    "start_time": "2022-08-30T10:16:39.291Z"
   },
   {
    "duration": 5,
    "start_time": "2022-08-30T10:16:39.300Z"
   },
   {
    "duration": 4,
    "start_time": "2022-08-30T10:16:39.307Z"
   },
   {
    "duration": 6,
    "start_time": "2022-08-30T10:16:39.312Z"
   },
   {
    "duration": 13,
    "start_time": "2022-08-30T10:16:39.319Z"
   },
   {
    "duration": 4,
    "start_time": "2022-08-30T10:16:39.334Z"
   },
   {
    "duration": 5,
    "start_time": "2022-08-30T10:16:39.340Z"
   },
   {
    "duration": 19,
    "start_time": "2022-08-30T10:16:39.347Z"
   },
   {
    "duration": 6,
    "start_time": "2022-08-30T10:16:39.367Z"
   },
   {
    "duration": 5,
    "start_time": "2022-08-30T10:16:39.374Z"
   },
   {
    "duration": 7,
    "start_time": "2022-08-30T10:16:39.380Z"
   },
   {
    "duration": 6,
    "start_time": "2022-08-30T10:16:39.388Z"
   },
   {
    "duration": 5,
    "start_time": "2022-08-30T10:16:39.395Z"
   },
   {
    "duration": 4,
    "start_time": "2022-08-30T10:16:39.402Z"
   },
   {
    "duration": 7,
    "start_time": "2022-08-30T10:16:39.408Z"
   },
   {
    "duration": 14,
    "start_time": "2022-08-30T10:16:39.417Z"
   },
   {
    "duration": 9,
    "start_time": "2022-08-30T10:16:39.433Z"
   },
   {
    "duration": 11,
    "start_time": "2022-08-30T10:16:39.443Z"
   },
   {
    "duration": 6,
    "start_time": "2022-08-30T10:16:39.456Z"
   },
   {
    "duration": 7,
    "start_time": "2022-08-30T10:16:39.463Z"
   },
   {
    "duration": 9,
    "start_time": "2022-08-30T10:16:39.471Z"
   },
   {
    "duration": 6,
    "start_time": "2022-08-30T10:16:39.481Z"
   },
   {
    "duration": 5,
    "start_time": "2022-08-30T10:16:39.488Z"
   },
   {
    "duration": 5,
    "start_time": "2022-08-30T10:16:39.494Z"
   },
   {
    "duration": 4,
    "start_time": "2022-08-30T10:16:39.500Z"
   },
   {
    "duration": 5,
    "start_time": "2022-08-30T10:16:39.505Z"
   },
   {
    "duration": 4,
    "start_time": "2022-08-30T10:16:39.511Z"
   },
   {
    "duration": 4,
    "start_time": "2022-08-30T10:16:39.517Z"
   },
   {
    "duration": 6,
    "start_time": "2022-08-30T10:16:39.523Z"
   },
   {
    "duration": 4,
    "start_time": "2022-08-30T10:16:39.531Z"
   },
   {
    "duration": 5,
    "start_time": "2022-08-30T10:16:39.536Z"
   },
   {
    "duration": 6,
    "start_time": "2022-08-30T10:16:39.543Z"
   },
   {
    "duration": 5,
    "start_time": "2022-08-30T10:16:39.550Z"
   },
   {
    "duration": 4,
    "start_time": "2022-08-30T10:16:39.556Z"
   },
   {
    "duration": 4,
    "start_time": "2022-08-30T10:16:39.561Z"
   },
   {
    "duration": 4,
    "start_time": "2022-08-30T10:16:39.566Z"
   },
   {
    "duration": 6,
    "start_time": "2022-08-30T10:16:39.571Z"
   },
   {
    "duration": 7,
    "start_time": "2022-08-30T10:16:39.578Z"
   },
   {
    "duration": 20,
    "start_time": "2022-08-30T10:16:39.586Z"
   },
   {
    "duration": 5,
    "start_time": "2022-08-30T10:16:39.608Z"
   },
   {
    "duration": 4,
    "start_time": "2022-08-30T10:16:39.614Z"
   },
   {
    "duration": 1540,
    "start_time": "2022-08-30T10:17:33.498Z"
   },
   {
    "duration": 4,
    "start_time": "2022-08-30T10:18:02.172Z"
   },
   {
    "duration": 7,
    "start_time": "2022-08-30T10:18:47.785Z"
   },
   {
    "duration": 6,
    "start_time": "2022-08-30T10:19:50.629Z"
   },
   {
    "duration": 4,
    "start_time": "2022-08-30T10:20:09.160Z"
   },
   {
    "duration": 7,
    "start_time": "2022-08-30T10:21:27.048Z"
   },
   {
    "duration": 7,
    "start_time": "2022-08-30T10:21:36.410Z"
   },
   {
    "duration": 6,
    "start_time": "2022-08-30T10:22:02.611Z"
   },
   {
    "duration": 5,
    "start_time": "2022-08-30T10:22:18.776Z"
   },
   {
    "duration": 92,
    "start_time": "2022-08-30T10:22:42.254Z"
   },
   {
    "duration": 6,
    "start_time": "2022-08-30T10:22:44.270Z"
   },
   {
    "duration": 10,
    "start_time": "2022-08-30T10:24:22.732Z"
   },
   {
    "duration": 17,
    "start_time": "2022-08-30T10:24:28.195Z"
   },
   {
    "duration": 14,
    "start_time": "2022-08-30T10:24:33.262Z"
   },
   {
    "duration": 17,
    "start_time": "2022-08-30T10:24:37.465Z"
   },
   {
    "duration": 29,
    "start_time": "2022-08-30T10:25:15.051Z"
   },
   {
    "duration": 23,
    "start_time": "2022-08-30T10:27:19.107Z"
   },
   {
    "duration": 21,
    "start_time": "2022-08-30T10:27:30.852Z"
   },
   {
    "duration": 27,
    "start_time": "2022-08-30T10:28:18.991Z"
   },
   {
    "duration": 29,
    "start_time": "2022-08-30T10:28:24.487Z"
   },
   {
    "duration": 26,
    "start_time": "2022-08-30T10:28:31.519Z"
   },
   {
    "duration": 25,
    "start_time": "2022-08-30T10:29:32.808Z"
   },
   {
    "duration": 27,
    "start_time": "2022-08-30T10:29:54.357Z"
   },
   {
    "duration": 41,
    "start_time": "2022-08-30T10:30:16.450Z"
   },
   {
    "duration": 34,
    "start_time": "2022-08-30T10:30:24.812Z"
   },
   {
    "duration": 17,
    "start_time": "2022-08-30T10:30:59.096Z"
   },
   {
    "duration": 16,
    "start_time": "2022-08-30T10:31:03.039Z"
   },
   {
    "duration": 36,
    "start_time": "2022-08-30T10:31:11.184Z"
   },
   {
    "duration": 18,
    "start_time": "2022-08-30T10:31:15.912Z"
   },
   {
    "duration": 17,
    "start_time": "2022-08-30T10:31:17.866Z"
   },
   {
    "duration": 46,
    "start_time": "2022-08-30T14:18:42.447Z"
   },
   {
    "duration": 980,
    "start_time": "2022-08-30T14:18:54.446Z"
   },
   {
    "duration": 16,
    "start_time": "2022-08-30T14:18:55.428Z"
   },
   {
    "duration": 10,
    "start_time": "2022-08-30T14:18:55.445Z"
   },
   {
    "duration": 58,
    "start_time": "2022-08-30T14:18:55.457Z"
   },
   {
    "duration": 7,
    "start_time": "2022-08-30T14:18:55.517Z"
   },
   {
    "duration": 34,
    "start_time": "2022-08-30T14:18:55.525Z"
   },
   {
    "duration": 5,
    "start_time": "2022-08-30T14:18:55.561Z"
   },
   {
    "duration": 811,
    "start_time": "2022-08-30T14:18:55.568Z"
   },
   {
    "duration": 3,
    "start_time": "2022-08-30T14:18:56.386Z"
   },
   {
    "duration": 10,
    "start_time": "2022-08-30T14:18:56.390Z"
   },
   {
    "duration": 12,
    "start_time": "2022-08-30T14:18:56.402Z"
   },
   {
    "duration": 19,
    "start_time": "2022-08-30T14:18:56.415Z"
   },
   {
    "duration": 18,
    "start_time": "2022-08-30T14:18:56.436Z"
   },
   {
    "duration": 11,
    "start_time": "2022-08-30T14:18:56.458Z"
   },
   {
    "duration": 8,
    "start_time": "2022-08-30T14:18:56.471Z"
   },
   {
    "duration": 13,
    "start_time": "2022-08-30T14:18:56.480Z"
   },
   {
    "duration": 55,
    "start_time": "2022-08-30T14:18:56.495Z"
   },
   {
    "duration": 38,
    "start_time": "2022-08-30T14:18:56.552Z"
   },
   {
    "duration": 3,
    "start_time": "2022-08-30T14:18:56.592Z"
   },
   {
    "duration": 31,
    "start_time": "2022-08-30T14:18:56.597Z"
   },
   {
    "duration": 6,
    "start_time": "2022-08-30T14:18:56.629Z"
   },
   {
    "duration": 13,
    "start_time": "2022-08-30T14:18:56.637Z"
   },
   {
    "duration": 7,
    "start_time": "2022-08-30T14:18:56.651Z"
   },
   {
    "duration": 28,
    "start_time": "2022-08-30T14:18:56.660Z"
   },
   {
    "duration": 3,
    "start_time": "2022-08-30T14:18:56.690Z"
   },
   {
    "duration": 6,
    "start_time": "2022-08-30T14:18:56.694Z"
   },
   {
    "duration": 9,
    "start_time": "2022-08-30T14:18:56.701Z"
   },
   {
    "duration": 7,
    "start_time": "2022-08-30T14:18:56.712Z"
   },
   {
    "duration": 5,
    "start_time": "2022-08-30T14:18:56.721Z"
   },
   {
    "duration": 6,
    "start_time": "2022-08-30T14:18:56.728Z"
   },
   {
    "duration": 3,
    "start_time": "2022-08-30T14:18:56.736Z"
   },
   {
    "duration": 4,
    "start_time": "2022-08-30T14:18:56.741Z"
   },
   {
    "duration": 56,
    "start_time": "2022-08-30T14:18:56.746Z"
   },
   {
    "duration": 16,
    "start_time": "2022-08-30T14:18:56.803Z"
   },
   {
    "duration": 14,
    "start_time": "2022-08-30T14:18:56.821Z"
   },
   {
    "duration": 2,
    "start_time": "2022-08-30T14:18:56.836Z"
   },
   {
    "duration": 6,
    "start_time": "2022-08-30T14:18:56.840Z"
   },
   {
    "duration": 6,
    "start_time": "2022-08-30T14:18:56.848Z"
   },
   {
    "duration": 11,
    "start_time": "2022-08-30T14:18:56.855Z"
   },
   {
    "duration": 19,
    "start_time": "2022-08-30T14:18:56.868Z"
   },
   {
    "duration": 5,
    "start_time": "2022-08-30T14:18:56.890Z"
   },
   {
    "duration": 5,
    "start_time": "2022-08-30T14:18:56.897Z"
   },
   {
    "duration": 5,
    "start_time": "2022-08-30T14:18:56.904Z"
   },
   {
    "duration": 6,
    "start_time": "2022-08-30T14:18:56.911Z"
   },
   {
    "duration": 5,
    "start_time": "2022-08-30T14:18:56.919Z"
   },
   {
    "duration": 5,
    "start_time": "2022-08-30T14:18:56.926Z"
   },
   {
    "duration": 6,
    "start_time": "2022-08-30T14:18:56.932Z"
   },
   {
    "duration": 6,
    "start_time": "2022-08-30T14:18:56.939Z"
   },
   {
    "duration": 8,
    "start_time": "2022-08-30T14:18:56.946Z"
   },
   {
    "duration": 7,
    "start_time": "2022-08-30T14:18:56.955Z"
   },
   {
    "duration": 5,
    "start_time": "2022-08-30T14:18:56.963Z"
   },
   {
    "duration": 5,
    "start_time": "2022-08-30T14:18:56.969Z"
   },
   {
    "duration": 2,
    "start_time": "2022-08-30T14:18:56.986Z"
   },
   {
    "duration": 7,
    "start_time": "2022-08-30T14:18:56.990Z"
   },
   {
    "duration": 13,
    "start_time": "2022-08-30T14:18:56.998Z"
   },
   {
    "duration": 10,
    "start_time": "2022-08-30T14:18:57.013Z"
   },
   {
    "duration": 6,
    "start_time": "2022-08-30T14:18:57.025Z"
   },
   {
    "duration": 6,
    "start_time": "2022-08-30T14:18:57.032Z"
   },
   {
    "duration": 6,
    "start_time": "2022-08-30T14:18:57.040Z"
   },
   {
    "duration": 6,
    "start_time": "2022-08-30T14:18:57.047Z"
   },
   {
    "duration": 5,
    "start_time": "2022-08-30T14:18:57.055Z"
   },
   {
    "duration": 5,
    "start_time": "2022-08-30T14:18:57.062Z"
   },
   {
    "duration": 6,
    "start_time": "2022-08-30T14:18:57.068Z"
   },
   {
    "duration": 6,
    "start_time": "2022-08-30T14:18:57.076Z"
   },
   {
    "duration": 6,
    "start_time": "2022-08-30T14:18:57.083Z"
   },
   {
    "duration": 5,
    "start_time": "2022-08-30T14:18:57.090Z"
   },
   {
    "duration": 6,
    "start_time": "2022-08-30T14:18:57.096Z"
   },
   {
    "duration": 5,
    "start_time": "2022-08-30T14:18:57.103Z"
   },
   {
    "duration": 5,
    "start_time": "2022-08-30T14:18:57.109Z"
   },
   {
    "duration": 5,
    "start_time": "2022-08-30T14:18:57.115Z"
   },
   {
    "duration": 5,
    "start_time": "2022-08-30T14:18:57.121Z"
   },
   {
    "duration": 4,
    "start_time": "2022-08-30T14:19:09.764Z"
   },
   {
    "duration": 8,
    "start_time": "2022-08-30T14:19:14.777Z"
   },
   {
    "duration": 14,
    "start_time": "2022-08-30T14:19:29.489Z"
   },
   {
    "duration": 9,
    "start_time": "2022-08-30T14:20:13.664Z"
   },
   {
    "duration": 84,
    "start_time": "2022-08-30T14:20:22.752Z"
   },
   {
    "duration": 94,
    "start_time": "2022-08-30T14:20:28.533Z"
   },
   {
    "duration": 85,
    "start_time": "2022-08-30T14:20:32.021Z"
   },
   {
    "duration": 4,
    "start_time": "2022-08-30T14:20:34.490Z"
   },
   {
    "duration": 8,
    "start_time": "2022-08-30T14:20:37.225Z"
   },
   {
    "duration": 18,
    "start_time": "2022-08-30T14:20:39.986Z"
   },
   {
    "duration": 9,
    "start_time": "2022-08-30T14:20:42.798Z"
   },
   {
    "duration": 19,
    "start_time": "2022-08-30T14:20:49.136Z"
   },
   {
    "duration": 20,
    "start_time": "2022-08-30T14:20:58.045Z"
   },
   {
    "duration": 19,
    "start_time": "2022-08-30T14:22:08.259Z"
   },
   {
    "duration": 926,
    "start_time": "2022-08-30T14:22:35.680Z"
   },
   {
    "duration": 9,
    "start_time": "2022-08-30T14:23:00.305Z"
   },
   {
    "duration": 9,
    "start_time": "2022-08-30T14:23:36.943Z"
   },
   {
    "duration": 9,
    "start_time": "2022-08-30T14:23:54.604Z"
   },
   {
    "duration": 10,
    "start_time": "2022-08-30T14:23:57.010Z"
   },
   {
    "duration": 10,
    "start_time": "2022-08-30T14:24:04.622Z"
   },
   {
    "duration": 10,
    "start_time": "2022-08-30T14:24:11.855Z"
   },
   {
    "duration": 135,
    "start_time": "2022-08-30T14:25:02.911Z"
   },
   {
    "duration": 9,
    "start_time": "2022-08-30T14:25:08.067Z"
   },
   {
    "duration": 9,
    "start_time": "2022-08-30T14:25:18.609Z"
   },
   {
    "duration": 8,
    "start_time": "2022-08-30T14:25:25.780Z"
   },
   {
    "duration": 10,
    "start_time": "2022-08-30T14:26:03.102Z"
   },
   {
    "duration": 8,
    "start_time": "2022-08-30T14:26:24.160Z"
   },
   {
    "duration": 8,
    "start_time": "2022-08-30T14:26:26.996Z"
   },
   {
    "duration": 6,
    "start_time": "2022-08-30T14:28:08.609Z"
   },
   {
    "duration": 14,
    "start_time": "2022-08-30T14:29:32.032Z"
   },
   {
    "duration": 12,
    "start_time": "2022-08-30T14:29:40.359Z"
   },
   {
    "duration": 11,
    "start_time": "2022-08-30T14:29:49.709Z"
   },
   {
    "duration": 13,
    "start_time": "2022-08-30T14:30:10.346Z"
   },
   {
    "duration": 10,
    "start_time": "2022-08-30T14:30:28.569Z"
   },
   {
    "duration": 10,
    "start_time": "2022-08-30T14:31:42.604Z"
   },
   {
    "duration": 12,
    "start_time": "2022-08-30T14:31:53.687Z"
   },
   {
    "duration": 9,
    "start_time": "2022-08-30T14:32:16.051Z"
   },
   {
    "duration": 9,
    "start_time": "2022-08-30T14:32:28.209Z"
   },
   {
    "duration": 12,
    "start_time": "2022-08-30T14:32:47.371Z"
   },
   {
    "duration": 14,
    "start_time": "2022-08-30T14:34:55.544Z"
   },
   {
    "duration": 75,
    "start_time": "2022-08-30T14:35:35.701Z"
   },
   {
    "duration": 94,
    "start_time": "2022-08-30T14:35:40.924Z"
   },
   {
    "duration": 69,
    "start_time": "2022-08-30T14:35:42.971Z"
   },
   {
    "duration": 17,
    "start_time": "2022-08-30T14:35:52.833Z"
   },
   {
    "duration": 18,
    "start_time": "2022-08-30T14:36:25.987Z"
   },
   {
    "duration": 17,
    "start_time": "2022-08-30T14:36:37.237Z"
   },
   {
    "duration": 33,
    "start_time": "2022-08-30T14:37:05.131Z"
   },
   {
    "duration": 33,
    "start_time": "2022-08-30T14:40:29.950Z"
   },
   {
    "duration": 34,
    "start_time": "2022-08-30T14:41:44.454Z"
   },
   {
    "duration": 16,
    "start_time": "2022-08-30T14:42:13.644Z"
   },
   {
    "duration": 88,
    "start_time": "2022-08-30T14:42:36.750Z"
   },
   {
    "duration": 13,
    "start_time": "2022-08-30T14:43:03.636Z"
   },
   {
    "duration": 33,
    "start_time": "2022-08-30T14:43:15.678Z"
   },
   {
    "duration": 32,
    "start_time": "2022-08-30T14:43:59.796Z"
   },
   {
    "duration": 33,
    "start_time": "2022-08-30T14:44:08.623Z"
   },
   {
    "duration": 35,
    "start_time": "2022-08-30T14:44:29.339Z"
   },
   {
    "duration": 79,
    "start_time": "2022-08-30T14:45:58.957Z"
   },
   {
    "duration": 34,
    "start_time": "2022-08-30T14:46:03.554Z"
   },
   {
    "duration": 27,
    "start_time": "2022-08-30T14:48:31.623Z"
   },
   {
    "duration": 9,
    "start_time": "2022-08-30T14:48:52.490Z"
   },
   {
    "duration": 30,
    "start_time": "2022-08-30T14:49:00.040Z"
   },
   {
    "duration": 90,
    "start_time": "2022-08-30T14:49:49.661Z"
   },
   {
    "duration": 10,
    "start_time": "2022-08-30T14:58:33.800Z"
   },
   {
    "duration": 695,
    "start_time": "2022-08-30T14:58:53.436Z"
   },
   {
    "duration": 5,
    "start_time": "2022-08-30T14:58:57.626Z"
   },
   {
    "duration": 4,
    "start_time": "2022-08-30T14:59:04.105Z"
   },
   {
    "duration": 7,
    "start_time": "2022-08-30T14:59:13.030Z"
   },
   {
    "duration": 5,
    "start_time": "2022-08-30T14:59:17.422Z"
   },
   {
    "duration": 8,
    "start_time": "2022-08-30T14:59:38.972Z"
   },
   {
    "duration": 4,
    "start_time": "2022-08-30T14:59:53.170Z"
   },
   {
    "duration": 5,
    "start_time": "2022-08-30T15:00:02.897Z"
   },
   {
    "duration": 5,
    "start_time": "2022-08-30T15:00:10.220Z"
   },
   {
    "duration": 9,
    "start_time": "2022-08-30T15:00:21.290Z"
   },
   {
    "duration": 6,
    "start_time": "2022-08-30T15:00:26.340Z"
   },
   {
    "duration": 4,
    "start_time": "2022-08-30T15:00:42.503Z"
   },
   {
    "duration": 80,
    "start_time": "2022-08-30T15:00:51.915Z"
   },
   {
    "duration": 7,
    "start_time": "2022-08-30T15:01:31.297Z"
   },
   {
    "duration": 13,
    "start_time": "2022-08-30T15:01:35.012Z"
   },
   {
    "duration": 7,
    "start_time": "2022-08-30T15:01:40.713Z"
   },
   {
    "duration": 3,
    "start_time": "2022-08-30T15:01:50.356Z"
   },
   {
    "duration": 5,
    "start_time": "2022-08-30T15:01:51.778Z"
   },
   {
    "duration": 10,
    "start_time": "2022-08-30T15:01:59.588Z"
   },
   {
    "duration": 5,
    "start_time": "2022-08-30T15:02:03.732Z"
   },
   {
    "duration": 5,
    "start_time": "2022-08-30T15:02:08.278Z"
   },
   {
    "duration": 5,
    "start_time": "2022-08-30T15:02:36.591Z"
   },
   {
    "duration": 4,
    "start_time": "2022-08-30T15:03:19.278Z"
   },
   {
    "duration": 6,
    "start_time": "2022-08-30T15:03:32.047Z"
   },
   {
    "duration": 5,
    "start_time": "2022-08-30T15:03:41.999Z"
   },
   {
    "duration": 6,
    "start_time": "2022-08-30T15:03:47.274Z"
   },
   {
    "duration": 5,
    "start_time": "2022-08-30T15:03:52.770Z"
   },
   {
    "duration": 5,
    "start_time": "2022-08-30T15:03:58.183Z"
   },
   {
    "duration": 6,
    "start_time": "2022-08-30T15:04:01.498Z"
   },
   {
    "duration": 5,
    "start_time": "2022-08-30T15:04:03.587Z"
   },
   {
    "duration": 83,
    "start_time": "2022-08-30T15:04:07.624Z"
   },
   {
    "duration": 6,
    "start_time": "2022-08-30T15:04:17.612Z"
   },
   {
    "duration": 6,
    "start_time": "2022-08-30T15:04:21.113Z"
   },
   {
    "duration": 6,
    "start_time": "2022-08-30T15:04:31.853Z"
   },
   {
    "duration": 1717,
    "start_time": "2022-08-30T15:05:17.009Z"
   },
   {
    "duration": 4,
    "start_time": "2022-08-30T15:05:47.084Z"
   },
   {
    "duration": 4,
    "start_time": "2022-08-30T15:05:49.013Z"
   },
   {
    "duration": 10,
    "start_time": "2022-08-30T15:05:50.856Z"
   },
   {
    "duration": 4,
    "start_time": "2022-08-30T15:05:53.160Z"
   },
   {
    "duration": 5,
    "start_time": "2022-08-30T15:05:54.715Z"
   },
   {
    "duration": 10,
    "start_time": "2022-08-30T15:06:48.687Z"
   },
   {
    "duration": 467,
    "start_time": "2022-08-30T15:06:59.515Z"
   },
   {
    "duration": 12,
    "start_time": "2022-08-30T15:07:07.796Z"
   },
   {
    "duration": 12,
    "start_time": "2022-08-30T15:07:32.764Z"
   },
   {
    "duration": 7,
    "start_time": "2022-08-30T15:07:48.060Z"
   },
   {
    "duration": 5,
    "start_time": "2022-08-30T15:07:52.190Z"
   },
   {
    "duration": 5,
    "start_time": "2022-08-30T15:07:53.809Z"
   },
   {
    "duration": 25,
    "start_time": "2022-08-30T15:07:57.124Z"
   },
   {
    "duration": 29,
    "start_time": "2022-08-30T15:08:23.857Z"
   },
   {
    "duration": 29,
    "start_time": "2022-08-30T15:08:52.377Z"
   },
   {
    "duration": 27,
    "start_time": "2022-08-30T15:09:15.647Z"
   },
   {
    "duration": 32,
    "start_time": "2022-08-30T15:09:21.968Z"
   },
   {
    "duration": 3,
    "start_time": "2022-08-30T15:09:40.495Z"
   },
   {
    "duration": 31,
    "start_time": "2022-08-30T15:09:41.762Z"
   },
   {
    "duration": 7,
    "start_time": "2022-08-30T15:09:55.705Z"
   },
   {
    "duration": 3,
    "start_time": "2022-08-30T15:10:19.288Z"
   },
   {
    "duration": 32,
    "start_time": "2022-08-30T15:10:22.055Z"
   },
   {
    "duration": 27,
    "start_time": "2022-08-30T15:10:35.289Z"
   },
   {
    "duration": 27,
    "start_time": "2022-08-30T15:11:19.018Z"
   },
   {
    "duration": 6,
    "start_time": "2022-08-30T15:11:36.168Z"
   },
   {
    "duration": 4,
    "start_time": "2022-08-30T15:12:11.103Z"
   },
   {
    "duration": 4,
    "start_time": "2022-08-30T15:12:13.644Z"
   },
   {
    "duration": 5,
    "start_time": "2022-08-30T15:12:18.700Z"
   },
   {
    "duration": 6,
    "start_time": "2022-08-30T15:12:28.847Z"
   },
   {
    "duration": 6,
    "start_time": "2022-08-30T15:12:33.509Z"
   },
   {
    "duration": 6,
    "start_time": "2022-08-30T15:12:50.336Z"
   },
   {
    "duration": 6,
    "start_time": "2022-08-30T15:12:59.651Z"
   },
   {
    "duration": 5,
    "start_time": "2022-08-30T15:13:03.423Z"
   },
   {
    "duration": 6,
    "start_time": "2022-08-30T15:13:07.176Z"
   },
   {
    "duration": 26,
    "start_time": "2022-08-30T15:13:23.386Z"
   },
   {
    "duration": 19,
    "start_time": "2022-08-30T15:13:31.704Z"
   },
   {
    "duration": 16,
    "start_time": "2022-08-30T15:13:36.083Z"
   },
   {
    "duration": 702,
    "start_time": "2022-08-30T15:13:49.701Z"
   },
   {
    "duration": 5,
    "start_time": "2022-08-30T15:13:50.405Z"
   },
   {
    "duration": 12,
    "start_time": "2022-08-30T15:13:50.411Z"
   },
   {
    "duration": 17,
    "start_time": "2022-08-30T15:13:50.425Z"
   },
   {
    "duration": 8,
    "start_time": "2022-08-30T15:13:50.444Z"
   },
   {
    "duration": 7,
    "start_time": "2022-08-30T15:13:50.453Z"
   },
   {
    "duration": 31,
    "start_time": "2022-08-30T15:13:50.461Z"
   },
   {
    "duration": 35,
    "start_time": "2022-08-30T15:13:50.494Z"
   },
   {
    "duration": 84,
    "start_time": "2022-08-30T15:13:50.531Z"
   },
   {
    "duration": 0,
    "start_time": "2022-08-30T15:13:50.618Z"
   },
   {
    "duration": 0,
    "start_time": "2022-08-30T15:13:50.619Z"
   },
   {
    "duration": 0,
    "start_time": "2022-08-30T15:13:50.620Z"
   },
   {
    "duration": 0,
    "start_time": "2022-08-30T15:13:50.621Z"
   },
   {
    "duration": 0,
    "start_time": "2022-08-30T15:13:50.622Z"
   },
   {
    "duration": 0,
    "start_time": "2022-08-30T15:13:50.623Z"
   },
   {
    "duration": 0,
    "start_time": "2022-08-30T15:13:50.624Z"
   },
   {
    "duration": 0,
    "start_time": "2022-08-30T15:13:50.625Z"
   },
   {
    "duration": 0,
    "start_time": "2022-08-30T15:13:50.626Z"
   },
   {
    "duration": 0,
    "start_time": "2022-08-30T15:13:50.627Z"
   },
   {
    "duration": 0,
    "start_time": "2022-08-30T15:13:50.628Z"
   },
   {
    "duration": 0,
    "start_time": "2022-08-30T15:13:50.629Z"
   },
   {
    "duration": 0,
    "start_time": "2022-08-30T15:13:50.631Z"
   },
   {
    "duration": 0,
    "start_time": "2022-08-30T15:13:50.632Z"
   },
   {
    "duration": 0,
    "start_time": "2022-08-30T15:13:50.633Z"
   },
   {
    "duration": 0,
    "start_time": "2022-08-30T15:13:50.634Z"
   },
   {
    "duration": 0,
    "start_time": "2022-08-30T15:13:50.635Z"
   },
   {
    "duration": 0,
    "start_time": "2022-08-30T15:13:50.636Z"
   },
   {
    "duration": 0,
    "start_time": "2022-08-30T15:13:50.637Z"
   },
   {
    "duration": 0,
    "start_time": "2022-08-30T15:13:50.638Z"
   },
   {
    "duration": 0,
    "start_time": "2022-08-30T15:13:50.639Z"
   },
   {
    "duration": 0,
    "start_time": "2022-08-30T15:13:50.640Z"
   },
   {
    "duration": 0,
    "start_time": "2022-08-30T15:13:50.641Z"
   },
   {
    "duration": 0,
    "start_time": "2022-08-30T15:13:50.642Z"
   },
   {
    "duration": 0,
    "start_time": "2022-08-30T15:13:50.644Z"
   },
   {
    "duration": 0,
    "start_time": "2022-08-30T15:13:50.687Z"
   },
   {
    "duration": 0,
    "start_time": "2022-08-30T15:13:50.688Z"
   },
   {
    "duration": 0,
    "start_time": "2022-08-30T15:13:50.689Z"
   },
   {
    "duration": 0,
    "start_time": "2022-08-30T15:13:50.690Z"
   },
   {
    "duration": 0,
    "start_time": "2022-08-30T15:13:50.691Z"
   },
   {
    "duration": 0,
    "start_time": "2022-08-30T15:13:50.692Z"
   },
   {
    "duration": 0,
    "start_time": "2022-08-30T15:13:50.693Z"
   },
   {
    "duration": 0,
    "start_time": "2022-08-30T15:13:50.694Z"
   },
   {
    "duration": 0,
    "start_time": "2022-08-30T15:13:50.695Z"
   },
   {
    "duration": 0,
    "start_time": "2022-08-30T15:13:50.696Z"
   },
   {
    "duration": 0,
    "start_time": "2022-08-30T15:13:50.697Z"
   },
   {
    "duration": 0,
    "start_time": "2022-08-30T15:13:50.698Z"
   },
   {
    "duration": 0,
    "start_time": "2022-08-30T15:13:50.699Z"
   },
   {
    "duration": 0,
    "start_time": "2022-08-30T15:13:50.701Z"
   },
   {
    "duration": 0,
    "start_time": "2022-08-30T15:13:50.702Z"
   },
   {
    "duration": 0,
    "start_time": "2022-08-30T15:13:50.702Z"
   },
   {
    "duration": 0,
    "start_time": "2022-08-30T15:13:50.704Z"
   },
   {
    "duration": 0,
    "start_time": "2022-08-30T15:13:50.705Z"
   },
   {
    "duration": 0,
    "start_time": "2022-08-30T15:13:50.706Z"
   },
   {
    "duration": 0,
    "start_time": "2022-08-30T15:13:50.707Z"
   },
   {
    "duration": 0,
    "start_time": "2022-08-30T15:13:50.708Z"
   },
   {
    "duration": 0,
    "start_time": "2022-08-30T15:13:50.710Z"
   },
   {
    "duration": 0,
    "start_time": "2022-08-30T15:13:50.711Z"
   },
   {
    "duration": 0,
    "start_time": "2022-08-30T15:13:50.711Z"
   },
   {
    "duration": 0,
    "start_time": "2022-08-30T15:13:50.712Z"
   },
   {
    "duration": 0,
    "start_time": "2022-08-30T15:13:50.713Z"
   },
   {
    "duration": 1,
    "start_time": "2022-08-30T15:13:50.713Z"
   },
   {
    "duration": 0,
    "start_time": "2022-08-30T15:13:50.715Z"
   },
   {
    "duration": 0,
    "start_time": "2022-08-30T15:13:50.716Z"
   },
   {
    "duration": 0,
    "start_time": "2022-08-30T15:13:50.717Z"
   },
   {
    "duration": 0,
    "start_time": "2022-08-30T15:13:50.718Z"
   },
   {
    "duration": 0,
    "start_time": "2022-08-30T15:13:50.719Z"
   },
   {
    "duration": 1,
    "start_time": "2022-08-30T15:13:50.719Z"
   },
   {
    "duration": 0,
    "start_time": "2022-08-30T15:13:50.721Z"
   },
   {
    "duration": 0,
    "start_time": "2022-08-30T15:13:50.722Z"
   },
   {
    "duration": 0,
    "start_time": "2022-08-30T15:13:50.722Z"
   },
   {
    "duration": 0,
    "start_time": "2022-08-30T15:13:50.723Z"
   },
   {
    "duration": 0,
    "start_time": "2022-08-30T15:13:50.724Z"
   },
   {
    "duration": 8,
    "start_time": "2022-08-30T15:14:16.198Z"
   },
   {
    "duration": 7,
    "start_time": "2022-08-30T15:14:25.482Z"
   },
   {
    "duration": 78,
    "start_time": "2022-08-30T15:14:33.835Z"
   },
   {
    "duration": 4,
    "start_time": "2022-08-30T15:14:33.915Z"
   },
   {
    "duration": 13,
    "start_time": "2022-08-30T15:14:33.920Z"
   },
   {
    "duration": 28,
    "start_time": "2022-08-30T15:14:33.934Z"
   },
   {
    "duration": 12,
    "start_time": "2022-08-30T15:14:33.964Z"
   },
   {
    "duration": 23,
    "start_time": "2022-08-30T15:14:33.977Z"
   },
   {
    "duration": 26,
    "start_time": "2022-08-30T15:14:34.002Z"
   },
   {
    "duration": 43,
    "start_time": "2022-08-30T15:14:34.031Z"
   },
   {
    "duration": 11,
    "start_time": "2022-08-30T15:14:34.075Z"
   },
   {
    "duration": 0,
    "start_time": "2022-08-30T15:14:34.090Z"
   },
   {
    "duration": 0,
    "start_time": "2022-08-30T15:14:34.092Z"
   },
   {
    "duration": 0,
    "start_time": "2022-08-30T15:14:34.093Z"
   },
   {
    "duration": 0,
    "start_time": "2022-08-30T15:14:34.094Z"
   },
   {
    "duration": 0,
    "start_time": "2022-08-30T15:14:34.095Z"
   },
   {
    "duration": 0,
    "start_time": "2022-08-30T15:14:34.096Z"
   },
   {
    "duration": 0,
    "start_time": "2022-08-30T15:14:34.097Z"
   },
   {
    "duration": 0,
    "start_time": "2022-08-30T15:14:34.098Z"
   },
   {
    "duration": 0,
    "start_time": "2022-08-30T15:14:34.100Z"
   },
   {
    "duration": 0,
    "start_time": "2022-08-30T15:14:34.101Z"
   },
   {
    "duration": 0,
    "start_time": "2022-08-30T15:14:34.102Z"
   },
   {
    "duration": 0,
    "start_time": "2022-08-30T15:14:34.103Z"
   },
   {
    "duration": 0,
    "start_time": "2022-08-30T15:14:34.104Z"
   },
   {
    "duration": 0,
    "start_time": "2022-08-30T15:14:34.105Z"
   },
   {
    "duration": 0,
    "start_time": "2022-08-30T15:14:34.106Z"
   },
   {
    "duration": 0,
    "start_time": "2022-08-30T15:14:34.108Z"
   },
   {
    "duration": 0,
    "start_time": "2022-08-30T15:14:34.109Z"
   },
   {
    "duration": 0,
    "start_time": "2022-08-30T15:14:34.110Z"
   },
   {
    "duration": 0,
    "start_time": "2022-08-30T15:14:34.111Z"
   },
   {
    "duration": 0,
    "start_time": "2022-08-30T15:14:34.113Z"
   },
   {
    "duration": 0,
    "start_time": "2022-08-30T15:14:34.114Z"
   },
   {
    "duration": 0,
    "start_time": "2022-08-30T15:14:34.115Z"
   },
   {
    "duration": 0,
    "start_time": "2022-08-30T15:14:34.116Z"
   },
   {
    "duration": 0,
    "start_time": "2022-08-30T15:14:34.117Z"
   },
   {
    "duration": 0,
    "start_time": "2022-08-30T15:14:34.118Z"
   },
   {
    "duration": 0,
    "start_time": "2022-08-30T15:14:34.119Z"
   },
   {
    "duration": 0,
    "start_time": "2022-08-30T15:14:34.120Z"
   },
   {
    "duration": 0,
    "start_time": "2022-08-30T15:14:34.121Z"
   },
   {
    "duration": 0,
    "start_time": "2022-08-30T15:14:34.122Z"
   },
   {
    "duration": 0,
    "start_time": "2022-08-30T15:14:34.123Z"
   },
   {
    "duration": 0,
    "start_time": "2022-08-30T15:14:34.124Z"
   },
   {
    "duration": 0,
    "start_time": "2022-08-30T15:14:34.125Z"
   },
   {
    "duration": 0,
    "start_time": "2022-08-30T15:14:34.187Z"
   },
   {
    "duration": 0,
    "start_time": "2022-08-30T15:14:34.188Z"
   },
   {
    "duration": 0,
    "start_time": "2022-08-30T15:14:34.189Z"
   },
   {
    "duration": 0,
    "start_time": "2022-08-30T15:14:34.190Z"
   },
   {
    "duration": 0,
    "start_time": "2022-08-30T15:14:34.192Z"
   },
   {
    "duration": 0,
    "start_time": "2022-08-30T15:14:34.193Z"
   },
   {
    "duration": 0,
    "start_time": "2022-08-30T15:14:34.194Z"
   },
   {
    "duration": 0,
    "start_time": "2022-08-30T15:14:34.195Z"
   },
   {
    "duration": 0,
    "start_time": "2022-08-30T15:14:34.196Z"
   },
   {
    "duration": 0,
    "start_time": "2022-08-30T15:14:34.197Z"
   },
   {
    "duration": 0,
    "start_time": "2022-08-30T15:14:34.198Z"
   },
   {
    "duration": 0,
    "start_time": "2022-08-30T15:14:34.199Z"
   },
   {
    "duration": 0,
    "start_time": "2022-08-30T15:14:34.200Z"
   },
   {
    "duration": 0,
    "start_time": "2022-08-30T15:14:34.201Z"
   },
   {
    "duration": 0,
    "start_time": "2022-08-30T15:14:34.202Z"
   },
   {
    "duration": 0,
    "start_time": "2022-08-30T15:14:34.203Z"
   },
   {
    "duration": 0,
    "start_time": "2022-08-30T15:14:34.204Z"
   },
   {
    "duration": 0,
    "start_time": "2022-08-30T15:14:34.205Z"
   },
   {
    "duration": 0,
    "start_time": "2022-08-30T15:14:34.205Z"
   },
   {
    "duration": 0,
    "start_time": "2022-08-30T15:14:34.207Z"
   },
   {
    "duration": 0,
    "start_time": "2022-08-30T15:14:34.207Z"
   },
   {
    "duration": 0,
    "start_time": "2022-08-30T15:14:34.208Z"
   },
   {
    "duration": 0,
    "start_time": "2022-08-30T15:14:34.209Z"
   },
   {
    "duration": 0,
    "start_time": "2022-08-30T15:14:34.210Z"
   },
   {
    "duration": 0,
    "start_time": "2022-08-30T15:14:34.211Z"
   },
   {
    "duration": 0,
    "start_time": "2022-08-30T15:14:34.211Z"
   },
   {
    "duration": 0,
    "start_time": "2022-08-30T15:14:34.212Z"
   },
   {
    "duration": 0,
    "start_time": "2022-08-30T15:14:34.213Z"
   },
   {
    "duration": 0,
    "start_time": "2022-08-30T15:14:34.215Z"
   },
   {
    "duration": 0,
    "start_time": "2022-08-30T15:14:34.216Z"
   },
   {
    "duration": 0,
    "start_time": "2022-08-30T15:14:34.217Z"
   },
   {
    "duration": 10,
    "start_time": "2022-08-30T15:14:46.400Z"
   },
   {
    "duration": 98,
    "start_time": "2022-08-30T15:14:53.167Z"
   },
   {
    "duration": 4,
    "start_time": "2022-08-30T15:14:56.553Z"
   },
   {
    "duration": 7,
    "start_time": "2022-08-30T15:14:58.197Z"
   },
   {
    "duration": 14,
    "start_time": "2022-08-30T15:15:00.650Z"
   },
   {
    "duration": 9,
    "start_time": "2022-08-30T15:15:02.825Z"
   },
   {
    "duration": 6,
    "start_time": "2022-08-30T15:15:04.723Z"
   },
   {
    "duration": 13,
    "start_time": "2022-08-30T15:15:09.465Z"
   },
   {
    "duration": 11,
    "start_time": "2022-08-30T15:15:13.736Z"
   },
   {
    "duration": 91,
    "start_time": "2022-08-30T15:15:22.130Z"
   },
   {
    "duration": 2,
    "start_time": "2022-08-30T15:15:29.530Z"
   },
   {
    "duration": 5,
    "start_time": "2022-08-30T15:15:30.829Z"
   },
   {
    "duration": 9,
    "start_time": "2022-08-30T15:15:34.256Z"
   },
   {
    "duration": 4,
    "start_time": "2022-08-30T15:15:37.478Z"
   },
   {
    "duration": 6,
    "start_time": "2022-08-30T15:15:38.446Z"
   },
   {
    "duration": 5,
    "start_time": "2022-08-30T15:15:39.754Z"
   },
   {
    "duration": 5,
    "start_time": "2022-08-30T15:15:40.172Z"
   },
   {
    "duration": 29,
    "start_time": "2022-08-30T15:15:41.410Z"
   },
   {
    "duration": 3,
    "start_time": "2022-08-30T15:15:42.251Z"
   },
   {
    "duration": 29,
    "start_time": "2022-08-30T15:15:42.637Z"
   },
   {
    "duration": 7,
    "start_time": "2022-08-30T15:15:44.182Z"
   },
   {
    "duration": 4,
    "start_time": "2022-08-30T15:15:45.473Z"
   },
   {
    "duration": 5,
    "start_time": "2022-08-30T15:15:46.051Z"
   },
   {
    "duration": 5,
    "start_time": "2022-08-30T15:15:47.332Z"
   },
   {
    "duration": 2,
    "start_time": "2022-08-30T15:15:47.903Z"
   },
   {
    "duration": 2,
    "start_time": "2022-08-30T15:15:48.929Z"
   },
   {
    "duration": 7,
    "start_time": "2022-08-30T15:15:50.247Z"
   },
   {
    "duration": 6,
    "start_time": "2022-08-30T15:15:50.985Z"
   },
   {
    "duration": 6,
    "start_time": "2022-08-30T15:15:51.570Z"
   },
   {
    "duration": 5,
    "start_time": "2022-08-30T15:15:53.559Z"
   },
   {
    "duration": 2,
    "start_time": "2022-08-30T15:15:54.238Z"
   },
   {
    "duration": 2,
    "start_time": "2022-08-30T15:15:54.860Z"
   },
   {
    "duration": 31,
    "start_time": "2022-08-30T15:15:56.332Z"
   },
   {
    "duration": 19,
    "start_time": "2022-08-30T15:15:57.824Z"
   },
   {
    "duration": 16,
    "start_time": "2022-08-30T15:15:58.646Z"
   },
   {
    "duration": 3,
    "start_time": "2022-08-30T15:15:59.918Z"
   },
   {
    "duration": 119,
    "start_time": "2022-08-30T15:20:18.692Z"
   },
   {
    "duration": 4,
    "start_time": "2022-08-30T15:20:25.714Z"
   },
   {
    "duration": 6,
    "start_time": "2022-08-30T15:20:46.002Z"
   },
   {
    "duration": 14,
    "start_time": "2022-08-30T15:22:10.068Z"
   },
   {
    "duration": 4,
    "start_time": "2022-08-30T15:28:52.060Z"
   },
   {
    "duration": 4,
    "start_time": "2022-08-30T15:30:23.062Z"
   },
   {
    "duration": 4,
    "start_time": "2022-08-30T15:30:35.928Z"
   },
   {
    "duration": 129,
    "start_time": "2022-08-30T15:32:24.554Z"
   },
   {
    "duration": 162,
    "start_time": "2022-08-30T15:32:36.173Z"
   },
   {
    "duration": 6,
    "start_time": "2022-08-30T15:35:53.596Z"
   },
   {
    "duration": 6,
    "start_time": "2022-08-30T15:36:54.325Z"
   },
   {
    "duration": 18,
    "start_time": "2022-08-30T15:37:04.802Z"
   },
   {
    "duration": 19,
    "start_time": "2022-08-30T15:37:19.137Z"
   },
   {
    "duration": 7,
    "start_time": "2022-08-30T15:39:39.713Z"
   },
   {
    "duration": 24,
    "start_time": "2022-08-30T15:39:50.747Z"
   },
   {
    "duration": 24,
    "start_time": "2022-08-30T15:40:26.033Z"
   },
   {
    "duration": 24,
    "start_time": "2022-08-30T15:40:54.069Z"
   },
   {
    "duration": 39,
    "start_time": "2022-08-30T15:41:05.006Z"
   },
   {
    "duration": 40,
    "start_time": "2022-08-30T15:42:35.638Z"
   },
   {
    "duration": 90,
    "start_time": "2022-08-30T15:42:54.205Z"
   },
   {
    "duration": 97,
    "start_time": "2022-08-30T15:42:56.190Z"
   },
   {
    "duration": 42,
    "start_time": "2022-08-30T15:43:09.500Z"
   },
   {
    "duration": 19,
    "start_time": "2022-08-30T15:44:15.927Z"
   },
   {
    "duration": 19,
    "start_time": "2022-08-30T15:44:48.886Z"
   },
   {
    "duration": 24,
    "start_time": "2022-08-30T15:45:36.458Z"
   },
   {
    "duration": 20,
    "start_time": "2022-08-30T15:47:09.589Z"
   },
   {
    "duration": 21,
    "start_time": "2022-08-30T15:47:18.340Z"
   },
   {
    "duration": 16,
    "start_time": "2022-08-30T15:48:23.194Z"
   },
   {
    "duration": 19,
    "start_time": "2022-08-30T15:48:33.859Z"
   },
   {
    "duration": 19,
    "start_time": "2022-08-30T15:48:41.706Z"
   },
   {
    "duration": 15,
    "start_time": "2022-08-30T15:49:00.830Z"
   },
   {
    "duration": 18,
    "start_time": "2022-08-30T15:49:11.391Z"
   },
   {
    "duration": 18,
    "start_time": "2022-08-30T15:49:40.475Z"
   },
   {
    "duration": 16,
    "start_time": "2022-08-30T15:49:58.377Z"
   },
   {
    "duration": 16,
    "start_time": "2022-08-30T15:50:10.140Z"
   },
   {
    "duration": 19,
    "start_time": "2022-08-30T15:50:13.860Z"
   },
   {
    "duration": 28,
    "start_time": "2022-08-30T15:50:43.152Z"
   },
   {
    "duration": 52,
    "start_time": "2022-08-30T15:51:25.171Z"
   },
   {
    "duration": 3,
    "start_time": "2022-08-30T15:51:48.981Z"
   },
   {
    "duration": 63,
    "start_time": "2022-08-30T15:51:53.267Z"
   },
   {
    "duration": 40,
    "start_time": "2022-08-30T15:51:56.633Z"
   },
   {
    "duration": 32,
    "start_time": "2022-08-30T15:52:03.959Z"
   },
   {
    "duration": 17,
    "start_time": "2022-08-30T15:52:09.669Z"
   },
   {
    "duration": 18,
    "start_time": "2022-08-30T15:54:08.133Z"
   },
   {
    "duration": 3,
    "start_time": "2022-08-30T16:07:11.691Z"
   },
   {
    "duration": 3,
    "start_time": "2022-08-30T16:07:25.827Z"
   },
   {
    "duration": 5,
    "start_time": "2022-08-30T16:08:20.617Z"
   },
   {
    "duration": 6,
    "start_time": "2022-08-30T16:08:29.158Z"
   },
   {
    "duration": 5,
    "start_time": "2022-08-30T16:08:44.564Z"
   },
   {
    "duration": 7,
    "start_time": "2022-08-30T16:08:52.212Z"
   },
   {
    "duration": 5,
    "start_time": "2022-08-30T16:09:03.338Z"
   },
   {
    "duration": 14,
    "start_time": "2022-08-30T16:10:35.866Z"
   },
   {
    "duration": 26,
    "start_time": "2022-08-30T16:10:49.237Z"
   },
   {
    "duration": 46,
    "start_time": "2022-08-30T16:11:05.135Z"
   },
   {
    "duration": 29,
    "start_time": "2022-08-30T16:11:08.582Z"
   },
   {
    "duration": 4,
    "start_time": "2022-08-30T16:12:29.289Z"
   },
   {
    "duration": 8,
    "start_time": "2022-08-30T16:12:49.211Z"
   },
   {
    "duration": 4,
    "start_time": "2022-08-30T16:12:59.175Z"
   },
   {
    "duration": 156,
    "start_time": "2022-08-30T16:14:12.748Z"
   },
   {
    "duration": 17,
    "start_time": "2022-08-30T16:14:45.662Z"
   },
   {
    "duration": 7,
    "start_time": "2022-08-30T16:16:32.965Z"
   },
   {
    "duration": 9,
    "start_time": "2022-08-30T16:16:50.033Z"
   },
   {
    "duration": 16,
    "start_time": "2022-08-30T16:16:53.827Z"
   },
   {
    "duration": 7,
    "start_time": "2022-08-30T16:17:08.415Z"
   },
   {
    "duration": 16,
    "start_time": "2022-08-30T16:17:09.808Z"
   },
   {
    "duration": 932,
    "start_time": "2022-08-30T16:17:26.519Z"
   },
   {
    "duration": 26,
    "start_time": "2022-08-30T16:17:40.587Z"
   },
   {
    "duration": 27,
    "start_time": "2022-08-30T16:17:57.415Z"
   },
   {
    "duration": 27,
    "start_time": "2022-08-30T16:18:42.241Z"
   },
   {
    "duration": 20,
    "start_time": "2022-08-30T16:19:02.975Z"
   },
   {
    "duration": 16,
    "start_time": "2022-08-30T16:19:04.958Z"
   },
   {
    "duration": 37,
    "start_time": "2022-08-30T16:19:18.582Z"
   },
   {
    "duration": 53,
    "start_time": "2022-08-30T16:19:26.211Z"
   },
   {
    "duration": 16,
    "start_time": "2022-08-30T16:20:14.145Z"
   },
   {
    "duration": 16,
    "start_time": "2022-08-30T16:20:24.495Z"
   },
   {
    "duration": 15,
    "start_time": "2022-08-30T16:20:30.736Z"
   },
   {
    "duration": 4,
    "start_time": "2022-08-30T16:20:38.869Z"
   },
   {
    "duration": 3,
    "start_time": "2022-08-30T16:21:40.413Z"
   },
   {
    "duration": 15,
    "start_time": "2022-08-30T16:21:54.815Z"
   },
   {
    "duration": 4,
    "start_time": "2022-08-30T16:25:49.613Z"
   },
   {
    "duration": 3,
    "start_time": "2022-08-30T16:25:51.197Z"
   },
   {
    "duration": 3,
    "start_time": "2022-08-30T16:25:51.633Z"
   },
   {
    "duration": 136,
    "start_time": "2022-08-30T16:25:51.991Z"
   },
   {
    "duration": 19,
    "start_time": "2022-08-30T16:25:52.731Z"
   },
   {
    "duration": 30,
    "start_time": "2022-08-30T16:25:52.933Z"
   },
   {
    "duration": 17,
    "start_time": "2022-08-30T16:25:53.138Z"
   },
   {
    "duration": 18,
    "start_time": "2022-08-30T16:25:53.659Z"
   },
   {
    "duration": 3,
    "start_time": "2022-08-30T16:25:54.709Z"
   },
   {
    "duration": 6,
    "start_time": "2022-08-30T16:25:55.065Z"
   },
   {
    "duration": 4,
    "start_time": "2022-08-30T16:25:55.401Z"
   },
   {
    "duration": 6,
    "start_time": "2022-08-30T16:25:55.738Z"
   },
   {
    "duration": 4,
    "start_time": "2022-08-30T16:25:56.095Z"
   },
   {
    "duration": 3,
    "start_time": "2022-08-30T16:25:56.787Z"
   },
   {
    "duration": 15,
    "start_time": "2022-08-30T16:25:57.481Z"
   },
   {
    "duration": 6,
    "start_time": "2022-08-30T16:55:36.741Z"
   },
   {
    "duration": 5,
    "start_time": "2022-08-30T16:56:37.048Z"
   },
   {
    "duration": 5,
    "start_time": "2022-08-30T16:56:39.872Z"
   },
   {
    "duration": 26,
    "start_time": "2022-08-30T16:56:52.556Z"
   },
   {
    "duration": 4,
    "start_time": "2022-08-30T16:56:56.549Z"
   },
   {
    "duration": 28,
    "start_time": "2022-08-30T16:56:56.910Z"
   },
   {
    "duration": 7,
    "start_time": "2022-08-30T16:57:09.856Z"
   },
   {
    "duration": 8,
    "start_time": "2022-08-30T16:58:09.437Z"
   },
   {
    "duration": 5,
    "start_time": "2022-08-30T16:58:17.358Z"
   },
   {
    "duration": 6,
    "start_time": "2022-08-30T16:58:21.084Z"
   },
   {
    "duration": 15,
    "start_time": "2022-08-30T16:58:50.194Z"
   },
   {
    "duration": 43,
    "start_time": "2022-08-30T16:59:04.459Z"
   },
   {
    "duration": 12,
    "start_time": "2022-08-30T16:59:07.249Z"
   },
   {
    "duration": 15,
    "start_time": "2022-08-30T17:00:24.649Z"
   },
   {
    "duration": 131,
    "start_time": "2022-08-30T17:00:30.103Z"
   },
   {
    "duration": 210,
    "start_time": "2022-08-30T17:01:02.909Z"
   },
   {
    "duration": 131,
    "start_time": "2022-08-30T17:01:12.754Z"
   },
   {
    "duration": 123,
    "start_time": "2022-08-30T17:01:24.046Z"
   },
   {
    "duration": 123,
    "start_time": "2022-08-30T17:01:45.967Z"
   },
   {
    "duration": 48,
    "start_time": "2022-08-30T17:03:19.133Z"
   },
   {
    "duration": 7,
    "start_time": "2022-08-30T17:03:23.924Z"
   },
   {
    "duration": 13,
    "start_time": "2022-08-30T17:03:49.729Z"
   },
   {
    "duration": 45,
    "start_time": "2022-08-30T17:04:07.794Z"
   },
   {
    "duration": 14,
    "start_time": "2022-08-30T17:04:13.936Z"
   },
   {
    "duration": 40,
    "start_time": "2022-08-30T17:04:53.903Z"
   },
   {
    "duration": 11,
    "start_time": "2022-08-30T17:04:58.416Z"
   },
   {
    "duration": 9,
    "start_time": "2022-08-30T17:07:11.756Z"
   },
   {
    "duration": 8,
    "start_time": "2022-08-30T17:07:50.695Z"
   },
   {
    "duration": 174,
    "start_time": "2022-08-30T17:09:33.970Z"
   },
   {
    "duration": 13,
    "start_time": "2022-08-30T17:09:46.303Z"
   },
   {
    "duration": 218,
    "start_time": "2022-08-30T17:09:51.845Z"
   },
   {
    "duration": 119,
    "start_time": "2022-08-30T17:10:00.220Z"
   },
   {
    "duration": 173,
    "start_time": "2022-08-30T17:10:08.647Z"
   },
   {
    "duration": 729,
    "start_time": "2022-08-30T17:10:29.257Z"
   },
   {
    "duration": 5,
    "start_time": "2022-08-30T17:10:29.988Z"
   },
   {
    "duration": 13,
    "start_time": "2022-08-30T17:10:29.994Z"
   },
   {
    "duration": 44,
    "start_time": "2022-08-30T17:10:30.009Z"
   },
   {
    "duration": 10,
    "start_time": "2022-08-30T17:10:30.055Z"
   },
   {
    "duration": 26,
    "start_time": "2022-08-30T17:10:30.066Z"
   },
   {
    "duration": 13,
    "start_time": "2022-08-30T17:10:30.094Z"
   },
   {
    "duration": 33,
    "start_time": "2022-08-30T17:10:30.109Z"
   },
   {
    "duration": 143,
    "start_time": "2022-08-30T17:10:30.144Z"
   },
   {
    "duration": 3,
    "start_time": "2022-08-30T17:10:30.289Z"
   },
   {
    "duration": 18,
    "start_time": "2022-08-30T17:10:30.293Z"
   },
   {
    "duration": 15,
    "start_time": "2022-08-30T17:10:30.312Z"
   },
   {
    "duration": 15,
    "start_time": "2022-08-30T17:10:30.329Z"
   },
   {
    "duration": 27,
    "start_time": "2022-08-30T17:10:30.346Z"
   },
   {
    "duration": 14,
    "start_time": "2022-08-30T17:10:30.375Z"
   },
   {
    "duration": 22,
    "start_time": "2022-08-30T17:10:30.390Z"
   },
   {
    "duration": 12,
    "start_time": "2022-08-30T17:10:30.414Z"
   },
   {
    "duration": 27,
    "start_time": "2022-08-30T17:10:30.427Z"
   },
   {
    "duration": 48,
    "start_time": "2022-08-30T17:10:30.456Z"
   },
   {
    "duration": 4,
    "start_time": "2022-08-30T17:10:30.506Z"
   },
   {
    "duration": 45,
    "start_time": "2022-08-30T17:10:30.511Z"
   },
   {
    "duration": 188,
    "start_time": "2022-08-30T17:10:30.559Z"
   },
   {
    "duration": 4,
    "start_time": "2022-08-30T17:10:30.748Z"
   },
   {
    "duration": 31,
    "start_time": "2022-08-30T17:10:30.754Z"
   },
   {
    "duration": 29,
    "start_time": "2022-08-30T17:10:30.786Z"
   },
   {
    "duration": 37,
    "start_time": "2022-08-30T17:10:30.817Z"
   },
   {
    "duration": 15,
    "start_time": "2022-08-30T17:10:30.855Z"
   },
   {
    "duration": 29,
    "start_time": "2022-08-30T17:10:30.874Z"
   },
   {
    "duration": 28,
    "start_time": "2022-08-30T17:10:30.905Z"
   },
   {
    "duration": 25,
    "start_time": "2022-08-30T17:10:30.935Z"
   },
   {
    "duration": 50,
    "start_time": "2022-08-30T17:10:30.962Z"
   },
   {
    "duration": 22,
    "start_time": "2022-08-30T17:10:31.014Z"
   },
   {
    "duration": 10,
    "start_time": "2022-08-30T17:10:31.038Z"
   },
   {
    "duration": 48,
    "start_time": "2022-08-30T17:10:31.049Z"
   },
   {
    "duration": 19,
    "start_time": "2022-08-30T17:10:31.099Z"
   },
   {
    "duration": 15,
    "start_time": "2022-08-30T17:10:31.120Z"
   },
   {
    "duration": 9,
    "start_time": "2022-08-30T17:10:31.136Z"
   },
   {
    "duration": 20,
    "start_time": "2022-08-30T17:10:31.147Z"
   },
   {
    "duration": 6,
    "start_time": "2022-08-30T17:10:31.169Z"
   },
   {
    "duration": 21,
    "start_time": "2022-08-30T17:10:31.176Z"
   },
   {
    "duration": 9,
    "start_time": "2022-08-30T17:10:31.199Z"
   },
   {
    "duration": 132,
    "start_time": "2022-08-30T17:10:31.210Z"
   },
   {
    "duration": 17,
    "start_time": "2022-08-30T17:10:31.344Z"
   },
   {
    "duration": 36,
    "start_time": "2022-08-30T17:10:31.363Z"
   },
   {
    "duration": 15,
    "start_time": "2022-08-30T17:10:31.401Z"
   },
   {
    "duration": 17,
    "start_time": "2022-08-30T17:10:31.418Z"
   },
   {
    "duration": 2,
    "start_time": "2022-08-30T17:10:31.437Z"
   },
   {
    "duration": 12,
    "start_time": "2022-08-30T17:10:31.440Z"
   },
   {
    "duration": 5,
    "start_time": "2022-08-30T17:10:31.453Z"
   },
   {
    "duration": 46,
    "start_time": "2022-08-30T17:10:31.459Z"
   },
   {
    "duration": 4,
    "start_time": "2022-08-30T17:10:31.506Z"
   },
   {
    "duration": 8,
    "start_time": "2022-08-30T17:10:31.511Z"
   },
   {
    "duration": 22,
    "start_time": "2022-08-30T17:10:31.521Z"
   },
   {
    "duration": 2,
    "start_time": "2022-08-30T17:10:31.545Z"
   },
   {
    "duration": 6,
    "start_time": "2022-08-30T17:10:31.548Z"
   },
   {
    "duration": 10,
    "start_time": "2022-08-30T17:10:31.556Z"
   },
   {
    "duration": 13,
    "start_time": "2022-08-30T17:10:31.567Z"
   },
   {
    "duration": 5,
    "start_time": "2022-08-30T17:10:31.582Z"
   },
   {
    "duration": 6,
    "start_time": "2022-08-30T17:10:31.589Z"
   },
   {
    "duration": 6,
    "start_time": "2022-08-30T17:10:31.596Z"
   },
   {
    "duration": 7,
    "start_time": "2022-08-30T17:10:31.603Z"
   },
   {
    "duration": 13,
    "start_time": "2022-08-30T17:10:31.612Z"
   },
   {
    "duration": 59,
    "start_time": "2022-08-30T17:10:31.626Z"
   },
   {
    "duration": 6,
    "start_time": "2022-08-30T17:10:31.687Z"
   },
   {
    "duration": 7,
    "start_time": "2022-08-30T17:10:31.694Z"
   },
   {
    "duration": 6,
    "start_time": "2022-08-30T17:10:31.702Z"
   },
   {
    "duration": 6,
    "start_time": "2022-08-30T17:10:31.709Z"
   },
   {
    "duration": 6,
    "start_time": "2022-08-30T17:10:31.716Z"
   },
   {
    "duration": 8,
    "start_time": "2022-08-30T17:10:31.724Z"
   },
   {
    "duration": 6,
    "start_time": "2022-08-30T17:10:31.733Z"
   },
   {
    "duration": 6,
    "start_time": "2022-08-30T17:10:31.741Z"
   },
   {
    "duration": 5,
    "start_time": "2022-08-30T17:10:31.748Z"
   },
   {
    "duration": 9,
    "start_time": "2022-08-30T17:10:31.755Z"
   },
   {
    "duration": 5,
    "start_time": "2022-08-30T17:10:31.766Z"
   },
   {
    "duration": 29,
    "start_time": "2022-08-30T17:12:03.315Z"
   },
   {
    "duration": 161,
    "start_time": "2022-08-30T17:17:35.349Z"
   },
   {
    "duration": 166,
    "start_time": "2022-08-30T17:17:41.716Z"
   },
   {
    "duration": 217,
    "start_time": "2022-08-30T17:17:48.419Z"
   },
   {
    "duration": 162,
    "start_time": "2022-08-30T17:17:52.529Z"
   },
   {
    "duration": 185,
    "start_time": "2022-08-30T17:18:16.927Z"
   },
   {
    "duration": 99,
    "start_time": "2022-08-30T17:18:52.257Z"
   },
   {
    "duration": 4,
    "start_time": "2022-08-30T17:18:52.357Z"
   },
   {
    "duration": 10,
    "start_time": "2022-08-30T17:18:52.362Z"
   },
   {
    "duration": 55,
    "start_time": "2022-08-30T17:18:52.373Z"
   },
   {
    "duration": 9,
    "start_time": "2022-08-30T17:18:52.429Z"
   },
   {
    "duration": 29,
    "start_time": "2022-08-30T17:18:52.440Z"
   },
   {
    "duration": 18,
    "start_time": "2022-08-30T17:18:52.471Z"
   },
   {
    "duration": 54,
    "start_time": "2022-08-30T17:18:52.490Z"
   },
   {
    "duration": 90,
    "start_time": "2022-08-30T17:18:52.545Z"
   },
   {
    "duration": 3,
    "start_time": "2022-08-30T17:18:52.636Z"
   },
   {
    "duration": 24,
    "start_time": "2022-08-30T17:18:52.640Z"
   },
   {
    "duration": 20,
    "start_time": "2022-08-30T17:18:52.665Z"
   },
   {
    "duration": 16,
    "start_time": "2022-08-30T17:18:52.686Z"
   },
   {
    "duration": 12,
    "start_time": "2022-08-30T17:18:52.704Z"
   },
   {
    "duration": 8,
    "start_time": "2022-08-30T17:18:52.717Z"
   },
   {
    "duration": 23,
    "start_time": "2022-08-30T17:18:52.726Z"
   },
   {
    "duration": 12,
    "start_time": "2022-08-30T17:18:52.751Z"
   },
   {
    "duration": 25,
    "start_time": "2022-08-30T17:18:52.764Z"
   },
   {
    "duration": 48,
    "start_time": "2022-08-30T17:18:52.790Z"
   },
   {
    "duration": 4,
    "start_time": "2022-08-30T17:18:52.839Z"
   },
   {
    "duration": 43,
    "start_time": "2022-08-30T17:18:52.844Z"
   },
   {
    "duration": 183,
    "start_time": "2022-08-30T17:18:52.889Z"
   },
   {
    "duration": 4,
    "start_time": "2022-08-30T17:18:53.074Z"
   },
   {
    "duration": 26,
    "start_time": "2022-08-30T17:18:53.086Z"
   },
   {
    "duration": 12,
    "start_time": "2022-08-30T17:18:53.115Z"
   },
   {
    "duration": 23,
    "start_time": "2022-08-30T17:18:53.129Z"
   },
   {
    "duration": 16,
    "start_time": "2022-08-30T17:18:53.153Z"
   },
   {
    "duration": 25,
    "start_time": "2022-08-30T17:18:53.170Z"
   },
   {
    "duration": 17,
    "start_time": "2022-08-30T17:18:53.197Z"
   },
   {
    "duration": 9,
    "start_time": "2022-08-30T17:18:53.216Z"
   },
   {
    "duration": 18,
    "start_time": "2022-08-30T17:18:53.227Z"
   },
   {
    "duration": 10,
    "start_time": "2022-08-30T17:18:53.246Z"
   },
   {
    "duration": 21,
    "start_time": "2022-08-30T17:18:53.257Z"
   },
   {
    "duration": 32,
    "start_time": "2022-08-30T17:18:53.279Z"
   },
   {
    "duration": 21,
    "start_time": "2022-08-30T17:18:53.313Z"
   },
   {
    "duration": 20,
    "start_time": "2022-08-30T17:18:53.335Z"
   },
   {
    "duration": 4,
    "start_time": "2022-08-30T17:18:53.356Z"
   },
   {
    "duration": 32,
    "start_time": "2022-08-30T17:18:53.362Z"
   },
   {
    "duration": 20,
    "start_time": "2022-08-30T17:18:53.396Z"
   },
   {
    "duration": 28,
    "start_time": "2022-08-30T17:18:53.417Z"
   },
   {
    "duration": 10,
    "start_time": "2022-08-30T17:18:53.446Z"
   },
   {
    "duration": 132,
    "start_time": "2022-08-30T17:18:53.458Z"
   },
   {
    "duration": 19,
    "start_time": "2022-08-30T17:18:53.591Z"
   },
   {
    "duration": 29,
    "start_time": "2022-08-30T17:18:53.612Z"
   },
   {
    "duration": 44,
    "start_time": "2022-08-30T17:18:53.643Z"
   },
   {
    "duration": 18,
    "start_time": "2022-08-30T17:18:53.689Z"
   },
   {
    "duration": 7,
    "start_time": "2022-08-30T17:18:53.709Z"
   },
   {
    "duration": 22,
    "start_time": "2022-08-30T17:18:53.718Z"
   },
   {
    "duration": 10,
    "start_time": "2022-08-30T17:18:53.741Z"
   },
   {
    "duration": 42,
    "start_time": "2022-08-30T17:18:53.753Z"
   },
   {
    "duration": 4,
    "start_time": "2022-08-30T17:18:53.797Z"
   },
   {
    "duration": 18,
    "start_time": "2022-08-30T17:18:53.802Z"
   },
   {
    "duration": 39,
    "start_time": "2022-08-30T17:18:53.822Z"
   },
   {
    "duration": 10,
    "start_time": "2022-08-30T17:18:53.863Z"
   },
   {
    "duration": 19,
    "start_time": "2022-08-30T17:18:53.874Z"
   },
   {
    "duration": 27,
    "start_time": "2022-08-30T17:18:53.894Z"
   },
   {
    "duration": 18,
    "start_time": "2022-08-30T17:18:53.923Z"
   },
   {
    "duration": 13,
    "start_time": "2022-08-30T17:18:53.943Z"
   },
   {
    "duration": 32,
    "start_time": "2022-08-30T17:18:53.958Z"
   },
   {
    "duration": 9,
    "start_time": "2022-08-30T17:18:53.991Z"
   },
   {
    "duration": 10,
    "start_time": "2022-08-30T17:18:54.002Z"
   },
   {
    "duration": 14,
    "start_time": "2022-08-30T17:18:54.013Z"
   },
   {
    "duration": 16,
    "start_time": "2022-08-30T17:18:54.029Z"
   },
   {
    "duration": 25,
    "start_time": "2022-08-30T17:18:54.046Z"
   },
   {
    "duration": 20,
    "start_time": "2022-08-30T17:18:54.072Z"
   },
   {
    "duration": 35,
    "start_time": "2022-08-30T17:18:54.093Z"
   },
   {
    "duration": 30,
    "start_time": "2022-08-30T17:18:54.130Z"
   },
   {
    "duration": 13,
    "start_time": "2022-08-30T17:18:54.162Z"
   },
   {
    "duration": 12,
    "start_time": "2022-08-30T17:18:54.177Z"
   },
   {
    "duration": 19,
    "start_time": "2022-08-30T17:18:54.190Z"
   },
   {
    "duration": 15,
    "start_time": "2022-08-30T17:18:54.210Z"
   },
   {
    "duration": 14,
    "start_time": "2022-08-30T17:18:54.226Z"
   },
   {
    "duration": 27,
    "start_time": "2022-08-30T17:18:54.242Z"
   },
   {
    "duration": 9,
    "start_time": "2022-08-30T17:18:54.271Z"
   },
   {
    "duration": 8,
    "start_time": "2022-08-30T17:19:12.283Z"
   },
   {
    "duration": 231,
    "start_time": "2022-08-30T17:19:23.079Z"
   },
   {
    "duration": 168,
    "start_time": "2022-08-30T17:19:29.342Z"
   },
   {
    "duration": 173,
    "start_time": "2022-08-30T17:20:23.809Z"
   },
   {
    "duration": 5,
    "start_time": "2022-08-30T17:20:33.782Z"
   },
   {
    "duration": 7,
    "start_time": "2022-08-30T17:20:44.481Z"
   },
   {
    "duration": 5,
    "start_time": "2022-08-30T17:21:56.591Z"
   },
   {
    "duration": 181,
    "start_time": "2022-08-30T17:22:08.974Z"
   },
   {
    "duration": 69,
    "start_time": "2022-08-30T17:24:01.185Z"
   },
   {
    "duration": 8,
    "start_time": "2022-08-30T17:24:12.146Z"
   },
   {
    "duration": 13,
    "start_time": "2022-08-30T17:24:21.285Z"
   },
   {
    "duration": 11,
    "start_time": "2022-08-30T17:25:33.848Z"
   },
   {
    "duration": 10,
    "start_time": "2022-08-30T17:25:43.677Z"
   },
   {
    "duration": 122,
    "start_time": "2022-08-30T17:26:23.336Z"
   },
   {
    "duration": 120,
    "start_time": "2022-08-30T17:28:40.036Z"
   },
   {
    "duration": 14,
    "start_time": "2022-08-30T17:29:00.056Z"
   },
   {
    "duration": 890,
    "start_time": "2022-08-30T17:29:42.707Z"
   },
   {
    "duration": 121,
    "start_time": "2022-08-30T17:29:54.044Z"
   },
   {
    "duration": 137,
    "start_time": "2022-08-30T17:30:05.168Z"
   },
   {
    "duration": 234,
    "start_time": "2022-08-30T17:30:26.902Z"
   },
   {
    "duration": 209,
    "start_time": "2022-08-30T17:30:40.745Z"
   },
   {
    "duration": 792,
    "start_time": "2022-08-30T17:30:47.037Z"
   },
   {
    "duration": 824,
    "start_time": "2022-08-30T17:31:14.953Z"
   },
   {
    "duration": 972,
    "start_time": "2022-08-30T17:31:25.735Z"
   },
   {
    "duration": 794,
    "start_time": "2022-08-30T17:31:37.848Z"
   },
   {
    "duration": 875,
    "start_time": "2022-08-30T17:31:44.136Z"
   },
   {
    "duration": 779,
    "start_time": "2022-08-30T17:31:49.927Z"
   },
   {
    "duration": 955,
    "start_time": "2022-08-30T17:32:25.743Z"
   },
   {
    "duration": 904,
    "start_time": "2022-08-30T17:32:46.260Z"
   },
   {
    "duration": 1295,
    "start_time": "2022-08-30T17:33:24.945Z"
   },
   {
    "duration": 900,
    "start_time": "2022-08-30T17:34:06.963Z"
   },
   {
    "duration": 119,
    "start_time": "2022-08-30T17:37:14.287Z"
   },
   {
    "duration": 105,
    "start_time": "2022-08-30T17:37:18.946Z"
   },
   {
    "duration": 119,
    "start_time": "2022-08-30T17:37:47.631Z"
   },
   {
    "duration": 105,
    "start_time": "2022-08-30T17:37:57.218Z"
   },
   {
    "duration": 4,
    "start_time": "2022-08-30T17:38:42.679Z"
   },
   {
    "duration": 237,
    "start_time": "2022-08-30T17:38:46.184Z"
   },
   {
    "duration": 113,
    "start_time": "2022-08-30T17:38:51.872Z"
   },
   {
    "duration": 118,
    "start_time": "2022-08-30T17:39:05.818Z"
   },
   {
    "duration": 7,
    "start_time": "2022-08-30T17:40:16.309Z"
   },
   {
    "duration": 19201,
    "start_time": "2022-08-30T17:41:47.905Z"
   },
   {
    "duration": 123,
    "start_time": "2022-08-30T17:42:22.442Z"
   },
   {
    "duration": 122,
    "start_time": "2022-08-30T17:42:45.322Z"
   },
   {
    "duration": 7,
    "start_time": "2022-08-30T17:42:49.757Z"
   },
   {
    "duration": 16,
    "start_time": "2022-08-30T17:43:03.277Z"
   },
   {
    "duration": 56,
    "start_time": "2022-08-30T17:43:05.668Z"
   },
   {
    "duration": 141,
    "start_time": "2022-08-30T17:43:13.503Z"
   },
   {
    "duration": 118,
    "start_time": "2022-08-30T17:43:34.513Z"
   },
   {
    "duration": 159,
    "start_time": "2022-08-30T17:43:55.538Z"
   },
   {
    "duration": 498,
    "start_time": "2022-08-30T17:44:44.227Z"
   },
   {
    "duration": 388,
    "start_time": "2022-08-30T17:44:50.967Z"
   },
   {
    "duration": 373,
    "start_time": "2022-08-30T17:45:04.007Z"
   },
   {
    "duration": 445,
    "start_time": "2022-08-30T17:45:22.087Z"
   },
   {
    "duration": 288,
    "start_time": "2022-08-30T17:45:30.115Z"
   },
   {
    "duration": 311,
    "start_time": "2022-08-30T17:45:37.606Z"
   },
   {
    "duration": 482,
    "start_time": "2022-08-30T17:46:00.582Z"
   },
   {
    "duration": 489,
    "start_time": "2022-08-30T17:46:14.349Z"
   },
   {
    "duration": 158,
    "start_time": "2022-08-30T17:46:23.752Z"
   },
   {
    "duration": 143,
    "start_time": "2022-08-30T17:46:40.844Z"
   },
   {
    "duration": 5,
    "start_time": "2022-08-30T17:48:57.366Z"
   },
   {
    "duration": 5,
    "start_time": "2022-08-30T17:49:02.608Z"
   },
   {
    "duration": 133,
    "start_time": "2022-08-30T17:49:12.634Z"
   },
   {
    "duration": 126,
    "start_time": "2022-08-30T17:49:21.971Z"
   },
   {
    "duration": 211,
    "start_time": "2022-08-30T17:50:40.037Z"
   },
   {
    "duration": 126,
    "start_time": "2022-08-30T17:50:43.962Z"
   },
   {
    "duration": 179,
    "start_time": "2022-08-30T17:51:50.556Z"
   },
   {
    "duration": 1,
    "start_time": "2022-08-30T17:52:04.499Z"
   },
   {
    "duration": 814,
    "start_time": "2022-08-30T17:52:09.948Z"
   },
   {
    "duration": 6,
    "start_time": "2022-08-30T17:52:10.764Z"
   },
   {
    "duration": 21,
    "start_time": "2022-08-30T17:52:10.772Z"
   },
   {
    "duration": 55,
    "start_time": "2022-08-30T17:52:10.795Z"
   },
   {
    "duration": 8,
    "start_time": "2022-08-30T17:52:10.852Z"
   },
   {
    "duration": 6,
    "start_time": "2022-08-30T17:52:10.862Z"
   },
   {
    "duration": 22,
    "start_time": "2022-08-30T17:52:10.870Z"
   },
   {
    "duration": 966,
    "start_time": "2022-08-30T17:52:10.893Z"
   },
   {
    "duration": 932,
    "start_time": "2022-08-30T17:52:11.861Z"
   },
   {
    "duration": 2,
    "start_time": "2022-08-30T17:52:12.795Z"
   },
   {
    "duration": 7,
    "start_time": "2022-08-30T17:52:12.799Z"
   },
   {
    "duration": 5,
    "start_time": "2022-08-30T17:52:12.807Z"
   },
   {
    "duration": 8,
    "start_time": "2022-08-30T17:52:12.814Z"
   },
   {
    "duration": 13,
    "start_time": "2022-08-30T17:52:12.826Z"
   },
   {
    "duration": 9,
    "start_time": "2022-08-30T17:52:12.841Z"
   },
   {
    "duration": 6,
    "start_time": "2022-08-30T17:52:12.852Z"
   },
   {
    "duration": 151,
    "start_time": "2022-08-30T17:52:12.860Z"
   },
   {
    "duration": 5,
    "start_time": "2022-08-30T17:52:13.013Z"
   },
   {
    "duration": 147,
    "start_time": "2022-08-30T17:52:13.019Z"
   },
   {
    "duration": 33,
    "start_time": "2022-08-30T17:52:13.168Z"
   },
   {
    "duration": 3,
    "start_time": "2022-08-30T17:52:13.203Z"
   },
   {
    "duration": 33,
    "start_time": "2022-08-30T17:52:13.207Z"
   },
   {
    "duration": 168,
    "start_time": "2022-08-30T17:52:13.243Z"
   },
   {
    "duration": 6,
    "start_time": "2022-08-30T17:52:13.413Z"
   },
   {
    "duration": 135,
    "start_time": "2022-08-30T17:52:13.420Z"
   },
   {
    "duration": 211,
    "start_time": "2022-08-30T17:52:13.556Z"
   },
   {
    "duration": 5,
    "start_time": "2022-08-30T17:52:13.768Z"
   },
   {
    "duration": 199,
    "start_time": "2022-08-30T17:52:13.774Z"
   },
   {
    "duration": 14,
    "start_time": "2022-08-30T17:52:13.974Z"
   },
   {
    "duration": 6,
    "start_time": "2022-08-30T17:52:13.990Z"
   },
   {
    "duration": 5,
    "start_time": "2022-08-30T17:52:13.997Z"
   },
   {
    "duration": 11,
    "start_time": "2022-08-30T17:52:14.004Z"
   },
   {
    "duration": 7,
    "start_time": "2022-08-30T17:52:14.017Z"
   },
   {
    "duration": 7,
    "start_time": "2022-08-30T17:52:14.026Z"
   },
   {
    "duration": 9,
    "start_time": "2022-08-30T17:52:14.036Z"
   },
   {
    "duration": 3,
    "start_time": "2022-08-30T17:52:14.047Z"
   },
   {
    "duration": 35,
    "start_time": "2022-08-30T17:52:14.052Z"
   },
   {
    "duration": 27,
    "start_time": "2022-08-30T17:52:14.089Z"
   },
   {
    "duration": 18,
    "start_time": "2022-08-30T17:52:14.118Z"
   },
   {
    "duration": 16,
    "start_time": "2022-08-30T17:52:14.138Z"
   },
   {
    "duration": 31,
    "start_time": "2022-08-30T17:52:14.158Z"
   },
   {
    "duration": 9,
    "start_time": "2022-08-30T17:52:14.190Z"
   },
   {
    "duration": 9,
    "start_time": "2022-08-30T17:52:14.201Z"
   },
   {
    "duration": 9,
    "start_time": "2022-08-30T17:52:14.212Z"
   },
   {
    "duration": 7,
    "start_time": "2022-08-30T17:52:14.223Z"
   },
   {
    "duration": 142,
    "start_time": "2022-08-30T17:52:14.231Z"
   },
   {
    "duration": 28,
    "start_time": "2022-08-30T17:52:14.375Z"
   },
   {
    "duration": 30,
    "start_time": "2022-08-30T17:52:14.405Z"
   },
   {
    "duration": 17,
    "start_time": "2022-08-30T17:52:14.437Z"
   },
   {
    "duration": 47,
    "start_time": "2022-08-30T17:52:14.456Z"
   },
   {
    "duration": 3,
    "start_time": "2022-08-30T17:52:14.505Z"
   },
   {
    "duration": 11,
    "start_time": "2022-08-30T17:52:14.510Z"
   },
   {
    "duration": 5,
    "start_time": "2022-08-30T17:52:14.523Z"
   },
   {
    "duration": 25,
    "start_time": "2022-08-30T17:52:14.529Z"
   },
   {
    "duration": 31,
    "start_time": "2022-08-30T17:52:14.556Z"
   },
   {
    "duration": 7,
    "start_time": "2022-08-30T17:52:14.589Z"
   },
   {
    "duration": 18,
    "start_time": "2022-08-30T17:52:14.598Z"
   },
   {
    "duration": 2,
    "start_time": "2022-08-30T17:52:14.618Z"
   },
   {
    "duration": 5,
    "start_time": "2022-08-30T17:52:14.622Z"
   },
   {
    "duration": 7,
    "start_time": "2022-08-30T17:52:14.628Z"
   },
   {
    "duration": 6,
    "start_time": "2022-08-30T17:52:14.636Z"
   },
   {
    "duration": 9,
    "start_time": "2022-08-30T17:52:14.643Z"
   },
   {
    "duration": 6,
    "start_time": "2022-08-30T17:52:14.654Z"
   },
   {
    "duration": 26,
    "start_time": "2022-08-30T17:52:14.661Z"
   },
   {
    "duration": 14,
    "start_time": "2022-08-30T17:52:14.689Z"
   },
   {
    "duration": 15,
    "start_time": "2022-08-30T17:52:14.704Z"
   },
   {
    "duration": 5,
    "start_time": "2022-08-30T17:52:14.721Z"
   },
   {
    "duration": 6,
    "start_time": "2022-08-30T17:52:14.728Z"
   },
   {
    "duration": 5,
    "start_time": "2022-08-30T17:52:14.736Z"
   },
   {
    "duration": 6,
    "start_time": "2022-08-30T17:52:14.743Z"
   },
   {
    "duration": 6,
    "start_time": "2022-08-30T17:52:14.750Z"
   },
   {
    "duration": 6,
    "start_time": "2022-08-30T17:52:14.757Z"
   },
   {
    "duration": 6,
    "start_time": "2022-08-30T17:52:14.764Z"
   },
   {
    "duration": 6,
    "start_time": "2022-08-30T17:52:14.771Z"
   },
   {
    "duration": 5,
    "start_time": "2022-08-30T17:52:14.778Z"
   },
   {
    "duration": 6,
    "start_time": "2022-08-30T17:52:14.786Z"
   },
   {
    "duration": 9,
    "start_time": "2022-08-30T17:52:14.793Z"
   },
   {
    "duration": 5,
    "start_time": "2022-08-30T17:52:14.803Z"
   },
   {
    "duration": 863,
    "start_time": "2022-08-30T18:02:03.283Z"
   },
   {
    "duration": 116,
    "start_time": "2022-08-30T18:07:41.314Z"
   },
   {
    "duration": 52,
    "start_time": "2022-08-30T18:07:48.977Z"
   },
   {
    "duration": 158,
    "start_time": "2022-08-30T18:07:51.643Z"
   },
   {
    "duration": 122,
    "start_time": "2022-08-30T18:07:56.932Z"
   },
   {
    "duration": 158,
    "start_time": "2022-08-30T18:08:08.227Z"
   },
   {
    "duration": 161,
    "start_time": "2022-08-30T18:08:21.714Z"
   },
   {
    "duration": 120,
    "start_time": "2022-08-30T18:08:30.115Z"
   },
   {
    "duration": 194,
    "start_time": "2022-08-30T18:08:35.646Z"
   },
   {
    "duration": 247,
    "start_time": "2022-08-30T18:09:40.048Z"
   },
   {
    "duration": 18,
    "start_time": "2022-08-30T18:10:05.356Z"
   },
   {
    "duration": 204,
    "start_time": "2022-08-30T18:11:09.419Z"
   },
   {
    "duration": 22,
    "start_time": "2022-08-30T18:13:39.410Z"
   },
   {
    "duration": 632,
    "start_time": "2022-08-30T18:13:49.712Z"
   },
   {
    "duration": 179,
    "start_time": "2022-08-30T18:14:22.678Z"
   },
   {
    "duration": 82,
    "start_time": "2022-08-30T18:15:04.971Z"
   },
   {
    "duration": 178,
    "start_time": "2022-08-30T18:15:16.041Z"
   },
   {
    "duration": 224,
    "start_time": "2022-08-30T18:15:43.907Z"
   },
   {
    "duration": 775,
    "start_time": "2022-08-30T18:15:50.455Z"
   },
   {
    "duration": 678,
    "start_time": "2022-08-30T18:16:20.047Z"
   },
   {
    "duration": 619,
    "start_time": "2022-08-30T18:16:49.712Z"
   },
   {
    "duration": 725,
    "start_time": "2022-08-30T18:17:01.025Z"
   },
   {
    "duration": 164,
    "start_time": "2022-08-30T18:17:03.611Z"
   },
   {
    "duration": 613,
    "start_time": "2022-08-30T18:17:36.411Z"
   },
   {
    "duration": 696,
    "start_time": "2022-08-30T18:17:53.392Z"
   },
   {
    "duration": 605,
    "start_time": "2022-08-30T18:18:43.220Z"
   },
   {
    "duration": 701,
    "start_time": "2022-08-30T18:22:01.973Z"
   },
   {
    "duration": 9,
    "start_time": "2022-08-30T18:25:25.142Z"
   },
   {
    "duration": 147,
    "start_time": "2022-08-30T18:25:28.755Z"
   },
   {
    "duration": 9,
    "start_time": "2022-08-30T18:25:44.216Z"
   },
   {
    "duration": 653,
    "start_time": "2022-08-30T18:26:35.741Z"
   },
   {
    "duration": 275,
    "start_time": "2022-08-30T18:27:04.635Z"
   },
   {
    "duration": 182,
    "start_time": "2022-08-30T18:27:14.923Z"
   },
   {
    "duration": 166,
    "start_time": "2022-08-30T18:27:23.486Z"
   },
   {
    "duration": 157,
    "start_time": "2022-08-30T18:27:42.706Z"
   },
   {
    "duration": 6,
    "start_time": "2022-08-30T18:28:11.936Z"
   },
   {
    "duration": 70,
    "start_time": "2022-08-30T18:28:22.481Z"
   },
   {
    "duration": 7,
    "start_time": "2022-08-30T18:28:26.153Z"
   },
   {
    "duration": 8,
    "start_time": "2022-08-30T18:28:38.826Z"
   },
   {
    "duration": 10,
    "start_time": "2022-08-30T18:28:42.713Z"
   },
   {
    "duration": 11,
    "start_time": "2022-08-30T18:29:09.305Z"
   },
   {
    "duration": 8,
    "start_time": "2022-08-30T18:29:54.794Z"
   },
   {
    "duration": 573,
    "start_time": "2022-08-30T18:30:16.108Z"
   },
   {
    "duration": 1627,
    "start_time": "2022-08-30T18:30:57.951Z"
   },
   {
    "duration": 1240,
    "start_time": "2022-08-30T18:32:05.345Z"
   },
   {
    "duration": 1415,
    "start_time": "2022-08-30T18:32:35.795Z"
   },
   {
    "duration": 624,
    "start_time": "2022-08-30T18:32:59.864Z"
   },
   {
    "duration": 515,
    "start_time": "2022-08-30T18:33:35.087Z"
   },
   {
    "duration": 587,
    "start_time": "2022-08-30T18:33:37.520Z"
   },
   {
    "duration": 867,
    "start_time": "2022-08-30T18:34:01.565Z"
   },
   {
    "duration": 904,
    "start_time": "2022-08-30T18:34:08.174Z"
   },
   {
    "duration": 866,
    "start_time": "2022-08-30T18:34:25.203Z"
   },
   {
    "duration": 826,
    "start_time": "2022-08-30T18:35:00.484Z"
   },
   {
    "duration": 887,
    "start_time": "2022-08-30T18:35:37.373Z"
   },
   {
    "duration": 894,
    "start_time": "2022-08-30T18:35:57.578Z"
   },
   {
    "duration": 529,
    "start_time": "2022-08-30T18:36:13.399Z"
   },
   {
    "duration": 580,
    "start_time": "2022-08-30T18:36:22.767Z"
   },
   {
    "duration": 498,
    "start_time": "2022-08-30T18:36:46.666Z"
   },
   {
    "duration": 508,
    "start_time": "2022-08-30T18:37:13.058Z"
   },
   {
    "duration": 574,
    "start_time": "2022-08-30T18:37:24.452Z"
   },
   {
    "duration": 533,
    "start_time": "2022-08-30T18:37:35.639Z"
   },
   {
    "duration": 620,
    "start_time": "2022-08-30T18:37:47.556Z"
   },
   {
    "duration": 121,
    "start_time": "2022-08-30T18:37:59.510Z"
   },
   {
    "duration": 518,
    "start_time": "2022-08-30T18:40:02.061Z"
   },
   {
    "duration": 592,
    "start_time": "2022-08-30T18:41:19.534Z"
   },
   {
    "duration": 516,
    "start_time": "2022-08-30T18:41:34.360Z"
   },
   {
    "duration": 688,
    "start_time": "2022-08-30T18:47:06.051Z"
   },
   {
    "duration": 49,
    "start_time": "2022-08-31T08:46:46.780Z"
   },
   {
    "duration": 1035,
    "start_time": "2022-08-31T08:46:51.292Z"
   },
   {
    "duration": 5,
    "start_time": "2022-08-31T08:46:53.158Z"
   },
   {
    "duration": 11,
    "start_time": "2022-08-31T08:46:54.821Z"
   },
   {
    "duration": 72,
    "start_time": "2022-08-31T08:46:57.402Z"
   },
   {
    "duration": 13,
    "start_time": "2022-08-31T08:46:59.160Z"
   },
   {
    "duration": 8,
    "start_time": "2022-08-31T08:47:00.625Z"
   },
   {
    "duration": 13,
    "start_time": "2022-08-31T08:47:01.903Z"
   },
   {
    "duration": 969,
    "start_time": "2022-08-31T08:47:02.668Z"
   },
   {
    "duration": 1039,
    "start_time": "2022-08-31T08:47:04.449Z"
   },
   {
    "duration": 2,
    "start_time": "2022-08-31T08:47:06.002Z"
   },
   {
    "duration": 3,
    "start_time": "2022-08-31T08:47:07.385Z"
   },
   {
    "duration": 3,
    "start_time": "2022-08-31T08:47:09.156Z"
   },
   {
    "duration": 4,
    "start_time": "2022-08-31T08:47:09.927Z"
   },
   {
    "duration": 8,
    "start_time": "2022-08-31T08:47:10.582Z"
   },
   {
    "duration": 5,
    "start_time": "2022-08-31T08:47:11.285Z"
   },
   {
    "duration": 7,
    "start_time": "2022-08-31T08:47:12.474Z"
   },
   {
    "duration": 124,
    "start_time": "2022-08-31T08:47:13.863Z"
   },
   {
    "duration": 6,
    "start_time": "2022-08-31T08:47:15.174Z"
   },
   {
    "duration": 131,
    "start_time": "2022-08-31T08:47:15.834Z"
   },
   {
    "duration": 31,
    "start_time": "2022-08-31T08:47:17.895Z"
   },
   {
    "duration": 3,
    "start_time": "2022-08-31T08:47:19.474Z"
   },
   {
    "duration": 31,
    "start_time": "2022-08-31T08:47:20.040Z"
   },
   {
    "duration": 170,
    "start_time": "2022-08-31T08:47:21.787Z"
   },
   {
    "duration": 7,
    "start_time": "2022-08-31T08:47:23.051Z"
   },
   {
    "duration": 154,
    "start_time": "2022-08-31T08:47:23.592Z"
   },
   {
    "duration": 203,
    "start_time": "2022-08-31T08:47:25.481Z"
   },
   {
    "duration": 4,
    "start_time": "2022-08-31T08:47:26.528Z"
   },
   {
    "duration": 218,
    "start_time": "2022-08-31T08:47:27.060Z"
   },
   {
    "duration": 6,
    "start_time": "2022-08-31T08:47:28.469Z"
   },
   {
    "duration": 3,
    "start_time": "2022-08-31T08:47:29.168Z"
   },
   {
    "duration": 3,
    "start_time": "2022-08-31T08:47:29.797Z"
   },
   {
    "duration": 7,
    "start_time": "2022-08-31T08:47:30.648Z"
   },
   {
    "duration": 8,
    "start_time": "2022-08-31T08:47:31.251Z"
   },
   {
    "duration": 6,
    "start_time": "2022-08-31T08:47:31.835Z"
   },
   {
    "duration": 5,
    "start_time": "2022-08-31T08:47:33.416Z"
   },
   {
    "duration": 2,
    "start_time": "2022-08-31T08:47:34.142Z"
   },
   {
    "duration": 2,
    "start_time": "2022-08-31T08:47:34.617Z"
   },
   {
    "duration": 30,
    "start_time": "2022-08-31T08:47:35.673Z"
   },
   {
    "duration": 20,
    "start_time": "2022-08-31T08:47:36.304Z"
   },
   {
    "duration": 19,
    "start_time": "2022-08-31T08:47:36.967Z"
   },
   {
    "duration": 4,
    "start_time": "2022-08-31T08:47:38.431Z"
   },
   {
    "duration": 3,
    "start_time": "2022-08-31T08:47:42.593Z"
   },
   {
    "duration": 3,
    "start_time": "2022-08-31T08:47:44.569Z"
   },
   {
    "duration": 3,
    "start_time": "2022-08-31T08:47:45.197Z"
   },
   {
    "duration": 3,
    "start_time": "2022-08-31T08:47:45.824Z"
   },
   {
    "duration": 151,
    "start_time": "2022-08-31T08:47:46.504Z"
   },
   {
    "duration": 20,
    "start_time": "2022-08-31T08:47:48.429Z"
   },
   {
    "duration": 29,
    "start_time": "2022-08-31T08:47:49.132Z"
   },
   {
    "duration": 690,
    "start_time": "2022-08-31T08:47:50.104Z"
   },
   {
    "duration": 627,
    "start_time": "2022-08-31T08:47:50.855Z"
   },
   {
    "duration": 153,
    "start_time": "2022-08-31T08:47:52.903Z"
   },
   {
    "duration": 3,
    "start_time": "2022-08-31T08:47:56.858Z"
   },
   {
    "duration": 6,
    "start_time": "2022-08-31T08:47:57.221Z"
   },
   {
    "duration": 4,
    "start_time": "2022-08-31T08:47:57.603Z"
   },
   {
    "duration": 21,
    "start_time": "2022-08-31T08:47:58.302Z"
   },
   {
    "duration": 5,
    "start_time": "2022-08-31T08:47:58.976Z"
   },
   {
    "duration": 3,
    "start_time": "2022-08-31T08:47:59.986Z"
   },
   {
    "duration": 15,
    "start_time": "2022-08-31T08:48:01.347Z"
   },
   {
    "duration": 628,
    "start_time": "2022-08-31T08:48:03.968Z"
   },
   {
    "duration": 596,
    "start_time": "2022-08-31T08:48:04.659Z"
   },
   {
    "duration": 2,
    "start_time": "2022-08-31T08:48:05.433Z"
   },
   {
    "duration": 2,
    "start_time": "2022-08-31T08:48:05.997Z"
   },
   {
    "duration": 110,
    "start_time": "2022-08-31T08:49:34.774Z"
   },
   {
    "duration": 103,
    "start_time": "2022-08-31T08:49:49.153Z"
   },
   {
    "duration": 114,
    "start_time": "2022-08-31T08:50:07.219Z"
   },
   {
    "duration": 294,
    "start_time": "2022-08-31T08:51:26.474Z"
   },
   {
    "duration": 225,
    "start_time": "2022-08-31T08:51:52.997Z"
   },
   {
    "duration": 101,
    "start_time": "2022-08-31T08:51:58.789Z"
   },
   {
    "duration": 257,
    "start_time": "2022-08-31T08:52:00.401Z"
   },
   {
    "duration": 231,
    "start_time": "2022-08-31T08:52:26.964Z"
   },
   {
    "duration": 111,
    "start_time": "2022-08-31T08:52:43.666Z"
   },
   {
    "duration": 108,
    "start_time": "2022-08-31T08:52:55.952Z"
   },
   {
    "duration": 2,
    "start_time": "2022-08-31T08:53:24.416Z"
   },
   {
    "duration": 120,
    "start_time": "2022-08-31T08:53:27.824Z"
   },
   {
    "duration": 200,
    "start_time": "2022-08-31T08:53:57.592Z"
   },
   {
    "duration": 135,
    "start_time": "2022-08-31T08:54:05.482Z"
   },
   {
    "duration": 188,
    "start_time": "2022-08-31T08:54:35.302Z"
   },
   {
    "duration": 153,
    "start_time": "2022-08-31T08:54:41.128Z"
   },
   {
    "duration": 189,
    "start_time": "2022-08-31T08:54:54.102Z"
   },
   {
    "duration": 132,
    "start_time": "2022-08-31T08:54:58.967Z"
   },
   {
    "duration": 131,
    "start_time": "2022-08-31T09:01:26.276Z"
   },
   {
    "duration": 121,
    "start_time": "2022-08-31T09:01:38.213Z"
   },
   {
    "duration": 130,
    "start_time": "2022-08-31T09:02:03.855Z"
   },
   {
    "duration": 96,
    "start_time": "2022-08-31T09:06:08.800Z"
   },
   {
    "duration": 6,
    "start_time": "2022-08-31T09:06:45.586Z"
   },
   {
    "duration": 3,
    "start_time": "2022-08-31T09:07:42.237Z"
   },
   {
    "duration": 152,
    "start_time": "2022-08-31T09:10:10.197Z"
   },
   {
    "duration": 0,
    "start_time": "2022-08-31T09:10:16.463Z"
   },
   {
    "duration": 6,
    "start_time": "2022-08-31T09:10:44.115Z"
   },
   {
    "duration": 11,
    "start_time": "2022-08-31T09:11:27.910Z"
   },
   {
    "duration": 5,
    "start_time": "2022-08-31T09:11:34.620Z"
   },
   {
    "duration": 4,
    "start_time": "2022-08-31T09:11:39.860Z"
   },
   {
    "duration": 3,
    "start_time": "2022-08-31T09:12:08.495Z"
   },
   {
    "duration": 4,
    "start_time": "2022-08-31T09:12:10.598Z"
   },
   {
    "duration": 4,
    "start_time": "2022-08-31T09:12:15.829Z"
   },
   {
    "duration": 3,
    "start_time": "2022-08-31T09:12:22.759Z"
   },
   {
    "duration": 3,
    "start_time": "2022-08-31T09:12:29.153Z"
   },
   {
    "duration": 22,
    "start_time": "2022-08-31T09:13:22.658Z"
   },
   {
    "duration": 32,
    "start_time": "2022-08-31T09:13:37.241Z"
   },
   {
    "duration": 18,
    "start_time": "2022-08-31T09:13:43.789Z"
   },
   {
    "duration": 16,
    "start_time": "2022-08-31T09:15:52.217Z"
   },
   {
    "duration": 25,
    "start_time": "2022-08-31T09:16:12.124Z"
   },
   {
    "duration": 8,
    "start_time": "2022-08-31T09:18:14.303Z"
   },
   {
    "duration": 4,
    "start_time": "2022-08-31T09:18:24.760Z"
   },
   {
    "duration": 7,
    "start_time": "2022-08-31T09:18:46.502Z"
   },
   {
    "duration": 5,
    "start_time": "2022-08-31T09:19:01.904Z"
   },
   {
    "duration": 6,
    "start_time": "2022-08-31T09:19:13.222Z"
   },
   {
    "duration": 6,
    "start_time": "2022-08-31T09:41:29.557Z"
   },
   {
    "duration": 8,
    "start_time": "2022-08-31T09:41:41.738Z"
   },
   {
    "duration": 13,
    "start_time": "2022-08-31T09:41:55.970Z"
   },
   {
    "duration": 12,
    "start_time": "2022-08-31T09:42:02.930Z"
   },
   {
    "duration": 9,
    "start_time": "2022-08-31T09:42:12.932Z"
   },
   {
    "duration": 69,
    "start_time": "2022-08-31T09:42:41.510Z"
   },
   {
    "duration": 8,
    "start_time": "2022-08-31T09:42:56.089Z"
   },
   {
    "duration": 147,
    "start_time": "2022-08-31T09:43:23.905Z"
   },
   {
    "duration": 166,
    "start_time": "2022-08-31T09:44:07.556Z"
   },
   {
    "duration": 150,
    "start_time": "2022-08-31T09:44:13.831Z"
   },
   {
    "duration": 239,
    "start_time": "2022-08-31T09:44:26.542Z"
   },
   {
    "duration": 159,
    "start_time": "2022-08-31T09:44:41.018Z"
   },
   {
    "duration": 182,
    "start_time": "2022-08-31T09:44:46.858Z"
   },
   {
    "duration": 99,
    "start_time": "2022-08-31T09:45:20.309Z"
   },
   {
    "duration": 151,
    "start_time": "2022-08-31T09:45:26.863Z"
   },
   {
    "duration": 147,
    "start_time": "2022-08-31T09:45:31.868Z"
   },
   {
    "duration": 61,
    "start_time": "2022-08-31T09:45:50.708Z"
   },
   {
    "duration": 158,
    "start_time": "2022-08-31T09:45:54.643Z"
   },
   {
    "duration": 212,
    "start_time": "2022-08-31T09:46:01.385Z"
   },
   {
    "duration": 13,
    "start_time": "2022-08-31T09:47:21.110Z"
   },
   {
    "duration": 17,
    "start_time": "2022-08-31T09:47:30.384Z"
   },
   {
    "duration": 14,
    "start_time": "2022-08-31T09:47:32.403Z"
   },
   {
    "duration": 10,
    "start_time": "2022-08-31T09:49:57.405Z"
   },
   {
    "duration": 9,
    "start_time": "2022-08-31T09:50:02.656Z"
   },
   {
    "duration": 4,
    "start_time": "2022-08-31T09:50:13.315Z"
   },
   {
    "duration": 56,
    "start_time": "2022-08-31T09:52:25.126Z"
   },
   {
    "duration": 4,
    "start_time": "2022-08-31T09:52:34.005Z"
   },
   {
    "duration": 4,
    "start_time": "2022-08-31T09:55:32.999Z"
   },
   {
    "duration": 8,
    "start_time": "2022-08-31T09:57:28.534Z"
   },
   {
    "duration": 13,
    "start_time": "2022-08-31T09:57:30.474Z"
   },
   {
    "duration": 18,
    "start_time": "2022-08-31T09:57:44.816Z"
   },
   {
    "duration": 4,
    "start_time": "2022-08-31T09:57:52.126Z"
   },
   {
    "duration": 28,
    "start_time": "2022-08-31T09:57:54.510Z"
   },
   {
    "duration": 8,
    "start_time": "2022-08-31T09:58:12.145Z"
   },
   {
    "duration": 19,
    "start_time": "2022-08-31T09:58:14.481Z"
   },
   {
    "duration": 3,
    "start_time": "2022-08-31T09:59:08.257Z"
   },
   {
    "duration": 37,
    "start_time": "2022-08-31T09:59:09.762Z"
   },
   {
    "duration": 33,
    "start_time": "2022-08-31T09:59:16.154Z"
   },
   {
    "duration": 8,
    "start_time": "2022-08-31T09:59:38.072Z"
   },
   {
    "duration": 38,
    "start_time": "2022-08-31T09:59:40.013Z"
   },
   {
    "duration": 38,
    "start_time": "2022-08-31T09:59:47.568Z"
   },
   {
    "duration": 28,
    "start_time": "2022-08-31T09:59:56.578Z"
   },
   {
    "duration": 24,
    "start_time": "2022-08-31T10:00:05.262Z"
   },
   {
    "duration": 27,
    "start_time": "2022-08-31T10:00:08.485Z"
   },
   {
    "duration": 35,
    "start_time": "2022-08-31T10:00:18.366Z"
   },
   {
    "duration": 39,
    "start_time": "2022-08-31T10:00:31.816Z"
   },
   {
    "duration": 638,
    "start_time": "2022-08-31T10:01:01.221Z"
   },
   {
    "duration": 46,
    "start_time": "2022-08-31T17:54:30.516Z"
   },
   {
    "duration": 1043,
    "start_time": "2022-08-31T17:54:33.590Z"
   },
   {
    "duration": 73,
    "start_time": "2022-08-31T17:54:35.471Z"
   },
   {
    "duration": 6,
    "start_time": "2022-08-31T17:54:37.956Z"
   },
   {
    "duration": 79,
    "start_time": "2022-08-31T17:55:35.077Z"
   },
   {
    "duration": 88,
    "start_time": "2022-08-31T17:55:59.228Z"
   },
   {
    "duration": 5,
    "start_time": "2022-08-31T17:56:04.501Z"
   },
   {
    "duration": 63,
    "start_time": "2022-08-31T17:58:35.119Z"
   },
   {
    "duration": 12,
    "start_time": "2022-08-31T17:58:45.142Z"
   },
   {
    "duration": 47,
    "start_time": "2022-08-31T18:00:52.668Z"
   },
   {
    "duration": 15,
    "start_time": "2022-08-31T18:06:02.811Z"
   },
   {
    "duration": 15,
    "start_time": "2022-08-31T18:10:15.922Z"
   },
   {
    "duration": 7,
    "start_time": "2022-08-31T18:10:46.072Z"
   },
   {
    "duration": 27,
    "start_time": "2022-08-31T18:17:30.522Z"
   },
   {
    "duration": 19,
    "start_time": "2022-08-31T18:18:57.460Z"
   },
   {
    "duration": 23,
    "start_time": "2022-08-31T18:19:00.538Z"
   },
   {
    "duration": 26,
    "start_time": "2022-08-31T18:19:04.180Z"
   },
   {
    "duration": 30,
    "start_time": "2022-08-31T18:19:42.970Z"
   },
   {
    "duration": 24,
    "start_time": "2022-08-31T18:19:51.330Z"
   },
   {
    "duration": 24,
    "start_time": "2022-08-31T18:20:16.838Z"
   },
   {
    "duration": 27,
    "start_time": "2022-08-31T18:20:36.762Z"
   },
   {
    "duration": 24,
    "start_time": "2022-08-31T18:20:54.427Z"
   },
   {
    "duration": 21,
    "start_time": "2022-08-31T18:21:05.380Z"
   },
   {
    "duration": 107,
    "start_time": "2022-08-31T18:21:22.766Z"
   },
   {
    "duration": 8,
    "start_time": "2022-08-31T18:21:54.165Z"
   },
   {
    "duration": 6,
    "start_time": "2022-08-31T18:21:55.802Z"
   },
   {
    "duration": 13,
    "start_time": "2022-08-31T18:21:58.436Z"
   },
   {
    "duration": 12,
    "start_time": "2022-08-31T18:22:15.546Z"
   },
   {
    "duration": 622,
    "start_time": "2022-08-31T18:22:32.090Z"
   },
   {
    "duration": 596,
    "start_time": "2022-08-31T18:23:01.619Z"
   },
   {
    "duration": 561,
    "start_time": "2022-08-31T18:23:37.583Z"
   },
   {
    "duration": 709,
    "start_time": "2022-08-31T18:23:47.020Z"
   },
   {
    "duration": 594,
    "start_time": "2022-08-31T18:23:56.157Z"
   },
   {
    "duration": 661,
    "start_time": "2022-08-31T18:24:34.280Z"
   },
   {
    "duration": 609,
    "start_time": "2022-08-31T18:24:39.095Z"
   },
   {
    "duration": 481,
    "start_time": "2022-08-31T18:24:58.549Z"
   },
   {
    "duration": 454,
    "start_time": "2022-08-31T18:25:07.019Z"
   },
   {
    "duration": 256,
    "start_time": "2022-08-31T18:26:41.500Z"
   },
   {
    "duration": 246,
    "start_time": "2022-08-31T18:27:52.166Z"
   },
   {
    "duration": 420,
    "start_time": "2022-08-31T18:28:37.954Z"
   },
   {
    "duration": 383,
    "start_time": "2022-08-31T18:29:04.840Z"
   },
   {
    "duration": 270,
    "start_time": "2022-08-31T18:29:28.573Z"
   },
   {
    "duration": 397,
    "start_time": "2022-08-31T18:29:32.376Z"
   },
   {
    "duration": 518,
    "start_time": "2022-08-31T18:29:37.769Z"
   },
   {
    "duration": 489,
    "start_time": "2022-08-31T18:29:52.644Z"
   },
   {
    "duration": 437,
    "start_time": "2022-08-31T18:30:14.640Z"
   },
   {
    "duration": 394,
    "start_time": "2022-08-31T18:34:35.333Z"
   },
   {
    "duration": 596,
    "start_time": "2022-08-31T18:34:46.032Z"
   },
   {
    "duration": 548,
    "start_time": "2022-08-31T18:35:14.039Z"
   },
   {
    "duration": 371,
    "start_time": "2022-08-31T18:35:21.169Z"
   },
   {
    "duration": 671,
    "start_time": "2022-08-31T18:35:39.037Z"
   },
   {
    "duration": 466,
    "start_time": "2022-08-31T18:35:53.589Z"
   },
   {
    "duration": 529,
    "start_time": "2022-08-31T18:36:30.938Z"
   },
   {
    "duration": 506,
    "start_time": "2022-08-31T18:36:47.674Z"
   },
   {
    "duration": 1177,
    "start_time": "2022-08-31T18:37:28.237Z"
   },
   {
    "duration": 510,
    "start_time": "2022-08-31T18:37:59.461Z"
   },
   {
    "duration": 973,
    "start_time": "2022-08-31T18:39:12.762Z"
   },
   {
    "duration": 965,
    "start_time": "2022-08-31T18:39:44.350Z"
   },
   {
    "duration": 967,
    "start_time": "2022-08-31T18:39:55.463Z"
   },
   {
    "duration": 185,
    "start_time": "2022-08-31T18:40:05.020Z"
   },
   {
    "duration": 1017,
    "start_time": "2022-08-31T18:40:10.294Z"
   },
   {
    "duration": 905,
    "start_time": "2022-08-31T18:40:35.218Z"
   },
   {
    "duration": 942,
    "start_time": "2022-08-31T18:41:38.118Z"
   },
   {
    "duration": 943,
    "start_time": "2022-08-31T18:46:36.832Z"
   },
   {
    "duration": 116,
    "start_time": "2022-08-31T18:46:50.219Z"
   },
   {
    "duration": 975,
    "start_time": "2022-08-31T18:46:53.571Z"
   },
   {
    "duration": 889,
    "start_time": "2022-08-31T18:47:52.676Z"
   },
   {
    "duration": 959,
    "start_time": "2022-08-31T18:48:00.144Z"
   },
   {
    "duration": 997,
    "start_time": "2022-08-31T18:48:06.048Z"
   },
   {
    "duration": 969,
    "start_time": "2022-08-31T18:48:21.068Z"
   },
   {
    "duration": 864,
    "start_time": "2022-08-31T18:48:27.183Z"
   },
   {
    "duration": 1055,
    "start_time": "2022-08-31T18:49:37.453Z"
   },
   {
    "duration": 116,
    "start_time": "2022-08-31T18:50:13.735Z"
   },
   {
    "duration": 1077,
    "start_time": "2022-08-31T18:50:17.922Z"
   },
   {
    "duration": 1035,
    "start_time": "2022-08-31T18:51:27.874Z"
   },
   {
    "duration": 1023,
    "start_time": "2022-08-31T18:51:39.785Z"
   },
   {
    "duration": 11,
    "start_time": "2022-08-31T18:55:04.397Z"
   },
   {
    "duration": 81,
    "start_time": "2022-08-31T18:59:22.836Z"
   },
   {
    "duration": 4,
    "start_time": "2022-08-31T18:59:25.058Z"
   },
   {
    "duration": 11,
    "start_time": "2022-08-31T18:59:26.628Z"
   },
   {
    "duration": 21,
    "start_time": "2022-08-31T18:59:28.652Z"
   },
   {
    "duration": 10,
    "start_time": "2022-08-31T18:59:30.054Z"
   },
   {
    "duration": 8,
    "start_time": "2022-08-31T18:59:32.142Z"
   },
   {
    "duration": 13,
    "start_time": "2022-08-31T18:59:33.917Z"
   },
   {
    "duration": 987,
    "start_time": "2022-08-31T18:59:37.287Z"
   },
   {
    "duration": 1113,
    "start_time": "2022-08-31T18:59:39.135Z"
   },
   {
    "duration": 1199,
    "start_time": "2022-08-31T19:00:00.397Z"
   },
   {
    "duration": 1545,
    "start_time": "2022-08-31T19:00:31.863Z"
   },
   {
    "duration": 1291,
    "start_time": "2022-08-31T19:00:41.286Z"
   },
   {
    "duration": 1391,
    "start_time": "2022-08-31T19:00:56.994Z"
   },
   {
    "duration": 1247,
    "start_time": "2022-08-31T19:01:07.305Z"
   },
   {
    "duration": 1247,
    "start_time": "2022-08-31T19:03:16.063Z"
   },
   {
    "duration": 1284,
    "start_time": "2022-08-31T19:03:28.983Z"
   },
   {
    "duration": 1322,
    "start_time": "2022-08-31T19:04:38.724Z"
   },
   {
    "duration": 965,
    "start_time": "2022-08-31T19:05:18.497Z"
   },
   {
    "duration": 1212,
    "start_time": "2022-08-31T19:05:33.485Z"
   },
   {
    "duration": 1255,
    "start_time": "2022-08-31T19:05:48.333Z"
   },
   {
    "duration": 1280,
    "start_time": "2022-08-31T19:30:51.610Z"
   },
   {
    "duration": 9,
    "start_time": "2022-08-31T19:44:36.666Z"
   },
   {
    "duration": 9,
    "start_time": "2022-08-31T19:44:37.198Z"
   },
   {
    "duration": 2,
    "start_time": "2022-08-31T19:44:47.328Z"
   },
   {
    "duration": 6,
    "start_time": "2022-08-31T19:44:48.897Z"
   },
   {
    "duration": 14,
    "start_time": "2022-08-31T19:44:50.793Z"
   },
   {
    "duration": 6,
    "start_time": "2022-08-31T19:44:52.810Z"
   },
   {
    "duration": 4,
    "start_time": "2022-08-31T19:44:58.644Z"
   },
   {
    "duration": 3,
    "start_time": "2022-08-31T19:46:31.892Z"
   },
   {
    "duration": 7,
    "start_time": "2022-08-31T19:46:32.534Z"
   },
   {
    "duration": 3,
    "start_time": "2022-08-31T19:46:48.366Z"
   },
   {
    "duration": 5,
    "start_time": "2022-08-31T19:46:48.884Z"
   },
   {
    "duration": 10,
    "start_time": "2022-08-31T19:46:50.163Z"
   },
   {
    "duration": 6,
    "start_time": "2022-08-31T19:46:50.980Z"
   },
   {
    "duration": 6,
    "start_time": "2022-08-31T19:46:56.562Z"
   },
   {
    "duration": 140,
    "start_time": "2022-08-31T19:48:28.283Z"
   },
   {
    "duration": 193,
    "start_time": "2022-08-31T19:48:42.313Z"
   },
   {
    "duration": 12,
    "start_time": "2022-08-31T19:49:03.707Z"
   },
   {
    "duration": 5,
    "start_time": "2022-08-31T19:49:04.027Z"
   },
   {
    "duration": 7,
    "start_time": "2022-08-31T19:49:10.393Z"
   },
   {
    "duration": 177,
    "start_time": "2022-08-31T19:49:22.075Z"
   },
   {
    "duration": 159,
    "start_time": "2022-08-31T19:49:44.438Z"
   },
   {
    "duration": 5,
    "start_time": "2022-08-31T19:49:55.417Z"
   },
   {
    "duration": 126,
    "start_time": "2022-08-31T19:49:57.883Z"
   },
   {
    "duration": 123,
    "start_time": "2022-08-31T19:50:06.392Z"
   },
   {
    "duration": 29,
    "start_time": "2022-08-31T19:52:16.974Z"
   },
   {
    "duration": 29,
    "start_time": "2022-08-31T19:52:21.154Z"
   },
   {
    "duration": 57,
    "start_time": "2022-08-31T19:52:33.629Z"
   },
   {
    "duration": 56,
    "start_time": "2022-08-31T19:52:33.763Z"
   },
   {
    "duration": 47,
    "start_time": "2022-08-31T19:52:39.602Z"
   },
   {
    "duration": 8,
    "start_time": "2022-08-31T19:53:05.968Z"
   },
   {
    "duration": 57,
    "start_time": "2022-08-31T19:54:20.259Z"
   },
   {
    "duration": 40,
    "start_time": "2022-08-31T19:54:26.603Z"
   },
   {
    "duration": 5,
    "start_time": "2022-08-31T19:54:32.625Z"
   },
   {
    "duration": 9,
    "start_time": "2022-08-31T19:55:18.396Z"
   },
   {
    "duration": 4,
    "start_time": "2022-08-31T19:55:21.172Z"
   },
   {
    "duration": 10,
    "start_time": "2022-08-31T19:55:21.852Z"
   },
   {
    "duration": 171,
    "start_time": "2022-08-31T19:55:44.874Z"
   },
   {
    "duration": 175,
    "start_time": "2022-08-31T19:56:32.792Z"
   },
   {
    "duration": 149,
    "start_time": "2022-08-31T19:56:39.231Z"
   },
   {
    "duration": 104,
    "start_time": "2022-08-31T19:56:55.409Z"
   },
   {
    "duration": 166,
    "start_time": "2022-08-31T19:56:59.412Z"
   },
   {
    "duration": 210,
    "start_time": "2022-08-31T19:57:23.664Z"
   },
   {
    "duration": 0,
    "start_time": "2022-08-31T19:58:03.547Z"
   },
   {
    "duration": 208,
    "start_time": "2022-08-31T19:58:27.214Z"
   },
   {
    "duration": 152,
    "start_time": "2022-08-31T19:58:55.206Z"
   },
   {
    "duration": 234,
    "start_time": "2022-08-31T20:01:01.191Z"
   },
   {
    "duration": 2661,
    "start_time": "2022-08-31T20:01:16.735Z"
   },
   {
    "duration": 956,
    "start_time": "2022-09-01T13:02:17.697Z"
   },
   {
    "duration": 5,
    "start_time": "2022-09-01T13:02:19.464Z"
   },
   {
    "duration": 10,
    "start_time": "2022-09-01T13:02:20.141Z"
   },
   {
    "duration": 13,
    "start_time": "2022-09-01T13:02:21.293Z"
   },
   {
    "duration": 9,
    "start_time": "2022-09-01T13:02:21.900Z"
   },
   {
    "duration": 6,
    "start_time": "2022-09-01T13:02:23.941Z"
   },
   {
    "duration": 10,
    "start_time": "2022-09-01T13:02:26.293Z"
   },
   {
    "duration": 72,
    "start_time": "2022-09-01T13:03:05.578Z"
   },
   {
    "duration": 6,
    "start_time": "2022-09-01T13:03:09.110Z"
   },
   {
    "duration": 121,
    "start_time": "2022-09-01T13:03:14.999Z"
   },
   {
    "duration": 3,
    "start_time": "2022-09-01T13:03:17.396Z"
   },
   {
    "duration": 6,
    "start_time": "2022-09-01T13:03:22.374Z"
   },
   {
    "duration": 12,
    "start_time": "2022-09-01T13:03:26.810Z"
   },
   {
    "duration": 7,
    "start_time": "2022-09-01T13:03:28.610Z"
   },
   {
    "duration": 5,
    "start_time": "2022-09-01T13:03:29.804Z"
   },
   {
    "duration": 10,
    "start_time": "2022-09-01T13:04:55.382Z"
   },
   {
    "duration": 1036,
    "start_time": "2022-09-01T13:04:56.704Z"
   },
   {
    "duration": 2,
    "start_time": "2022-09-01T13:04:59.257Z"
   },
   {
    "duration": 3,
    "start_time": "2022-09-01T13:05:02.332Z"
   },
   {
    "duration": 2,
    "start_time": "2022-09-01T13:05:04.664Z"
   },
   {
    "duration": 5,
    "start_time": "2022-09-01T13:05:05.255Z"
   },
   {
    "duration": 8,
    "start_time": "2022-09-01T13:05:06.224Z"
   },
   {
    "duration": 5,
    "start_time": "2022-09-01T13:05:07.903Z"
   },
   {
    "duration": 5,
    "start_time": "2022-09-01T13:05:15.822Z"
   },
   {
    "duration": 5,
    "start_time": "2022-09-01T13:05:59.242Z"
   },
   {
    "duration": 4,
    "start_time": "2022-09-01T13:06:06.273Z"
   },
   {
    "duration": 4,
    "start_time": "2022-09-01T13:06:09.604Z"
   },
   {
    "duration": 55,
    "start_time": "2022-09-01T13:06:16.157Z"
   },
   {
    "duration": 170,
    "start_time": "2022-09-01T13:06:20.003Z"
   },
   {
    "duration": 5,
    "start_time": "2022-09-01T13:06:24.779Z"
   },
   {
    "duration": 98,
    "start_time": "2022-09-01T13:06:55.654Z"
   },
   {
    "duration": 105,
    "start_time": "2022-09-01T13:07:04.651Z"
   },
   {
    "duration": 5,
    "start_time": "2022-09-01T13:07:12.028Z"
   },
   {
    "duration": 112,
    "start_time": "2022-09-01T13:07:16.334Z"
   },
   {
    "duration": 105,
    "start_time": "2022-09-01T13:07:26.981Z"
   },
   {
    "duration": 105,
    "start_time": "2022-09-01T13:07:59.698Z"
   },
   {
    "duration": 107,
    "start_time": "2022-09-01T13:08:21.988Z"
   },
   {
    "duration": 161,
    "start_time": "2022-09-01T13:08:53.827Z"
   },
   {
    "duration": 7,
    "start_time": "2022-09-01T13:09:09.119Z"
   },
   {
    "duration": 5,
    "start_time": "2022-09-01T13:09:19.096Z"
   },
   {
    "duration": 4,
    "start_time": "2022-09-01T13:09:23.658Z"
   },
   {
    "duration": 8,
    "start_time": "2022-09-01T13:09:30.094Z"
   },
   {
    "duration": 124,
    "start_time": "2022-09-01T13:09:37.637Z"
   },
   {
    "duration": 4,
    "start_time": "2022-09-01T13:09:44.773Z"
   },
   {
    "duration": 110,
    "start_time": "2022-09-01T13:09:53.039Z"
   },
   {
    "duration": 173,
    "start_time": "2022-09-01T13:10:12.406Z"
   },
   {
    "duration": 4,
    "start_time": "2022-09-01T13:11:15.495Z"
   },
   {
    "duration": 166,
    "start_time": "2022-09-01T13:11:19.424Z"
   },
   {
    "duration": 152,
    "start_time": "2022-09-01T13:11:38.526Z"
   },
   {
    "duration": 5,
    "start_time": "2022-09-01T13:12:54.328Z"
   },
   {
    "duration": 2,
    "start_time": "2022-09-01T13:14:10.023Z"
   },
   {
    "duration": 160,
    "start_time": "2022-09-01T13:18:29.843Z"
   },
   {
    "duration": 229,
    "start_time": "2022-09-01T13:18:35.063Z"
   },
   {
    "duration": 159,
    "start_time": "2022-09-01T13:18:38.301Z"
   },
   {
    "duration": 141,
    "start_time": "2022-09-01T13:24:27.834Z"
   },
   {
    "duration": 1081,
    "start_time": "2022-09-01T13:24:43.101Z"
   },
   {
    "duration": 163,
    "start_time": "2022-09-01T13:27:08.774Z"
   },
   {
    "duration": 6,
    "start_time": "2022-09-01T13:28:17.733Z"
   },
   {
    "duration": 5,
    "start_time": "2022-09-01T13:30:07.115Z"
   },
   {
    "duration": 7,
    "start_time": "2022-09-01T13:30:37.494Z"
   },
   {
    "duration": 10,
    "start_time": "2022-09-01T13:30:37.912Z"
   },
   {
    "duration": 7,
    "start_time": "2022-09-01T13:30:38.363Z"
   },
   {
    "duration": 6,
    "start_time": "2022-09-01T13:33:53.356Z"
   },
   {
    "duration": 6,
    "start_time": "2022-09-01T13:33:57.430Z"
   },
   {
    "duration": 5,
    "start_time": "2022-09-01T13:34:01.883Z"
   },
   {
    "duration": 136,
    "start_time": "2022-09-01T13:34:17.798Z"
   },
   {
    "duration": 3,
    "start_time": "2022-09-01T13:34:19.299Z"
   },
   {
    "duration": 7,
    "start_time": "2022-09-01T13:34:20.249Z"
   },
   {
    "duration": 14,
    "start_time": "2022-09-01T13:34:21.764Z"
   },
   {
    "duration": 9,
    "start_time": "2022-09-01T13:34:22.850Z"
   },
   {
    "duration": 5,
    "start_time": "2022-09-01T13:34:23.904Z"
   },
   {
    "duration": 11,
    "start_time": "2022-09-01T13:34:25.426Z"
   },
   {
    "duration": 1020,
    "start_time": "2022-09-01T13:34:26.323Z"
   },
   {
    "duration": 2,
    "start_time": "2022-09-01T13:34:28.072Z"
   },
   {
    "duration": 3,
    "start_time": "2022-09-01T13:34:29.159Z"
   },
   {
    "duration": 3,
    "start_time": "2022-09-01T13:34:30.978Z"
   },
   {
    "duration": 6,
    "start_time": "2022-09-01T13:34:31.404Z"
   },
   {
    "duration": 8,
    "start_time": "2022-09-01T13:34:33.190Z"
   },
   {
    "duration": 5,
    "start_time": "2022-09-01T13:34:33.604Z"
   },
   {
    "duration": 6,
    "start_time": "2022-09-01T13:34:34.786Z"
   },
   {
    "duration": 165,
    "start_time": "2022-09-01T13:34:36.467Z"
   },
   {
    "duration": 5,
    "start_time": "2022-09-01T13:34:39.895Z"
   },
   {
    "duration": 107,
    "start_time": "2022-09-01T13:34:40.597Z"
   },
   {
    "duration": 10,
    "start_time": "2022-09-01T13:34:44.473Z"
   },
   {
    "duration": 6,
    "start_time": "2022-09-01T13:34:45.912Z"
   },
   {
    "duration": 6,
    "start_time": "2022-09-01T13:34:49.438Z"
   },
   {
    "duration": 8,
    "start_time": "2022-09-01T13:34:49.766Z"
   },
   {
    "duration": 125,
    "start_time": "2022-09-01T13:35:10.606Z"
   },
   {
    "duration": 4,
    "start_time": "2022-09-01T13:35:12.862Z"
   },
   {
    "duration": 110,
    "start_time": "2022-09-01T13:35:14.788Z"
   },
   {
    "duration": 25,
    "start_time": "2022-09-01T13:35:27.489Z"
   },
   {
    "duration": 18,
    "start_time": "2022-09-01T13:35:28.924Z"
   },
   {
    "duration": 17,
    "start_time": "2022-09-01T13:35:31.890Z"
   },
   {
    "duration": 16,
    "start_time": "2022-09-01T13:35:39.236Z"
   },
   {
    "duration": 76,
    "start_time": "2022-09-01T13:35:57.561Z"
   },
   {
    "duration": 3,
    "start_time": "2022-09-01T14:11:34.959Z"
   },
   {
    "duration": 3,
    "start_time": "2022-09-01T14:11:39.683Z"
   },
   {
    "duration": 36,
    "start_time": "2022-09-01T14:11:54.687Z"
   },
   {
    "duration": 14,
    "start_time": "2022-09-01T14:12:22.573Z"
   },
   {
    "duration": 7,
    "start_time": "2022-09-01T14:13:24.571Z"
   },
   {
    "duration": 8,
    "start_time": "2022-09-01T14:13:30.443Z"
   },
   {
    "duration": 9,
    "start_time": "2022-09-01T14:15:54.905Z"
   },
   {
    "duration": 7,
    "start_time": "2022-09-01T14:16:04.881Z"
   },
   {
    "duration": 6,
    "start_time": "2022-09-01T14:16:31.009Z"
   },
   {
    "duration": 7,
    "start_time": "2022-09-01T14:16:43.347Z"
   },
   {
    "duration": 11,
    "start_time": "2022-09-01T14:17:01.186Z"
   },
   {
    "duration": 6,
    "start_time": "2022-09-01T14:17:09.738Z"
   },
   {
    "duration": 3,
    "start_time": "2022-09-01T14:17:24.781Z"
   },
   {
    "duration": 7,
    "start_time": "2022-09-01T14:17:28.520Z"
   },
   {
    "duration": 6,
    "start_time": "2022-09-01T14:17:34.339Z"
   },
   {
    "duration": 8,
    "start_time": "2022-09-01T14:21:16.354Z"
   },
   {
    "duration": 9,
    "start_time": "2022-09-01T14:21:20.783Z"
   },
   {
    "duration": 10,
    "start_time": "2022-09-01T14:21:27.107Z"
   },
   {
    "duration": 11,
    "start_time": "2022-09-01T14:21:59.876Z"
   },
   {
    "duration": 14,
    "start_time": "2022-09-01T14:23:22.611Z"
   },
   {
    "duration": 10,
    "start_time": "2022-09-01T14:23:35.885Z"
   },
   {
    "duration": 5,
    "start_time": "2022-09-01T14:23:39.992Z"
   },
   {
    "duration": 4,
    "start_time": "2022-09-01T14:23:42.339Z"
   },
   {
    "duration": 7,
    "start_time": "2022-09-01T14:36:19.741Z"
   },
   {
    "duration": 15,
    "start_time": "2022-09-01T14:36:24.793Z"
   },
   {
    "duration": 28,
    "start_time": "2022-09-01T14:36:26.206Z"
   },
   {
    "duration": 406,
    "start_time": "2022-09-01T14:36:27.593Z"
   },
   {
    "duration": 492,
    "start_time": "2022-09-01T14:36:32.071Z"
   },
   {
    "duration": 117,
    "start_time": "2022-09-01T14:36:34.791Z"
   },
   {
    "duration": 3,
    "start_time": "2022-09-01T14:36:36.165Z"
   },
   {
    "duration": 5,
    "start_time": "2022-09-01T14:36:36.531Z"
   },
   {
    "duration": 423,
    "start_time": "2022-09-01T14:39:36.225Z"
   },
   {
    "duration": 479,
    "start_time": "2022-09-01T14:39:44.351Z"
   },
   {
    "duration": 409,
    "start_time": "2022-09-01T14:39:47.815Z"
   },
   {
    "duration": 8,
    "start_time": "2022-09-01T14:42:01.334Z"
   },
   {
    "duration": 12,
    "start_time": "2022-09-01T14:42:08.067Z"
   },
   {
    "duration": 4,
    "start_time": "2022-09-01T14:42:40.282Z"
   },
   {
    "duration": 3,
    "start_time": "2022-09-01T14:42:40.761Z"
   },
   {
    "duration": 3,
    "start_time": "2022-09-01T14:42:41.582Z"
   },
   {
    "duration": 147,
    "start_time": "2022-09-01T14:42:44.228Z"
   },
   {
    "duration": 19,
    "start_time": "2022-09-01T14:42:46.849Z"
   },
   {
    "duration": 37,
    "start_time": "2022-09-01T14:42:47.300Z"
   },
   {
    "duration": 430,
    "start_time": "2022-09-01T14:42:47.743Z"
   },
   {
    "duration": 506,
    "start_time": "2022-09-01T14:42:48.227Z"
   },
   {
    "duration": 123,
    "start_time": "2022-09-01T14:42:50.264Z"
   },
   {
    "duration": 16,
    "start_time": "2022-09-01T14:42:55.632Z"
   },
   {
    "duration": 12,
    "start_time": "2022-09-01T14:42:57.730Z"
   },
   {
    "duration": 14,
    "start_time": "2022-09-01T14:43:03.697Z"
   },
   {
    "duration": 17,
    "start_time": "2022-09-01T14:43:54.384Z"
   },
   {
    "duration": 544,
    "start_time": "2022-09-01T14:44:15.389Z"
   },
   {
    "duration": 671,
    "start_time": "2022-09-01T14:44:32.500Z"
   },
   {
    "duration": 12,
    "start_time": "2022-09-01T14:50:21.127Z"
   },
   {
    "duration": 23,
    "start_time": "2022-09-01T14:51:12.596Z"
   },
   {
    "duration": 12,
    "start_time": "2022-09-01T14:51:21.335Z"
   },
   {
    "duration": 21,
    "start_time": "2022-09-01T14:51:29.304Z"
   },
   {
    "duration": 15,
    "start_time": "2022-09-01T14:51:34.075Z"
   },
   {
    "duration": 13,
    "start_time": "2022-09-01T14:51:39.643Z"
   },
   {
    "duration": 14,
    "start_time": "2022-09-01T14:51:47.668Z"
   },
   {
    "duration": 15,
    "start_time": "2022-09-01T14:51:51.875Z"
   },
   {
    "duration": 1225,
    "start_time": "2022-09-01T14:52:00.165Z"
   },
   {
    "duration": 15,
    "start_time": "2022-09-01T14:52:14.131Z"
   },
   {
    "duration": 27,
    "start_time": "2022-09-01T14:52:25.544Z"
   },
   {
    "duration": 17,
    "start_time": "2022-09-01T14:52:26.738Z"
   },
   {
    "duration": 35,
    "start_time": "2022-09-01T14:52:45.803Z"
   },
   {
    "duration": 18,
    "start_time": "2022-09-01T14:52:52.985Z"
   },
   {
    "duration": 76,
    "start_time": "2022-09-01T14:53:02.791Z"
   },
   {
    "duration": 18,
    "start_time": "2022-09-01T14:53:04.139Z"
   },
   {
    "duration": 17,
    "start_time": "2022-09-01T14:53:15.544Z"
   },
   {
    "duration": 13,
    "start_time": "2022-09-01T14:53:20.742Z"
   },
   {
    "duration": 13,
    "start_time": "2022-09-01T14:53:40.240Z"
   },
   {
    "duration": 18,
    "start_time": "2022-09-01T14:53:46.723Z"
   },
   {
    "duration": 13,
    "start_time": "2022-09-01T14:54:03.794Z"
   },
   {
    "duration": 21,
    "start_time": "2022-09-01T14:54:23.509Z"
   },
   {
    "duration": 13,
    "start_time": "2022-09-01T14:54:31.360Z"
   },
   {
    "duration": 19,
    "start_time": "2022-09-01T14:54:53.238Z"
   },
   {
    "duration": 14,
    "start_time": "2022-09-01T14:54:59.239Z"
   },
   {
    "duration": 13,
    "start_time": "2022-09-01T14:57:47.227Z"
   },
   {
    "duration": 1519,
    "start_time": "2022-09-01T14:58:04.650Z"
   },
   {
    "duration": 1088,
    "start_time": "2022-09-01T14:58:16.854Z"
   },
   {
    "duration": 25,
    "start_time": "2022-09-01T14:58:30.997Z"
   },
   {
    "duration": 12,
    "start_time": "2022-09-01T15:06:07.576Z"
   },
   {
    "duration": 588,
    "start_time": "2022-09-01T15:06:12.980Z"
   },
   {
    "duration": 14,
    "start_time": "2022-09-01T15:06:16.595Z"
   },
   {
    "duration": 13,
    "start_time": "2022-09-01T15:06:26.024Z"
   },
   {
    "duration": 12,
    "start_time": "2022-09-01T15:06:28.634Z"
   },
   {
    "duration": 14,
    "start_time": "2022-09-01T15:06:31.867Z"
   },
   {
    "duration": 20,
    "start_time": "2022-09-01T15:06:38.902Z"
   },
   {
    "duration": 19,
    "start_time": "2022-09-01T15:06:49.080Z"
   },
   {
    "duration": 27,
    "start_time": "2022-09-01T15:06:55.712Z"
   },
   {
    "duration": 13,
    "start_time": "2022-09-01T15:07:02.152Z"
   },
   {
    "duration": 14,
    "start_time": "2022-09-01T15:07:08.873Z"
   },
   {
    "duration": 13,
    "start_time": "2022-09-01T15:07:11.526Z"
   },
   {
    "duration": 15,
    "start_time": "2022-09-01T15:07:14.500Z"
   },
   {
    "duration": 13,
    "start_time": "2022-09-01T15:07:21.233Z"
   },
   {
    "duration": 15,
    "start_time": "2022-09-01T15:07:26.371Z"
   },
   {
    "duration": 12,
    "start_time": "2022-09-01T15:07:39.382Z"
   },
   {
    "duration": 12,
    "start_time": "2022-09-01T15:10:42.923Z"
   },
   {
    "duration": 44,
    "start_time": "2022-09-01T15:13:26.933Z"
   },
   {
    "duration": 3,
    "start_time": "2022-09-01T15:13:32.889Z"
   },
   {
    "duration": 49,
    "start_time": "2022-09-01T15:13:37.051Z"
   },
   {
    "duration": 12,
    "start_time": "2022-09-01T15:13:39.881Z"
   },
   {
    "duration": 17,
    "start_time": "2022-09-01T15:15:38.673Z"
   },
   {
    "duration": 15,
    "start_time": "2022-09-01T15:15:45.630Z"
   },
   {
    "duration": 2,
    "start_time": "2022-09-01T15:16:05.964Z"
   },
   {
    "duration": 12,
    "start_time": "2022-09-01T15:17:02.949Z"
   },
   {
    "duration": 50,
    "start_time": "2022-09-01T15:18:46.559Z"
   },
   {
    "duration": 21,
    "start_time": "2022-09-01T15:18:49.905Z"
   },
   {
    "duration": 17,
    "start_time": "2022-09-01T15:18:55.324Z"
   },
   {
    "duration": 13,
    "start_time": "2022-09-01T15:19:02.674Z"
   },
   {
    "duration": 14,
    "start_time": "2022-09-01T15:19:50.233Z"
   },
   {
    "duration": 14,
    "start_time": "2022-09-01T15:20:05.868Z"
   },
   {
    "duration": 10,
    "start_time": "2022-09-01T15:20:33.477Z"
   },
   {
    "duration": 11,
    "start_time": "2022-09-01T15:20:42.781Z"
   },
   {
    "duration": 12,
    "start_time": "2022-09-01T15:21:20.661Z"
   },
   {
    "duration": 14,
    "start_time": "2022-09-01T15:21:54.546Z"
   },
   {
    "duration": 3,
    "start_time": "2022-09-01T15:22:12.743Z"
   },
   {
    "duration": 3,
    "start_time": "2022-09-01T15:22:13.548Z"
   },
   {
    "duration": 3,
    "start_time": "2022-09-01T15:22:13.893Z"
   },
   {
    "duration": 147,
    "start_time": "2022-09-01T15:22:14.502Z"
   },
   {
    "duration": 17,
    "start_time": "2022-09-01T15:22:15.472Z"
   },
   {
    "duration": 26,
    "start_time": "2022-09-01T15:22:16.130Z"
   },
   {
    "duration": 465,
    "start_time": "2022-09-01T15:22:17.090Z"
   },
   {
    "duration": 419,
    "start_time": "2022-09-01T15:22:17.838Z"
   },
   {
    "duration": 132,
    "start_time": "2022-09-01T15:22:19.295Z"
   },
   {
    "duration": 15,
    "start_time": "2022-09-01T15:22:19.979Z"
   },
   {
    "duration": 3,
    "start_time": "2022-09-01T15:22:21.690Z"
   },
   {
    "duration": 13,
    "start_time": "2022-09-01T15:22:22.238Z"
   },
   {
    "duration": 15,
    "start_time": "2022-09-01T15:22:32.147Z"
   },
   {
    "duration": 4,
    "start_time": "2022-09-01T15:23:07.258Z"
   },
   {
    "duration": 3,
    "start_time": "2022-09-01T15:23:09.450Z"
   },
   {
    "duration": 14,
    "start_time": "2022-09-01T15:23:09.953Z"
   },
   {
    "duration": 3,
    "start_time": "2022-09-01T15:23:18.563Z"
   },
   {
    "duration": 22,
    "start_time": "2022-09-01T15:23:20.406Z"
   },
   {
    "duration": 3,
    "start_time": "2022-09-01T15:23:51.694Z"
   },
   {
    "duration": 3,
    "start_time": "2022-09-01T15:23:59.235Z"
   },
   {
    "duration": 4,
    "start_time": "2022-09-01T15:24:02.923Z"
   },
   {
    "duration": 8,
    "start_time": "2022-09-01T15:24:08.109Z"
   },
   {
    "duration": 8,
    "start_time": "2022-09-01T15:24:31.085Z"
   },
   {
    "duration": 5,
    "start_time": "2022-09-01T15:24:40.596Z"
   },
   {
    "duration": 8,
    "start_time": "2022-09-01T15:24:51.990Z"
   },
   {
    "duration": 4,
    "start_time": "2022-09-01T15:25:02.149Z"
   },
   {
    "duration": 5,
    "start_time": "2022-09-01T15:25:11.237Z"
   },
   {
    "duration": 10,
    "start_time": "2022-09-01T15:25:37.895Z"
   },
   {
    "duration": 5,
    "start_time": "2022-09-01T15:25:39.404Z"
   },
   {
    "duration": 5,
    "start_time": "2022-09-01T15:25:45.449Z"
   },
   {
    "duration": 4,
    "start_time": "2022-09-01T15:26:16.428Z"
   },
   {
    "duration": 5,
    "start_time": "2022-09-01T15:26:32.603Z"
   },
   {
    "duration": 9,
    "start_time": "2022-09-01T15:27:34.670Z"
   },
   {
    "duration": 9,
    "start_time": "2022-09-01T15:27:46.987Z"
   },
   {
    "duration": 5,
    "start_time": "2022-09-01T15:27:48.825Z"
   },
   {
    "duration": 7,
    "start_time": "2022-09-01T15:28:09.326Z"
   },
   {
    "duration": 6,
    "start_time": "2022-09-01T15:28:12.589Z"
   },
   {
    "duration": 5,
    "start_time": "2022-09-01T15:28:17.470Z"
   },
   {
    "duration": 1422,
    "start_time": "2022-09-01T15:29:18.032Z"
   },
   {
    "duration": 4,
    "start_time": "2022-09-01T15:29:19.895Z"
   },
   {
    "duration": 1060,
    "start_time": "2022-09-01T15:29:21.628Z"
   },
   {
    "duration": 825,
    "start_time": "2022-09-01T15:29:33.500Z"
   },
   {
    "duration": 1537,
    "start_time": "2022-09-01T15:29:37.258Z"
   },
   {
    "duration": 14,
    "start_time": "2022-09-01T15:30:23.573Z"
   },
   {
    "duration": 12,
    "start_time": "2022-09-01T15:31:45.776Z"
   },
   {
    "duration": 14,
    "start_time": "2022-09-01T15:31:53.654Z"
   },
   {
    "duration": 3,
    "start_time": "2022-09-01T15:35:15.524Z"
   },
   {
    "duration": 5,
    "start_time": "2022-09-01T15:35:16.804Z"
   },
   {
    "duration": 313,
    "start_time": "2022-09-01T15:35:20.158Z"
   },
   {
    "duration": 4,
    "start_time": "2022-09-01T15:35:22.856Z"
   },
   {
    "duration": 2,
    "start_time": "2022-09-01T15:35:26.986Z"
   },
   {
    "duration": 3,
    "start_time": "2022-09-01T15:35:32.496Z"
   },
   {
    "duration": 4,
    "start_time": "2022-09-01T15:36:05.660Z"
   },
   {
    "duration": 5,
    "start_time": "2022-09-01T15:36:07.188Z"
   },
   {
    "duration": 5,
    "start_time": "2022-09-01T15:36:08.903Z"
   },
   {
    "duration": 3,
    "start_time": "2022-09-01T15:36:10.161Z"
   },
   {
    "duration": 5,
    "start_time": "2022-09-01T15:36:11.809Z"
   },
   {
    "duration": 15,
    "start_time": "2022-09-01T15:36:13.430Z"
   },
   {
    "duration": 6,
    "start_time": "2022-09-01T15:37:03.942Z"
   },
   {
    "duration": 8,
    "start_time": "2022-09-01T15:37:09.688Z"
   },
   {
    "duration": 5,
    "start_time": "2022-09-01T15:37:19.824Z"
   },
   {
    "duration": 3,
    "start_time": "2022-09-01T15:37:31.642Z"
   },
   {
    "duration": 5,
    "start_time": "2022-09-01T15:37:31.980Z"
   },
   {
    "duration": 5,
    "start_time": "2022-09-01T15:37:32.938Z"
   },
   {
    "duration": 14,
    "start_time": "2022-09-01T15:37:33.609Z"
   },
   {
    "duration": 4,
    "start_time": "2022-09-01T15:37:37.865Z"
   },
   {
    "duration": 5,
    "start_time": "2022-09-01T15:37:57.546Z"
   },
   {
    "duration": 5,
    "start_time": "2022-09-01T15:38:02.246Z"
   },
   {
    "duration": 8,
    "start_time": "2022-09-01T15:38:06.524Z"
   },
   {
    "duration": 47,
    "start_time": "2022-09-01T15:38:22.492Z"
   },
   {
    "duration": 3,
    "start_time": "2022-09-01T15:38:22.695Z"
   },
   {
    "duration": 4,
    "start_time": "2022-09-01T15:38:22.896Z"
   },
   {
    "duration": 4,
    "start_time": "2022-09-01T15:38:23.324Z"
   },
   {
    "duration": 8,
    "start_time": "2022-09-01T15:38:24.078Z"
   },
   {
    "duration": 3,
    "start_time": "2022-09-01T15:38:28.085Z"
   },
   {
    "duration": 5,
    "start_time": "2022-09-01T15:38:28.495Z"
   },
   {
    "duration": 65,
    "start_time": "2022-09-01T15:38:33.460Z"
   },
   {
    "duration": 77,
    "start_time": "2022-09-01T15:38:36.448Z"
   },
   {
    "duration": 12,
    "start_time": "2022-09-01T15:38:38.634Z"
   },
   {
    "duration": 3,
    "start_time": "2022-09-01T15:38:39.348Z"
   },
   {
    "duration": 4,
    "start_time": "2022-09-01T15:38:39.724Z"
   },
   {
    "duration": 4,
    "start_time": "2022-09-01T15:38:41.340Z"
   },
   {
    "duration": 7,
    "start_time": "2022-09-01T15:38:41.984Z"
   },
   {
    "duration": 7,
    "start_time": "2022-09-01T15:39:10.673Z"
   },
   {
    "duration": 9,
    "start_time": "2022-09-01T15:39:31.504Z"
   },
   {
    "duration": 14,
    "start_time": "2022-09-01T15:39:35.465Z"
   },
   {
    "duration": 5,
    "start_time": "2022-09-01T15:39:44.717Z"
   },
   {
    "duration": 4,
    "start_time": "2022-09-01T15:39:46.438Z"
   },
   {
    "duration": 5,
    "start_time": "2022-09-01T15:39:47.631Z"
   },
   {
    "duration": 14,
    "start_time": "2022-09-01T15:39:50.177Z"
   },
   {
    "duration": 12,
    "start_time": "2022-09-01T15:40:08.310Z"
   },
   {
    "duration": 4,
    "start_time": "2022-09-01T15:40:08.878Z"
   },
   {
    "duration": 5,
    "start_time": "2022-09-01T15:40:09.975Z"
   },
   {
    "duration": 5,
    "start_time": "2022-09-01T15:40:11.961Z"
   },
   {
    "duration": 15,
    "start_time": "2022-09-01T15:40:23.581Z"
   },
   {
    "duration": 647,
    "start_time": "2022-09-01T15:40:50.961Z"
   },
   {
    "duration": 13,
    "start_time": "2022-09-01T15:40:51.610Z"
   },
   {
    "duration": 13,
    "start_time": "2022-09-01T15:40:51.625Z"
   },
   {
    "duration": 13,
    "start_time": "2022-09-01T15:40:51.640Z"
   },
   {
    "duration": 8,
    "start_time": "2022-09-01T15:40:51.654Z"
   },
   {
    "duration": 23,
    "start_time": "2022-09-01T15:40:51.664Z"
   },
   {
    "duration": 12,
    "start_time": "2022-09-01T15:40:51.688Z"
   },
   {
    "duration": 1132,
    "start_time": "2022-09-01T15:40:51.702Z"
   },
   {
    "duration": 3,
    "start_time": "2022-09-01T15:40:52.835Z"
   },
   {
    "duration": 7,
    "start_time": "2022-09-01T15:40:52.841Z"
   },
   {
    "duration": 7,
    "start_time": "2022-09-01T15:40:52.850Z"
   },
   {
    "duration": 6,
    "start_time": "2022-09-01T15:40:52.859Z"
   },
   {
    "duration": 9,
    "start_time": "2022-09-01T15:40:52.866Z"
   },
   {
    "duration": 9,
    "start_time": "2022-09-01T15:40:52.876Z"
   },
   {
    "duration": 12,
    "start_time": "2022-09-01T15:40:52.886Z"
   },
   {
    "duration": 115,
    "start_time": "2022-09-01T15:40:52.912Z"
   },
   {
    "duration": 6,
    "start_time": "2022-09-01T15:40:53.029Z"
   },
   {
    "duration": 127,
    "start_time": "2022-09-01T15:40:53.036Z"
   },
   {
    "duration": 7,
    "start_time": "2022-09-01T15:40:53.164Z"
   },
   {
    "duration": 17,
    "start_time": "2022-09-01T15:40:53.172Z"
   },
   {
    "duration": 7,
    "start_time": "2022-09-01T15:40:53.190Z"
   },
   {
    "duration": 24,
    "start_time": "2022-09-01T15:40:53.198Z"
   },
   {
    "duration": 132,
    "start_time": "2022-09-01T15:40:53.224Z"
   },
   {
    "duration": 5,
    "start_time": "2022-09-01T15:40:53.358Z"
   },
   {
    "duration": 120,
    "start_time": "2022-09-01T15:40:53.364Z"
   },
   {
    "duration": 177,
    "start_time": "2022-09-01T15:40:53.486Z"
   },
   {
    "duration": 4,
    "start_time": "2022-09-01T15:40:53.664Z"
   },
   {
    "duration": 214,
    "start_time": "2022-09-01T15:40:53.672Z"
   },
   {
    "duration": 4,
    "start_time": "2022-09-01T15:40:53.888Z"
   },
   {
    "duration": 11,
    "start_time": "2022-09-01T15:40:53.893Z"
   },
   {
    "duration": 18,
    "start_time": "2022-09-01T15:40:53.905Z"
   },
   {
    "duration": 16,
    "start_time": "2022-09-01T15:40:53.925Z"
   },
   {
    "duration": 7,
    "start_time": "2022-09-01T15:40:53.942Z"
   },
   {
    "duration": 5,
    "start_time": "2022-09-01T15:40:53.951Z"
   },
   {
    "duration": 16,
    "start_time": "2022-09-01T15:40:53.958Z"
   },
   {
    "duration": 5,
    "start_time": "2022-09-01T15:40:53.975Z"
   },
   {
    "duration": 8,
    "start_time": "2022-09-01T15:40:53.982Z"
   },
   {
    "duration": 47,
    "start_time": "2022-09-01T15:40:53.991Z"
   },
   {
    "duration": 17,
    "start_time": "2022-09-01T15:40:54.039Z"
   },
   {
    "duration": 15,
    "start_time": "2022-09-01T15:40:54.057Z"
   },
   {
    "duration": 3,
    "start_time": "2022-09-01T15:40:54.073Z"
   },
   {
    "duration": 14,
    "start_time": "2022-09-01T15:40:54.077Z"
   },
   {
    "duration": 7,
    "start_time": "2022-09-01T15:40:54.092Z"
   },
   {
    "duration": 22,
    "start_time": "2022-09-01T15:40:54.100Z"
   },
   {
    "duration": 5,
    "start_time": "2022-09-01T15:40:54.124Z"
   },
   {
    "duration": 141,
    "start_time": "2022-09-01T15:40:54.131Z"
   },
   {
    "duration": 15,
    "start_time": "2022-09-01T15:40:54.274Z"
   },
   {
    "duration": 33,
    "start_time": "2022-09-01T15:40:54.290Z"
   },
   {
    "duration": 428,
    "start_time": "2022-09-01T15:40:54.325Z"
   },
   {
    "duration": 417,
    "start_time": "2022-09-01T15:40:54.755Z"
   },
   {
    "duration": 124,
    "start_time": "2022-09-01T15:40:55.174Z"
   },
   {
    "duration": 32,
    "start_time": "2022-09-01T15:40:55.300Z"
   },
   {
    "duration": 3,
    "start_time": "2022-09-01T15:40:55.333Z"
   },
   {
    "duration": 1465,
    "start_time": "2022-09-01T15:40:55.338Z"
   },
   {
    "duration": 0,
    "start_time": "2022-09-01T15:40:56.805Z"
   },
   {
    "duration": 0,
    "start_time": "2022-09-01T15:40:56.806Z"
   },
   {
    "duration": 0,
    "start_time": "2022-09-01T15:40:56.807Z"
   },
   {
    "duration": 0,
    "start_time": "2022-09-01T15:40:56.808Z"
   },
   {
    "duration": 0,
    "start_time": "2022-09-01T15:40:56.808Z"
   },
   {
    "duration": 0,
    "start_time": "2022-09-01T15:40:56.809Z"
   },
   {
    "duration": 0,
    "start_time": "2022-09-01T15:40:56.814Z"
   },
   {
    "duration": 0,
    "start_time": "2022-09-01T15:40:56.814Z"
   },
   {
    "duration": 0,
    "start_time": "2022-09-01T15:40:56.815Z"
   },
   {
    "duration": 0,
    "start_time": "2022-09-01T15:40:56.816Z"
   },
   {
    "duration": 0,
    "start_time": "2022-09-01T15:40:56.816Z"
   },
   {
    "duration": 0,
    "start_time": "2022-09-01T15:40:56.817Z"
   },
   {
    "duration": 0,
    "start_time": "2022-09-01T15:40:56.817Z"
   },
   {
    "duration": 0,
    "start_time": "2022-09-01T15:40:56.818Z"
   },
   {
    "duration": 0,
    "start_time": "2022-09-01T15:40:56.818Z"
   },
   {
    "duration": 0,
    "start_time": "2022-09-01T15:40:56.819Z"
   },
   {
    "duration": 0,
    "start_time": "2022-09-01T15:40:56.819Z"
   },
   {
    "duration": 0,
    "start_time": "2022-09-01T15:40:56.820Z"
   },
   {
    "duration": 0,
    "start_time": "2022-09-01T15:40:56.820Z"
   },
   {
    "duration": 0,
    "start_time": "2022-09-01T15:40:56.823Z"
   },
   {
    "duration": 0,
    "start_time": "2022-09-01T15:40:56.824Z"
   },
   {
    "duration": 0,
    "start_time": "2022-09-01T15:40:56.825Z"
   },
   {
    "duration": 0,
    "start_time": "2022-09-01T15:40:56.826Z"
   },
   {
    "duration": 0,
    "start_time": "2022-09-01T15:40:56.827Z"
   },
   {
    "duration": 0,
    "start_time": "2022-09-01T15:40:56.828Z"
   },
   {
    "duration": 0,
    "start_time": "2022-09-01T15:40:56.829Z"
   },
   {
    "duration": 0,
    "start_time": "2022-09-01T15:40:56.830Z"
   },
   {
    "duration": 1,
    "start_time": "2022-09-01T15:40:56.830Z"
   },
   {
    "duration": 0,
    "start_time": "2022-09-01T15:40:56.831Z"
   },
   {
    "duration": 3,
    "start_time": "2022-09-01T15:41:23.186Z"
   },
   {
    "duration": 1225,
    "start_time": "2022-09-01T15:41:23.637Z"
   },
   {
    "duration": 14,
    "start_time": "2022-09-01T15:41:45.780Z"
   },
   {
    "duration": 15,
    "start_time": "2022-09-01T15:41:49.678Z"
   },
   {
    "duration": 20,
    "start_time": "2022-09-01T15:43:07.324Z"
   },
   {
    "duration": 16,
    "start_time": "2022-09-01T15:43:14.036Z"
   },
   {
    "duration": 12,
    "start_time": "2022-09-01T15:43:26.268Z"
   },
   {
    "duration": 3,
    "start_time": "2022-09-01T15:43:27.285Z"
   },
   {
    "duration": 2060,
    "start_time": "2022-09-01T15:43:27.724Z"
   },
   {
    "duration": 14,
    "start_time": "2022-09-01T15:43:39.764Z"
   },
   {
    "duration": 7,
    "start_time": "2022-09-01T15:43:48.220Z"
   },
   {
    "duration": 1116,
    "start_time": "2022-09-01T15:43:56.886Z"
   },
   {
    "duration": 3,
    "start_time": "2022-09-01T15:44:36.431Z"
   },
   {
    "duration": 4,
    "start_time": "2022-09-01T15:44:37.302Z"
   },
   {
    "duration": 311,
    "start_time": "2022-09-01T15:44:39.482Z"
   },
   {
    "duration": 13,
    "start_time": "2022-09-01T15:44:42.024Z"
   },
   {
    "duration": 3,
    "start_time": "2022-09-01T15:45:12.447Z"
   },
   {
    "duration": 4,
    "start_time": "2022-09-01T15:45:14.780Z"
   },
   {
    "duration": 5,
    "start_time": "2022-09-01T15:45:19.252Z"
   },
   {
    "duration": 21,
    "start_time": "2022-09-01T15:45:21.809Z"
   },
   {
    "duration": 3,
    "start_time": "2022-09-01T15:45:32.680Z"
   },
   {
    "duration": 4,
    "start_time": "2022-09-01T15:45:33.139Z"
   },
   {
    "duration": 5,
    "start_time": "2022-09-01T15:45:34.724Z"
   },
   {
    "duration": 13,
    "start_time": "2022-09-01T15:45:35.943Z"
   },
   {
    "duration": 2,
    "start_time": "2022-09-01T15:45:53.411Z"
   },
   {
    "duration": 5,
    "start_time": "2022-09-01T15:45:53.773Z"
   },
   {
    "duration": 5,
    "start_time": "2022-09-01T15:45:54.570Z"
   },
   {
    "duration": 5,
    "start_time": "2022-09-01T15:45:57.637Z"
   },
   {
    "duration": 8,
    "start_time": "2022-09-01T15:46:42.547Z"
   },
   {
    "duration": 24,
    "start_time": "2022-09-01T15:46:51.298Z"
   },
   {
    "duration": 14,
    "start_time": "2022-09-01T15:46:56.980Z"
   },
   {
    "duration": 794,
    "start_time": "2022-09-01T15:47:11.905Z"
   },
   {
    "duration": 5,
    "start_time": "2022-09-01T15:47:12.701Z"
   },
   {
    "duration": 28,
    "start_time": "2022-09-01T15:47:12.707Z"
   },
   {
    "duration": 15,
    "start_time": "2022-09-01T15:47:12.737Z"
   },
   {
    "duration": 8,
    "start_time": "2022-09-01T15:47:12.754Z"
   },
   {
    "duration": 19,
    "start_time": "2022-09-01T15:47:12.763Z"
   },
   {
    "duration": 12,
    "start_time": "2022-09-01T15:47:12.784Z"
   },
   {
    "duration": 1087,
    "start_time": "2022-09-01T15:47:12.797Z"
   },
   {
    "duration": 2,
    "start_time": "2022-09-01T15:47:13.886Z"
   },
   {
    "duration": 12,
    "start_time": "2022-09-01T15:47:13.890Z"
   },
   {
    "duration": 31,
    "start_time": "2022-09-01T15:47:13.903Z"
   },
   {
    "duration": 15,
    "start_time": "2022-09-01T15:47:13.935Z"
   },
   {
    "duration": 9,
    "start_time": "2022-09-01T15:47:13.952Z"
   },
   {
    "duration": 8,
    "start_time": "2022-09-01T15:47:13.962Z"
   },
   {
    "duration": 55,
    "start_time": "2022-09-01T15:47:13.971Z"
   },
   {
    "duration": 127,
    "start_time": "2022-09-01T15:47:14.027Z"
   },
   {
    "duration": 5,
    "start_time": "2022-09-01T15:47:14.155Z"
   },
   {
    "duration": 120,
    "start_time": "2022-09-01T15:47:14.161Z"
   },
   {
    "duration": 6,
    "start_time": "2022-09-01T15:47:14.283Z"
   },
   {
    "duration": 6,
    "start_time": "2022-09-01T15:47:14.291Z"
   },
   {
    "duration": 44,
    "start_time": "2022-09-01T15:47:14.298Z"
   },
   {
    "duration": 29,
    "start_time": "2022-09-01T15:47:14.344Z"
   },
   {
    "duration": 193,
    "start_time": "2022-09-01T15:47:14.374Z"
   },
   {
    "duration": 4,
    "start_time": "2022-09-01T15:47:14.568Z"
   },
   {
    "duration": 115,
    "start_time": "2022-09-01T15:47:14.573Z"
   },
   {
    "duration": 177,
    "start_time": "2022-09-01T15:47:14.689Z"
   },
   {
    "duration": 4,
    "start_time": "2022-09-01T15:47:14.867Z"
   },
   {
    "duration": 212,
    "start_time": "2022-09-01T15:47:14.875Z"
   },
   {
    "duration": 5,
    "start_time": "2022-09-01T15:47:15.088Z"
   },
   {
    "duration": 4,
    "start_time": "2022-09-01T15:47:15.094Z"
   },
   {
    "duration": 21,
    "start_time": "2022-09-01T15:47:15.100Z"
   },
   {
    "duration": 12,
    "start_time": "2022-09-01T15:47:15.123Z"
   },
   {
    "duration": 16,
    "start_time": "2022-09-01T15:47:15.137Z"
   },
   {
    "duration": 4,
    "start_time": "2022-09-01T15:47:15.154Z"
   },
   {
    "duration": 7,
    "start_time": "2022-09-01T15:47:15.159Z"
   },
   {
    "duration": 12,
    "start_time": "2022-09-01T15:47:15.167Z"
   },
   {
    "duration": 10,
    "start_time": "2022-09-01T15:47:15.180Z"
   },
   {
    "duration": 32,
    "start_time": "2022-09-01T15:47:15.191Z"
   },
   {
    "duration": 17,
    "start_time": "2022-09-01T15:47:15.224Z"
   },
   {
    "duration": 14,
    "start_time": "2022-09-01T15:47:15.242Z"
   },
   {
    "duration": 3,
    "start_time": "2022-09-01T15:47:15.258Z"
   },
   {
    "duration": 22,
    "start_time": "2022-09-01T15:47:15.262Z"
   },
   {
    "duration": 7,
    "start_time": "2022-09-01T15:47:15.285Z"
   },
   {
    "duration": 8,
    "start_time": "2022-09-01T15:47:15.293Z"
   },
   {
    "duration": 20,
    "start_time": "2022-09-01T15:47:15.302Z"
   },
   {
    "duration": 147,
    "start_time": "2022-09-01T15:47:15.324Z"
   },
   {
    "duration": 16,
    "start_time": "2022-09-01T15:47:15.472Z"
   },
   {
    "duration": 41,
    "start_time": "2022-09-01T15:47:15.490Z"
   },
   {
    "duration": 413,
    "start_time": "2022-09-01T15:47:15.532Z"
   },
   {
    "duration": 420,
    "start_time": "2022-09-01T15:47:15.947Z"
   },
   {
    "duration": 123,
    "start_time": "2022-09-01T15:47:16.369Z"
   },
   {
    "duration": 28,
    "start_time": "2022-09-01T15:47:16.494Z"
   },
   {
    "duration": 9,
    "start_time": "2022-09-01T15:47:16.524Z"
   },
   {
    "duration": 16,
    "start_time": "2022-09-01T15:47:16.535Z"
   },
   {
    "duration": 1402,
    "start_time": "2022-09-01T15:47:16.552Z"
   },
   {
    "duration": 0,
    "start_time": "2022-09-01T15:47:17.956Z"
   },
   {
    "duration": 0,
    "start_time": "2022-09-01T15:47:17.957Z"
   },
   {
    "duration": 0,
    "start_time": "2022-09-01T15:47:17.958Z"
   },
   {
    "duration": 0,
    "start_time": "2022-09-01T15:47:17.959Z"
   },
   {
    "duration": 0,
    "start_time": "2022-09-01T15:47:17.960Z"
   },
   {
    "duration": 0,
    "start_time": "2022-09-01T15:47:17.961Z"
   },
   {
    "duration": 0,
    "start_time": "2022-09-01T15:47:17.962Z"
   },
   {
    "duration": 0,
    "start_time": "2022-09-01T15:47:17.963Z"
   },
   {
    "duration": 0,
    "start_time": "2022-09-01T15:47:17.963Z"
   },
   {
    "duration": 0,
    "start_time": "2022-09-01T15:47:17.964Z"
   },
   {
    "duration": 0,
    "start_time": "2022-09-01T15:47:17.965Z"
   },
   {
    "duration": 0,
    "start_time": "2022-09-01T15:47:17.967Z"
   },
   {
    "duration": 0,
    "start_time": "2022-09-01T15:47:17.967Z"
   },
   {
    "duration": 0,
    "start_time": "2022-09-01T15:47:17.968Z"
   },
   {
    "duration": 0,
    "start_time": "2022-09-01T15:47:17.969Z"
   },
   {
    "duration": 0,
    "start_time": "2022-09-01T15:47:17.970Z"
   },
   {
    "duration": 0,
    "start_time": "2022-09-01T15:47:17.971Z"
   },
   {
    "duration": 0,
    "start_time": "2022-09-01T15:47:17.972Z"
   },
   {
    "duration": 0,
    "start_time": "2022-09-01T15:47:17.973Z"
   },
   {
    "duration": 1,
    "start_time": "2022-09-01T15:47:17.973Z"
   },
   {
    "duration": 0,
    "start_time": "2022-09-01T15:47:17.974Z"
   },
   {
    "duration": 0,
    "start_time": "2022-09-01T15:47:17.975Z"
   },
   {
    "duration": 0,
    "start_time": "2022-09-01T15:47:17.976Z"
   },
   {
    "duration": 0,
    "start_time": "2022-09-01T15:47:17.977Z"
   },
   {
    "duration": 0,
    "start_time": "2022-09-01T15:47:17.978Z"
   },
   {
    "duration": 0,
    "start_time": "2022-09-01T15:47:17.978Z"
   },
   {
    "duration": 0,
    "start_time": "2022-09-01T15:47:17.979Z"
   },
   {
    "duration": 0,
    "start_time": "2022-09-01T15:47:17.980Z"
   },
   {
    "duration": 1100,
    "start_time": "2022-09-01T15:47:53.831Z"
   },
   {
    "duration": 13,
    "start_time": "2022-09-01T15:48:06.287Z"
   },
   {
    "duration": 58,
    "start_time": "2022-09-01T15:48:19.090Z"
   },
   {
    "duration": 3,
    "start_time": "2022-09-01T15:48:22.329Z"
   },
   {
    "duration": 11,
    "start_time": "2022-09-01T15:48:23.806Z"
   },
   {
    "duration": 314,
    "start_time": "2022-09-01T15:48:26.710Z"
   },
   {
    "duration": 15,
    "start_time": "2022-09-01T15:48:29.726Z"
   },
   {
    "duration": 6,
    "start_time": "2022-09-01T15:49:19.358Z"
   },
   {
    "duration": 14,
    "start_time": "2022-09-01T15:49:19.868Z"
   },
   {
    "duration": 16,
    "start_time": "2022-09-01T15:51:42.866Z"
   },
   {
    "duration": 8,
    "start_time": "2022-09-01T15:51:52.189Z"
   },
   {
    "duration": 10,
    "start_time": "2022-09-01T15:51:59.639Z"
   },
   {
    "duration": 11,
    "start_time": "2022-09-01T15:52:08.724Z"
   },
   {
    "duration": 79,
    "start_time": "2022-09-01T15:53:03.497Z"
   },
   {
    "duration": 13,
    "start_time": "2022-09-01T15:59:41.443Z"
   },
   {
    "duration": 7,
    "start_time": "2022-09-01T16:00:51.686Z"
   },
   {
    "duration": 7,
    "start_time": "2022-09-01T16:01:01.532Z"
   },
   {
    "duration": 7,
    "start_time": "2022-09-01T16:01:33.985Z"
   },
   {
    "duration": 19,
    "start_time": "2022-09-01T16:01:34.414Z"
   },
   {
    "duration": 11,
    "start_time": "2022-09-01T16:01:38.732Z"
   },
   {
    "duration": 8,
    "start_time": "2022-09-01T16:01:54.080Z"
   },
   {
    "duration": 7,
    "start_time": "2022-09-01T16:01:55.848Z"
   },
   {
    "duration": 6,
    "start_time": "2022-09-01T16:02:08.102Z"
   },
   {
    "duration": 2,
    "start_time": "2022-09-01T16:02:09.978Z"
   },
   {
    "duration": 15,
    "start_time": "2022-09-01T16:02:15.233Z"
   },
   {
    "duration": 7,
    "start_time": "2022-09-01T16:02:30.947Z"
   },
   {
    "duration": 16,
    "start_time": "2022-09-01T16:02:32.466Z"
   },
   {
    "duration": 11,
    "start_time": "2022-09-01T16:02:58.667Z"
   },
   {
    "duration": 6,
    "start_time": "2022-09-01T16:03:01.153Z"
   },
   {
    "duration": 6,
    "start_time": "2022-09-01T16:03:06.230Z"
   },
   {
    "duration": 12,
    "start_time": "2022-09-01T16:03:14.841Z"
   },
   {
    "duration": 6,
    "start_time": "2022-09-01T16:03:51.524Z"
   },
   {
    "duration": 5,
    "start_time": "2022-09-01T16:04:02.224Z"
   },
   {
    "duration": 7,
    "start_time": "2022-09-01T16:04:13.281Z"
   },
   {
    "duration": 8,
    "start_time": "2022-09-01T16:04:13.934Z"
   },
   {
    "duration": 17,
    "start_time": "2022-09-01T16:04:22.096Z"
   },
   {
    "duration": 13,
    "start_time": "2022-09-01T16:04:30.142Z"
   },
   {
    "duration": 22,
    "start_time": "2022-09-01T16:10:54.654Z"
   },
   {
    "duration": 568,
    "start_time": "2022-09-01T16:11:04.795Z"
   },
   {
    "duration": 461,
    "start_time": "2022-09-01T16:11:12.736Z"
   },
   {
    "duration": 553,
    "start_time": "2022-09-01T16:12:09.363Z"
   },
   {
    "duration": 569,
    "start_time": "2022-09-01T16:13:32.240Z"
   },
   {
    "duration": 556,
    "start_time": "2022-09-01T16:13:42.774Z"
   },
   {
    "duration": 433,
    "start_time": "2022-09-01T16:16:43.230Z"
   },
   {
    "duration": 466,
    "start_time": "2022-09-01T16:17:52.414Z"
   },
   {
    "duration": 484,
    "start_time": "2022-09-01T16:17:55.110Z"
   },
   {
    "duration": 427,
    "start_time": "2022-09-01T16:18:04.598Z"
   },
   {
    "duration": 4,
    "start_time": "2022-09-01T16:18:21.550Z"
   },
   {
    "duration": 519,
    "start_time": "2022-09-01T16:19:03.442Z"
   },
   {
    "duration": 526,
    "start_time": "2022-09-01T16:19:34.650Z"
   },
   {
    "duration": 533,
    "start_time": "2022-09-01T16:20:06.938Z"
   },
   {
    "duration": 467,
    "start_time": "2022-09-01T16:20:20.138Z"
   },
   {
    "duration": 516,
    "start_time": "2022-09-01T16:20:27.729Z"
   },
   {
    "duration": 89,
    "start_time": "2022-09-01T16:21:50.471Z"
   },
   {
    "duration": 104,
    "start_time": "2022-09-01T16:21:58.884Z"
   },
   {
    "duration": 161,
    "start_time": "2022-09-01T16:22:03.928Z"
   },
   {
    "duration": 498,
    "start_time": "2022-09-01T16:22:28.194Z"
   },
   {
    "duration": 533,
    "start_time": "2022-09-01T16:37:00.030Z"
   },
   {
    "duration": 2,
    "start_time": "2022-09-01T16:38:14.698Z"
   },
   {
    "duration": 6,
    "start_time": "2022-09-01T16:38:16.983Z"
   },
   {
    "duration": 4,
    "start_time": "2022-09-01T16:38:17.966Z"
   },
   {
    "duration": 2,
    "start_time": "2022-09-01T16:39:03.329Z"
   },
   {
    "duration": 5,
    "start_time": "2022-09-01T16:39:04.560Z"
   },
   {
    "duration": 4,
    "start_time": "2022-09-01T16:39:05.473Z"
   },
   {
    "duration": 9,
    "start_time": "2022-09-01T16:39:06.604Z"
   },
   {
    "duration": 9,
    "start_time": "2022-09-01T16:39:10.461Z"
   },
   {
    "duration": 4,
    "start_time": "2022-09-01T16:39:20.179Z"
   },
   {
    "duration": 3,
    "start_time": "2022-09-01T16:39:20.642Z"
   },
   {
    "duration": 20,
    "start_time": "2022-09-01T16:39:24.576Z"
   },
   {
    "duration": 15,
    "start_time": "2022-09-01T16:39:29.053Z"
   },
   {
    "duration": 15,
    "start_time": "2022-09-01T16:39:33.023Z"
   },
   {
    "duration": 550,
    "start_time": "2022-09-01T16:40:44.297Z"
   },
   {
    "duration": 5,
    "start_time": "2022-09-01T16:43:45.148Z"
   },
   {
    "duration": 3,
    "start_time": "2022-09-01T16:43:49.544Z"
   },
   {
    "duration": 3,
    "start_time": "2022-09-01T16:43:52.045Z"
   },
   {
    "duration": 3,
    "start_time": "2022-09-01T16:43:54.031Z"
   },
   {
    "duration": 5,
    "start_time": "2022-09-01T16:47:28.472Z"
   },
   {
    "duration": 4,
    "start_time": "2022-09-01T16:48:01.328Z"
   },
   {
    "duration": 5,
    "start_time": "2022-09-01T16:48:07.434Z"
   },
   {
    "duration": 6,
    "start_time": "2022-09-01T16:48:18.800Z"
   },
   {
    "duration": 4,
    "start_time": "2022-09-01T16:48:28.413Z"
   },
   {
    "duration": 97,
    "start_time": "2022-09-01T16:58:55.052Z"
   },
   {
    "duration": 3,
    "start_time": "2022-09-01T16:58:58.582Z"
   },
   {
    "duration": 3,
    "start_time": "2022-09-01T16:59:39.445Z"
   },
   {
    "duration": 3,
    "start_time": "2022-09-01T16:59:49.450Z"
   },
   {
    "duration": 3,
    "start_time": "2022-09-01T16:59:50.648Z"
   },
   {
    "duration": 5,
    "start_time": "2022-09-01T17:00:05.583Z"
   },
   {
    "duration": 4,
    "start_time": "2022-09-01T17:00:34.925Z"
   },
   {
    "duration": 3,
    "start_time": "2022-09-01T17:00:38.377Z"
   },
   {
    "duration": 409,
    "start_time": "2022-09-01T17:00:47.270Z"
   },
   {
    "duration": 128,
    "start_time": "2022-09-01T17:01:45.252Z"
   },
   {
    "duration": 130,
    "start_time": "2022-09-01T17:01:51.379Z"
   },
   {
    "duration": 5,
    "start_time": "2022-09-01T17:02:21.398Z"
   },
   {
    "duration": 5,
    "start_time": "2022-09-01T17:02:28.882Z"
   },
   {
    "duration": 3,
    "start_time": "2022-09-01T17:08:00.871Z"
   },
   {
    "duration": 4,
    "start_time": "2022-09-01T17:08:13.195Z"
   },
   {
    "duration": 4,
    "start_time": "2022-09-01T17:10:09.570Z"
   },
   {
    "duration": 13,
    "start_time": "2022-09-01T17:10:15.939Z"
   },
   {
    "duration": 13,
    "start_time": "2022-09-01T17:10:46.570Z"
   },
   {
    "duration": 55,
    "start_time": "2022-09-01T17:10:54.987Z"
   },
   {
    "duration": 7,
    "start_time": "2022-09-01T17:11:29.225Z"
   },
   {
    "duration": 7,
    "start_time": "2022-09-01T17:11:37.514Z"
   },
   {
    "duration": 4,
    "start_time": "2022-09-01T17:12:59.486Z"
   },
   {
    "duration": 3,
    "start_time": "2022-09-01T17:13:20.050Z"
   },
   {
    "duration": 4,
    "start_time": "2022-09-01T17:13:21.528Z"
   },
   {
    "duration": 4,
    "start_time": "2022-09-01T17:13:27.186Z"
   },
   {
    "duration": 4,
    "start_time": "2022-09-01T17:13:32.852Z"
   },
   {
    "duration": 6,
    "start_time": "2022-09-01T17:13:33.277Z"
   },
   {
    "duration": 15,
    "start_time": "2022-09-01T17:13:33.432Z"
   },
   {
    "duration": 9,
    "start_time": "2022-09-01T17:13:33.721Z"
   },
   {
    "duration": 7,
    "start_time": "2022-09-01T17:13:33.987Z"
   },
   {
    "duration": 9,
    "start_time": "2022-09-01T17:13:34.136Z"
   },
   {
    "duration": 15,
    "start_time": "2022-09-01T17:13:34.403Z"
   },
   {
    "duration": 9,
    "start_time": "2022-09-01T17:14:11.253Z"
   },
   {
    "duration": 12,
    "start_time": "2022-09-01T17:14:20.864Z"
   },
   {
    "duration": 8,
    "start_time": "2022-09-01T17:14:52.169Z"
   },
   {
    "duration": 18,
    "start_time": "2022-09-01T17:15:00.887Z"
   },
   {
    "duration": 83,
    "start_time": "2022-09-01T17:15:09.923Z"
   },
   {
    "duration": 4,
    "start_time": "2022-09-01T17:15:10.512Z"
   },
   {
    "duration": 7,
    "start_time": "2022-09-01T17:15:10.950Z"
   },
   {
    "duration": 13,
    "start_time": "2022-09-01T17:15:11.602Z"
   },
   {
    "duration": 8,
    "start_time": "2022-09-01T17:15:12.031Z"
   },
   {
    "duration": 6,
    "start_time": "2022-09-01T17:15:12.459Z"
   },
   {
    "duration": 10,
    "start_time": "2022-09-01T17:15:13.103Z"
   },
   {
    "duration": 1035,
    "start_time": "2022-09-01T17:15:13.305Z"
   },
   {
    "duration": 2,
    "start_time": "2022-09-01T17:15:14.342Z"
   },
   {
    "duration": 2,
    "start_time": "2022-09-01T17:15:14.738Z"
   },
   {
    "duration": 2,
    "start_time": "2022-09-01T17:15:15.320Z"
   },
   {
    "duration": 4,
    "start_time": "2022-09-01T17:15:15.496Z"
   },
   {
    "duration": 9,
    "start_time": "2022-09-01T17:15:15.854Z"
   },
   {
    "duration": 5,
    "start_time": "2022-09-01T17:15:16.038Z"
   },
   {
    "duration": 5,
    "start_time": "2022-09-01T17:15:16.556Z"
   },
   {
    "duration": 105,
    "start_time": "2022-09-01T17:15:16.921Z"
   },
   {
    "duration": 5,
    "start_time": "2022-09-01T17:15:17.303Z"
   },
   {
    "duration": 105,
    "start_time": "2022-09-01T17:15:17.509Z"
   },
   {
    "duration": 7,
    "start_time": "2022-09-01T17:15:18.029Z"
   },
   {
    "duration": 5,
    "start_time": "2022-09-01T17:15:18.428Z"
   },
   {
    "duration": 4,
    "start_time": "2022-09-01T17:15:20.393Z"
   },
   {
    "duration": 7,
    "start_time": "2022-09-01T17:15:20.758Z"
   },
   {
    "duration": 129,
    "start_time": "2022-09-01T17:15:21.317Z"
   },
   {
    "duration": 5,
    "start_time": "2022-09-01T17:15:21.686Z"
   },
   {
    "duration": 105,
    "start_time": "2022-09-01T17:15:21.879Z"
   },
   {
    "duration": 188,
    "start_time": "2022-09-01T17:15:22.452Z"
   },
   {
    "duration": 4,
    "start_time": "2022-09-01T17:15:22.834Z"
   },
   {
    "duration": 152,
    "start_time": "2022-09-01T17:15:23.024Z"
   },
   {
    "duration": 4,
    "start_time": "2022-09-01T17:15:23.605Z"
   },
   {
    "duration": 2,
    "start_time": "2022-09-01T17:15:23.800Z"
   },
   {
    "duration": 2,
    "start_time": "2022-09-01T17:15:23.990Z"
   },
   {
    "duration": 6,
    "start_time": "2022-09-01T17:15:24.572Z"
   },
   {
    "duration": 6,
    "start_time": "2022-09-01T17:15:24.758Z"
   },
   {
    "duration": 5,
    "start_time": "2022-09-01T17:15:24.951Z"
   },
   {
    "duration": 5,
    "start_time": "2022-09-01T17:15:25.552Z"
   },
   {
    "duration": 2,
    "start_time": "2022-09-01T17:15:25.751Z"
   },
   {
    "duration": 2,
    "start_time": "2022-09-01T17:15:25.951Z"
   },
   {
    "duration": 24,
    "start_time": "2022-09-01T17:15:26.341Z"
   },
   {
    "duration": 18,
    "start_time": "2022-09-01T17:15:27.120Z"
   },
   {
    "duration": 17,
    "start_time": "2022-09-01T17:15:28.369Z"
   },
   {
    "duration": 3,
    "start_time": "2022-09-01T17:15:29.277Z"
   },
   {
    "duration": 11,
    "start_time": "2022-09-01T17:15:31.932Z"
   },
   {
    "duration": 3,
    "start_time": "2022-09-01T17:15:33.959Z"
   },
   {
    "duration": 3,
    "start_time": "2022-09-01T17:15:34.387Z"
   },
   {
    "duration": 3,
    "start_time": "2022-09-01T17:15:35.139Z"
   },
   {
    "duration": 136,
    "start_time": "2022-09-01T17:15:35.709Z"
   },
   {
    "duration": 18,
    "start_time": "2022-09-01T17:15:36.306Z"
   },
   {
    "duration": 26,
    "start_time": "2022-09-01T17:15:36.491Z"
   },
   {
    "duration": 559,
    "start_time": "2022-09-01T17:15:36.689Z"
   },
   {
    "duration": 525,
    "start_time": "2022-09-01T17:15:37.250Z"
   },
   {
    "duration": 113,
    "start_time": "2022-09-01T17:15:38.394Z"
   },
   {
    "duration": 14,
    "start_time": "2022-09-01T17:15:39.925Z"
   },
   {
    "duration": 2,
    "start_time": "2022-09-01T17:15:41.099Z"
   },
   {
    "duration": 4,
    "start_time": "2022-09-01T17:15:41.849Z"
   },
   {
    "duration": 318,
    "start_time": "2022-09-01T17:15:45.824Z"
   },
   {
    "duration": 15,
    "start_time": "2022-09-01T17:15:53.655Z"
   },
   {
    "duration": 7,
    "start_time": "2022-09-01T17:16:09.412Z"
   },
   {
    "duration": 18,
    "start_time": "2022-09-01T17:16:12.504Z"
   },
   {
    "duration": 14,
    "start_time": "2022-09-01T17:16:17.431Z"
   },
   {
    "duration": 7,
    "start_time": "2022-09-01T17:16:21.571Z"
   },
   {
    "duration": 9,
    "start_time": "2022-09-01T17:16:23.814Z"
   },
   {
    "duration": 14,
    "start_time": "2022-09-01T17:16:26.458Z"
   },
   {
    "duration": 7,
    "start_time": "2022-09-01T17:17:03.483Z"
   },
   {
    "duration": 19,
    "start_time": "2022-09-01T17:17:13.866Z"
   },
   {
    "duration": 6,
    "start_time": "2022-09-01T17:18:14.178Z"
   },
   {
    "duration": 135,
    "start_time": "2022-09-01T17:18:37.280Z"
   },
   {
    "duration": 67,
    "start_time": "2022-09-01T17:19:41.979Z"
   },
   {
    "duration": 198,
    "start_time": "2022-09-01T17:19:55.270Z"
   },
   {
    "duration": 3,
    "start_time": "2022-09-01T17:21:04.781Z"
   },
   {
    "duration": 4,
    "start_time": "2022-09-01T17:21:06.977Z"
   },
   {
    "duration": 4,
    "start_time": "2022-09-01T17:21:17.069Z"
   },
   {
    "duration": 3,
    "start_time": "2022-09-01T17:21:27.412Z"
   },
   {
    "duration": 4,
    "start_time": "2022-09-01T17:21:28.534Z"
   },
   {
    "duration": 14,
    "start_time": "2022-09-01T17:21:49.726Z"
   },
   {
    "duration": 3,
    "start_time": "2022-09-01T17:22:12.390Z"
   },
   {
    "duration": 11,
    "start_time": "2022-09-01T17:22:13.839Z"
   },
   {
    "duration": 3,
    "start_time": "2022-09-01T17:22:23.752Z"
   },
   {
    "duration": 5,
    "start_time": "2022-09-01T17:22:25.630Z"
   },
   {
    "duration": 4,
    "start_time": "2022-09-01T17:22:30.776Z"
   },
   {
    "duration": 3,
    "start_time": "2022-09-01T17:22:38.154Z"
   },
   {
    "duration": 17,
    "start_time": "2022-09-01T17:22:38.902Z"
   },
   {
    "duration": 3,
    "start_time": "2022-09-01T17:22:44.415Z"
   },
   {
    "duration": 4,
    "start_time": "2022-09-01T17:22:44.697Z"
   },
   {
    "duration": 17,
    "start_time": "2022-09-01T17:22:45.461Z"
   },
   {
    "duration": 7,
    "start_time": "2022-09-01T17:22:51.920Z"
   },
   {
    "duration": 14,
    "start_time": "2022-09-01T17:22:54.080Z"
   },
   {
    "duration": 15,
    "start_time": "2022-09-01T17:24:05.055Z"
   },
   {
    "duration": 51,
    "start_time": "2022-09-01T17:24:16.836Z"
   },
   {
    "duration": 16,
    "start_time": "2022-09-01T17:24:42.815Z"
   },
   {
    "duration": 15,
    "start_time": "2022-09-01T17:24:54.573Z"
   },
   {
    "duration": 16,
    "start_time": "2022-09-01T17:24:56.500Z"
   },
   {
    "duration": 23,
    "start_time": "2022-09-01T17:25:19.882Z"
   },
   {
    "duration": 7,
    "start_time": "2022-09-01T17:26:04.179Z"
   },
   {
    "duration": 4,
    "start_time": "2022-09-01T17:26:15.405Z"
   },
   {
    "duration": 57,
    "start_time": "2022-09-01T17:26:29.071Z"
   },
   {
    "duration": 4,
    "start_time": "2022-09-01T17:26:35.000Z"
   },
   {
    "duration": 7,
    "start_time": "2022-09-01T17:26:42.697Z"
   },
   {
    "duration": 5,
    "start_time": "2022-09-01T17:27:09.893Z"
   },
   {
    "duration": 7,
    "start_time": "2022-09-01T17:27:16.265Z"
   },
   {
    "duration": 24,
    "start_time": "2022-09-01T17:27:18.103Z"
   },
   {
    "duration": 15,
    "start_time": "2022-09-01T17:27:22.387Z"
   },
   {
    "duration": 9,
    "start_time": "2022-09-01T17:27:30.232Z"
   },
   {
    "duration": 7,
    "start_time": "2022-09-01T17:27:45.861Z"
   },
   {
    "duration": 9,
    "start_time": "2022-09-01T17:27:47.524Z"
   },
   {
    "duration": 19,
    "start_time": "2022-09-01T17:27:50.054Z"
   },
   {
    "duration": 73,
    "start_time": "2022-09-01T17:28:52.832Z"
   },
   {
    "duration": 7,
    "start_time": "2022-09-01T17:28:54.408Z"
   },
   {
    "duration": 3,
    "start_time": "2022-09-01T17:29:06.758Z"
   },
   {
    "duration": 5,
    "start_time": "2022-09-01T17:29:07.249Z"
   },
   {
    "duration": 7,
    "start_time": "2022-09-01T17:29:08.364Z"
   },
   {
    "duration": 14,
    "start_time": "2022-09-01T17:29:08.804Z"
   },
   {
    "duration": 9,
    "start_time": "2022-09-01T17:29:10.170Z"
   },
   {
    "duration": 8,
    "start_time": "2022-09-01T17:29:12.038Z"
   },
   {
    "duration": 9,
    "start_time": "2022-09-01T17:29:13.880Z"
   },
   {
    "duration": 8,
    "start_time": "2022-09-01T17:29:15.742Z"
   },
   {
    "duration": 731,
    "start_time": "2022-09-01T17:29:32.478Z"
   },
   {
    "duration": 4,
    "start_time": "2022-09-01T17:29:33.211Z"
   },
   {
    "duration": 13,
    "start_time": "2022-09-01T17:29:33.216Z"
   },
   {
    "duration": 13,
    "start_time": "2022-09-01T17:29:33.231Z"
   },
   {
    "duration": 7,
    "start_time": "2022-09-01T17:29:33.245Z"
   },
   {
    "duration": 6,
    "start_time": "2022-09-01T17:29:33.253Z"
   },
   {
    "duration": 10,
    "start_time": "2022-09-01T17:29:33.260Z"
   },
   {
    "duration": 1073,
    "start_time": "2022-09-01T17:29:33.271Z"
   },
   {
    "duration": 2,
    "start_time": "2022-09-01T17:29:34.345Z"
   },
   {
    "duration": 5,
    "start_time": "2022-09-01T17:29:34.349Z"
   },
   {
    "duration": 9,
    "start_time": "2022-09-01T17:29:34.355Z"
   },
   {
    "duration": 9,
    "start_time": "2022-09-01T17:29:34.365Z"
   },
   {
    "duration": 17,
    "start_time": "2022-09-01T17:29:34.375Z"
   },
   {
    "duration": 10,
    "start_time": "2022-09-01T17:29:34.393Z"
   },
   {
    "duration": 12,
    "start_time": "2022-09-01T17:29:34.404Z"
   },
   {
    "duration": 116,
    "start_time": "2022-09-01T17:29:34.417Z"
   },
   {
    "duration": 5,
    "start_time": "2022-09-01T17:29:34.534Z"
   },
   {
    "duration": 120,
    "start_time": "2022-09-01T17:29:34.540Z"
   },
   {
    "duration": 6,
    "start_time": "2022-09-01T17:29:34.662Z"
   },
   {
    "duration": 12,
    "start_time": "2022-09-01T17:29:34.669Z"
   },
   {
    "duration": 13,
    "start_time": "2022-09-01T17:29:34.683Z"
   },
   {
    "duration": 9,
    "start_time": "2022-09-01T17:29:34.698Z"
   },
   {
    "duration": 134,
    "start_time": "2022-09-01T17:29:34.708Z"
   },
   {
    "duration": 4,
    "start_time": "2022-09-01T17:29:34.843Z"
   },
   {
    "duration": 116,
    "start_time": "2022-09-01T17:29:34.849Z"
   },
   {
    "duration": 172,
    "start_time": "2022-09-01T17:29:34.967Z"
   },
   {
    "duration": 4,
    "start_time": "2022-09-01T17:29:35.140Z"
   },
   {
    "duration": 208,
    "start_time": "2022-09-01T17:29:35.148Z"
   },
   {
    "duration": 4,
    "start_time": "2022-09-01T17:29:35.358Z"
   },
   {
    "duration": 16,
    "start_time": "2022-09-01T17:29:35.363Z"
   },
   {
    "duration": 4,
    "start_time": "2022-09-01T17:29:35.380Z"
   },
   {
    "duration": 21,
    "start_time": "2022-09-01T17:29:35.385Z"
   },
   {
    "duration": 6,
    "start_time": "2022-09-01T17:29:35.407Z"
   },
   {
    "duration": 11,
    "start_time": "2022-09-01T17:29:35.414Z"
   },
   {
    "duration": 13,
    "start_time": "2022-09-01T17:29:35.426Z"
   },
   {
    "duration": 5,
    "start_time": "2022-09-01T17:29:35.440Z"
   },
   {
    "duration": 5,
    "start_time": "2022-09-01T17:29:35.446Z"
   },
   {
    "duration": 30,
    "start_time": "2022-09-01T17:29:35.452Z"
   },
   {
    "duration": 16,
    "start_time": "2022-09-01T17:29:35.483Z"
   },
   {
    "duration": 14,
    "start_time": "2022-09-01T17:29:35.511Z"
   },
   {
    "duration": 3,
    "start_time": "2022-09-01T17:29:35.527Z"
   },
   {
    "duration": 21,
    "start_time": "2022-09-01T17:29:35.531Z"
   },
   {
    "duration": 5,
    "start_time": "2022-09-01T17:29:35.553Z"
   },
   {
    "duration": 6,
    "start_time": "2022-09-01T17:29:35.559Z"
   },
   {
    "duration": 17,
    "start_time": "2022-09-01T17:29:35.566Z"
   },
   {
    "duration": 138,
    "start_time": "2022-09-01T17:29:35.584Z"
   },
   {
    "duration": 17,
    "start_time": "2022-09-01T17:29:35.723Z"
   },
   {
    "duration": 35,
    "start_time": "2022-09-01T17:29:35.741Z"
   },
   {
    "duration": 525,
    "start_time": "2022-09-01T17:29:35.778Z"
   },
   {
    "duration": 529,
    "start_time": "2022-09-01T17:29:36.305Z"
   },
   {
    "duration": 174,
    "start_time": "2022-09-01T17:29:36.836Z"
   },
   {
    "duration": 14,
    "start_time": "2022-09-01T17:29:37.012Z"
   },
   {
    "duration": 3,
    "start_time": "2022-09-01T17:29:37.027Z"
   },
   {
    "duration": 6,
    "start_time": "2022-09-01T17:29:37.031Z"
   },
   {
    "duration": 319,
    "start_time": "2022-09-01T17:29:37.039Z"
   },
   {
    "duration": 13,
    "start_time": "2022-09-01T17:29:37.360Z"
   },
   {
    "duration": 10,
    "start_time": "2022-09-01T17:29:37.374Z"
   },
   {
    "duration": 11,
    "start_time": "2022-09-01T17:29:37.385Z"
   },
   {
    "duration": 18,
    "start_time": "2022-09-01T17:29:37.397Z"
   },
   {
    "duration": 18,
    "start_time": "2022-09-01T17:29:37.417Z"
   },
   {
    "duration": 502,
    "start_time": "2022-09-01T17:29:37.437Z"
   },
   {
    "duration": 515,
    "start_time": "2022-09-01T17:29:37.940Z"
   },
   {
    "duration": 144,
    "start_time": "2022-09-01T17:29:38.456Z"
   },
   {
    "duration": 91,
    "start_time": "2022-09-01T17:29:38.610Z"
   },
   {
    "duration": 109,
    "start_time": "2022-09-01T17:29:38.702Z"
   },
   {
    "duration": 2,
    "start_time": "2022-09-01T17:29:38.812Z"
   },
   {
    "duration": 25,
    "start_time": "2022-09-01T17:29:38.815Z"
   },
   {
    "duration": 14,
    "start_time": "2022-09-01T17:29:38.841Z"
   },
   {
    "duration": 29,
    "start_time": "2022-09-01T17:29:38.856Z"
   },
   {
    "duration": 30,
    "start_time": "2022-09-01T17:29:38.886Z"
   },
   {
    "duration": 12,
    "start_time": "2022-09-01T17:29:38.918Z"
   },
   {
    "duration": 12,
    "start_time": "2022-09-01T17:29:38.932Z"
   },
   {
    "duration": 18,
    "start_time": "2022-09-01T17:29:38.945Z"
   },
   {
    "duration": 16,
    "start_time": "2022-09-01T17:29:38.965Z"
   },
   {
    "duration": 17,
    "start_time": "2022-09-01T17:29:38.983Z"
   },
   {
    "duration": 144,
    "start_time": "2022-09-01T17:29:39.001Z"
   },
   {
    "duration": 5,
    "start_time": "2022-09-01T17:29:39.146Z"
   },
   {
    "duration": 16,
    "start_time": "2022-09-01T17:29:39.152Z"
   },
   {
    "duration": 39,
    "start_time": "2022-09-01T17:29:39.169Z"
   },
   {
    "duration": 16,
    "start_time": "2022-09-01T17:29:39.209Z"
   },
   {
    "duration": 11,
    "start_time": "2022-09-01T17:29:39.227Z"
   },
   {
    "duration": 294,
    "start_time": "2022-09-01T17:29:39.243Z"
   },
   {
    "duration": 0,
    "start_time": "2022-09-01T17:29:39.538Z"
   },
   {
    "duration": 0,
    "start_time": "2022-09-01T17:29:39.540Z"
   },
   {
    "duration": 0,
    "start_time": "2022-09-01T17:29:39.540Z"
   },
   {
    "duration": 1,
    "start_time": "2022-09-01T17:29:39.541Z"
   },
   {
    "duration": 0,
    "start_time": "2022-09-01T17:29:39.543Z"
   },
   {
    "duration": 491,
    "start_time": "2022-09-01T17:30:35.270Z"
   },
   {
    "duration": 565,
    "start_time": "2022-09-01T17:30:35.763Z"
   },
   {
    "duration": 95,
    "start_time": "2022-09-01T17:30:36.329Z"
   },
   {
    "duration": 93,
    "start_time": "2022-09-01T17:30:36.447Z"
   },
   {
    "duration": 102,
    "start_time": "2022-09-01T17:30:36.628Z"
   },
   {
    "duration": 3,
    "start_time": "2022-09-01T17:30:36.942Z"
   },
   {
    "duration": 6,
    "start_time": "2022-09-01T17:30:37.088Z"
   },
   {
    "duration": 3,
    "start_time": "2022-09-01T17:30:37.240Z"
   },
   {
    "duration": 3,
    "start_time": "2022-09-01T17:30:37.392Z"
   },
   {
    "duration": 5,
    "start_time": "2022-09-01T17:30:37.699Z"
   },
   {
    "duration": 14,
    "start_time": "2022-09-01T17:30:38.012Z"
   },
   {
    "duration": 5,
    "start_time": "2022-09-01T17:30:38.473Z"
   },
   {
    "duration": 4,
    "start_time": "2022-09-01T17:30:38.768Z"
   },
   {
    "duration": 3,
    "start_time": "2022-09-01T17:30:44.348Z"
   },
   {
    "duration": 4,
    "start_time": "2022-09-01T17:30:44.750Z"
   },
   {
    "duration": 135,
    "start_time": "2022-09-01T17:30:46.357Z"
   },
   {
    "duration": 6,
    "start_time": "2022-09-01T17:30:46.815Z"
   },
   {
    "duration": 5,
    "start_time": "2022-09-01T17:30:50.804Z"
   },
   {
    "duration": 7,
    "start_time": "2022-09-01T17:31:00.331Z"
   },
   {
    "duration": 118,
    "start_time": "2022-09-01T17:31:36.242Z"
   },
   {
    "duration": 117,
    "start_time": "2022-09-01T17:31:39.703Z"
   },
   {
    "duration": 113,
    "start_time": "2022-09-01T17:31:56.115Z"
   },
   {
    "duration": 120,
    "start_time": "2022-09-01T17:32:21.329Z"
   },
   {
    "duration": 11,
    "start_time": "2022-09-01T17:32:35.924Z"
   },
   {
    "duration": 203,
    "start_time": "2022-09-01T17:32:49.188Z"
   },
   {
    "duration": 11197,
    "start_time": "2022-09-01T17:33:11.749Z"
   },
   {
    "duration": 10382,
    "start_time": "2022-09-01T17:33:41.032Z"
   },
   {
    "duration": 2797,
    "start_time": "2022-09-01T17:33:52.863Z"
   },
   {
    "duration": 120,
    "start_time": "2022-09-01T17:34:19.446Z"
   },
   {
    "duration": 119,
    "start_time": "2022-09-01T17:34:40.870Z"
   },
   {
    "duration": 3,
    "start_time": "2022-09-01T17:39:42.876Z"
   },
   {
    "duration": 3,
    "start_time": "2022-09-01T17:40:02.434Z"
   },
   {
    "duration": 3,
    "start_time": "2022-09-01T17:40:46.923Z"
   },
   {
    "duration": 3,
    "start_time": "2022-09-01T17:40:51.795Z"
   },
   {
    "duration": 355,
    "start_time": "2022-09-01T17:41:10.825Z"
   },
   {
    "duration": 374,
    "start_time": "2022-09-01T17:41:14.553Z"
   },
   {
    "duration": 17,
    "start_time": "2022-09-01T17:41:39.037Z"
   },
   {
    "duration": 2,
    "start_time": "2022-09-01T17:42:07.405Z"
   },
   {
    "duration": 3,
    "start_time": "2022-09-01T17:42:07.719Z"
   },
   {
    "duration": 15,
    "start_time": "2022-09-01T17:42:08.104Z"
   },
   {
    "duration": 190,
    "start_time": "2022-09-01T17:42:36.385Z"
   },
   {
    "duration": 3,
    "start_time": "2022-09-01T17:42:48.555Z"
   },
   {
    "duration": 3,
    "start_time": "2022-09-01T17:42:49.511Z"
   },
   {
    "duration": 17,
    "start_time": "2022-09-01T17:42:50.098Z"
   },
   {
    "duration": 15,
    "start_time": "2022-09-01T17:42:52.086Z"
   },
   {
    "duration": 24,
    "start_time": "2022-09-01T17:43:25.774Z"
   },
   {
    "duration": 6,
    "start_time": "2022-09-01T17:44:10.311Z"
   },
   {
    "duration": 8,
    "start_time": "2022-09-01T17:44:21.555Z"
   },
   {
    "duration": 109,
    "start_time": "2022-09-01T17:44:41.135Z"
   },
   {
    "duration": 3,
    "start_time": "2022-09-01T17:45:13.616Z"
   },
   {
    "duration": 3,
    "start_time": "2022-09-01T17:45:13.985Z"
   },
   {
    "duration": 3,
    "start_time": "2022-09-01T17:45:16.608Z"
   },
   {
    "duration": 3,
    "start_time": "2022-09-01T17:45:16.966Z"
   },
   {
    "duration": 17,
    "start_time": "2022-09-01T17:45:17.307Z"
   },
   {
    "duration": 3,
    "start_time": "2022-09-01T17:45:18.840Z"
   },
   {
    "duration": 4,
    "start_time": "2022-09-01T17:45:19.132Z"
   },
   {
    "duration": 27,
    "start_time": "2022-09-01T17:45:19.462Z"
   },
   {
    "duration": 95,
    "start_time": "2022-09-01T17:45:20.059Z"
   },
   {
    "duration": 3,
    "start_time": "2022-09-01T17:45:40.679Z"
   },
   {
    "duration": 3,
    "start_time": "2022-09-01T17:45:41.053Z"
   },
   {
    "duration": 16,
    "start_time": "2022-09-01T17:45:41.352Z"
   },
   {
    "duration": 93,
    "start_time": "2022-09-01T17:45:41.927Z"
   },
   {
    "duration": 95,
    "start_time": "2022-09-01T17:45:48.277Z"
   },
   {
    "duration": 93,
    "start_time": "2022-09-01T17:46:00.142Z"
   },
   {
    "duration": 93,
    "start_time": "2022-09-01T17:46:19.138Z"
   },
   {
    "duration": 62,
    "start_time": "2022-09-01T17:46:39.671Z"
   },
   {
    "duration": 7,
    "start_time": "2022-09-01T17:53:24.487Z"
   },
   {
    "duration": 1542,
    "start_time": "2022-09-01T17:53:29.415Z"
   },
   {
    "duration": 0,
    "start_time": "2022-09-01T17:53:30.958Z"
   },
   {
    "duration": 912,
    "start_time": "2022-09-01T17:53:55.797Z"
   },
   {
    "duration": 9,
    "start_time": "2022-09-01T17:54:05.498Z"
   },
   {
    "duration": 56,
    "start_time": "2022-09-01T17:54:21.726Z"
   },
   {
    "duration": 12,
    "start_time": "2022-09-01T17:54:29.032Z"
   },
   {
    "duration": 9,
    "start_time": "2022-09-01T17:54:40.475Z"
   },
   {
    "duration": 12,
    "start_time": "2022-09-01T17:54:49.249Z"
   },
   {
    "duration": 4,
    "start_time": "2022-09-01T17:55:14.818Z"
   },
   {
    "duration": 46,
    "start_time": "2022-09-01T17:55:19.015Z"
   },
   {
    "duration": 14,
    "start_time": "2022-09-01T17:55:21.987Z"
   },
   {
    "duration": 9,
    "start_time": "2022-09-01T17:55:26.265Z"
   },
   {
    "duration": 2427,
    "start_time": "2022-09-01T17:55:29.436Z"
   },
   {
    "duration": 0,
    "start_time": "2022-09-01T17:55:31.864Z"
   },
   {
    "duration": 2,
    "start_time": "2022-09-01T17:55:34.841Z"
   },
   {
    "duration": 10,
    "start_time": "2022-09-01T17:55:36.954Z"
   },
   {
    "duration": 12,
    "start_time": "2022-09-01T17:55:45.657Z"
   },
   {
    "duration": 13,
    "start_time": "2022-09-01T17:56:33.358Z"
   },
   {
    "duration": 955,
    "start_time": "2022-09-01T17:56:41.918Z"
   },
   {
    "duration": 4,
    "start_time": "2022-09-01T17:56:58.284Z"
   },
   {
    "duration": 4,
    "start_time": "2022-09-01T17:57:05.826Z"
   },
   {
    "duration": 2,
    "start_time": "2022-09-01T17:57:06.880Z"
   },
   {
    "duration": 3,
    "start_time": "2022-09-01T17:57:10.366Z"
   },
   {
    "duration": 18,
    "start_time": "2022-09-01T17:57:12.502Z"
   },
   {
    "duration": 14,
    "start_time": "2022-09-01T17:57:28.585Z"
   },
   {
    "duration": 12,
    "start_time": "2022-09-01T17:59:37.227Z"
   },
   {
    "duration": 11,
    "start_time": "2022-09-01T18:00:18.178Z"
   },
   {
    "duration": 52,
    "start_time": "2022-09-01T18:01:16.489Z"
   },
   {
    "duration": 14,
    "start_time": "2022-09-01T18:01:19.721Z"
   },
   {
    "duration": 15,
    "start_time": "2022-09-01T18:01:39.341Z"
   },
   {
    "duration": 7,
    "start_time": "2022-09-01T18:04:15.918Z"
   },
   {
    "duration": 7,
    "start_time": "2022-09-01T18:04:25.132Z"
   },
   {
    "duration": 7,
    "start_time": "2022-09-01T18:04:28.540Z"
   },
   {
    "duration": 7,
    "start_time": "2022-09-01T18:04:30.172Z"
   },
   {
    "duration": 11,
    "start_time": "2022-09-01T18:04:36.497Z"
   },
   {
    "duration": 10,
    "start_time": "2022-09-01T18:04:49.325Z"
   },
   {
    "duration": 6,
    "start_time": "2022-09-01T18:04:55.412Z"
   },
   {
    "duration": 15,
    "start_time": "2022-09-01T18:05:50.440Z"
   },
   {
    "duration": 13,
    "start_time": "2022-09-01T18:05:59.672Z"
   },
   {
    "duration": 15,
    "start_time": "2022-09-01T18:06:20.228Z"
   },
   {
    "duration": 13,
    "start_time": "2022-09-01T18:06:24.238Z"
   },
   {
    "duration": 13,
    "start_time": "2022-09-01T18:06:29.070Z"
   },
   {
    "duration": 12,
    "start_time": "2022-09-01T18:07:34.885Z"
   },
   {
    "duration": 12,
    "start_time": "2022-09-01T18:07:40.164Z"
   },
   {
    "duration": 12,
    "start_time": "2022-09-01T18:07:44.164Z"
   },
   {
    "duration": 14,
    "start_time": "2022-09-01T18:07:50.594Z"
   },
   {
    "duration": 15,
    "start_time": "2022-09-01T18:07:53.882Z"
   },
   {
    "duration": 11,
    "start_time": "2022-09-01T18:08:16.996Z"
   },
   {
    "duration": 16,
    "start_time": "2022-09-01T18:08:48.443Z"
   },
   {
    "duration": 18,
    "start_time": "2022-09-01T18:08:53.725Z"
   },
   {
    "duration": 24,
    "start_time": "2022-09-01T18:09:04.580Z"
   },
   {
    "duration": 15,
    "start_time": "2022-09-01T18:09:18.024Z"
   },
   {
    "duration": 19,
    "start_time": "2022-09-01T18:09:49.807Z"
   },
   {
    "duration": 17,
    "start_time": "2022-09-01T18:09:51.684Z"
   },
   {
    "duration": 23,
    "start_time": "2022-09-01T18:10:02.836Z"
   },
   {
    "duration": 18,
    "start_time": "2022-09-01T18:10:16.015Z"
   },
   {
    "duration": 12,
    "start_time": "2022-09-01T18:10:22.286Z"
   },
   {
    "duration": 18,
    "start_time": "2022-09-01T18:10:32.047Z"
   },
   {
    "duration": 11,
    "start_time": "2022-09-01T18:10:47.135Z"
   },
   {
    "duration": 15,
    "start_time": "2022-09-01T18:10:57.019Z"
   },
   {
    "duration": 20,
    "start_time": "2022-09-01T18:13:13.215Z"
   },
   {
    "duration": 16,
    "start_time": "2022-09-01T18:13:19.612Z"
   },
   {
    "duration": 17,
    "start_time": "2022-09-01T18:13:24.866Z"
   },
   {
    "duration": 19,
    "start_time": "2022-09-01T18:14:11.777Z"
   },
   {
    "duration": 20,
    "start_time": "2022-09-01T18:14:17.647Z"
   },
   {
    "duration": 19,
    "start_time": "2022-09-01T18:14:48.136Z"
   },
   {
    "duration": 20,
    "start_time": "2022-09-01T18:15:19.110Z"
   },
   {
    "duration": 20,
    "start_time": "2022-09-01T18:15:28.282Z"
   },
   {
    "duration": 124,
    "start_time": "2022-09-01T18:15:44.521Z"
   },
   {
    "duration": 119,
    "start_time": "2022-09-01T18:15:48.943Z"
   },
   {
    "duration": 105,
    "start_time": "2022-09-01T18:16:06.112Z"
   },
   {
    "duration": 106,
    "start_time": "2022-09-01T18:17:06.905Z"
   },
   {
    "duration": 115,
    "start_time": "2022-09-01T18:17:20.356Z"
   },
   {
    "duration": 50,
    "start_time": "2022-09-01T18:17:26.068Z"
   },
   {
    "duration": 108,
    "start_time": "2022-09-01T18:17:29.897Z"
   },
   {
    "duration": 110,
    "start_time": "2022-09-01T18:17:56.972Z"
   },
   {
    "duration": 111,
    "start_time": "2022-09-01T18:18:57.132Z"
   },
   {
    "duration": 113,
    "start_time": "2022-09-01T18:19:07.674Z"
   },
   {
    "duration": 87,
    "start_time": "2022-09-01T18:19:26.945Z"
   },
   {
    "duration": 84,
    "start_time": "2022-09-01T18:19:41.006Z"
   },
   {
    "duration": 88,
    "start_time": "2022-09-01T18:19:47.724Z"
   },
   {
    "duration": 91,
    "start_time": "2022-09-01T18:19:54.764Z"
   },
   {
    "duration": 104,
    "start_time": "2022-09-01T18:20:06.777Z"
   },
   {
    "duration": 113,
    "start_time": "2022-09-01T18:20:15.967Z"
   },
   {
    "duration": 114,
    "start_time": "2022-09-01T18:20:30.213Z"
   },
   {
    "duration": 112,
    "start_time": "2022-09-01T18:20:55.770Z"
   },
   {
    "duration": 116,
    "start_time": "2022-09-01T18:21:00.480Z"
   },
   {
    "duration": 45,
    "start_time": "2022-09-01T18:21:06.613Z"
   },
   {
    "duration": 115,
    "start_time": "2022-09-01T18:21:10.349Z"
   },
   {
    "duration": 107,
    "start_time": "2022-09-01T18:21:23.114Z"
   },
   {
    "duration": 115,
    "start_time": "2022-09-01T18:21:43.512Z"
   },
   {
    "duration": 117,
    "start_time": "2022-09-01T18:21:47.388Z"
   },
   {
    "duration": 118,
    "start_time": "2022-09-01T18:22:08.249Z"
   },
   {
    "duration": 126,
    "start_time": "2022-09-01T18:22:12.746Z"
   },
   {
    "duration": 120,
    "start_time": "2022-09-01T18:22:23.151Z"
   },
   {
    "duration": 133,
    "start_time": "2022-09-01T18:22:29.468Z"
   },
   {
    "duration": 133,
    "start_time": "2022-09-01T18:22:34.071Z"
   },
   {
    "duration": 88,
    "start_time": "2022-09-01T18:23:41.735Z"
   },
   {
    "duration": 131,
    "start_time": "2022-09-01T18:23:45.904Z"
   },
   {
    "duration": 133,
    "start_time": "2022-09-01T18:23:47.739Z"
   },
   {
    "duration": 16,
    "start_time": "2022-09-01T18:24:30.132Z"
   },
   {
    "duration": 16,
    "start_time": "2022-09-01T18:24:48.925Z"
   },
   {
    "duration": 14,
    "start_time": "2022-09-01T18:24:58.909Z"
   },
   {
    "duration": 15,
    "start_time": "2022-09-01T18:25:24.293Z"
   },
   {
    "duration": 14,
    "start_time": "2022-09-01T18:25:27.059Z"
   },
   {
    "duration": 18,
    "start_time": "2022-09-01T18:25:49.086Z"
   },
   {
    "duration": 14,
    "start_time": "2022-09-01T18:25:55.327Z"
   },
   {
    "duration": 22,
    "start_time": "2022-09-01T18:26:05.952Z"
   },
   {
    "duration": 16,
    "start_time": "2022-09-01T18:26:23.449Z"
   },
   {
    "duration": 25,
    "start_time": "2022-09-01T18:26:31.595Z"
   },
   {
    "duration": 17,
    "start_time": "2022-09-01T18:26:36.803Z"
   },
   {
    "duration": 16,
    "start_time": "2022-09-01T18:27:02.998Z"
   },
   {
    "duration": 127,
    "start_time": "2022-09-01T18:27:26.790Z"
   },
   {
    "duration": 125,
    "start_time": "2022-09-01T18:27:38.312Z"
   },
   {
    "duration": 116,
    "start_time": "2022-09-01T18:28:30.372Z"
   },
   {
    "duration": 134,
    "start_time": "2022-09-01T18:29:31.267Z"
   },
   {
    "duration": 129,
    "start_time": "2022-09-01T18:31:14.842Z"
   },
   {
    "duration": 108,
    "start_time": "2022-09-01T18:32:09.801Z"
   },
   {
    "duration": 116,
    "start_time": "2022-09-01T18:33:41.306Z"
   },
   {
    "duration": 112,
    "start_time": "2022-09-01T18:33:50.655Z"
   },
   {
    "duration": 13,
    "start_time": "2022-09-01T18:34:02.862Z"
   },
   {
    "duration": 178,
    "start_time": "2022-09-01T18:34:07.817Z"
   },
   {
    "duration": 126,
    "start_time": "2022-09-01T18:34:13.895Z"
   },
   {
    "duration": 10,
    "start_time": "2022-09-01T18:36:06.524Z"
   },
   {
    "duration": 116,
    "start_time": "2022-09-01T18:36:19.375Z"
   },
   {
    "duration": 127,
    "start_time": "2022-09-01T18:36:27.130Z"
   },
   {
    "duration": 113,
    "start_time": "2022-09-01T18:36:43.784Z"
   },
   {
    "duration": 9,
    "start_time": "2022-09-01T18:36:53.893Z"
   },
   {
    "duration": 9,
    "start_time": "2022-09-01T18:37:04.887Z"
   },
   {
    "duration": 119,
    "start_time": "2022-09-01T18:37:07.900Z"
   },
   {
    "duration": 121,
    "start_time": "2022-09-01T18:37:21.972Z"
   },
   {
    "duration": 134,
    "start_time": "2022-09-01T18:37:59.321Z"
   },
   {
    "duration": 115,
    "start_time": "2022-09-01T18:38:33.512Z"
   },
   {
    "duration": 11,
    "start_time": "2022-09-01T18:39:00.714Z"
   },
   {
    "duration": 10,
    "start_time": "2022-09-01T18:39:04.594Z"
   },
   {
    "duration": 4,
    "start_time": "2022-09-01T18:39:38.956Z"
   },
   {
    "duration": 117,
    "start_time": "2022-09-01T18:39:50.474Z"
   },
   {
    "duration": 678,
    "start_time": "2022-09-01T18:40:40.001Z"
   },
   {
    "duration": 4,
    "start_time": "2022-09-01T18:40:40.681Z"
   },
   {
    "duration": 10,
    "start_time": "2022-09-01T18:40:40.687Z"
   },
   {
    "duration": 16,
    "start_time": "2022-09-01T18:40:40.698Z"
   },
   {
    "duration": 7,
    "start_time": "2022-09-01T18:40:40.716Z"
   },
   {
    "duration": 7,
    "start_time": "2022-09-01T18:40:40.724Z"
   },
   {
    "duration": 11,
    "start_time": "2022-09-01T18:40:40.732Z"
   },
   {
    "duration": 1084,
    "start_time": "2022-09-01T18:40:40.744Z"
   },
   {
    "duration": 2,
    "start_time": "2022-09-01T18:40:41.829Z"
   },
   {
    "duration": 7,
    "start_time": "2022-09-01T18:40:41.834Z"
   },
   {
    "duration": 10,
    "start_time": "2022-09-01T18:40:41.842Z"
   },
   {
    "duration": 7,
    "start_time": "2022-09-01T18:40:41.853Z"
   },
   {
    "duration": 9,
    "start_time": "2022-09-01T18:40:41.861Z"
   },
   {
    "duration": 5,
    "start_time": "2022-09-01T18:40:41.871Z"
   },
   {
    "duration": 9,
    "start_time": "2022-09-01T18:40:41.878Z"
   },
   {
    "duration": 116,
    "start_time": "2022-09-01T18:40:41.888Z"
   },
   {
    "duration": 5,
    "start_time": "2022-09-01T18:40:42.010Z"
   },
   {
    "duration": 115,
    "start_time": "2022-09-01T18:40:42.016Z"
   },
   {
    "duration": 6,
    "start_time": "2022-09-01T18:40:42.133Z"
   },
   {
    "duration": 4,
    "start_time": "2022-09-01T18:40:42.141Z"
   },
   {
    "duration": 4,
    "start_time": "2022-09-01T18:40:42.146Z"
   },
   {
    "duration": 10,
    "start_time": "2022-09-01T18:40:42.152Z"
   },
   {
    "duration": 149,
    "start_time": "2022-09-01T18:40:42.163Z"
   },
   {
    "duration": 4,
    "start_time": "2022-09-01T18:40:42.314Z"
   },
   {
    "duration": 115,
    "start_time": "2022-09-01T18:40:42.320Z"
   },
   {
    "duration": 206,
    "start_time": "2022-09-01T18:40:42.437Z"
   },
   {
    "duration": 5,
    "start_time": "2022-09-01T18:40:42.644Z"
   },
   {
    "duration": 225,
    "start_time": "2022-09-01T18:40:42.652Z"
   },
   {
    "duration": 4,
    "start_time": "2022-09-01T18:40:42.879Z"
   },
   {
    "duration": 14,
    "start_time": "2022-09-01T18:40:42.885Z"
   },
   {
    "duration": 5,
    "start_time": "2022-09-01T18:40:42.900Z"
   },
   {
    "duration": 8,
    "start_time": "2022-09-01T18:40:42.906Z"
   },
   {
    "duration": 8,
    "start_time": "2022-09-01T18:40:42.915Z"
   },
   {
    "duration": 5,
    "start_time": "2022-09-01T18:40:42.924Z"
   },
   {
    "duration": 9,
    "start_time": "2022-09-01T18:40:42.930Z"
   },
   {
    "duration": 4,
    "start_time": "2022-09-01T18:40:42.940Z"
   },
   {
    "duration": 4,
    "start_time": "2022-09-01T18:40:42.945Z"
   },
   {
    "duration": 26,
    "start_time": "2022-09-01T18:40:42.950Z"
   },
   {
    "duration": 44,
    "start_time": "2022-09-01T18:40:42.978Z"
   },
   {
    "duration": 15,
    "start_time": "2022-09-01T18:40:43.024Z"
   },
   {
    "duration": 4,
    "start_time": "2022-09-01T18:40:43.040Z"
   },
   {
    "duration": 15,
    "start_time": "2022-09-01T18:40:43.045Z"
   },
   {
    "duration": 5,
    "start_time": "2022-09-01T18:40:43.061Z"
   },
   {
    "duration": 6,
    "start_time": "2022-09-01T18:40:43.067Z"
   },
   {
    "duration": 5,
    "start_time": "2022-09-01T18:40:43.074Z"
   },
   {
    "duration": 158,
    "start_time": "2022-09-01T18:40:43.080Z"
   },
   {
    "duration": 17,
    "start_time": "2022-09-01T18:40:43.239Z"
   },
   {
    "duration": 26,
    "start_time": "2022-09-01T18:40:43.258Z"
   },
   {
    "duration": 519,
    "start_time": "2022-09-01T18:40:43.285Z"
   },
   {
    "duration": 528,
    "start_time": "2022-09-01T18:40:43.805Z"
   },
   {
    "duration": 176,
    "start_time": "2022-09-01T18:40:44.334Z"
   },
   {
    "duration": 13,
    "start_time": "2022-09-01T18:40:44.512Z"
   },
   {
    "duration": 21,
    "start_time": "2022-09-01T18:40:44.526Z"
   },
   {
    "duration": 13,
    "start_time": "2022-09-01T18:40:44.548Z"
   },
   {
    "duration": 307,
    "start_time": "2022-09-01T18:40:44.562Z"
   },
   {
    "duration": 12,
    "start_time": "2022-09-01T18:40:44.870Z"
   },
   {
    "duration": 21,
    "start_time": "2022-09-01T18:40:44.884Z"
   },
   {
    "duration": 26,
    "start_time": "2022-09-01T18:40:44.907Z"
   },
   {
    "duration": 10,
    "start_time": "2022-09-01T18:40:44.935Z"
   },
   {
    "duration": 20,
    "start_time": "2022-09-01T18:40:44.947Z"
   },
   {
    "duration": 507,
    "start_time": "2022-09-01T18:40:44.969Z"
   },
   {
    "duration": 510,
    "start_time": "2022-09-01T18:40:45.477Z"
   },
   {
    "duration": 135,
    "start_time": "2022-09-01T18:40:45.988Z"
   },
   {
    "duration": 102,
    "start_time": "2022-09-01T18:40:46.125Z"
   },
   {
    "duration": 108,
    "start_time": "2022-09-01T18:40:46.228Z"
   },
   {
    "duration": 3,
    "start_time": "2022-09-01T18:40:46.337Z"
   },
   {
    "duration": 12,
    "start_time": "2022-09-01T18:40:46.341Z"
   },
   {
    "duration": 7,
    "start_time": "2022-09-01T18:40:46.354Z"
   },
   {
    "duration": 6,
    "start_time": "2022-09-01T18:40:46.363Z"
   },
   {
    "duration": 19,
    "start_time": "2022-09-01T18:40:46.370Z"
   },
   {
    "duration": 13,
    "start_time": "2022-09-01T18:40:46.390Z"
   },
   {
    "duration": 4,
    "start_time": "2022-09-01T18:40:46.410Z"
   },
   {
    "duration": 6,
    "start_time": "2022-09-01T18:40:46.415Z"
   },
   {
    "duration": 9,
    "start_time": "2022-09-01T18:40:46.423Z"
   },
   {
    "duration": 6,
    "start_time": "2022-09-01T18:40:46.434Z"
   },
   {
    "duration": 142,
    "start_time": "2022-09-01T18:40:46.441Z"
   },
   {
    "duration": 5,
    "start_time": "2022-09-01T18:40:46.584Z"
   },
   {
    "duration": 7,
    "start_time": "2022-09-01T18:40:46.590Z"
   },
   {
    "duration": 133,
    "start_time": "2022-09-01T18:40:46.598Z"
   },
   {
    "duration": 3,
    "start_time": "2022-09-01T18:40:46.732Z"
   },
   {
    "duration": 7,
    "start_time": "2022-09-01T18:40:46.737Z"
   },
   {
    "duration": 16,
    "start_time": "2022-09-01T18:40:46.748Z"
   },
   {
    "duration": 98,
    "start_time": "2022-09-01T18:40:46.765Z"
   },
   {
    "duration": 7,
    "start_time": "2022-09-01T18:40:46.865Z"
   },
   {
    "duration": 131,
    "start_time": "2022-09-01T18:40:46.873Z"
   },
   {
    "duration": 142,
    "start_time": "2022-09-01T18:40:47.006Z"
   },
   {
    "duration": 128,
    "start_time": "2022-09-01T18:40:47.149Z"
   },
   {
    "duration": 133,
    "start_time": "2022-09-01T18:40:47.279Z"
   },
   {
    "duration": 3,
    "start_time": "2022-09-01T18:46:17.497Z"
   },
   {
    "duration": 2,
    "start_time": "2022-09-01T18:46:46.618Z"
   },
   {
    "duration": 3,
    "start_time": "2022-09-01T18:46:47.944Z"
   },
   {
    "duration": 135,
    "start_time": "2022-09-01T18:47:26.132Z"
   },
   {
    "duration": 88,
    "start_time": "2022-09-01T18:47:31.743Z"
   },
   {
    "duration": 5,
    "start_time": "2022-09-01T18:47:34.340Z"
   },
   {
    "duration": 19,
    "start_time": "2022-09-01T18:47:40.554Z"
   },
   {
    "duration": 121,
    "start_time": "2022-09-01T18:47:57.233Z"
   },
   {
    "duration": 94,
    "start_time": "2022-09-01T18:48:12.987Z"
   },
   {
    "duration": 141,
    "start_time": "2022-09-01T18:48:18.424Z"
   },
   {
    "duration": 684,
    "start_time": "2022-09-01T19:21:39.939Z"
   },
   {
    "duration": 5,
    "start_time": "2022-09-01T19:21:40.625Z"
   },
   {
    "duration": 10,
    "start_time": "2022-09-01T19:21:40.632Z"
   },
   {
    "duration": 12,
    "start_time": "2022-09-01T19:21:40.645Z"
   },
   {
    "duration": 8,
    "start_time": "2022-09-01T19:21:40.659Z"
   },
   {
    "duration": 7,
    "start_time": "2022-09-01T19:21:40.668Z"
   },
   {
    "duration": 48,
    "start_time": "2022-09-01T19:21:40.676Z"
   },
   {
    "duration": 1114,
    "start_time": "2022-09-01T19:21:40.726Z"
   },
   {
    "duration": 2,
    "start_time": "2022-09-01T19:21:41.842Z"
   },
   {
    "duration": 12,
    "start_time": "2022-09-01T19:21:41.846Z"
   },
   {
    "duration": 6,
    "start_time": "2022-09-01T19:21:41.859Z"
   },
   {
    "duration": 9,
    "start_time": "2022-09-01T19:21:41.866Z"
   },
   {
    "duration": 10,
    "start_time": "2022-09-01T19:21:41.876Z"
   },
   {
    "duration": 4,
    "start_time": "2022-09-01T19:21:41.887Z"
   },
   {
    "duration": 20,
    "start_time": "2022-09-01T19:21:41.892Z"
   },
   {
    "duration": 119,
    "start_time": "2022-09-01T19:21:41.914Z"
   },
   {
    "duration": 6,
    "start_time": "2022-09-01T19:21:42.035Z"
   },
   {
    "duration": 125,
    "start_time": "2022-09-01T19:21:42.042Z"
   },
   {
    "duration": 7,
    "start_time": "2022-09-01T19:21:42.169Z"
   },
   {
    "duration": 7,
    "start_time": "2022-09-01T19:21:42.177Z"
   },
   {
    "duration": 5,
    "start_time": "2022-09-01T19:21:42.185Z"
   },
   {
    "duration": 23,
    "start_time": "2022-09-01T19:21:42.191Z"
   },
   {
    "duration": 140,
    "start_time": "2022-09-01T19:21:42.215Z"
   },
   {
    "duration": 5,
    "start_time": "2022-09-01T19:21:42.357Z"
   },
   {
    "duration": 130,
    "start_time": "2022-09-01T19:21:42.363Z"
   },
   {
    "duration": 261,
    "start_time": "2022-09-01T19:21:42.495Z"
   },
   {
    "duration": 5,
    "start_time": "2022-09-01T19:21:42.759Z"
   },
   {
    "duration": 244,
    "start_time": "2022-09-01T19:21:42.769Z"
   },
   {
    "duration": 6,
    "start_time": "2022-09-01T19:21:43.014Z"
   },
   {
    "duration": 4,
    "start_time": "2022-09-01T19:21:43.022Z"
   },
   {
    "duration": 4,
    "start_time": "2022-09-01T19:21:43.028Z"
   },
   {
    "duration": 16,
    "start_time": "2022-09-01T19:21:43.034Z"
   },
   {
    "duration": 6,
    "start_time": "2022-09-01T19:21:43.052Z"
   },
   {
    "duration": 9,
    "start_time": "2022-09-01T19:21:43.060Z"
   },
   {
    "duration": 8,
    "start_time": "2022-09-01T19:21:43.071Z"
   },
   {
    "duration": 5,
    "start_time": "2022-09-01T19:21:43.081Z"
   },
   {
    "duration": 23,
    "start_time": "2022-09-01T19:21:43.088Z"
   },
   {
    "duration": 39,
    "start_time": "2022-09-01T19:21:43.113Z"
   },
   {
    "duration": 19,
    "start_time": "2022-09-01T19:21:43.154Z"
   },
   {
    "duration": 43,
    "start_time": "2022-09-01T19:21:43.175Z"
   },
   {
    "duration": 5,
    "start_time": "2022-09-01T19:21:43.219Z"
   },
   {
    "duration": 15,
    "start_time": "2022-09-01T19:21:43.226Z"
   },
   {
    "duration": 6,
    "start_time": "2022-09-01T19:21:43.242Z"
   },
   {
    "duration": 5,
    "start_time": "2022-09-01T19:21:43.250Z"
   },
   {
    "duration": 8,
    "start_time": "2022-09-01T19:21:43.257Z"
   },
   {
    "duration": 168,
    "start_time": "2022-09-01T19:21:43.267Z"
   },
   {
    "duration": 24,
    "start_time": "2022-09-01T19:21:43.437Z"
   },
   {
    "duration": 39,
    "start_time": "2022-09-01T19:21:43.463Z"
   },
   {
    "duration": 528,
    "start_time": "2022-09-01T19:21:43.511Z"
   },
   {
    "duration": 531,
    "start_time": "2022-09-01T19:21:44.040Z"
   },
   {
    "duration": 169,
    "start_time": "2022-09-01T19:21:44.572Z"
   },
   {
    "duration": 13,
    "start_time": "2022-09-01T19:21:44.743Z"
   },
   {
    "duration": 5,
    "start_time": "2022-09-01T19:21:44.757Z"
   },
   {
    "duration": 9,
    "start_time": "2022-09-01T19:21:44.763Z"
   },
   {
    "duration": 330,
    "start_time": "2022-09-01T19:21:44.774Z"
   },
   {
    "duration": 16,
    "start_time": "2022-09-01T19:21:45.105Z"
   },
   {
    "duration": 11,
    "start_time": "2022-09-01T19:21:45.122Z"
   },
   {
    "duration": 11,
    "start_time": "2022-09-01T19:21:45.134Z"
   },
   {
    "duration": 8,
    "start_time": "2022-09-01T19:21:45.146Z"
   },
   {
    "duration": 18,
    "start_time": "2022-09-01T19:21:45.155Z"
   },
   {
    "duration": 509,
    "start_time": "2022-09-01T19:21:45.175Z"
   },
   {
    "duration": 513,
    "start_time": "2022-09-01T19:21:45.686Z"
   },
   {
    "duration": 139,
    "start_time": "2022-09-01T19:21:46.201Z"
   },
   {
    "duration": 100,
    "start_time": "2022-09-01T19:21:46.341Z"
   },
   {
    "duration": 105,
    "start_time": "2022-09-01T19:21:46.442Z"
   },
   {
    "duration": 3,
    "start_time": "2022-09-01T19:21:46.548Z"
   },
   {
    "duration": 14,
    "start_time": "2022-09-01T19:21:46.552Z"
   },
   {
    "duration": 15,
    "start_time": "2022-09-01T19:21:46.567Z"
   },
   {
    "duration": 16,
    "start_time": "2022-09-01T19:21:46.583Z"
   },
   {
    "duration": 53,
    "start_time": "2022-09-01T19:21:46.600Z"
   },
   {
    "duration": 12,
    "start_time": "2022-09-01T19:21:46.655Z"
   },
   {
    "duration": 7,
    "start_time": "2022-09-01T19:21:46.669Z"
   },
   {
    "duration": 27,
    "start_time": "2022-09-01T19:21:46.677Z"
   },
   {
    "duration": 11,
    "start_time": "2022-09-01T19:21:46.706Z"
   },
   {
    "duration": 13,
    "start_time": "2022-09-01T19:21:46.719Z"
   },
   {
    "duration": 147,
    "start_time": "2022-09-01T19:21:46.734Z"
   },
   {
    "duration": 4,
    "start_time": "2022-09-01T19:21:46.883Z"
   },
   {
    "duration": 33,
    "start_time": "2022-09-01T19:21:46.888Z"
   },
   {
    "duration": 125,
    "start_time": "2022-09-01T19:21:46.922Z"
   },
   {
    "duration": 4,
    "start_time": "2022-09-01T19:21:47.048Z"
   },
   {
    "duration": 5,
    "start_time": "2022-09-01T19:21:47.053Z"
   },
   {
    "duration": 19,
    "start_time": "2022-09-01T19:21:47.062Z"
   },
   {
    "duration": 99,
    "start_time": "2022-09-01T19:21:47.082Z"
   },
   {
    "duration": 2,
    "start_time": "2022-09-01T19:21:47.183Z"
   },
   {
    "duration": 150,
    "start_time": "2022-09-01T19:21:47.186Z"
   },
   {
    "duration": 4,
    "start_time": "2022-09-01T19:21:47.338Z"
   },
   {
    "duration": 111,
    "start_time": "2022-09-01T19:21:47.344Z"
   },
   {
    "duration": 136,
    "start_time": "2022-09-01T19:21:47.456Z"
   },
   {
    "duration": 130,
    "start_time": "2022-09-01T19:21:47.593Z"
   },
   {
    "duration": 123,
    "start_time": "2022-09-01T19:21:47.724Z"
   },
   {
    "duration": 164,
    "start_time": "2022-09-01T19:23:20.242Z"
   },
   {
    "duration": 92,
    "start_time": "2022-09-01T19:23:25.241Z"
   }
  ],
  "kernelspec": {
   "display_name": "Python 3 (ipykernel)",
   "language": "python",
   "name": "python3"
  },
  "language_info": {
   "codemirror_mode": {
    "name": "ipython",
    "version": 3
   },
   "file_extension": ".py",
   "mimetype": "text/x-python",
   "name": "python",
   "nbconvert_exporter": "python",
   "pygments_lexer": "ipython3",
   "version": "3.9.5"
  },
  "toc": {
   "base_numbering": 1,
   "nav_menu": {},
   "number_sections": true,
   "sideBar": true,
   "skip_h1_title": true,
   "title_cell": "Table of Contents",
   "title_sidebar": "Contents",
   "toc_cell": false,
   "toc_position": {},
   "toc_section_display": true,
   "toc_window_display": false
  }
 },
 "nbformat": 4,
 "nbformat_minor": 2
}

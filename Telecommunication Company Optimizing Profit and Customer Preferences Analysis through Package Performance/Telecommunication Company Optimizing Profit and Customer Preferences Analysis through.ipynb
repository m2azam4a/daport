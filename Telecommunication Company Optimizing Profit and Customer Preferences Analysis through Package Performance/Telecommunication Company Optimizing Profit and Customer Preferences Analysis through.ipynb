{
 "cells": [
  {
   "cell_type": "markdown",
   "metadata": {},
   "source": [
    "<div style=\"border:solid black 2px; padding: 20px\">\n",
    "\n",
    "# Reviewer's feedback v.1\n",
    "\n",
    "**Halo Azam**\n",
    "    \n",
    "**Greetings from Chamdani**\n",
    "\n",
    "Terima kasih telah mengirimkan project kamu dengan ini kamu sudah memulai sebuah langkah yang luar biasa saat ini. Disini saya akan mereview proyek kamu ya.\n",
    "\n",
    "Saya akan memberikan beberapa komentar dan feedback seperti dibawah ini, **mohon jangan dipindah, dirubah, maupun dihapus ya :).**\n",
    "    \n",
    "> Mohon diperhatikan bahwa apabila ada temuan atau kesalahan yang sama namun tidak ada komentar perbaikan disana, itu berarti kamu masih tetap harus memperbaikinya yaa.\n",
    "\n",
    "Komentar yang saya berikan akan muncul dalam warna hijau, kuning, atau pun merah seperti ini:\n",
    "\n",
    "</div>"
   ]
  },
  {
   "cell_type": "markdown",
   "metadata": {},
   "source": [
    "<div class=\"alert alert-success\">\n",
    "<b>Chamdani's comment v.*</b> <a class=\"tocSkip\"></a>\n",
    "\n",
    "Bagus, semua berjalan lancar.\n",
    "\n",
    "</div>"
   ]
  },
  {
   "cell_type": "markdown",
   "metadata": {},
   "source": [
    "<div class=\"alert alert-warning\">\n",
    "<b>Chamdani's comment v.*</b> <a class=\"tocSkip\"></a>\n",
    "\n",
    "Ada beberapa catatan.\n",
    "\n",
    "</div>"
   ]
  },
  {
   "cell_type": "markdown",
   "metadata": {},
   "source": [
    "<div class=\"alert alert-danger\">\n",
    "<b>Chamdani's comment v.*</b> <a class=\"tocSkip\"></a>\n",
    "\n",
    "Perlu beberapa perbaikan.\n",
    "\n",
    "</div>"
   ]
  },
  {
   "cell_type": "markdown",
   "metadata": {},
   "source": [
    "<div class=\"alert alert-info\">\n",
    "<b>Chamdani's info v.1</b> <a class=\"tocSkip\"></a>\n",
    "\n",
    "Catatan umum:\n",
    "* Fungsi `print` tidak diperlukan untuk mencetak suatu nilai\n",
    "* Lebih baik tulis kode pada bagian akhir cell code untuk menampilkan output tanpa `print`\n",
    "* Perintah soal yang ada dalam tanda kurung siku `[...]` sebaiknya dihilangkan\n",
    "* Sangat disarankan untuk menggunakan cell markdown untuk memberikan deskripsi temuan atau kesimpulan.\n",
    "* Tidak disarankan menggunakan cell code untuk memberikan penjelasan / deskripsi.\n",
    "* Untuk menghindari galat pada notebook project kamu. Batasi jumlah output yang dikeluarkan setiap kode dengan batas max 10 baris data.\n",
    "\n",
    "</div>"
   ]
  },
  {
   "cell_type": "markdown",
   "metadata": {},
   "source": [
    "<div style=\"border:solid gray 5px; padding: 20px\" class=\"alert alert-warning\">\n",
    "\n",
    "**INGATLAH** \n",
    "* Project kamu tidak akan bisa diterima bila kamu masih memiliki feedback berwarna merah. \n",
    "* Kamu hanya memiliki 3 kali kesempatan iterasi submission disetiap projectnya \n",
    "* Kamu dapat memperbaiki dan menyelesaikan feedback **pertama** dari saya tidak lebih dari 1\\*24 jam setiap iterasinya. *Untuk membantu saya mengetahui apakah ada kesulitan dari feedback project kamu*\n",
    "* Jika merasa kesulitan kamu dapat menuliskan responmu atas feedback saya menggunakan blok markdown warna biru yaa."
   ]
  },
  {
   "cell_type": "markdown",
   "metadata": {},
   "source": [
    "Kamu dapat menjawab saya dengan menggunakan blok berwarna biru seperti ini"
   ]
  },
  {
   "cell_type": "markdown",
   "metadata": {},
   "source": [
    "<div class=\"alert alert-info\">\n",
    "<b>Student answer</b> <a class=\"tocSkip\"></a>\n",
    "\n",
    "Siap kak.\n",
    "\n",
    "</div>"
   ]
  },
  {
   "cell_type": "markdown",
   "metadata": {},
   "source": [
    "# Mega Line Telecommunication\n",
    "<b>  Prepaid Internet Sales Analysis 2018: Customer Preference (PISA) Project </b>"
   ]
  },
  {
   "cell_type": "markdown",
   "metadata": {},
   "source": [
    "## Pendahuluan"
   ]
  },
  {
   "cell_type": "markdown",
   "metadata": {},
   "source": [
    "Perusahaan meminta divisi Data Scientist untuk melakukan analisa preferensi penggunaan paket yang diminati oleh pelanggan pada periode 2018 pada project baru mereka yaitu **PISA**. Namun sebelum melakukan analisa dengan data yang besar, Supervisor Data Scientist meminta bawahannya untuk membuatkan demo perhitungan pada data sampel yaitu sebanyak 500 data.\n",
    "\n",
    "Dalam laporan ini akan dijelaskan step-by-step untuk pengolahan data yang dilakukan. Selain itu, akan diuraikan pula hasil analisis data yang telah dibuat serta rekomendasi yang dapat diberikan untuk meningkatkan penjualan dan kepuasan pelanggan."
   ]
  },
  {
   "cell_type": "markdown",
   "metadata": {},
   "source": [
    "### Tujuan"
   ]
  },
  {
   "cell_type": "markdown",
   "metadata": {},
   "source": [
    "Berikut adalah tujuan dari pelaksanaan project ini:\n",
    "1. Memenuhi tugas bootcamp Practicum:)\n",
    "2. Menghitung pendapatan yang diperoleh dari masing-masing paket untuk menyesuaikan anggarakan iklan.\n",
    "\n",
    "Adapun manfaat lain yang bisa didapat dari analisa ini:\n",
    "1. Memahami preferensi pelanggan: dengan memahami paket yang paling diminati oleh pelanggan, perusahaan dapat membuat keputusan bisnis yang tepat untuk menarik pelanggan lebih banyak pada tahun 2019.\n",
    "2. meningkatkan efektivitas paket: perusahaan dapat mengevaluasi paket yang kurang menarik bagi pelanggan. Apakah terlalu mahal, atau memang target pasarnya yang salah atau bahkan perusahaan perlu menghapus paket tersebut.\n",
    "3. Mengoptimalkan keuntungan: perusahaan dapat mengoptimalkan keuntungan dengan menyesuaikan paket yang ada dan menarik lebih banyak pelanggan.\n",
    "4. Mengetahui trend penggunaan layanan telepon, SMS, dan internet setiap bulannya: dengan melihat apakah terdapat pengguna yang menggunakan paket melebihi kuota yang disediakan? dan seberapa besar? hal ini bisa menjadi dasar pagi perusahaan untuk membuat paket baru dengan kuota lebih besar."
   ]
  },
  {
   "cell_type": "markdown",
   "metadata": {},
   "source": [
    "### Deskripsi Paket"
   ]
  },
  {
   "cell_type": "markdown",
   "metadata": {},
   "source": [
    "Perusahaan memiliki dua buah paket yang saat ini ditawarkan kepada pelanggan yaitu **Surf** dan **Ultimate** dengan rincian sebagai berikut"
   ]
  },
  {
   "cell_type": "markdown",
   "metadata": {},
   "source": [
    "#### Surf"
   ]
  },
  {
   "cell_type": "markdown",
   "metadata": {},
   "source": [
    "1. Biaya bulanan: \\$20\n",
    "2. Paket bulanan: 500 menit durasi panggilan, 50 SMS, dan 15 GB data\n",
    "3. Setelah melebihi batas paket, akan dikenakan:\\\n",
    "   Panggilan: 3 sen/menit\\\n",
    "   SMS: 3 sen/SMS\\\n",
    "   Internet: $20/GB"
   ]
  },
  {
   "cell_type": "markdown",
   "metadata": {},
   "source": [
    "#### Ultimate"
   ]
  },
  {
   "cell_type": "markdown",
   "metadata": {},
   "source": [
    "1. Biaya bulanan: \\$70\n",
    "2. Paket bulanan: 3000 menit durasi panggilan, 1000 SMS, dan 30 GB data\n",
    "3. Setelah melebihi batas paket, akan dikenakan:\\\n",
    "   Panggilan: 1 sen/menit\\\n",
    "   SMS: 1 sen/SMS\\\n",
    "   Internet: $7/GB"
   ]
  },
  {
   "cell_type": "markdown",
   "metadata": {},
   "source": [
    "#### Ketentuan"
   ]
  },
  {
   "cell_type": "markdown",
   "metadata": {},
   "source": [
    "Beriktu adalah ketentuan-ketentuan yang digunakan dalam analisa data:\n",
    "1. Megaline membulatkan detik ke menit,serta membulatkan megabita ke gigabita.\n",
    "2. Untuk panggilan, setiap panggilan individual dibulatkan ke atas. Bahkan panggilan 1 detik akan dihitung sebagia 1 menit.\n",
    "3. Untuk lalu lintas web tidak dibulatkan ke atas setiap sesi. Tetapi, total untuk sebulan dibulatkan ke atas. Jika seorang pengguna menghabiskan 1025 megabita bulan ini, maka ia dikenai biaya untuk 2 gigabita."
   ]
  },
  {
   "cell_type": "markdown",
   "metadata": {},
   "source": [
    "<div class=\"alert alert-success\">\n",
    "<b>Chamdani's comment v.1</b> <a class=\"tocSkip\"></a>\n",
    "\n",
    "Bagus, semua berjalan lancar.\n",
    "\n",
    "</div>"
   ]
  },
  {
   "cell_type": "markdown",
   "metadata": {},
   "source": [
    "## Pra-pemrosesan Data"
   ]
  },
  {
   "cell_type": "markdown",
   "metadata": {},
   "source": [
    "Proses ini terdiri dari beberapa langkah yaitu penyiapan library python yang digunakan, memuat dataset dan menelaah dataset, dan melakukan eksplorasi pada dataset."
   ]
  },
  {
   "cell_type": "markdown",
   "metadata": {},
   "source": [
    "### Menyiapkan Library"
   ]
  },
  {
   "cell_type": "markdown",
   "metadata": {},
   "source": [
    "Berikut adalah library yang digunakan untuk proses analisa data:"
   ]
  },
  {
   "cell_type": "code",
   "execution_count": 415,
   "metadata": {},
   "outputs": [],
   "source": [
    "import numpy as np\n",
    "import pandas as pd\n",
    "import matplotlib.pyplot as plt\n",
    "import seaborn as sb\n",
    "from scipy import stats as st"
   ]
  },
  {
   "cell_type": "markdown",
   "metadata": {},
   "source": [
    "<div class=\"alert alert-success\">\n",
    "<b>Chamdani's comment v.1</b> <a class=\"tocSkip\"></a>\n",
    "\n",
    "Bagus, semua berjalan lancar.\n",
    "\n",
    "</div>"
   ]
  },
  {
   "cell_type": "markdown",
   "metadata": {},
   "source": [
    "### Menyiapkan data"
   ]
  },
  {
   "cell_type": "markdown",
   "metadata": {},
   "source": [
    "Langkah pertama adalah mempersiapkan data menelaah/memahami dataset yang kita perlukan yaitu data penggunaan panggilan, SMS, dan internet, serta data paket yang digunakan oleh masing-masing user."
   ]
  },
  {
   "cell_type": "code",
   "execution_count": 416,
   "metadata": {},
   "outputs": [],
   "source": [
    "df_call = pd.read_csv('/datasets/megaline_calls.csv',delimiter=',')\n",
    "df_internet = pd.read_csv('/datasets/megaline_internet.csv',delimiter=',')\n",
    "df_plans = pd.read_csv('/datasets/megaline_plans.csv',delimiter=',')\n",
    "df_messages = pd.read_csv('/datasets/megaline_messages.csv',delimiter=',')\n",
    "df_users = pd.read_csv('/datasets/megaline_users.csv',delimiter=',')"
   ]
  },
  {
   "cell_type": "markdown",
   "metadata": {},
   "source": [
    "<div class=\"alert alert-success\">\n",
    "<b>Chamdani's comment v.1</b> <a class=\"tocSkip\"></a>\n",
    "\n",
    "Bagus, semua berjalan lancar.\n",
    "\n",
    "</div>"
   ]
  },
  {
   "cell_type": "markdown",
   "metadata": {},
   "source": [
    "#### Plans"
   ]
  },
  {
   "cell_type": "markdown",
   "metadata": {},
   "source": [
    "Data ini berisi informasi paket yang disediakan oleh Megaline Telecommunication. Mulai dari kuota telepon, SMS, dan internet serta biayanya."
   ]
  },
  {
   "cell_type": "code",
   "execution_count": 417,
   "metadata": {},
   "outputs": [
    {
     "data": {
      "text/html": [
       "<div>\n",
       "<style scoped>\n",
       "    .dataframe tbody tr th:only-of-type {\n",
       "        vertical-align: middle;\n",
       "    }\n",
       "\n",
       "    .dataframe tbody tr th {\n",
       "        vertical-align: top;\n",
       "    }\n",
       "\n",
       "    .dataframe thead th {\n",
       "        text-align: right;\n",
       "    }\n",
       "</style>\n",
       "<table border=\"1\" class=\"dataframe\">\n",
       "  <thead>\n",
       "    <tr style=\"text-align: right;\">\n",
       "      <th></th>\n",
       "      <th>messages_included</th>\n",
       "      <th>mb_per_month_included</th>\n",
       "      <th>minutes_included</th>\n",
       "      <th>usd_monthly_pay</th>\n",
       "      <th>usd_per_gb</th>\n",
       "      <th>usd_per_message</th>\n",
       "      <th>usd_per_minute</th>\n",
       "      <th>plan_name</th>\n",
       "    </tr>\n",
       "  </thead>\n",
       "  <tbody>\n",
       "    <tr>\n",
       "      <th>0</th>\n",
       "      <td>50</td>\n",
       "      <td>15360</td>\n",
       "      <td>500</td>\n",
       "      <td>20</td>\n",
       "      <td>10</td>\n",
       "      <td>0.03</td>\n",
       "      <td>0.03</td>\n",
       "      <td>surf</td>\n",
       "    </tr>\n",
       "    <tr>\n",
       "      <th>1</th>\n",
       "      <td>1000</td>\n",
       "      <td>30720</td>\n",
       "      <td>3000</td>\n",
       "      <td>70</td>\n",
       "      <td>7</td>\n",
       "      <td>0.01</td>\n",
       "      <td>0.01</td>\n",
       "      <td>ultimate</td>\n",
       "    </tr>\n",
       "  </tbody>\n",
       "</table>\n",
       "</div>"
      ],
      "text/plain": [
       "   messages_included  mb_per_month_included  minutes_included  \\\n",
       "0                 50                  15360               500   \n",
       "1               1000                  30720              3000   \n",
       "\n",
       "   usd_monthly_pay  usd_per_gb  usd_per_message  usd_per_minute plan_name  \n",
       "0               20          10             0.03            0.03      surf  \n",
       "1               70           7             0.01            0.01  ultimate  "
      ]
     },
     "execution_count": 417,
     "metadata": {},
     "output_type": "execute_result"
    }
   ],
   "source": [
    "df_plans.head()"
   ]
  },
  {
   "cell_type": "code",
   "execution_count": 418,
   "metadata": {},
   "outputs": [
    {
     "name": "stdout",
     "output_type": "stream",
     "text": [
      "<class 'pandas.core.frame.DataFrame'>\n",
      "RangeIndex: 2 entries, 0 to 1\n",
      "Data columns (total 8 columns):\n",
      " #   Column                 Non-Null Count  Dtype  \n",
      "---  ------                 --------------  -----  \n",
      " 0   messages_included      2 non-null      int64  \n",
      " 1   mb_per_month_included  2 non-null      int64  \n",
      " 2   minutes_included       2 non-null      int64  \n",
      " 3   usd_monthly_pay        2 non-null      int64  \n",
      " 4   usd_per_gb             2 non-null      int64  \n",
      " 5   usd_per_message        2 non-null      float64\n",
      " 6   usd_per_minute         2 non-null      float64\n",
      " 7   plan_name              2 non-null      object \n",
      "dtypes: float64(2), int64(5), object(1)\n",
      "memory usage: 256.0+ bytes\n"
     ]
    }
   ],
   "source": [
    "df_plans.info()"
   ]
  },
  {
   "cell_type": "code",
   "execution_count": 419,
   "metadata": {},
   "outputs": [
    {
     "data": {
      "text/plain": [
       "0"
      ]
     },
     "execution_count": 419,
     "metadata": {},
     "output_type": "execute_result"
    }
   ],
   "source": [
    "df_plans.duplicated().sum()"
   ]
  },
  {
   "cell_type": "markdown",
   "metadata": {},
   "source": [
    "<div class=\"alert alert-success\">\n",
    "<b>Chamdani's comment v.1</b> <a class=\"tocSkip\"></a>\n",
    "\n",
    "Bagus, semua berjalan lancar.\n",
    "\n",
    "</div>"
   ]
  },
  {
   "cell_type": "markdown",
   "metadata": {},
   "source": [
    "#### Call"
   ]
  },
  {
   "cell_type": "markdown",
   "metadata": {},
   "source": [
    "Dataset ini berisi data penggunaan layanan telepon/panggilan oleh masing-masing user. Data ini digunakan untuk mengetahui durasi panggilan yang dilakukan pengguna setiap bulannya dalam satu tahun."
   ]
  },
  {
   "cell_type": "code",
   "execution_count": 420,
   "metadata": {},
   "outputs": [
    {
     "name": "stdout",
     "output_type": "stream",
     "text": [
      "<class 'pandas.core.frame.DataFrame'>\n",
      "RangeIndex: 137735 entries, 0 to 137734\n",
      "Data columns (total 4 columns):\n",
      " #   Column     Non-Null Count   Dtype  \n",
      "---  ------     --------------   -----  \n",
      " 0   id         137735 non-null  object \n",
      " 1   user_id    137735 non-null  int64  \n",
      " 2   call_date  137735 non-null  object \n",
      " 3   duration   137735 non-null  float64\n",
      "dtypes: float64(1), int64(1), object(2)\n",
      "memory usage: 4.2+ MB\n"
     ]
    }
   ],
   "source": [
    "df_call.info()"
   ]
  },
  {
   "cell_type": "code",
   "execution_count": 421,
   "metadata": {},
   "outputs": [
    {
     "data": {
      "text/plain": [
       "0"
      ]
     },
     "execution_count": 421,
     "metadata": {},
     "output_type": "execute_result"
    }
   ],
   "source": [
    "df_call.duplicated().sum()"
   ]
  },
  {
   "cell_type": "code",
   "execution_count": 422,
   "metadata": {},
   "outputs": [
    {
     "data": {
      "text/html": [
       "<div>\n",
       "<style scoped>\n",
       "    .dataframe tbody tr th:only-of-type {\n",
       "        vertical-align: middle;\n",
       "    }\n",
       "\n",
       "    .dataframe tbody tr th {\n",
       "        vertical-align: top;\n",
       "    }\n",
       "\n",
       "    .dataframe thead th {\n",
       "        text-align: right;\n",
       "    }\n",
       "</style>\n",
       "<table border=\"1\" class=\"dataframe\">\n",
       "  <thead>\n",
       "    <tr style=\"text-align: right;\">\n",
       "      <th></th>\n",
       "      <th>id</th>\n",
       "      <th>user_id</th>\n",
       "      <th>call_date</th>\n",
       "      <th>duration</th>\n",
       "    </tr>\n",
       "  </thead>\n",
       "  <tbody>\n",
       "    <tr>\n",
       "      <th>0</th>\n",
       "      <td>1000_93</td>\n",
       "      <td>1000</td>\n",
       "      <td>2018-12-27</td>\n",
       "      <td>8.52</td>\n",
       "    </tr>\n",
       "    <tr>\n",
       "      <th>1</th>\n",
       "      <td>1000_145</td>\n",
       "      <td>1000</td>\n",
       "      <td>2018-12-27</td>\n",
       "      <td>13.66</td>\n",
       "    </tr>\n",
       "    <tr>\n",
       "      <th>2</th>\n",
       "      <td>1000_247</td>\n",
       "      <td>1000</td>\n",
       "      <td>2018-12-27</td>\n",
       "      <td>14.48</td>\n",
       "    </tr>\n",
       "    <tr>\n",
       "      <th>3</th>\n",
       "      <td>1000_309</td>\n",
       "      <td>1000</td>\n",
       "      <td>2018-12-28</td>\n",
       "      <td>5.76</td>\n",
       "    </tr>\n",
       "    <tr>\n",
       "      <th>4</th>\n",
       "      <td>1000_380</td>\n",
       "      <td>1000</td>\n",
       "      <td>2018-12-30</td>\n",
       "      <td>4.22</td>\n",
       "    </tr>\n",
       "  </tbody>\n",
       "</table>\n",
       "</div>"
      ],
      "text/plain": [
       "         id  user_id   call_date  duration\n",
       "0   1000_93     1000  2018-12-27      8.52\n",
       "1  1000_145     1000  2018-12-27     13.66\n",
       "2  1000_247     1000  2018-12-27     14.48\n",
       "3  1000_309     1000  2018-12-28      5.76\n",
       "4  1000_380     1000  2018-12-30      4.22"
      ]
     },
     "execution_count": 422,
     "metadata": {},
     "output_type": "execute_result"
    }
   ],
   "source": [
    "df_call.head()"
   ]
  },
  {
   "cell_type": "code",
   "execution_count": 423,
   "metadata": {},
   "outputs": [
    {
     "data": {
      "text/html": [
       "<div>\n",
       "<style scoped>\n",
       "    .dataframe tbody tr th:only-of-type {\n",
       "        vertical-align: middle;\n",
       "    }\n",
       "\n",
       "    .dataframe tbody tr th {\n",
       "        vertical-align: top;\n",
       "    }\n",
       "\n",
       "    .dataframe thead th {\n",
       "        text-align: right;\n",
       "    }\n",
       "</style>\n",
       "<table border=\"1\" class=\"dataframe\">\n",
       "  <thead>\n",
       "    <tr style=\"text-align: right;\">\n",
       "      <th></th>\n",
       "      <th>user_id</th>\n",
       "      <th>duration</th>\n",
       "    </tr>\n",
       "  </thead>\n",
       "  <tbody>\n",
       "    <tr>\n",
       "      <th>count</th>\n",
       "      <td>137735.000000</td>\n",
       "      <td>137735.000000</td>\n",
       "    </tr>\n",
       "    <tr>\n",
       "      <th>mean</th>\n",
       "      <td>1247.658046</td>\n",
       "      <td>6.745927</td>\n",
       "    </tr>\n",
       "    <tr>\n",
       "      <th>std</th>\n",
       "      <td>139.416268</td>\n",
       "      <td>5.839241</td>\n",
       "    </tr>\n",
       "    <tr>\n",
       "      <th>min</th>\n",
       "      <td>1000.000000</td>\n",
       "      <td>0.000000</td>\n",
       "    </tr>\n",
       "    <tr>\n",
       "      <th>25%</th>\n",
       "      <td>1128.000000</td>\n",
       "      <td>1.290000</td>\n",
       "    </tr>\n",
       "    <tr>\n",
       "      <th>50%</th>\n",
       "      <td>1247.000000</td>\n",
       "      <td>5.980000</td>\n",
       "    </tr>\n",
       "    <tr>\n",
       "      <th>75%</th>\n",
       "      <td>1365.000000</td>\n",
       "      <td>10.690000</td>\n",
       "    </tr>\n",
       "    <tr>\n",
       "      <th>max</th>\n",
       "      <td>1499.000000</td>\n",
       "      <td>37.600000</td>\n",
       "    </tr>\n",
       "  </tbody>\n",
       "</table>\n",
       "</div>"
      ],
      "text/plain": [
       "             user_id       duration\n",
       "count  137735.000000  137735.000000\n",
       "mean     1247.658046       6.745927\n",
       "std       139.416268       5.839241\n",
       "min      1000.000000       0.000000\n",
       "25%      1128.000000       1.290000\n",
       "50%      1247.000000       5.980000\n",
       "75%      1365.000000      10.690000\n",
       "max      1499.000000      37.600000"
      ]
     },
     "execution_count": 423,
     "metadata": {},
     "output_type": "execute_result"
    }
   ],
   "source": [
    "df_call.describe()"
   ]
  },
  {
   "cell_type": "markdown",
   "metadata": {},
   "source": [
    "Data panggilan tidak memiliki nilai duplikat dan nilai NaN. Terdapat tipe data yang harus diperbaiki yaitu kolom call_date perlu diubah menjadi datetime. Terdapat panggilan dengan durasi 0 detik, mungkin ini yang termasuk misscall atau panggilan tidak terjawab.\n",
    "Proses perbaikan data akan dilakukan pada langkah selanjutnya (4)."
   ]
  },
  {
   "cell_type": "markdown",
   "metadata": {},
   "source": [
    "<div class=\"alert alert-success\">\n",
    "<b>Chamdani's comment v.1</b> <a class=\"tocSkip\"></a>\n",
    "\n",
    "Bagus, semua berjalan lancar.\n",
    "\n",
    "</div>"
   ]
  },
  {
   "cell_type": "markdown",
   "metadata": {},
   "source": [
    "#### Internet"
   ]
  },
  {
   "cell_type": "markdown",
   "metadata": {},
   "source": [
    "Dataset ini berisi data penggunaan layanan internet oleh masing-masing user. Data ini digunakan untuk mengetahui paket data yang digunakan pengguna setiap bulannya dalam satu tahun."
   ]
  },
  {
   "cell_type": "code",
   "execution_count": 424,
   "metadata": {},
   "outputs": [
    {
     "data": {
      "text/html": [
       "<div>\n",
       "<style scoped>\n",
       "    .dataframe tbody tr th:only-of-type {\n",
       "        vertical-align: middle;\n",
       "    }\n",
       "\n",
       "    .dataframe tbody tr th {\n",
       "        vertical-align: top;\n",
       "    }\n",
       "\n",
       "    .dataframe thead th {\n",
       "        text-align: right;\n",
       "    }\n",
       "</style>\n",
       "<table border=\"1\" class=\"dataframe\">\n",
       "  <thead>\n",
       "    <tr style=\"text-align: right;\">\n",
       "      <th></th>\n",
       "      <th>user_id</th>\n",
       "      <th>mb_used</th>\n",
       "    </tr>\n",
       "  </thead>\n",
       "  <tbody>\n",
       "    <tr>\n",
       "      <th>count</th>\n",
       "      <td>104825.000000</td>\n",
       "      <td>104825.000000</td>\n",
       "    </tr>\n",
       "    <tr>\n",
       "      <th>mean</th>\n",
       "      <td>1242.496361</td>\n",
       "      <td>366.713701</td>\n",
       "    </tr>\n",
       "    <tr>\n",
       "      <th>std</th>\n",
       "      <td>142.053913</td>\n",
       "      <td>277.170542</td>\n",
       "    </tr>\n",
       "    <tr>\n",
       "      <th>min</th>\n",
       "      <td>1000.000000</td>\n",
       "      <td>0.000000</td>\n",
       "    </tr>\n",
       "    <tr>\n",
       "      <th>25%</th>\n",
       "      <td>1122.000000</td>\n",
       "      <td>136.080000</td>\n",
       "    </tr>\n",
       "    <tr>\n",
       "      <th>50%</th>\n",
       "      <td>1236.000000</td>\n",
       "      <td>343.980000</td>\n",
       "    </tr>\n",
       "    <tr>\n",
       "      <th>75%</th>\n",
       "      <td>1367.000000</td>\n",
       "      <td>554.610000</td>\n",
       "    </tr>\n",
       "    <tr>\n",
       "      <th>max</th>\n",
       "      <td>1499.000000</td>\n",
       "      <td>1693.470000</td>\n",
       "    </tr>\n",
       "  </tbody>\n",
       "</table>\n",
       "</div>"
      ],
      "text/plain": [
       "             user_id        mb_used\n",
       "count  104825.000000  104825.000000\n",
       "mean     1242.496361     366.713701\n",
       "std       142.053913     277.170542\n",
       "min      1000.000000       0.000000\n",
       "25%      1122.000000     136.080000\n",
       "50%      1236.000000     343.980000\n",
       "75%      1367.000000     554.610000\n",
       "max      1499.000000    1693.470000"
      ]
     },
     "execution_count": 424,
     "metadata": {},
     "output_type": "execute_result"
    }
   ],
   "source": [
    "df_internet.describe()"
   ]
  },
  {
   "cell_type": "code",
   "execution_count": 425,
   "metadata": {},
   "outputs": [
    {
     "name": "stdout",
     "output_type": "stream",
     "text": [
      "<class 'pandas.core.frame.DataFrame'>\n",
      "RangeIndex: 104825 entries, 0 to 104824\n",
      "Data columns (total 4 columns):\n",
      " #   Column        Non-Null Count   Dtype  \n",
      "---  ------        --------------   -----  \n",
      " 0   id            104825 non-null  object \n",
      " 1   user_id       104825 non-null  int64  \n",
      " 2   session_date  104825 non-null  object \n",
      " 3   mb_used       104825 non-null  float64\n",
      "dtypes: float64(1), int64(1), object(2)\n",
      "memory usage: 3.2+ MB\n"
     ]
    }
   ],
   "source": [
    "df_internet.info()"
   ]
  },
  {
   "cell_type": "code",
   "execution_count": 426,
   "metadata": {},
   "outputs": [
    {
     "data": {
      "text/plain": [
       "0"
      ]
     },
     "execution_count": 426,
     "metadata": {},
     "output_type": "execute_result"
    }
   ],
   "source": [
    "df_internet.duplicated().sum()"
   ]
  },
  {
   "cell_type": "code",
   "execution_count": 427,
   "metadata": {},
   "outputs": [
    {
     "data": {
      "text/html": [
       "<div>\n",
       "<style scoped>\n",
       "    .dataframe tbody tr th:only-of-type {\n",
       "        vertical-align: middle;\n",
       "    }\n",
       "\n",
       "    .dataframe tbody tr th {\n",
       "        vertical-align: top;\n",
       "    }\n",
       "\n",
       "    .dataframe thead th {\n",
       "        text-align: right;\n",
       "    }\n",
       "</style>\n",
       "<table border=\"1\" class=\"dataframe\">\n",
       "  <thead>\n",
       "    <tr style=\"text-align: right;\">\n",
       "      <th></th>\n",
       "      <th>id</th>\n",
       "      <th>user_id</th>\n",
       "      <th>session_date</th>\n",
       "      <th>mb_used</th>\n",
       "    </tr>\n",
       "  </thead>\n",
       "  <tbody>\n",
       "    <tr>\n",
       "      <th>0</th>\n",
       "      <td>1000_13</td>\n",
       "      <td>1000</td>\n",
       "      <td>2018-12-29</td>\n",
       "      <td>89.86</td>\n",
       "    </tr>\n",
       "    <tr>\n",
       "      <th>1</th>\n",
       "      <td>1000_204</td>\n",
       "      <td>1000</td>\n",
       "      <td>2018-12-31</td>\n",
       "      <td>0.00</td>\n",
       "    </tr>\n",
       "    <tr>\n",
       "      <th>2</th>\n",
       "      <td>1000_379</td>\n",
       "      <td>1000</td>\n",
       "      <td>2018-12-28</td>\n",
       "      <td>660.40</td>\n",
       "    </tr>\n",
       "    <tr>\n",
       "      <th>3</th>\n",
       "      <td>1000_413</td>\n",
       "      <td>1000</td>\n",
       "      <td>2018-12-26</td>\n",
       "      <td>270.99</td>\n",
       "    </tr>\n",
       "    <tr>\n",
       "      <th>4</th>\n",
       "      <td>1000_442</td>\n",
       "      <td>1000</td>\n",
       "      <td>2018-12-27</td>\n",
       "      <td>880.22</td>\n",
       "    </tr>\n",
       "  </tbody>\n",
       "</table>\n",
       "</div>"
      ],
      "text/plain": [
       "         id  user_id session_date  mb_used\n",
       "0   1000_13     1000   2018-12-29    89.86\n",
       "1  1000_204     1000   2018-12-31     0.00\n",
       "2  1000_379     1000   2018-12-28   660.40\n",
       "3  1000_413     1000   2018-12-26   270.99\n",
       "4  1000_442     1000   2018-12-27   880.22"
      ]
     },
     "execution_count": 427,
     "metadata": {},
     "output_type": "execute_result"
    }
   ],
   "source": [
    "df_internet.head()"
   ]
  },
  {
   "cell_type": "markdown",
   "metadata": {},
   "source": [
    "Data penggunaan internet tidak memiliki nilai duplikat dan nilai NaN. Terdapat pemakaian sebesar 0 mb yang artinya pelanggan tidak menggunakan internet sama sekali dalam satu bulan.\n",
    "Tipe data kolom session_date perlu diubah menjadi datetime."
   ]
  },
  {
   "cell_type": "markdown",
   "metadata": {},
   "source": [
    "<div class=\"alert alert-success\">\n",
    "<b>Chamdani's comment v.1</b> <a class=\"tocSkip\"></a>\n",
    "\n",
    "Bagus, semua berjalan lancar.\n",
    "\n",
    "</div>"
   ]
  },
  {
   "cell_type": "markdown",
   "metadata": {},
   "source": [
    "#### Messages"
   ]
  },
  {
   "cell_type": "markdown",
   "metadata": {},
   "source": [
    "Dataset ini berisi data penggunaan layanan SMS oleh masing-masing user. Data ini digunakan untuk mengetahui jumlah pesin terkirim yang dilakukan pengguna setiap bulannya dalam satu tahun."
   ]
  },
  {
   "cell_type": "code",
   "execution_count": 428,
   "metadata": {},
   "outputs": [
    {
     "data": {
      "text/html": [
       "<div>\n",
       "<style scoped>\n",
       "    .dataframe tbody tr th:only-of-type {\n",
       "        vertical-align: middle;\n",
       "    }\n",
       "\n",
       "    .dataframe tbody tr th {\n",
       "        vertical-align: top;\n",
       "    }\n",
       "\n",
       "    .dataframe thead th {\n",
       "        text-align: right;\n",
       "    }\n",
       "</style>\n",
       "<table border=\"1\" class=\"dataframe\">\n",
       "  <thead>\n",
       "    <tr style=\"text-align: right;\">\n",
       "      <th></th>\n",
       "      <th>user_id</th>\n",
       "    </tr>\n",
       "  </thead>\n",
       "  <tbody>\n",
       "    <tr>\n",
       "      <th>count</th>\n",
       "      <td>76051.000000</td>\n",
       "    </tr>\n",
       "    <tr>\n",
       "      <th>mean</th>\n",
       "      <td>1245.972768</td>\n",
       "    </tr>\n",
       "    <tr>\n",
       "      <th>std</th>\n",
       "      <td>139.843635</td>\n",
       "    </tr>\n",
       "    <tr>\n",
       "      <th>min</th>\n",
       "      <td>1000.000000</td>\n",
       "    </tr>\n",
       "    <tr>\n",
       "      <th>25%</th>\n",
       "      <td>1123.000000</td>\n",
       "    </tr>\n",
       "    <tr>\n",
       "      <th>50%</th>\n",
       "      <td>1251.000000</td>\n",
       "    </tr>\n",
       "    <tr>\n",
       "      <th>75%</th>\n",
       "      <td>1362.000000</td>\n",
       "    </tr>\n",
       "    <tr>\n",
       "      <th>max</th>\n",
       "      <td>1497.000000</td>\n",
       "    </tr>\n",
       "  </tbody>\n",
       "</table>\n",
       "</div>"
      ],
      "text/plain": [
       "            user_id\n",
       "count  76051.000000\n",
       "mean    1245.972768\n",
       "std      139.843635\n",
       "min     1000.000000\n",
       "25%     1123.000000\n",
       "50%     1251.000000\n",
       "75%     1362.000000\n",
       "max     1497.000000"
      ]
     },
     "execution_count": 428,
     "metadata": {},
     "output_type": "execute_result"
    }
   ],
   "source": [
    "df_messages.describe()"
   ]
  },
  {
   "cell_type": "code",
   "execution_count": 429,
   "metadata": {},
   "outputs": [
    {
     "name": "stdout",
     "output_type": "stream",
     "text": [
      "<class 'pandas.core.frame.DataFrame'>\n",
      "RangeIndex: 76051 entries, 0 to 76050\n",
      "Data columns (total 3 columns):\n",
      " #   Column        Non-Null Count  Dtype \n",
      "---  ------        --------------  ----- \n",
      " 0   id            76051 non-null  object\n",
      " 1   user_id       76051 non-null  int64 \n",
      " 2   message_date  76051 non-null  object\n",
      "dtypes: int64(1), object(2)\n",
      "memory usage: 1.7+ MB\n"
     ]
    }
   ],
   "source": [
    "df_messages.info()"
   ]
  },
  {
   "cell_type": "code",
   "execution_count": 430,
   "metadata": {},
   "outputs": [
    {
     "data": {
      "text/plain": [
       "0"
      ]
     },
     "execution_count": 430,
     "metadata": {},
     "output_type": "execute_result"
    }
   ],
   "source": [
    "df_messages.duplicated().sum()"
   ]
  },
  {
   "cell_type": "markdown",
   "metadata": {},
   "source": [
    "Data penggunaan layanan SMS tidak memiliki nilai duplikat dan nilai NaN. Namun tipe data pada kolom message_date perlu diubah menjadi datetime."
   ]
  },
  {
   "cell_type": "markdown",
   "metadata": {},
   "source": [
    "<div class=\"alert alert-success\">\n",
    "<b>Chamdani's comment v.1</b> <a class=\"tocSkip\"></a>\n",
    "\n",
    "Bagus, semua berjalan lancar.\n",
    "\n",
    "</div>"
   ]
  },
  {
   "cell_type": "markdown",
   "metadata": {},
   "source": [
    "#### Users"
   ]
  },
  {
   "cell_type": "markdown",
   "metadata": {},
   "source": [
    "Dataset ini berisi informasi paket yang digunakan oleh masing-masing pengguna."
   ]
  },
  {
   "cell_type": "code",
   "execution_count": 431,
   "metadata": {},
   "outputs": [
    {
     "data": {
      "text/html": [
       "<div>\n",
       "<style scoped>\n",
       "    .dataframe tbody tr th:only-of-type {\n",
       "        vertical-align: middle;\n",
       "    }\n",
       "\n",
       "    .dataframe tbody tr th {\n",
       "        vertical-align: top;\n",
       "    }\n",
       "\n",
       "    .dataframe thead th {\n",
       "        text-align: right;\n",
       "    }\n",
       "</style>\n",
       "<table border=\"1\" class=\"dataframe\">\n",
       "  <thead>\n",
       "    <tr style=\"text-align: right;\">\n",
       "      <th></th>\n",
       "      <th>user_id</th>\n",
       "      <th>age</th>\n",
       "    </tr>\n",
       "  </thead>\n",
       "  <tbody>\n",
       "    <tr>\n",
       "      <th>count</th>\n",
       "      <td>500.000000</td>\n",
       "      <td>500.000000</td>\n",
       "    </tr>\n",
       "    <tr>\n",
       "      <th>mean</th>\n",
       "      <td>1249.500000</td>\n",
       "      <td>45.486000</td>\n",
       "    </tr>\n",
       "    <tr>\n",
       "      <th>std</th>\n",
       "      <td>144.481833</td>\n",
       "      <td>16.972269</td>\n",
       "    </tr>\n",
       "    <tr>\n",
       "      <th>min</th>\n",
       "      <td>1000.000000</td>\n",
       "      <td>18.000000</td>\n",
       "    </tr>\n",
       "    <tr>\n",
       "      <th>25%</th>\n",
       "      <td>1124.750000</td>\n",
       "      <td>30.000000</td>\n",
       "    </tr>\n",
       "    <tr>\n",
       "      <th>50%</th>\n",
       "      <td>1249.500000</td>\n",
       "      <td>46.000000</td>\n",
       "    </tr>\n",
       "    <tr>\n",
       "      <th>75%</th>\n",
       "      <td>1374.250000</td>\n",
       "      <td>61.000000</td>\n",
       "    </tr>\n",
       "    <tr>\n",
       "      <th>max</th>\n",
       "      <td>1499.000000</td>\n",
       "      <td>75.000000</td>\n",
       "    </tr>\n",
       "  </tbody>\n",
       "</table>\n",
       "</div>"
      ],
      "text/plain": [
       "           user_id         age\n",
       "count   500.000000  500.000000\n",
       "mean   1249.500000   45.486000\n",
       "std     144.481833   16.972269\n",
       "min    1000.000000   18.000000\n",
       "25%    1124.750000   30.000000\n",
       "50%    1249.500000   46.000000\n",
       "75%    1374.250000   61.000000\n",
       "max    1499.000000   75.000000"
      ]
     },
     "execution_count": 431,
     "metadata": {},
     "output_type": "execute_result"
    }
   ],
   "source": [
    "df_users.describe()"
   ]
  },
  {
   "cell_type": "code",
   "execution_count": 432,
   "metadata": {},
   "outputs": [
    {
     "name": "stdout",
     "output_type": "stream",
     "text": [
      "<class 'pandas.core.frame.DataFrame'>\n",
      "RangeIndex: 500 entries, 0 to 499\n",
      "Data columns (total 8 columns):\n",
      " #   Column      Non-Null Count  Dtype \n",
      "---  ------      --------------  ----- \n",
      " 0   user_id     500 non-null    int64 \n",
      " 1   first_name  500 non-null    object\n",
      " 2   last_name   500 non-null    object\n",
      " 3   age         500 non-null    int64 \n",
      " 4   city        500 non-null    object\n",
      " 5   reg_date    500 non-null    object\n",
      " 6   plan        500 non-null    object\n",
      " 7   churn_date  34 non-null     object\n",
      "dtypes: int64(2), object(6)\n",
      "memory usage: 31.4+ KB\n"
     ]
    }
   ],
   "source": [
    "df_users.info()"
   ]
  },
  {
   "cell_type": "code",
   "execution_count": 433,
   "metadata": {},
   "outputs": [
    {
     "data": {
      "text/plain": [
       "0"
      ]
     },
     "execution_count": 433,
     "metadata": {},
     "output_type": "execute_result"
    }
   ],
   "source": [
    "df_users.duplicated().sum()"
   ]
  },
  {
   "cell_type": "code",
   "execution_count": 434,
   "metadata": {},
   "outputs": [
    {
     "data": {
      "text/html": [
       "<div>\n",
       "<style scoped>\n",
       "    .dataframe tbody tr th:only-of-type {\n",
       "        vertical-align: middle;\n",
       "    }\n",
       "\n",
       "    .dataframe tbody tr th {\n",
       "        vertical-align: top;\n",
       "    }\n",
       "\n",
       "    .dataframe thead th {\n",
       "        text-align: right;\n",
       "    }\n",
       "</style>\n",
       "<table border=\"1\" class=\"dataframe\">\n",
       "  <thead>\n",
       "    <tr style=\"text-align: right;\">\n",
       "      <th></th>\n",
       "      <th>user_id</th>\n",
       "      <th>first_name</th>\n",
       "      <th>last_name</th>\n",
       "      <th>age</th>\n",
       "      <th>city</th>\n",
       "      <th>reg_date</th>\n",
       "      <th>plan</th>\n",
       "      <th>churn_date</th>\n",
       "    </tr>\n",
       "  </thead>\n",
       "  <tbody>\n",
       "    <tr>\n",
       "      <th>0</th>\n",
       "      <td>1000</td>\n",
       "      <td>Anamaria</td>\n",
       "      <td>Bauer</td>\n",
       "      <td>45</td>\n",
       "      <td>Atlanta-Sandy Springs-Roswell, GA MSA</td>\n",
       "      <td>2018-12-24</td>\n",
       "      <td>ultimate</td>\n",
       "      <td>NaN</td>\n",
       "    </tr>\n",
       "    <tr>\n",
       "      <th>1</th>\n",
       "      <td>1001</td>\n",
       "      <td>Mickey</td>\n",
       "      <td>Wilkerson</td>\n",
       "      <td>28</td>\n",
       "      <td>Seattle-Tacoma-Bellevue, WA MSA</td>\n",
       "      <td>2018-08-13</td>\n",
       "      <td>surf</td>\n",
       "      <td>NaN</td>\n",
       "    </tr>\n",
       "    <tr>\n",
       "      <th>2</th>\n",
       "      <td>1002</td>\n",
       "      <td>Carlee</td>\n",
       "      <td>Hoffman</td>\n",
       "      <td>36</td>\n",
       "      <td>Las Vegas-Henderson-Paradise, NV MSA</td>\n",
       "      <td>2018-10-21</td>\n",
       "      <td>surf</td>\n",
       "      <td>NaN</td>\n",
       "    </tr>\n",
       "    <tr>\n",
       "      <th>3</th>\n",
       "      <td>1003</td>\n",
       "      <td>Reynaldo</td>\n",
       "      <td>Jenkins</td>\n",
       "      <td>52</td>\n",
       "      <td>Tulsa, OK MSA</td>\n",
       "      <td>2018-01-28</td>\n",
       "      <td>surf</td>\n",
       "      <td>NaN</td>\n",
       "    </tr>\n",
       "    <tr>\n",
       "      <th>4</th>\n",
       "      <td>1004</td>\n",
       "      <td>Leonila</td>\n",
       "      <td>Thompson</td>\n",
       "      <td>40</td>\n",
       "      <td>Seattle-Tacoma-Bellevue, WA MSA</td>\n",
       "      <td>2018-05-23</td>\n",
       "      <td>surf</td>\n",
       "      <td>NaN</td>\n",
       "    </tr>\n",
       "  </tbody>\n",
       "</table>\n",
       "</div>"
      ],
      "text/plain": [
       "   user_id first_name  last_name  age                                   city  \\\n",
       "0     1000   Anamaria      Bauer   45  Atlanta-Sandy Springs-Roswell, GA MSA   \n",
       "1     1001     Mickey  Wilkerson   28        Seattle-Tacoma-Bellevue, WA MSA   \n",
       "2     1002     Carlee    Hoffman   36   Las Vegas-Henderson-Paradise, NV MSA   \n",
       "3     1003   Reynaldo    Jenkins   52                          Tulsa, OK MSA   \n",
       "4     1004    Leonila   Thompson   40        Seattle-Tacoma-Bellevue, WA MSA   \n",
       "\n",
       "     reg_date      plan churn_date  \n",
       "0  2018-12-24  ultimate        NaN  \n",
       "1  2018-08-13      surf        NaN  \n",
       "2  2018-10-21      surf        NaN  \n",
       "3  2018-01-28      surf        NaN  \n",
       "4  2018-05-23      surf        NaN  "
      ]
     },
     "execution_count": 434,
     "metadata": {},
     "output_type": "execute_result"
    }
   ],
   "source": [
    "df_users.head()"
   ]
  },
  {
   "cell_type": "markdown",
   "metadata": {},
   "source": [
    "Terdapat 34 pelanggan yang berhenti berlangganan. Tidak ada data duplikat dan data NaN. Tipe data kolom reg_date dan churn_date perlu diubah menjadi datetime."
   ]
  },
  {
   "cell_type": "markdown",
   "metadata": {},
   "source": [
    "\n",
    "Secara keseluruhan, tidak ada nilai duplikat, namun nilai NaN pada ChurnDate sebaiknya dibuat 1 Januari 2019 karena analisa kita hanya pada tahun 2018 saja. Perbaikan yang perlu dilakukan yaitu mengubah tipe data tanggal yang semula bertipe object menjadi datetime."
   ]
  },
  {
   "cell_type": "markdown",
   "metadata": {},
   "source": [
    "<div class=\"alert alert-success\">\n",
    "<b>Chamdani's comment v.1</b> <a class=\"tocSkip\"></a>\n",
    "\n",
    "Bagus, semua berjalan lancar.\n",
    "\n",
    "</div>"
   ]
  },
  {
   "cell_type": "markdown",
   "metadata": {},
   "source": [
    "## Memperbaiki Data"
   ]
  },
  {
   "cell_type": "markdown",
   "metadata": {},
   "source": [
    "Berikut adalah perbaikan-perbaikan yang perlu dilakukan terhadap dataset yang dimiliki berdasarkan ketentuan dan proses eksplorasi data yang telah dilakukan:\n",
    "1. Mengatasi nilai hilang pada Churn Date\n",
    "2. Memperbaiki tipe data datetime\n",
    "3. Membulatkan durasi panggilan dari detik menjadi menit\n",
    "4. Mengubah mb_per_month_included menjadi gb_per_month_included\n",
    "5. Menjumlahkan pemakaikan internet dalam satu bulan dan mengkonversinya ke GB\n",
    "6. Menjumlahkan penggunaan SMS dalam satu bulan\n",
    "7. Menggabungkan dataset untuk mempermudah proses analisa data selanjutnya"
   ]
  },
  {
   "cell_type": "markdown",
   "metadata": {},
   "source": [
    "### Mengatasi Nilai Hilang pada Churn Date"
   ]
  },
  {
   "cell_type": "markdown",
   "metadata": {},
   "source": [
    "Sebenarnya bukan nilai hilang, hanya saja sebagian besar pengguna belum mengakhiri penggunaan paketnya. Untuk mengisi data yang hilang kita dapat mengisinya dengan tanggal **2019-01-01** karena analisa kita hanya satu tahun yaitu pada 2018 saja."
   ]
  },
  {
   "cell_type": "code",
   "execution_count": 435,
   "metadata": {},
   "outputs": [
    {
     "name": "stdout",
     "output_type": "stream",
     "text": [
      "<class 'pandas.core.frame.DataFrame'>\n",
      "RangeIndex: 500 entries, 0 to 499\n",
      "Data columns (total 8 columns):\n",
      " #   Column      Non-Null Count  Dtype \n",
      "---  ------      --------------  ----- \n",
      " 0   user_id     500 non-null    int64 \n",
      " 1   first_name  500 non-null    object\n",
      " 2   last_name   500 non-null    object\n",
      " 3   age         500 non-null    int64 \n",
      " 4   city        500 non-null    object\n",
      " 5   reg_date    500 non-null    object\n",
      " 6   plan        500 non-null    object\n",
      " 7   churn_date  500 non-null    object\n",
      "dtypes: int64(2), object(6)\n",
      "memory usage: 31.4+ KB\n"
     ]
    }
   ],
   "source": [
    "df_users['churn_date'].fillna('2019-01-01',inplace=True)\n",
    "df_users.info()"
   ]
  },
  {
   "cell_type": "code",
   "execution_count": 436,
   "metadata": {},
   "outputs": [
    {
     "data": {
      "text/html": [
       "<div>\n",
       "<style scoped>\n",
       "    .dataframe tbody tr th:only-of-type {\n",
       "        vertical-align: middle;\n",
       "    }\n",
       "\n",
       "    .dataframe tbody tr th {\n",
       "        vertical-align: top;\n",
       "    }\n",
       "\n",
       "    .dataframe thead th {\n",
       "        text-align: right;\n",
       "    }\n",
       "</style>\n",
       "<table border=\"1\" class=\"dataframe\">\n",
       "  <thead>\n",
       "    <tr style=\"text-align: right;\">\n",
       "      <th></th>\n",
       "      <th>user_id</th>\n",
       "      <th>first_name</th>\n",
       "      <th>last_name</th>\n",
       "      <th>age</th>\n",
       "      <th>city</th>\n",
       "      <th>reg_date</th>\n",
       "      <th>plan</th>\n",
       "      <th>churn_date</th>\n",
       "    </tr>\n",
       "  </thead>\n",
       "  <tbody>\n",
       "    <tr>\n",
       "      <th>0</th>\n",
       "      <td>1000</td>\n",
       "      <td>Anamaria</td>\n",
       "      <td>Bauer</td>\n",
       "      <td>45</td>\n",
       "      <td>Atlanta-Sandy Springs-Roswell, GA MSA</td>\n",
       "      <td>2018-12-24</td>\n",
       "      <td>ultimate</td>\n",
       "      <td>2019-01-01</td>\n",
       "    </tr>\n",
       "    <tr>\n",
       "      <th>1</th>\n",
       "      <td>1001</td>\n",
       "      <td>Mickey</td>\n",
       "      <td>Wilkerson</td>\n",
       "      <td>28</td>\n",
       "      <td>Seattle-Tacoma-Bellevue, WA MSA</td>\n",
       "      <td>2018-08-13</td>\n",
       "      <td>surf</td>\n",
       "      <td>2019-01-01</td>\n",
       "    </tr>\n",
       "    <tr>\n",
       "      <th>2</th>\n",
       "      <td>1002</td>\n",
       "      <td>Carlee</td>\n",
       "      <td>Hoffman</td>\n",
       "      <td>36</td>\n",
       "      <td>Las Vegas-Henderson-Paradise, NV MSA</td>\n",
       "      <td>2018-10-21</td>\n",
       "      <td>surf</td>\n",
       "      <td>2019-01-01</td>\n",
       "    </tr>\n",
       "    <tr>\n",
       "      <th>3</th>\n",
       "      <td>1003</td>\n",
       "      <td>Reynaldo</td>\n",
       "      <td>Jenkins</td>\n",
       "      <td>52</td>\n",
       "      <td>Tulsa, OK MSA</td>\n",
       "      <td>2018-01-28</td>\n",
       "      <td>surf</td>\n",
       "      <td>2019-01-01</td>\n",
       "    </tr>\n",
       "    <tr>\n",
       "      <th>4</th>\n",
       "      <td>1004</td>\n",
       "      <td>Leonila</td>\n",
       "      <td>Thompson</td>\n",
       "      <td>40</td>\n",
       "      <td>Seattle-Tacoma-Bellevue, WA MSA</td>\n",
       "      <td>2018-05-23</td>\n",
       "      <td>surf</td>\n",
       "      <td>2019-01-01</td>\n",
       "    </tr>\n",
       "  </tbody>\n",
       "</table>\n",
       "</div>"
      ],
      "text/plain": [
       "   user_id first_name  last_name  age                                   city  \\\n",
       "0     1000   Anamaria      Bauer   45  Atlanta-Sandy Springs-Roswell, GA MSA   \n",
       "1     1001     Mickey  Wilkerson   28        Seattle-Tacoma-Bellevue, WA MSA   \n",
       "2     1002     Carlee    Hoffman   36   Las Vegas-Henderson-Paradise, NV MSA   \n",
       "3     1003   Reynaldo    Jenkins   52                          Tulsa, OK MSA   \n",
       "4     1004    Leonila   Thompson   40        Seattle-Tacoma-Bellevue, WA MSA   \n",
       "\n",
       "     reg_date      plan  churn_date  \n",
       "0  2018-12-24  ultimate  2019-01-01  \n",
       "1  2018-08-13      surf  2019-01-01  \n",
       "2  2018-10-21      surf  2019-01-01  \n",
       "3  2018-01-28      surf  2019-01-01  \n",
       "4  2018-05-23      surf  2019-01-01  "
      ]
     },
     "execution_count": 436,
     "metadata": {},
     "output_type": "execute_result"
    }
   ],
   "source": [
    "df_users.head(5)"
   ]
  },
  {
   "cell_type": "markdown",
   "metadata": {},
   "source": [
    "Seluruh nilai NaN pada kolom **churn_date** telah berhasil diisi dengan tanggal **2019-01-01**."
   ]
  },
  {
   "cell_type": "markdown",
   "metadata": {},
   "source": [
    "<div class=\"alert alert-success\">\n",
    "<b>Chamdani's comment v.1</b> <a class=\"tocSkip\"></a>\n",
    "\n",
    "Bagus, semua berjalan lancar.\n",
    "\n",
    "</div>"
   ]
  },
  {
   "cell_type": "markdown",
   "metadata": {},
   "source": [
    "### Memperbaiki Tipe Data"
   ]
  },
  {
   "cell_type": "markdown",
   "metadata": {},
   "source": [
    "Tipe data yang perlu diperbaiki adalah data tanggal pada dataset **calls, internets, messages, dan users**."
   ]
  },
  {
   "cell_type": "code",
   "execution_count": 437,
   "metadata": {},
   "outputs": [],
   "source": [
    "df_call['call_date'] = pd.to_datetime(df_call['call_date'], format='%Y-%m-%d')\n",
    "df_internet['session_date'] = pd.to_datetime(df_internet['session_date'], format='%Y-%m-%d')\n",
    "df_messages['message_date'] = pd.to_datetime(df_messages['message_date'], format='%Y-%m-%d')\n",
    "df_users['reg_date'] = pd.to_datetime(df_users['reg_date'], format='%Y-%m-%d').dt.strftime('%Y%m')\n",
    "df_users['churn_date'] = pd.to_datetime(df_users['churn_date'], format='%Y-%m-%d').dt.strftime('%Y%m')"
   ]
  },
  {
   "cell_type": "code",
   "execution_count": 438,
   "metadata": {},
   "outputs": [
    {
     "name": "stdout",
     "output_type": "stream",
     "text": [
      "<class 'pandas.core.frame.DataFrame'>\n",
      "RangeIndex: 137735 entries, 0 to 137734\n",
      "Data columns (total 4 columns):\n",
      " #   Column     Non-Null Count   Dtype         \n",
      "---  ------     --------------   -----         \n",
      " 0   id         137735 non-null  object        \n",
      " 1   user_id    137735 non-null  int64         \n",
      " 2   call_date  137735 non-null  datetime64[ns]\n",
      " 3   duration   137735 non-null  float64       \n",
      "dtypes: datetime64[ns](1), float64(1), int64(1), object(1)\n",
      "memory usage: 4.2+ MB\n",
      "<class 'pandas.core.frame.DataFrame'>\n",
      "RangeIndex: 104825 entries, 0 to 104824\n",
      "Data columns (total 4 columns):\n",
      " #   Column        Non-Null Count   Dtype         \n",
      "---  ------        --------------   -----         \n",
      " 0   id            104825 non-null  object        \n",
      " 1   user_id       104825 non-null  int64         \n",
      " 2   session_date  104825 non-null  datetime64[ns]\n",
      " 3   mb_used       104825 non-null  float64       \n",
      "dtypes: datetime64[ns](1), float64(1), int64(1), object(1)\n",
      "memory usage: 3.2+ MB\n",
      "<class 'pandas.core.frame.DataFrame'>\n",
      "RangeIndex: 76051 entries, 0 to 76050\n",
      "Data columns (total 3 columns):\n",
      " #   Column        Non-Null Count  Dtype         \n",
      "---  ------        --------------  -----         \n",
      " 0   id            76051 non-null  object        \n",
      " 1   user_id       76051 non-null  int64         \n",
      " 2   message_date  76051 non-null  datetime64[ns]\n",
      "dtypes: datetime64[ns](1), int64(1), object(1)\n",
      "memory usage: 1.7+ MB\n",
      "<class 'pandas.core.frame.DataFrame'>\n",
      "RangeIndex: 500 entries, 0 to 499\n",
      "Data columns (total 8 columns):\n",
      " #   Column      Non-Null Count  Dtype \n",
      "---  ------      --------------  ----- \n",
      " 0   user_id     500 non-null    int64 \n",
      " 1   first_name  500 non-null    object\n",
      " 2   last_name   500 non-null    object\n",
      " 3   age         500 non-null    int64 \n",
      " 4   city        500 non-null    object\n",
      " 5   reg_date    500 non-null    object\n",
      " 6   plan        500 non-null    object\n",
      " 7   churn_date  500 non-null    object\n",
      "dtypes: int64(2), object(6)\n",
      "memory usage: 31.4+ KB\n"
     ]
    }
   ],
   "source": [
    "df_call.info()\n",
    "df_internet.info()\n",
    "df_messages.info()\n",
    "df_users.info()"
   ]
  },
  {
   "cell_type": "markdown",
   "metadata": {},
   "source": [
    "Tipe data pada seluruh dataset berhasil diperbaiki "
   ]
  },
  {
   "cell_type": "markdown",
   "metadata": {},
   "source": [
    "<div class=\"alert alert-success\">\n",
    "<b>Chamdani's comment v.1</b> <a class=\"tocSkip\"></a>\n",
    "\n",
    "Bagus, semua berjalan lancar.\n",
    "\n",
    "</div>"
   ]
  },
  {
   "cell_type": "markdown",
   "metadata": {},
   "source": [
    "### Membulatkan nilai detik ke menit untuk setiap panggilan dan menjumlahkan penggunaan bulanan"
   ]
  },
  {
   "cell_type": "markdown",
   "metadata": {},
   "source": [
    "Sesuai dengan ketentuan di atas, setiap durasi panggilan harus dibulatkan ke menit (round-up) dan menjumlahkan durasi panggilan bulanan setiap pengguna. Untuk melakukan penjumlahan durasi panggilan dalam satu bulanb perlu menambahkan kolom baru yaitu **year_month** yang berisi tahun beserta bulan, kemudian melakukan sum dengan bantuan pivot_table."
   ]
  },
  {
   "cell_type": "code",
   "execution_count": 440,
   "metadata": {},
   "outputs": [],
   "source": [
    "df_call['duration'] = df_call['duration']"
   ]
  },
  {
   "cell_type": "code",
   "execution_count": 441,
   "metadata": {},
   "outputs": [
    {
     "data": {
      "text/html": [
       "<div>\n",
       "<style scoped>\n",
       "    .dataframe tbody tr th:only-of-type {\n",
       "        vertical-align: middle;\n",
       "    }\n",
       "\n",
       "    .dataframe tbody tr th {\n",
       "        vertical-align: top;\n",
       "    }\n",
       "\n",
       "    .dataframe thead th {\n",
       "        text-align: right;\n",
       "    }\n",
       "</style>\n",
       "<table border=\"1\" class=\"dataframe\">\n",
       "  <thead>\n",
       "    <tr style=\"text-align: right;\">\n",
       "      <th></th>\n",
       "      <th></th>\n",
       "      <th>minutes_used</th>\n",
       "    </tr>\n",
       "    <tr>\n",
       "      <th>user_id</th>\n",
       "      <th>year_month</th>\n",
       "      <th></th>\n",
       "    </tr>\n",
       "  </thead>\n",
       "  <tbody>\n",
       "    <tr>\n",
       "      <th>1000</th>\n",
       "      <th>201812</th>\n",
       "      <td>124.0</td>\n",
       "    </tr>\n",
       "    <tr>\n",
       "      <th rowspan=\"4\" valign=\"top\">1001</th>\n",
       "      <th>201808</th>\n",
       "      <td>182.0</td>\n",
       "    </tr>\n",
       "    <tr>\n",
       "      <th>201809</th>\n",
       "      <td>315.0</td>\n",
       "    </tr>\n",
       "    <tr>\n",
       "      <th>201810</th>\n",
       "      <td>393.0</td>\n",
       "    </tr>\n",
       "    <tr>\n",
       "      <th>201811</th>\n",
       "      <td>426.0</td>\n",
       "    </tr>\n",
       "  </tbody>\n",
       "</table>\n",
       "</div>"
      ],
      "text/plain": [
       "                    minutes_used\n",
       "user_id year_month              \n",
       "1000    201812             124.0\n",
       "1001    201808             182.0\n",
       "        201809             315.0\n",
       "        201810             393.0\n",
       "        201811             426.0"
      ]
     },
     "execution_count": 441,
     "metadata": {},
     "output_type": "execute_result"
    }
   ],
   "source": [
    "df_call['duration'] = df_call['duration'].apply(np.ceil)\n",
    "df_call['year_month'] = df_call['call_date'].dt.strftime('%Y%m')\n",
    "pivot_call = df_call.pivot_table(index = ['user_id','year_month'], values='duration',aggfunc='sum')\n",
    "pivot_call.rename(columns={\"duration\":\"minutes_used\"},inplace = True)\n",
    "pivot_call.head()"
   ]
  },
  {
   "cell_type": "markdown",
   "metadata": {},
   "source": [
    "Proses penjumlahan berhasil dilakukan. Kita bisa lihat pengguna dengan user_id = 1000, melakukan panggilan selama 124 menit pada bulan Desember 2018. Sepertinya pelanggan ini jarang melakukan panggilan."
   ]
  },
  {
   "cell_type": "markdown",
   "metadata": {},
   "source": [
    "<div class=\"alert alert-success\">\n",
    "<b>Chamdani's comment v.1</b> <a class=\"tocSkip\"></a>\n",
    "\n",
    "Bagus, semua berjalan lancar.\n",
    "\n",
    "</div>"
   ]
  },
  {
   "cell_type": "markdown",
   "metadata": {},
   "source": [
    "### Mengubah mb_per_month_included menjadi gb_per_month_included"
   ]
  },
  {
   "cell_type": "markdown",
   "metadata": {},
   "source": [
    "Pada langkah ini dilakukan perumbahan kolom **mb_per_month_included** menjadi **gb_per_month_included** karena pada analisa penggunaan internet selanjutnya kita akan menggunakan data GB bukan MB."
   ]
  },
  {
   "cell_type": "code",
   "execution_count": 442,
   "metadata": {
    "scrolled": true
   },
   "outputs": [
    {
     "data": {
      "text/html": [
       "<div>\n",
       "<style scoped>\n",
       "    .dataframe tbody tr th:only-of-type {\n",
       "        vertical-align: middle;\n",
       "    }\n",
       "\n",
       "    .dataframe tbody tr th {\n",
       "        vertical-align: top;\n",
       "    }\n",
       "\n",
       "    .dataframe thead th {\n",
       "        text-align: right;\n",
       "    }\n",
       "</style>\n",
       "<table border=\"1\" class=\"dataframe\">\n",
       "  <thead>\n",
       "    <tr style=\"text-align: right;\">\n",
       "      <th></th>\n",
       "      <th>messages_included</th>\n",
       "      <th>gb_per_month_included</th>\n",
       "      <th>minutes_included</th>\n",
       "      <th>usd_monthly_pay</th>\n",
       "      <th>usd_per_gb</th>\n",
       "      <th>usd_per_message</th>\n",
       "      <th>usd_per_minute</th>\n",
       "      <th>plan_name</th>\n",
       "    </tr>\n",
       "  </thead>\n",
       "  <tbody>\n",
       "    <tr>\n",
       "      <th>0</th>\n",
       "      <td>50</td>\n",
       "      <td>15.0</td>\n",
       "      <td>500</td>\n",
       "      <td>20</td>\n",
       "      <td>10</td>\n",
       "      <td>0.03</td>\n",
       "      <td>0.03</td>\n",
       "      <td>surf</td>\n",
       "    </tr>\n",
       "    <tr>\n",
       "      <th>1</th>\n",
       "      <td>1000</td>\n",
       "      <td>30.0</td>\n",
       "      <td>3000</td>\n",
       "      <td>70</td>\n",
       "      <td>7</td>\n",
       "      <td>0.01</td>\n",
       "      <td>0.01</td>\n",
       "      <td>ultimate</td>\n",
       "    </tr>\n",
       "  </tbody>\n",
       "</table>\n",
       "</div>"
      ],
      "text/plain": [
       "   messages_included  gb_per_month_included  minutes_included  \\\n",
       "0                 50                   15.0               500   \n",
       "1               1000                   30.0              3000   \n",
       "\n",
       "   usd_monthly_pay  usd_per_gb  usd_per_message  usd_per_minute plan_name  \n",
       "0               20          10             0.03            0.03      surf  \n",
       "1               70           7             0.01            0.01  ultimate  "
      ]
     },
     "execution_count": 442,
     "metadata": {},
     "output_type": "execute_result"
    }
   ],
   "source": [
    "df_plans.rename(columns={\"mb_per_month_included\":\"gb_per_month_included\"},inplace = True)\n",
    "df_plans['gb_per_month_included'] = df_plans['gb_per_month_included']/1024\n",
    "df_plans"
   ]
  },
  {
   "cell_type": "markdown",
   "metadata": {},
   "source": [
    "<div class=\"alert alert-success\">\n",
    "<b>Chamdani's comment v.1</b> <a class=\"tocSkip\"></a>\n",
    "\n",
    "Bagus, semua berjalan lancar.\n",
    "\n",
    "</div>"
   ]
  },
  {
   "cell_type": "markdown",
   "metadata": {},
   "source": [
    "### Mengkonversi  MB ke GB dan menjumlahkan penggunaan bulanan"
   ]
  },
  {
   "cell_type": "markdown",
   "metadata": {},
   "source": [
    "Sama seperti langkah sebelumnya, disini kita memerlukan bantuan pivot_table dan perintah sum untuk menjumlahkah penggunaan internet dalam satu bulan. Sebelum itu, kita perlu menambahkan kolom **year_month**. Disini kelebihan satu mb-pun akan dibulatkan ke atas."
   ]
  },
  {
   "cell_type": "code",
   "execution_count": 443,
   "metadata": {},
   "outputs": [
    {
     "data": {
      "text/html": [
       "<div>\n",
       "<style scoped>\n",
       "    .dataframe tbody tr th:only-of-type {\n",
       "        vertical-align: middle;\n",
       "    }\n",
       "\n",
       "    .dataframe tbody tr th {\n",
       "        vertical-align: top;\n",
       "    }\n",
       "\n",
       "    .dataframe thead th {\n",
       "        text-align: right;\n",
       "    }\n",
       "</style>\n",
       "<table border=\"1\" class=\"dataframe\">\n",
       "  <thead>\n",
       "    <tr style=\"text-align: right;\">\n",
       "      <th></th>\n",
       "      <th></th>\n",
       "      <th>gb_used</th>\n",
       "    </tr>\n",
       "    <tr>\n",
       "      <th>user_id</th>\n",
       "      <th>year_month</th>\n",
       "      <th></th>\n",
       "    </tr>\n",
       "  </thead>\n",
       "  <tbody>\n",
       "    <tr>\n",
       "      <th>1000</th>\n",
       "      <th>201812</th>\n",
       "      <td>2.0</td>\n",
       "    </tr>\n",
       "    <tr>\n",
       "      <th rowspan=\"4\" valign=\"top\">1001</th>\n",
       "      <th>201808</th>\n",
       "      <td>7.0</td>\n",
       "    </tr>\n",
       "    <tr>\n",
       "      <th>201809</th>\n",
       "      <td>14.0</td>\n",
       "    </tr>\n",
       "    <tr>\n",
       "      <th>201810</th>\n",
       "      <td>22.0</td>\n",
       "    </tr>\n",
       "    <tr>\n",
       "      <th>201811</th>\n",
       "      <td>19.0</td>\n",
       "    </tr>\n",
       "  </tbody>\n",
       "</table>\n",
       "</div>"
      ],
      "text/plain": [
       "                    gb_used\n",
       "user_id year_month         \n",
       "1000    201812          2.0\n",
       "1001    201808          7.0\n",
       "        201809         14.0\n",
       "        201810         22.0\n",
       "        201811         19.0"
      ]
     },
     "execution_count": 443,
     "metadata": {},
     "output_type": "execute_result"
    }
   ],
   "source": [
    "df_internet['year_month'] = df_internet['session_date'].dt.strftime('%Y%m')\n",
    "pivot_internet = np.ceil(df_internet.pivot_table(values = 'mb_used', index = ['user_id','year_month'], aggfunc = 'sum')/1024)\n",
    "pivot_internet.rename(columns={\"mb_used\":\"gb_used\"},inplace = True)\n",
    "pivot_internet.head()"
   ]
  },
  {
   "cell_type": "markdown",
   "metadata": {},
   "source": [
    "Proses koversi mb menjadi gb berhasil dilakukan. Lagi dan lagi user_id = 1000 hanya menggunakan internet sebesar 2 gb saja pada bulan Desember 2018. Apakah dia baru beli paket akhir bulan ya?"
   ]
  },
  {
   "cell_type": "markdown",
   "metadata": {},
   "source": [
    "<div class=\"alert alert-success\">\n",
    "<b>Chamdani's comment v.1</b> <a class=\"tocSkip\"></a>\n",
    "\n",
    "Bagus, semua berjalan lancar.\n",
    "\n",
    "</div>"
   ]
  },
  {
   "cell_type": "markdown",
   "metadata": {},
   "source": [
    "###  menjumlahkan data message penggunaan bulanan"
   ]
  },
  {
   "cell_type": "markdown",
   "metadata": {},
   "source": [
    "Langkah yang sama dilakukan untuk menghitung penggunaan layanan SMS dalam satu bulan yaitu dengan pembuatan kolom **year_month** dan bantuan pivot table dengan fungsi sum."
   ]
  },
  {
   "cell_type": "code",
   "execution_count": 444,
   "metadata": {},
   "outputs": [
    {
     "data": {
      "text/html": [
       "<div>\n",
       "<style scoped>\n",
       "    .dataframe tbody tr th:only-of-type {\n",
       "        vertical-align: middle;\n",
       "    }\n",
       "\n",
       "    .dataframe tbody tr th {\n",
       "        vertical-align: top;\n",
       "    }\n",
       "\n",
       "    .dataframe thead th {\n",
       "        text-align: right;\n",
       "    }\n",
       "</style>\n",
       "<table border=\"1\" class=\"dataframe\">\n",
       "  <thead>\n",
       "    <tr style=\"text-align: right;\">\n",
       "      <th></th>\n",
       "      <th></th>\n",
       "      <th>messages_used</th>\n",
       "    </tr>\n",
       "    <tr>\n",
       "      <th>user_id</th>\n",
       "      <th>year_month</th>\n",
       "      <th></th>\n",
       "    </tr>\n",
       "  </thead>\n",
       "  <tbody>\n",
       "    <tr>\n",
       "      <th>1000</th>\n",
       "      <th>201812</th>\n",
       "      <td>11</td>\n",
       "    </tr>\n",
       "    <tr>\n",
       "      <th rowspan=\"4\" valign=\"top\">1001</th>\n",
       "      <th>201808</th>\n",
       "      <td>30</td>\n",
       "    </tr>\n",
       "    <tr>\n",
       "      <th>201809</th>\n",
       "      <td>44</td>\n",
       "    </tr>\n",
       "    <tr>\n",
       "      <th>201810</th>\n",
       "      <td>53</td>\n",
       "    </tr>\n",
       "    <tr>\n",
       "      <th>201811</th>\n",
       "      <td>36</td>\n",
       "    </tr>\n",
       "  </tbody>\n",
       "</table>\n",
       "</div>"
      ],
      "text/plain": [
       "                    messages_used\n",
       "user_id year_month               \n",
       "1000    201812                 11\n",
       "1001    201808                 30\n",
       "        201809                 44\n",
       "        201810                 53\n",
       "        201811                 36"
      ]
     },
     "execution_count": 444,
     "metadata": {},
     "output_type": "execute_result"
    }
   ],
   "source": [
    "df_messages['year_month'] = df_messages['message_date'].dt.strftime('%Y%m')\n",
    "pivot_messages  = df_messages.pivot_table(index = ['user_id','year_month'],values = 'message_date',aggfunc='count')\n",
    "pivot_messages.rename(columns={\"message_date\":\"messages_used\"},inplace = True)\n",
    "pivot_messages.head()"
   ]
  },
  {
   "cell_type": "markdown",
   "metadata": {},
   "source": [
    "FIX saya curiga user_id = 1000 baru berlangganan pada akhir bulan. Jumlah pesan yang kirim baru 11 SMS. Setelah saya cek, ternyata ia baru beli paket tanggal 24 Desember 2018. Wajar saja untuk pengguna normal, kalau saya sih sehari bisa 1-2 GB wkwk"
   ]
  },
  {
   "cell_type": "markdown",
   "metadata": {},
   "source": [
    "<div class=\"alert alert-success\">\n",
    "<b>Chamdani's comment v.1</b> <a class=\"tocSkip\"></a>\n",
    "\n",
    "Bagus, semua berjalan lancar.\n",
    "\n",
    "</div>"
   ]
  },
  {
   "cell_type": "markdown",
   "metadata": {},
   "source": [
    "### Menggabungkan Dataset"
   ]
  },
  {
   "cell_type": "markdown",
   "metadata": {},
   "source": [
    "Supaya dataset kita tidak terpencar-pencar maka perlu dilakukan penggabungan data **calls, internet, dan message** menjadi satu dataframe yang akan saya berinama **df_comb** dengan perintah pd.merge - outer."
   ]
  },
  {
   "cell_type": "code",
   "execution_count": 445,
   "metadata": {},
   "outputs": [
    {
     "data": {
      "text/html": [
       "<div>\n",
       "<style scoped>\n",
       "    .dataframe tbody tr th:only-of-type {\n",
       "        vertical-align: middle;\n",
       "    }\n",
       "\n",
       "    .dataframe tbody tr th {\n",
       "        vertical-align: top;\n",
       "    }\n",
       "\n",
       "    .dataframe thead th {\n",
       "        text-align: right;\n",
       "    }\n",
       "</style>\n",
       "<table border=\"1\" class=\"dataframe\">\n",
       "  <thead>\n",
       "    <tr style=\"text-align: right;\">\n",
       "      <th></th>\n",
       "      <th>index</th>\n",
       "      <th>user_id</th>\n",
       "      <th>year_month</th>\n",
       "      <th>minutes_used</th>\n",
       "      <th>gb_used</th>\n",
       "      <th>messages_used</th>\n",
       "    </tr>\n",
       "  </thead>\n",
       "  <tbody>\n",
       "    <tr>\n",
       "      <th>0</th>\n",
       "      <td>0.0</td>\n",
       "      <td>1000</td>\n",
       "      <td>201812</td>\n",
       "      <td>124.0</td>\n",
       "      <td>2.0</td>\n",
       "      <td>11.0</td>\n",
       "    </tr>\n",
       "    <tr>\n",
       "      <th>1</th>\n",
       "      <td>1.0</td>\n",
       "      <td>1001</td>\n",
       "      <td>201808</td>\n",
       "      <td>182.0</td>\n",
       "      <td>7.0</td>\n",
       "      <td>30.0</td>\n",
       "    </tr>\n",
       "    <tr>\n",
       "      <th>2</th>\n",
       "      <td>2.0</td>\n",
       "      <td>1001</td>\n",
       "      <td>201809</td>\n",
       "      <td>315.0</td>\n",
       "      <td>14.0</td>\n",
       "      <td>44.0</td>\n",
       "    </tr>\n",
       "    <tr>\n",
       "      <th>3</th>\n",
       "      <td>3.0</td>\n",
       "      <td>1001</td>\n",
       "      <td>201810</td>\n",
       "      <td>393.0</td>\n",
       "      <td>22.0</td>\n",
       "      <td>53.0</td>\n",
       "    </tr>\n",
       "    <tr>\n",
       "      <th>4</th>\n",
       "      <td>4.0</td>\n",
       "      <td>1001</td>\n",
       "      <td>201811</td>\n",
       "      <td>426.0</td>\n",
       "      <td>19.0</td>\n",
       "      <td>36.0</td>\n",
       "    </tr>\n",
       "  </tbody>\n",
       "</table>\n",
       "</div>"
      ],
      "text/plain": [
       "   index  user_id year_month  minutes_used  gb_used  messages_used\n",
       "0    0.0     1000     201812         124.0      2.0           11.0\n",
       "1    1.0     1001     201808         182.0      7.0           30.0\n",
       "2    2.0     1001     201809         315.0     14.0           44.0\n",
       "3    3.0     1001     201810         393.0     22.0           53.0\n",
       "4    4.0     1001     201811         426.0     19.0           36.0"
      ]
     },
     "execution_count": 445,
     "metadata": {},
     "output_type": "execute_result"
    }
   ],
   "source": [
    "df_comb = pd.merge(pivot_call.reset_index(), pivot_internet.reset_index(), how='outer')\n",
    "df_comb = pd.merge(df_comb.reset_index(), pivot_messages.reset_index(), how='outer')\n",
    "df_comb.head()"
   ]
  },
  {
   "cell_type": "code",
   "execution_count": 446,
   "metadata": {},
   "outputs": [
    {
     "name": "stdout",
     "output_type": "stream",
     "text": [
      "<class 'pandas.core.frame.DataFrame'>\n",
      "Int64Index: 2293 entries, 0 to 2292\n",
      "Data columns (total 6 columns):\n",
      " #   Column         Non-Null Count  Dtype  \n",
      "---  ------         --------------  -----  \n",
      " 0   index          2292 non-null   float64\n",
      " 1   user_id        2293 non-null   int64  \n",
      " 2   year_month     2293 non-null   object \n",
      " 3   minutes_used   2258 non-null   float64\n",
      " 4   gb_used        2277 non-null   float64\n",
      " 5   messages_used  1806 non-null   float64\n",
      "dtypes: float64(4), int64(1), object(1)\n",
      "memory usage: 125.4+ KB\n"
     ]
    }
   ],
   "source": [
    "df_comb.info()"
   ]
  },
  {
   "cell_type": "markdown",
   "metadata": {},
   "source": [
    "Terdapat nilai NaN pada beberapa kolom. Hal tersebut dapat terjadi karena terdapat user yang tinggal menggunakan layanan telepon, SMS, atau internet dalam kurun waktu satu bulan, sehingga tidak ada record datanya.\n",
    "Kasus ini dapat diatasi dengan mengisi nilai NaN dengan nilai 0."
   ]
  },
  {
   "cell_type": "code",
   "execution_count": 447,
   "metadata": {},
   "outputs": [
    {
     "data": {
      "text/html": [
       "<div>\n",
       "<style scoped>\n",
       "    .dataframe tbody tr th:only-of-type {\n",
       "        vertical-align: middle;\n",
       "    }\n",
       "\n",
       "    .dataframe tbody tr th {\n",
       "        vertical-align: top;\n",
       "    }\n",
       "\n",
       "    .dataframe thead th {\n",
       "        text-align: right;\n",
       "    }\n",
       "</style>\n",
       "<table border=\"1\" class=\"dataframe\">\n",
       "  <thead>\n",
       "    <tr style=\"text-align: right;\">\n",
       "      <th></th>\n",
       "      <th>index</th>\n",
       "      <th>user_id</th>\n",
       "      <th>year_month</th>\n",
       "      <th>minutes_used</th>\n",
       "      <th>gb_used</th>\n",
       "      <th>messages_used</th>\n",
       "    </tr>\n",
       "  </thead>\n",
       "  <tbody>\n",
       "    <tr>\n",
       "      <th>174</th>\n",
       "      <td>174.0</td>\n",
       "      <td>1044</td>\n",
       "      <td>201808</td>\n",
       "      <td>13.0</td>\n",
       "      <td>0.0</td>\n",
       "      <td>0.0</td>\n",
       "    </tr>\n",
       "    <tr>\n",
       "      <th>1027</th>\n",
       "      <td>1027.0</td>\n",
       "      <td>1222</td>\n",
       "      <td>201806</td>\n",
       "      <td>14.0</td>\n",
       "      <td>0.0</td>\n",
       "      <td>2.0</td>\n",
       "    </tr>\n",
       "    <tr>\n",
       "      <th>1543</th>\n",
       "      <td>1543.0</td>\n",
       "      <td>1340</td>\n",
       "      <td>201808</td>\n",
       "      <td>46.0</td>\n",
       "      <td>0.0</td>\n",
       "      <td>8.0</td>\n",
       "    </tr>\n",
       "    <tr>\n",
       "      <th>1545</th>\n",
       "      <td>1545.0</td>\n",
       "      <td>1340</td>\n",
       "      <td>201810</td>\n",
       "      <td>441.0</td>\n",
       "      <td>0.0</td>\n",
       "      <td>62.0</td>\n",
       "    </tr>\n",
       "    <tr>\n",
       "      <th>1793</th>\n",
       "      <td>1793.0</td>\n",
       "      <td>1393</td>\n",
       "      <td>201810</td>\n",
       "      <td>71.0</td>\n",
       "      <td>0.0</td>\n",
       "      <td>4.0</td>\n",
       "    </tr>\n",
       "    <tr>\n",
       "      <th>2129</th>\n",
       "      <td>2129.0</td>\n",
       "      <td>1470</td>\n",
       "      <td>201805</td>\n",
       "      <td>240.0</td>\n",
       "      <td>0.0</td>\n",
       "      <td>51.0</td>\n",
       "    </tr>\n",
       "    <tr>\n",
       "      <th>2130</th>\n",
       "      <td>2130.0</td>\n",
       "      <td>1470</td>\n",
       "      <td>201806</td>\n",
       "      <td>565.0</td>\n",
       "      <td>0.0</td>\n",
       "      <td>133.0</td>\n",
       "    </tr>\n",
       "    <tr>\n",
       "      <th>2131</th>\n",
       "      <td>2131.0</td>\n",
       "      <td>1470</td>\n",
       "      <td>201807</td>\n",
       "      <td>524.0</td>\n",
       "      <td>0.0</td>\n",
       "      <td>147.0</td>\n",
       "    </tr>\n",
       "    <tr>\n",
       "      <th>2132</th>\n",
       "      <td>2132.0</td>\n",
       "      <td>1470</td>\n",
       "      <td>201808</td>\n",
       "      <td>580.0</td>\n",
       "      <td>0.0</td>\n",
       "      <td>141.0</td>\n",
       "    </tr>\n",
       "    <tr>\n",
       "      <th>2133</th>\n",
       "      <td>2133.0</td>\n",
       "      <td>1470</td>\n",
       "      <td>201809</td>\n",
       "      <td>471.0</td>\n",
       "      <td>0.0</td>\n",
       "      <td>130.0</td>\n",
       "    </tr>\n",
       "    <tr>\n",
       "      <th>2134</th>\n",
       "      <td>2134.0</td>\n",
       "      <td>1470</td>\n",
       "      <td>201810</td>\n",
       "      <td>459.0</td>\n",
       "      <td>0.0</td>\n",
       "      <td>145.0</td>\n",
       "    </tr>\n",
       "    <tr>\n",
       "      <th>2135</th>\n",
       "      <td>2135.0</td>\n",
       "      <td>1470</td>\n",
       "      <td>201811</td>\n",
       "      <td>632.0</td>\n",
       "      <td>0.0</td>\n",
       "      <td>156.0</td>\n",
       "    </tr>\n",
       "    <tr>\n",
       "      <th>2136</th>\n",
       "      <td>2136.0</td>\n",
       "      <td>1470</td>\n",
       "      <td>201812</td>\n",
       "      <td>592.0</td>\n",
       "      <td>0.0</td>\n",
       "      <td>153.0</td>\n",
       "    </tr>\n",
       "    <tr>\n",
       "      <th>2186</th>\n",
       "      <td>2186.0</td>\n",
       "      <td>1484</td>\n",
       "      <td>201811</td>\n",
       "      <td>38.0</td>\n",
       "      <td>0.0</td>\n",
       "      <td>1.0</td>\n",
       "    </tr>\n",
       "    <tr>\n",
       "      <th>2209</th>\n",
       "      <td>2209.0</td>\n",
       "      <td>1491</td>\n",
       "      <td>201804</td>\n",
       "      <td>44.0</td>\n",
       "      <td>0.0</td>\n",
       "      <td>6.0</td>\n",
       "    </tr>\n",
       "    <tr>\n",
       "      <th>2292</th>\n",
       "      <td>0.0</td>\n",
       "      <td>1482</td>\n",
       "      <td>201810</td>\n",
       "      <td>0.0</td>\n",
       "      <td>0.0</td>\n",
       "      <td>2.0</td>\n",
       "    </tr>\n",
       "  </tbody>\n",
       "</table>\n",
       "</div>"
      ],
      "text/plain": [
       "       index  user_id year_month  minutes_used  gb_used  messages_used\n",
       "174    174.0     1044     201808          13.0      0.0            0.0\n",
       "1027  1027.0     1222     201806          14.0      0.0            2.0\n",
       "1543  1543.0     1340     201808          46.0      0.0            8.0\n",
       "1545  1545.0     1340     201810         441.0      0.0           62.0\n",
       "1793  1793.0     1393     201810          71.0      0.0            4.0\n",
       "2129  2129.0     1470     201805         240.0      0.0           51.0\n",
       "2130  2130.0     1470     201806         565.0      0.0          133.0\n",
       "2131  2131.0     1470     201807         524.0      0.0          147.0\n",
       "2132  2132.0     1470     201808         580.0      0.0          141.0\n",
       "2133  2133.0     1470     201809         471.0      0.0          130.0\n",
       "2134  2134.0     1470     201810         459.0      0.0          145.0\n",
       "2135  2135.0     1470     201811         632.0      0.0          156.0\n",
       "2136  2136.0     1470     201812         592.0      0.0          153.0\n",
       "2186  2186.0     1484     201811          38.0      0.0            1.0\n",
       "2209  2209.0     1491     201804          44.0      0.0            6.0\n",
       "2292     0.0     1482     201810           0.0      0.0            2.0"
      ]
     },
     "execution_count": 447,
     "metadata": {},
     "output_type": "execute_result"
    }
   ],
   "source": [
    "df_comb.fillna(0,inplace=True)\n",
    "df_comb.loc[df_comb['gb_used']==0]"
   ]
  },
  {
   "cell_type": "markdown",
   "metadata": {},
   "source": [
    "Ternyata benar, ada kasus seperti yang jelaskan sebelumnya. Bahkan user 1044 tidak menggunakan internet dan SMS, telepon pun hanya 13 menit saja. Mungkin saat itu dia belum beli paket."
   ]
  },
  {
   "cell_type": "markdown",
   "metadata": {},
   "source": [
    "<div class=\"alert alert-success\">\n",
    "<b>Chamdani's comment v.1</b> <a class=\"tocSkip\"></a>\n",
    "\n",
    "Bagus, semua berjalan lancar.\n",
    "\n",
    "</div>"
   ]
  },
  {
   "cell_type": "markdown",
   "metadata": {},
   "source": [
    "## Memperbaiki Kualitas Data"
   ]
  },
  {
   "cell_type": "markdown",
   "metadata": {},
   "source": [
    "Pada proses ini kita akan menambahkan kolom-kolom esensial yang berguna untuk proses analisa yaitu:\n",
    "1. Kolom kota pelanggan berada\n",
    "2. Kolom paket yang digunakan oleh setiap pengguna ke dalam dataframe **df_merge**\n",
    "3. Menambahkan kolom penggunaan penggunaan layanan yang melebihi kuota yang disediakan paket\n",
    "4. Menanmbahkan kolom biaya tambahan karena penggunaan yang melebihi kuota paket"
   ]
  },
  {
   "cell_type": "markdown",
   "metadata": {},
   "source": [
    "### Kolom kota pelanggan"
   ]
  },
  {
   "cell_type": "markdown",
   "metadata": {},
   "source": [
    "Pertama kita akan memasukan kota tempat tinggal pelanggan, karena saya lupa memasukannya di tahap sebelumnya. Harusnya pakai perintah merge saja. Tapi karena sudah nanggung sampai sini. Jadi, yasudah :)"
   ]
  },
  {
   "cell_type": "code",
   "execution_count": 448,
   "metadata": {},
   "outputs": [],
   "source": [
    "def userCity(data):\n",
    "    user = data['user_id']\n",
    "    return list(df_users.loc[df_users['user_id']==user,'city'])[0]"
   ]
  },
  {
   "cell_type": "code",
   "execution_count": 449,
   "metadata": {},
   "outputs": [
    {
     "data": {
      "text/html": [
       "<div>\n",
       "<style scoped>\n",
       "    .dataframe tbody tr th:only-of-type {\n",
       "        vertical-align: middle;\n",
       "    }\n",
       "\n",
       "    .dataframe tbody tr th {\n",
       "        vertical-align: top;\n",
       "    }\n",
       "\n",
       "    .dataframe thead th {\n",
       "        text-align: right;\n",
       "    }\n",
       "</style>\n",
       "<table border=\"1\" class=\"dataframe\">\n",
       "  <thead>\n",
       "    <tr style=\"text-align: right;\">\n",
       "      <th></th>\n",
       "      <th>index</th>\n",
       "      <th>user_id</th>\n",
       "      <th>year_month</th>\n",
       "      <th>minutes_used</th>\n",
       "      <th>gb_used</th>\n",
       "      <th>messages_used</th>\n",
       "      <th>city</th>\n",
       "    </tr>\n",
       "  </thead>\n",
       "  <tbody>\n",
       "    <tr>\n",
       "      <th>2288</th>\n",
       "      <td>2288.0</td>\n",
       "      <td>1349</td>\n",
       "      <td>201810</td>\n",
       "      <td>0.0</td>\n",
       "      <td>13.0</td>\n",
       "      <td>76.0</td>\n",
       "      <td>Boston-Cambridge-Newton, MA-NH MSA</td>\n",
       "    </tr>\n",
       "    <tr>\n",
       "      <th>2289</th>\n",
       "      <td>2289.0</td>\n",
       "      <td>1349</td>\n",
       "      <td>201811</td>\n",
       "      <td>0.0</td>\n",
       "      <td>17.0</td>\n",
       "      <td>72.0</td>\n",
       "      <td>Boston-Cambridge-Newton, MA-NH MSA</td>\n",
       "    </tr>\n",
       "    <tr>\n",
       "      <th>2290</th>\n",
       "      <td>2290.0</td>\n",
       "      <td>1349</td>\n",
       "      <td>201812</td>\n",
       "      <td>0.0</td>\n",
       "      <td>13.0</td>\n",
       "      <td>61.0</td>\n",
       "      <td>Boston-Cambridge-Newton, MA-NH MSA</td>\n",
       "    </tr>\n",
       "    <tr>\n",
       "      <th>2291</th>\n",
       "      <td>2291.0</td>\n",
       "      <td>1361</td>\n",
       "      <td>201805</td>\n",
       "      <td>0.0</td>\n",
       "      <td>2.0</td>\n",
       "      <td>2.0</td>\n",
       "      <td>Birmingham-Hoover, AL MSA</td>\n",
       "    </tr>\n",
       "    <tr>\n",
       "      <th>2292</th>\n",
       "      <td>0.0</td>\n",
       "      <td>1482</td>\n",
       "      <td>201810</td>\n",
       "      <td>0.0</td>\n",
       "      <td>0.0</td>\n",
       "      <td>2.0</td>\n",
       "      <td>New York-Newark-Jersey City, NY-NJ-PA MSA</td>\n",
       "    </tr>\n",
       "  </tbody>\n",
       "</table>\n",
       "</div>"
      ],
      "text/plain": [
       "       index  user_id year_month  minutes_used  gb_used  messages_used  \\\n",
       "2288  2288.0     1349     201810           0.0     13.0           76.0   \n",
       "2289  2289.0     1349     201811           0.0     17.0           72.0   \n",
       "2290  2290.0     1349     201812           0.0     13.0           61.0   \n",
       "2291  2291.0     1361     201805           0.0      2.0            2.0   \n",
       "2292     0.0     1482     201810           0.0      0.0            2.0   \n",
       "\n",
       "                                           city  \n",
       "2288         Boston-Cambridge-Newton, MA-NH MSA  \n",
       "2289         Boston-Cambridge-Newton, MA-NH MSA  \n",
       "2290         Boston-Cambridge-Newton, MA-NH MSA  \n",
       "2291                  Birmingham-Hoover, AL MSA  \n",
       "2292  New York-Newark-Jersey City, NY-NJ-PA MSA  "
      ]
     },
     "execution_count": 449,
     "metadata": {},
     "output_type": "execute_result"
    }
   ],
   "source": [
    "df_comb['city'] = df_comb.apply(userCity, axis = 1)\n",
    "df_comb.tail(5)"
   ]
  },
  {
   "cell_type": "markdown",
   "metadata": {},
   "source": [
    "<div class=\"alert alert-success\">\n",
    "<b>Chamdani's comment v.1</b> <a class=\"tocSkip\"></a>\n",
    "\n",
    "Bagus, semua berjalan lancar.\n",
    "\n",
    "</div>"
   ]
  },
  {
   "cell_type": "markdown",
   "metadata": {},
   "source": [
    "### Menambahkan Kolom Paket yang digunakan"
   ]
  },
  {
   "cell_type": "markdown",
   "metadata": {},
   "source": [
    "Paket yang digunakan oleh pengguna bisa jadi berbeda setiap bulannya. Sebagai contoh user A baru membeli paket Surf pada bulan Maret hingga Oktober. Maka selain pada bulan tersebut, setiap penggunaan akan dikenakan tarif non-paket. Apabila paket aktif, maka pengguna akan dikenakan biaya paket setiap bulannya namun penggunaan layanan akan gratis selama tidak melebihi kuota."
   ]
  },
  {
   "cell_type": "code",
   "execution_count": 450,
   "metadata": {},
   "outputs": [],
   "source": [
    "def isPackage(data):\n",
    "    tanggal = int(data['year_month'])\n",
    "    user = data['user_id']\n",
    "    if int(df_users.loc[df_users['user_id']==user,'reg_date']) <= tanggal <= int(df_users.loc[df_users['user_id']==user,'churn_date']):\n",
    "        return (list(df_users.loc[df_users['user_id']==user,'plan']))[0]\n",
    "    return np.nan"
   ]
  },
  {
   "cell_type": "code",
   "execution_count": 451,
   "metadata": {},
   "outputs": [
    {
     "data": {
      "text/html": [
       "<div>\n",
       "<style scoped>\n",
       "    .dataframe tbody tr th:only-of-type {\n",
       "        vertical-align: middle;\n",
       "    }\n",
       "\n",
       "    .dataframe tbody tr th {\n",
       "        vertical-align: top;\n",
       "    }\n",
       "\n",
       "    .dataframe thead th {\n",
       "        text-align: right;\n",
       "    }\n",
       "</style>\n",
       "<table border=\"1\" class=\"dataframe\">\n",
       "  <thead>\n",
       "    <tr style=\"text-align: right;\">\n",
       "      <th></th>\n",
       "      <th>index</th>\n",
       "      <th>user_id</th>\n",
       "      <th>year_month</th>\n",
       "      <th>minutes_used</th>\n",
       "      <th>gb_used</th>\n",
       "      <th>messages_used</th>\n",
       "      <th>city</th>\n",
       "      <th>plan_name</th>\n",
       "    </tr>\n",
       "  </thead>\n",
       "  <tbody>\n",
       "    <tr>\n",
       "      <th>2288</th>\n",
       "      <td>2288.0</td>\n",
       "      <td>1349</td>\n",
       "      <td>201810</td>\n",
       "      <td>0.0</td>\n",
       "      <td>13.0</td>\n",
       "      <td>76.0</td>\n",
       "      <td>Boston-Cambridge-Newton, MA-NH MSA</td>\n",
       "      <td>surf</td>\n",
       "    </tr>\n",
       "    <tr>\n",
       "      <th>2289</th>\n",
       "      <td>2289.0</td>\n",
       "      <td>1349</td>\n",
       "      <td>201811</td>\n",
       "      <td>0.0</td>\n",
       "      <td>17.0</td>\n",
       "      <td>72.0</td>\n",
       "      <td>Boston-Cambridge-Newton, MA-NH MSA</td>\n",
       "      <td>surf</td>\n",
       "    </tr>\n",
       "    <tr>\n",
       "      <th>2290</th>\n",
       "      <td>2290.0</td>\n",
       "      <td>1349</td>\n",
       "      <td>201812</td>\n",
       "      <td>0.0</td>\n",
       "      <td>13.0</td>\n",
       "      <td>61.0</td>\n",
       "      <td>Boston-Cambridge-Newton, MA-NH MSA</td>\n",
       "      <td>surf</td>\n",
       "    </tr>\n",
       "    <tr>\n",
       "      <th>2291</th>\n",
       "      <td>2291.0</td>\n",
       "      <td>1361</td>\n",
       "      <td>201805</td>\n",
       "      <td>0.0</td>\n",
       "      <td>2.0</td>\n",
       "      <td>2.0</td>\n",
       "      <td>Birmingham-Hoover, AL MSA</td>\n",
       "      <td>surf</td>\n",
       "    </tr>\n",
       "    <tr>\n",
       "      <th>2292</th>\n",
       "      <td>0.0</td>\n",
       "      <td>1482</td>\n",
       "      <td>201810</td>\n",
       "      <td>0.0</td>\n",
       "      <td>0.0</td>\n",
       "      <td>2.0</td>\n",
       "      <td>New York-Newark-Jersey City, NY-NJ-PA MSA</td>\n",
       "      <td>ultimate</td>\n",
       "    </tr>\n",
       "  </tbody>\n",
       "</table>\n",
       "</div>"
      ],
      "text/plain": [
       "       index  user_id year_month  minutes_used  gb_used  messages_used  \\\n",
       "2288  2288.0     1349     201810           0.0     13.0           76.0   \n",
       "2289  2289.0     1349     201811           0.0     17.0           72.0   \n",
       "2290  2290.0     1349     201812           0.0     13.0           61.0   \n",
       "2291  2291.0     1361     201805           0.0      2.0            2.0   \n",
       "2292     0.0     1482     201810           0.0      0.0            2.0   \n",
       "\n",
       "                                           city plan_name  \n",
       "2288         Boston-Cambridge-Newton, MA-NH MSA      surf  \n",
       "2289         Boston-Cambridge-Newton, MA-NH MSA      surf  \n",
       "2290         Boston-Cambridge-Newton, MA-NH MSA      surf  \n",
       "2291                  Birmingham-Hoover, AL MSA      surf  \n",
       "2292  New York-Newark-Jersey City, NY-NJ-PA MSA  ultimate  "
      ]
     },
     "execution_count": 451,
     "metadata": {},
     "output_type": "execute_result"
    }
   ],
   "source": [
    "df_comb['plan_name'] = df_comb.apply(isPackage, axis = 1)\n",
    "df_comb.tail(5)"
   ]
  },
  {
   "cell_type": "code",
   "execution_count": 452,
   "metadata": {},
   "outputs": [
    {
     "name": "stdout",
     "output_type": "stream",
     "text": [
      "<class 'pandas.core.frame.DataFrame'>\n",
      "Int64Index: 37 entries, 54 to 2217\n",
      "Data columns (total 8 columns):\n",
      " #   Column         Non-Null Count  Dtype  \n",
      "---  ------         --------------  -----  \n",
      " 0   index          37 non-null     float64\n",
      " 1   user_id        37 non-null     int64  \n",
      " 2   year_month     37 non-null     object \n",
      " 3   minutes_used   37 non-null     float64\n",
      " 4   gb_used        37 non-null     float64\n",
      " 5   messages_used  37 non-null     float64\n",
      " 6   city           37 non-null     object \n",
      " 7   plan_name      0 non-null      object \n",
      "dtypes: float64(4), int64(1), object(3)\n",
      "memory usage: 2.6+ KB\n"
     ]
    }
   ],
   "source": [
    "df_comb.loc[df_comb['plan_name'].isna(),:].info()"
   ]
  },
  {
   "cell_type": "markdown",
   "metadata": {},
   "source": [
    "Terdapat 37 data dimana pengguna menggunakan layanan namun tidak membeli paket. Karena fokus kita adalah menghitung penggunaan dari paket Surf dan Ultimate, maka kita perlu menghapus data ini dengan perintah dropna."
   ]
  },
  {
   "cell_type": "markdown",
   "metadata": {},
   "source": [
    "<div class=\"alert alert-success\">\n",
    "<b>Chamdani's comment v.1</b> <a class=\"tocSkip\"></a>\n",
    "\n",
    "Bagus, semua berjalan lancar.\n",
    "\n",
    "</div>"
   ]
  },
  {
   "cell_type": "code",
   "execution_count": 453,
   "metadata": {},
   "outputs": [],
   "source": [
    "df_comb.dropna(axis=0,how='any',inplace=True)\n",
    "df_comb.reset_index(inplace=True,drop=True)"
   ]
  },
  {
   "cell_type": "code",
   "execution_count": 454,
   "metadata": {},
   "outputs": [
    {
     "name": "stdout",
     "output_type": "stream",
     "text": [
      "<class 'pandas.core.frame.DataFrame'>\n",
      "RangeIndex: 2256 entries, 0 to 2255\n",
      "Data columns (total 8 columns):\n",
      " #   Column         Non-Null Count  Dtype  \n",
      "---  ------         --------------  -----  \n",
      " 0   index          2256 non-null   float64\n",
      " 1   user_id        2256 non-null   int64  \n",
      " 2   year_month     2256 non-null   object \n",
      " 3   minutes_used   2256 non-null   float64\n",
      " 4   gb_used        2256 non-null   float64\n",
      " 5   messages_used  2256 non-null   float64\n",
      " 6   city           2256 non-null   object \n",
      " 7   plan_name      2256 non-null   object \n",
      "dtypes: float64(4), int64(1), object(3)\n",
      "memory usage: 141.1+ KB\n"
     ]
    }
   ],
   "source": [
    "df_comb.info()"
   ]
  },
  {
   "cell_type": "markdown",
   "metadata": {},
   "source": [
    "Penggunaan layanan tanpa paket telah berhasil dihilangkan dari dataset. Sekarang kita dapat fokus menganalisa paket Surf dan Ultimate saja."
   ]
  },
  {
   "cell_type": "markdown",
   "metadata": {},
   "source": [
    "<div class=\"alert alert-success\">\n",
    "<b>Chamdani's comment v.1</b> <a class=\"tocSkip\"></a>\n",
    "\n",
    "Bagus, semua berjalan lancar.\n",
    "\n",
    "</div>"
   ]
  },
  {
   "cell_type": "markdown",
   "metadata": {},
   "source": [
    "### Menambahkan kolom penggunaan berlebih"
   ]
  },
  {
   "cell_type": "markdown",
   "metadata": {},
   "source": [
    "Kolom penggunaan berlebih ini bermanfaat untuk mengetahui penggunaan layanan berlebihi oleh setiap pengguna setiap bulannya. Kolom ini menjadi dasar perhitungan keuntungan tambahan yang diperoleh biaya tambahan tersebut."
   ]
  },
  {
   "cell_type": "code",
   "execution_count": 455,
   "metadata": {},
   "outputs": [
    {
     "data": {
      "text/html": [
       "<div>\n",
       "<style scoped>\n",
       "    .dataframe tbody tr th:only-of-type {\n",
       "        vertical-align: middle;\n",
       "    }\n",
       "\n",
       "    .dataframe tbody tr th {\n",
       "        vertical-align: top;\n",
       "    }\n",
       "\n",
       "    .dataframe thead th {\n",
       "        text-align: right;\n",
       "    }\n",
       "</style>\n",
       "<table border=\"1\" class=\"dataframe\">\n",
       "  <thead>\n",
       "    <tr style=\"text-align: right;\">\n",
       "      <th></th>\n",
       "      <th>messages_included</th>\n",
       "      <th>gb_per_month_included</th>\n",
       "      <th>minutes_included</th>\n",
       "      <th>usd_monthly_pay</th>\n",
       "      <th>usd_per_gb</th>\n",
       "      <th>usd_per_message</th>\n",
       "      <th>usd_per_minute</th>\n",
       "      <th>plan_name</th>\n",
       "    </tr>\n",
       "  </thead>\n",
       "  <tbody>\n",
       "    <tr>\n",
       "      <th>0</th>\n",
       "      <td>50</td>\n",
       "      <td>15.0</td>\n",
       "      <td>500</td>\n",
       "      <td>20</td>\n",
       "      <td>10</td>\n",
       "      <td>0.03</td>\n",
       "      <td>0.03</td>\n",
       "      <td>surf</td>\n",
       "    </tr>\n",
       "    <tr>\n",
       "      <th>1</th>\n",
       "      <td>1000</td>\n",
       "      <td>30.0</td>\n",
       "      <td>3000</td>\n",
       "      <td>70</td>\n",
       "      <td>7</td>\n",
       "      <td>0.01</td>\n",
       "      <td>0.01</td>\n",
       "      <td>ultimate</td>\n",
       "    </tr>\n",
       "  </tbody>\n",
       "</table>\n",
       "</div>"
      ],
      "text/plain": [
       "   messages_included  gb_per_month_included  minutes_included  \\\n",
       "0                 50                   15.0               500   \n",
       "1               1000                   30.0              3000   \n",
       "\n",
       "   usd_monthly_pay  usd_per_gb  usd_per_message  usd_per_minute plan_name  \n",
       "0               20          10             0.03            0.03      surf  \n",
       "1               70           7             0.01            0.01  ultimate  "
      ]
     },
     "execution_count": 455,
     "metadata": {},
     "output_type": "execute_result"
    }
   ],
   "source": [
    "df_plans"
   ]
  },
  {
   "cell_type": "code",
   "execution_count": 456,
   "metadata": {},
   "outputs": [],
   "source": [
    "def exceedInternet(data):\n",
    "    plan = data['plan_name']\n",
    "    try:\n",
    "        exc = data['gb_used']-int(df_plans.loc[df_plans['plan_name']==plan,'gb_per_month_included'])\n",
    "    except:\n",
    "        exc = data['gb_used']\n",
    "    if exc < 0: exc = 0\n",
    "    return exc\n",
    "def exceedMessage(data):\n",
    "    plan = data['plan_name']\n",
    "    try:\n",
    "        exc = data['messages_used']-int(df_plans.loc[df_plans['plan_name']==plan,'messages_included'])\n",
    "    except:\n",
    "        exc = data['messages_used']\n",
    "    if exc < 0: exc = 0\n",
    "    return exc\n",
    "def exceedMinute(data):\n",
    "    plan = data['plan_name']\n",
    "    try:\n",
    "        exc = data['minutes_used']-int(df_plans.loc[df_plans['plan_name']==plan,'minutes_included'])\n",
    "    except:\n",
    "        exc = data['minutes_used']\n",
    "    if exc < 0: exc = 0\n",
    "    return exc"
   ]
  },
  {
   "cell_type": "code",
   "execution_count": 457,
   "metadata": {},
   "outputs": [],
   "source": [
    "df_comb['gb_exceed'] = df_comb.apply(exceedInternet, axis = 1)\n",
    "df_comb['messages_exceed'] = df_comb.apply(exceedMessage, axis = 1)\n",
    "df_comb['minutes_exceed'] = df_comb.apply(exceedMinute, axis = 1)"
   ]
  },
  {
   "cell_type": "code",
   "execution_count": 458,
   "metadata": {
    "scrolled": true
   },
   "outputs": [
    {
     "data": {
      "text/html": [
       "<div>\n",
       "<style scoped>\n",
       "    .dataframe tbody tr th:only-of-type {\n",
       "        vertical-align: middle;\n",
       "    }\n",
       "\n",
       "    .dataframe tbody tr th {\n",
       "        vertical-align: top;\n",
       "    }\n",
       "\n",
       "    .dataframe thead th {\n",
       "        text-align: right;\n",
       "    }\n",
       "</style>\n",
       "<table border=\"1\" class=\"dataframe\">\n",
       "  <thead>\n",
       "    <tr style=\"text-align: right;\">\n",
       "      <th></th>\n",
       "      <th>index</th>\n",
       "      <th>user_id</th>\n",
       "      <th>year_month</th>\n",
       "      <th>minutes_used</th>\n",
       "      <th>gb_used</th>\n",
       "      <th>messages_used</th>\n",
       "      <th>city</th>\n",
       "      <th>plan_name</th>\n",
       "      <th>gb_exceed</th>\n",
       "      <th>messages_exceed</th>\n",
       "      <th>minutes_exceed</th>\n",
       "    </tr>\n",
       "  </thead>\n",
       "  <tbody>\n",
       "    <tr>\n",
       "      <th>0</th>\n",
       "      <td>0.0</td>\n",
       "      <td>1000</td>\n",
       "      <td>201812</td>\n",
       "      <td>124.0</td>\n",
       "      <td>2.0</td>\n",
       "      <td>11.0</td>\n",
       "      <td>Atlanta-Sandy Springs-Roswell, GA MSA</td>\n",
       "      <td>ultimate</td>\n",
       "      <td>0.0</td>\n",
       "      <td>0.0</td>\n",
       "      <td>0.0</td>\n",
       "    </tr>\n",
       "    <tr>\n",
       "      <th>1</th>\n",
       "      <td>1.0</td>\n",
       "      <td>1001</td>\n",
       "      <td>201808</td>\n",
       "      <td>182.0</td>\n",
       "      <td>7.0</td>\n",
       "      <td>30.0</td>\n",
       "      <td>Seattle-Tacoma-Bellevue, WA MSA</td>\n",
       "      <td>surf</td>\n",
       "      <td>0.0</td>\n",
       "      <td>0.0</td>\n",
       "      <td>0.0</td>\n",
       "    </tr>\n",
       "    <tr>\n",
       "      <th>2</th>\n",
       "      <td>2.0</td>\n",
       "      <td>1001</td>\n",
       "      <td>201809</td>\n",
       "      <td>315.0</td>\n",
       "      <td>14.0</td>\n",
       "      <td>44.0</td>\n",
       "      <td>Seattle-Tacoma-Bellevue, WA MSA</td>\n",
       "      <td>surf</td>\n",
       "      <td>0.0</td>\n",
       "      <td>0.0</td>\n",
       "      <td>0.0</td>\n",
       "    </tr>\n",
       "    <tr>\n",
       "      <th>3</th>\n",
       "      <td>3.0</td>\n",
       "      <td>1001</td>\n",
       "      <td>201810</td>\n",
       "      <td>393.0</td>\n",
       "      <td>22.0</td>\n",
       "      <td>53.0</td>\n",
       "      <td>Seattle-Tacoma-Bellevue, WA MSA</td>\n",
       "      <td>surf</td>\n",
       "      <td>7.0</td>\n",
       "      <td>3.0</td>\n",
       "      <td>0.0</td>\n",
       "    </tr>\n",
       "    <tr>\n",
       "      <th>4</th>\n",
       "      <td>4.0</td>\n",
       "      <td>1001</td>\n",
       "      <td>201811</td>\n",
       "      <td>426.0</td>\n",
       "      <td>19.0</td>\n",
       "      <td>36.0</td>\n",
       "      <td>Seattle-Tacoma-Bellevue, WA MSA</td>\n",
       "      <td>surf</td>\n",
       "      <td>4.0</td>\n",
       "      <td>0.0</td>\n",
       "      <td>0.0</td>\n",
       "    </tr>\n",
       "    <tr>\n",
       "      <th>5</th>\n",
       "      <td>5.0</td>\n",
       "      <td>1001</td>\n",
       "      <td>201812</td>\n",
       "      <td>412.0</td>\n",
       "      <td>19.0</td>\n",
       "      <td>44.0</td>\n",
       "      <td>Seattle-Tacoma-Bellevue, WA MSA</td>\n",
       "      <td>surf</td>\n",
       "      <td>4.0</td>\n",
       "      <td>0.0</td>\n",
       "      <td>0.0</td>\n",
       "    </tr>\n",
       "    <tr>\n",
       "      <th>6</th>\n",
       "      <td>6.0</td>\n",
       "      <td>1002</td>\n",
       "      <td>201810</td>\n",
       "      <td>59.0</td>\n",
       "      <td>7.0</td>\n",
       "      <td>15.0</td>\n",
       "      <td>Las Vegas-Henderson-Paradise, NV MSA</td>\n",
       "      <td>surf</td>\n",
       "      <td>0.0</td>\n",
       "      <td>0.0</td>\n",
       "      <td>0.0</td>\n",
       "    </tr>\n",
       "    <tr>\n",
       "      <th>7</th>\n",
       "      <td>7.0</td>\n",
       "      <td>1002</td>\n",
       "      <td>201811</td>\n",
       "      <td>386.0</td>\n",
       "      <td>19.0</td>\n",
       "      <td>32.0</td>\n",
       "      <td>Las Vegas-Henderson-Paradise, NV MSA</td>\n",
       "      <td>surf</td>\n",
       "      <td>4.0</td>\n",
       "      <td>0.0</td>\n",
       "      <td>0.0</td>\n",
       "    </tr>\n",
       "    <tr>\n",
       "      <th>8</th>\n",
       "      <td>8.0</td>\n",
       "      <td>1002</td>\n",
       "      <td>201812</td>\n",
       "      <td>384.0</td>\n",
       "      <td>15.0</td>\n",
       "      <td>41.0</td>\n",
       "      <td>Las Vegas-Henderson-Paradise, NV MSA</td>\n",
       "      <td>surf</td>\n",
       "      <td>0.0</td>\n",
       "      <td>0.0</td>\n",
       "      <td>0.0</td>\n",
       "    </tr>\n",
       "    <tr>\n",
       "      <th>9</th>\n",
       "      <td>9.0</td>\n",
       "      <td>1003</td>\n",
       "      <td>201812</td>\n",
       "      <td>1104.0</td>\n",
       "      <td>27.0</td>\n",
       "      <td>50.0</td>\n",
       "      <td>Tulsa, OK MSA</td>\n",
       "      <td>surf</td>\n",
       "      <td>12.0</td>\n",
       "      <td>0.0</td>\n",
       "      <td>604.0</td>\n",
       "    </tr>\n",
       "  </tbody>\n",
       "</table>\n",
       "</div>"
      ],
      "text/plain": [
       "   index  user_id year_month  minutes_used  gb_used  messages_used  \\\n",
       "0    0.0     1000     201812         124.0      2.0           11.0   \n",
       "1    1.0     1001     201808         182.0      7.0           30.0   \n",
       "2    2.0     1001     201809         315.0     14.0           44.0   \n",
       "3    3.0     1001     201810         393.0     22.0           53.0   \n",
       "4    4.0     1001     201811         426.0     19.0           36.0   \n",
       "5    5.0     1001     201812         412.0     19.0           44.0   \n",
       "6    6.0     1002     201810          59.0      7.0           15.0   \n",
       "7    7.0     1002     201811         386.0     19.0           32.0   \n",
       "8    8.0     1002     201812         384.0     15.0           41.0   \n",
       "9    9.0     1003     201812        1104.0     27.0           50.0   \n",
       "\n",
       "                                    city plan_name  gb_exceed  \\\n",
       "0  Atlanta-Sandy Springs-Roswell, GA MSA  ultimate        0.0   \n",
       "1        Seattle-Tacoma-Bellevue, WA MSA      surf        0.0   \n",
       "2        Seattle-Tacoma-Bellevue, WA MSA      surf        0.0   \n",
       "3        Seattle-Tacoma-Bellevue, WA MSA      surf        7.0   \n",
       "4        Seattle-Tacoma-Bellevue, WA MSA      surf        4.0   \n",
       "5        Seattle-Tacoma-Bellevue, WA MSA      surf        4.0   \n",
       "6   Las Vegas-Henderson-Paradise, NV MSA      surf        0.0   \n",
       "7   Las Vegas-Henderson-Paradise, NV MSA      surf        4.0   \n",
       "8   Las Vegas-Henderson-Paradise, NV MSA      surf        0.0   \n",
       "9                          Tulsa, OK MSA      surf       12.0   \n",
       "\n",
       "   messages_exceed  minutes_exceed  \n",
       "0              0.0             0.0  \n",
       "1              0.0             0.0  \n",
       "2              0.0             0.0  \n",
       "3              3.0             0.0  \n",
       "4              0.0             0.0  \n",
       "5              0.0             0.0  \n",
       "6              0.0             0.0  \n",
       "7              0.0             0.0  \n",
       "8              0.0             0.0  \n",
       "9              0.0           604.0  "
      ]
     },
     "execution_count": 458,
     "metadata": {},
     "output_type": "execute_result"
    }
   ],
   "source": [
    "df_comb.head(10)"
   ]
  },
  {
   "cell_type": "markdown",
   "metadata": {},
   "source": [
    "<div class=\"alert alert-success\">\n",
    "<b>Chamdani's comment v.1</b> <a class=\"tocSkip\"></a>\n",
    "\n",
    "Bagus, semua berjalan lancar.\n",
    "\n",
    "</div>"
   ]
  },
  {
   "cell_type": "markdown",
   "metadata": {},
   "source": [
    "### Menambah Kolom Biaya Tambahan"
   ]
  },
  {
   "cell_type": "markdown",
   "metadata": {},
   "source": [
    "Pada langkah ini kita akan menghitung biaya tambahan yang dikenakan kepada pengguna karena penggunaan layanan melebihi kuota yang disediakan oleh masing-masing paket."
   ]
  },
  {
   "cell_type": "code",
   "execution_count": 459,
   "metadata": {},
   "outputs": [
    {
     "data": {
      "text/html": [
       "<div>\n",
       "<style scoped>\n",
       "    .dataframe tbody tr th:only-of-type {\n",
       "        vertical-align: middle;\n",
       "    }\n",
       "\n",
       "    .dataframe tbody tr th {\n",
       "        vertical-align: top;\n",
       "    }\n",
       "\n",
       "    .dataframe thead th {\n",
       "        text-align: right;\n",
       "    }\n",
       "</style>\n",
       "<table border=\"1\" class=\"dataframe\">\n",
       "  <thead>\n",
       "    <tr style=\"text-align: right;\">\n",
       "      <th></th>\n",
       "      <th>index</th>\n",
       "      <th>user_id</th>\n",
       "      <th>year_month</th>\n",
       "      <th>minutes_used</th>\n",
       "      <th>gb_used</th>\n",
       "      <th>messages_used</th>\n",
       "      <th>city</th>\n",
       "      <th>plan_name</th>\n",
       "      <th>gb_exceed</th>\n",
       "      <th>messages_exceed</th>\n",
       "      <th>minutes_exceed</th>\n",
       "      <th>usd_monthly_pay</th>\n",
       "    </tr>\n",
       "  </thead>\n",
       "  <tbody>\n",
       "  </tbody>\n",
       "</table>\n",
       "</div>"
      ],
      "text/plain": [
       "Empty DataFrame\n",
       "Columns: [index, user_id, year_month, minutes_used, gb_used, messages_used, city, plan_name, gb_exceed, messages_exceed, minutes_exceed, usd_monthly_pay]\n",
       "Index: []"
      ]
     },
     "execution_count": 459,
     "metadata": {},
     "output_type": "execute_result"
    }
   ],
   "source": [
    "### Biaya Packet\n",
    "df_comb = pd.merge(df_comb,df_plans[['plan_name','usd_monthly_pay']], on ='plan_name',how = 'left')\n",
    "df_comb.loc[df_comb['plan_name'].isna(),:]"
   ]
  },
  {
   "cell_type": "code",
   "execution_count": 460,
   "metadata": {},
   "outputs": [],
   "source": [
    "try:\n",
    "    df_comb.drop('usd_monthly_pay_x',inplace=True, axis = 1)\n",
    "    df_comb.rename({'usd_monthly_pay_y':'plan_price'},inplace = True, axis = 1)\n",
    "except:\n",
    "    df_comb.head()"
   ]
  },
  {
   "cell_type": "code",
   "execution_count": 461,
   "metadata": {
    "scrolled": true
   },
   "outputs": [
    {
     "data": {
      "text/html": [
       "<div>\n",
       "<style scoped>\n",
       "    .dataframe tbody tr th:only-of-type {\n",
       "        vertical-align: middle;\n",
       "    }\n",
       "\n",
       "    .dataframe tbody tr th {\n",
       "        vertical-align: top;\n",
       "    }\n",
       "\n",
       "    .dataframe thead th {\n",
       "        text-align: right;\n",
       "    }\n",
       "</style>\n",
       "<table border=\"1\" class=\"dataframe\">\n",
       "  <thead>\n",
       "    <tr style=\"text-align: right;\">\n",
       "      <th></th>\n",
       "      <th>index</th>\n",
       "      <th>user_id</th>\n",
       "      <th>year_month</th>\n",
       "      <th>minutes_used</th>\n",
       "      <th>gb_used</th>\n",
       "      <th>messages_used</th>\n",
       "      <th>city</th>\n",
       "      <th>plan_name</th>\n",
       "      <th>gb_exceed</th>\n",
       "      <th>messages_exceed</th>\n",
       "      <th>minutes_exceed</th>\n",
       "      <th>usd_monthly_pay</th>\n",
       "    </tr>\n",
       "  </thead>\n",
       "  <tbody>\n",
       "    <tr>\n",
       "      <th>2251</th>\n",
       "      <td>2288.0</td>\n",
       "      <td>1349</td>\n",
       "      <td>201810</td>\n",
       "      <td>0.0</td>\n",
       "      <td>13.0</td>\n",
       "      <td>76.0</td>\n",
       "      <td>Boston-Cambridge-Newton, MA-NH MSA</td>\n",
       "      <td>surf</td>\n",
       "      <td>0.0</td>\n",
       "      <td>26.0</td>\n",
       "      <td>0.0</td>\n",
       "      <td>20</td>\n",
       "    </tr>\n",
       "    <tr>\n",
       "      <th>2252</th>\n",
       "      <td>2289.0</td>\n",
       "      <td>1349</td>\n",
       "      <td>201811</td>\n",
       "      <td>0.0</td>\n",
       "      <td>17.0</td>\n",
       "      <td>72.0</td>\n",
       "      <td>Boston-Cambridge-Newton, MA-NH MSA</td>\n",
       "      <td>surf</td>\n",
       "      <td>2.0</td>\n",
       "      <td>22.0</td>\n",
       "      <td>0.0</td>\n",
       "      <td>20</td>\n",
       "    </tr>\n",
       "    <tr>\n",
       "      <th>2253</th>\n",
       "      <td>2290.0</td>\n",
       "      <td>1349</td>\n",
       "      <td>201812</td>\n",
       "      <td>0.0</td>\n",
       "      <td>13.0</td>\n",
       "      <td>61.0</td>\n",
       "      <td>Boston-Cambridge-Newton, MA-NH MSA</td>\n",
       "      <td>surf</td>\n",
       "      <td>0.0</td>\n",
       "      <td>11.0</td>\n",
       "      <td>0.0</td>\n",
       "      <td>20</td>\n",
       "    </tr>\n",
       "    <tr>\n",
       "      <th>2254</th>\n",
       "      <td>2291.0</td>\n",
       "      <td>1361</td>\n",
       "      <td>201805</td>\n",
       "      <td>0.0</td>\n",
       "      <td>2.0</td>\n",
       "      <td>2.0</td>\n",
       "      <td>Birmingham-Hoover, AL MSA</td>\n",
       "      <td>surf</td>\n",
       "      <td>0.0</td>\n",
       "      <td>0.0</td>\n",
       "      <td>0.0</td>\n",
       "      <td>20</td>\n",
       "    </tr>\n",
       "    <tr>\n",
       "      <th>2255</th>\n",
       "      <td>0.0</td>\n",
       "      <td>1482</td>\n",
       "      <td>201810</td>\n",
       "      <td>0.0</td>\n",
       "      <td>0.0</td>\n",
       "      <td>2.0</td>\n",
       "      <td>New York-Newark-Jersey City, NY-NJ-PA MSA</td>\n",
       "      <td>ultimate</td>\n",
       "      <td>0.0</td>\n",
       "      <td>0.0</td>\n",
       "      <td>0.0</td>\n",
       "      <td>70</td>\n",
       "    </tr>\n",
       "  </tbody>\n",
       "</table>\n",
       "</div>"
      ],
      "text/plain": [
       "       index  user_id year_month  minutes_used  gb_used  messages_used  \\\n",
       "2251  2288.0     1349     201810           0.0     13.0           76.0   \n",
       "2252  2289.0     1349     201811           0.0     17.0           72.0   \n",
       "2253  2290.0     1349     201812           0.0     13.0           61.0   \n",
       "2254  2291.0     1361     201805           0.0      2.0            2.0   \n",
       "2255     0.0     1482     201810           0.0      0.0            2.0   \n",
       "\n",
       "                                           city plan_name  gb_exceed  \\\n",
       "2251         Boston-Cambridge-Newton, MA-NH MSA      surf        0.0   \n",
       "2252         Boston-Cambridge-Newton, MA-NH MSA      surf        2.0   \n",
       "2253         Boston-Cambridge-Newton, MA-NH MSA      surf        0.0   \n",
       "2254                  Birmingham-Hoover, AL MSA      surf        0.0   \n",
       "2255  New York-Newark-Jersey City, NY-NJ-PA MSA  ultimate        0.0   \n",
       "\n",
       "      messages_exceed  minutes_exceed  usd_monthly_pay  \n",
       "2251             26.0             0.0               20  \n",
       "2252             22.0             0.0               20  \n",
       "2253             11.0             0.0               20  \n",
       "2254              0.0             0.0               20  \n",
       "2255              0.0             0.0               70  "
      ]
     },
     "execution_count": 461,
     "metadata": {},
     "output_type": "execute_result"
    }
   ],
   "source": [
    "df_comb.tail()"
   ]
  },
  {
   "cell_type": "code",
   "execution_count": 462,
   "metadata": {},
   "outputs": [],
   "source": [
    "def exceedPay(data,col):\n",
    "    plan = data['plan_name']\n",
    "    try:\n",
    "        biaya = df_plans.loc[df_plans['plan_name']==plan,'usd_per_'+col]*data[col+'_exceed']\n",
    "    except:\n",
    "        biaya = df_plans.loc[df_plans['plan_name']==plan,'usd_per_'+col]*data[col+'s_exceed']\n",
    "    biaya = list(biaya)[0]\n",
    "    return biaya"
   ]
  },
  {
   "cell_type": "code",
   "execution_count": 463,
   "metadata": {},
   "outputs": [],
   "source": [
    "df_comb['internet_expay'] = df_comb.apply(exceedPay,args=['gb'],axis = 1)\n",
    "df_comb['message_expay'] = df_comb.apply(exceedPay,args=['message'],axis = 1)\n",
    "df_comb['call_expay'] = df_comb.apply(exceedPay,args=['minute'],axis = 1)"
   ]
  },
  {
   "cell_type": "code",
   "execution_count": 464,
   "metadata": {},
   "outputs": [],
   "source": [
    "df_comb['total_expay'] = df_comb['internet_expay'] + df_comb['message_expay'] + df_comb['call_expay']\n",
    "df_comb['total_pay'] = df_comb['total_expay'] + df_comb['usd_monthly_pay']"
   ]
  },
  {
   "cell_type": "code",
   "execution_count": 465,
   "metadata": {
    "scrolled": true
   },
   "outputs": [
    {
     "data": {
      "text/html": [
       "<div>\n",
       "<style scoped>\n",
       "    .dataframe tbody tr th:only-of-type {\n",
       "        vertical-align: middle;\n",
       "    }\n",
       "\n",
       "    .dataframe tbody tr th {\n",
       "        vertical-align: top;\n",
       "    }\n",
       "\n",
       "    .dataframe thead th {\n",
       "        text-align: right;\n",
       "    }\n",
       "</style>\n",
       "<table border=\"1\" class=\"dataframe\">\n",
       "  <thead>\n",
       "    <tr style=\"text-align: right;\">\n",
       "      <th></th>\n",
       "      <th>index</th>\n",
       "      <th>user_id</th>\n",
       "      <th>year_month</th>\n",
       "      <th>minutes_used</th>\n",
       "      <th>gb_used</th>\n",
       "      <th>messages_used</th>\n",
       "      <th>city</th>\n",
       "      <th>plan_name</th>\n",
       "      <th>gb_exceed</th>\n",
       "      <th>messages_exceed</th>\n",
       "      <th>minutes_exceed</th>\n",
       "      <th>usd_monthly_pay</th>\n",
       "      <th>internet_expay</th>\n",
       "      <th>message_expay</th>\n",
       "      <th>call_expay</th>\n",
       "      <th>total_expay</th>\n",
       "      <th>total_pay</th>\n",
       "    </tr>\n",
       "  </thead>\n",
       "  <tbody>\n",
       "    <tr>\n",
       "      <th>3</th>\n",
       "      <td>3.0</td>\n",
       "      <td>1001</td>\n",
       "      <td>201810</td>\n",
       "      <td>393.0</td>\n",
       "      <td>22.0</td>\n",
       "      <td>53.0</td>\n",
       "      <td>Seattle-Tacoma-Bellevue, WA MSA</td>\n",
       "      <td>surf</td>\n",
       "      <td>7.0</td>\n",
       "      <td>3.0</td>\n",
       "      <td>0.0</td>\n",
       "      <td>20</td>\n",
       "      <td>70.0</td>\n",
       "      <td>0.09</td>\n",
       "      <td>0.00</td>\n",
       "      <td>70.09</td>\n",
       "      <td>90.09</td>\n",
       "    </tr>\n",
       "    <tr>\n",
       "      <th>4</th>\n",
       "      <td>4.0</td>\n",
       "      <td>1001</td>\n",
       "      <td>201811</td>\n",
       "      <td>426.0</td>\n",
       "      <td>19.0</td>\n",
       "      <td>36.0</td>\n",
       "      <td>Seattle-Tacoma-Bellevue, WA MSA</td>\n",
       "      <td>surf</td>\n",
       "      <td>4.0</td>\n",
       "      <td>0.0</td>\n",
       "      <td>0.0</td>\n",
       "      <td>20</td>\n",
       "      <td>40.0</td>\n",
       "      <td>0.00</td>\n",
       "      <td>0.00</td>\n",
       "      <td>40.00</td>\n",
       "      <td>60.00</td>\n",
       "    </tr>\n",
       "    <tr>\n",
       "      <th>5</th>\n",
       "      <td>5.0</td>\n",
       "      <td>1001</td>\n",
       "      <td>201812</td>\n",
       "      <td>412.0</td>\n",
       "      <td>19.0</td>\n",
       "      <td>44.0</td>\n",
       "      <td>Seattle-Tacoma-Bellevue, WA MSA</td>\n",
       "      <td>surf</td>\n",
       "      <td>4.0</td>\n",
       "      <td>0.0</td>\n",
       "      <td>0.0</td>\n",
       "      <td>20</td>\n",
       "      <td>40.0</td>\n",
       "      <td>0.00</td>\n",
       "      <td>0.00</td>\n",
       "      <td>40.00</td>\n",
       "      <td>60.00</td>\n",
       "    </tr>\n",
       "    <tr>\n",
       "      <th>7</th>\n",
       "      <td>7.0</td>\n",
       "      <td>1002</td>\n",
       "      <td>201811</td>\n",
       "      <td>386.0</td>\n",
       "      <td>19.0</td>\n",
       "      <td>32.0</td>\n",
       "      <td>Las Vegas-Henderson-Paradise, NV MSA</td>\n",
       "      <td>surf</td>\n",
       "      <td>4.0</td>\n",
       "      <td>0.0</td>\n",
       "      <td>0.0</td>\n",
       "      <td>20</td>\n",
       "      <td>40.0</td>\n",
       "      <td>0.00</td>\n",
       "      <td>0.00</td>\n",
       "      <td>40.00</td>\n",
       "      <td>60.00</td>\n",
       "    </tr>\n",
       "    <tr>\n",
       "      <th>9</th>\n",
       "      <td>9.0</td>\n",
       "      <td>1003</td>\n",
       "      <td>201812</td>\n",
       "      <td>1104.0</td>\n",
       "      <td>27.0</td>\n",
       "      <td>50.0</td>\n",
       "      <td>Tulsa, OK MSA</td>\n",
       "      <td>surf</td>\n",
       "      <td>12.0</td>\n",
       "      <td>0.0</td>\n",
       "      <td>604.0</td>\n",
       "      <td>20</td>\n",
       "      <td>120.0</td>\n",
       "      <td>0.00</td>\n",
       "      <td>18.12</td>\n",
       "      <td>138.12</td>\n",
       "      <td>158.12</td>\n",
       "    </tr>\n",
       "  </tbody>\n",
       "</table>\n",
       "</div>"
      ],
      "text/plain": [
       "   index  user_id year_month  minutes_used  gb_used  messages_used  \\\n",
       "3    3.0     1001     201810         393.0     22.0           53.0   \n",
       "4    4.0     1001     201811         426.0     19.0           36.0   \n",
       "5    5.0     1001     201812         412.0     19.0           44.0   \n",
       "7    7.0     1002     201811         386.0     19.0           32.0   \n",
       "9    9.0     1003     201812        1104.0     27.0           50.0   \n",
       "\n",
       "                                   city plan_name  gb_exceed  messages_exceed  \\\n",
       "3       Seattle-Tacoma-Bellevue, WA MSA      surf        7.0              3.0   \n",
       "4       Seattle-Tacoma-Bellevue, WA MSA      surf        4.0              0.0   \n",
       "5       Seattle-Tacoma-Bellevue, WA MSA      surf        4.0              0.0   \n",
       "7  Las Vegas-Henderson-Paradise, NV MSA      surf        4.0              0.0   \n",
       "9                         Tulsa, OK MSA      surf       12.0              0.0   \n",
       "\n",
       "   minutes_exceed  usd_monthly_pay  internet_expay  message_expay  call_expay  \\\n",
       "3             0.0               20            70.0           0.09        0.00   \n",
       "4             0.0               20            40.0           0.00        0.00   \n",
       "5             0.0               20            40.0           0.00        0.00   \n",
       "7             0.0               20            40.0           0.00        0.00   \n",
       "9           604.0               20           120.0           0.00       18.12   \n",
       "\n",
       "   total_expay  total_pay  \n",
       "3        70.09      90.09  \n",
       "4        40.00      60.00  \n",
       "5        40.00      60.00  \n",
       "7        40.00      60.00  \n",
       "9       138.12     158.12  "
      ]
     },
     "execution_count": 465,
     "metadata": {},
     "output_type": "execute_result"
    }
   ],
   "source": [
    "df_comb.loc[df_comb['total_expay']>0].head(5)"
   ]
  },
  {
   "cell_type": "code",
   "execution_count": 466,
   "metadata": {
    "scrolled": true
   },
   "outputs": [
    {
     "data": {
      "text/html": [
       "<div>\n",
       "<style scoped>\n",
       "    .dataframe tbody tr th:only-of-type {\n",
       "        vertical-align: middle;\n",
       "    }\n",
       "\n",
       "    .dataframe tbody tr th {\n",
       "        vertical-align: top;\n",
       "    }\n",
       "\n",
       "    .dataframe thead tr th {\n",
       "        text-align: left;\n",
       "    }\n",
       "\n",
       "    .dataframe thead tr:last-of-type th {\n",
       "        text-align: right;\n",
       "    }\n",
       "</style>\n",
       "<table border=\"1\" class=\"dataframe\">\n",
       "  <thead>\n",
       "    <tr>\n",
       "      <th></th>\n",
       "      <th colspan=\"3\" halign=\"left\">count</th>\n",
       "      <th colspan=\"3\" halign=\"left\">mean</th>\n",
       "    </tr>\n",
       "    <tr>\n",
       "      <th></th>\n",
       "      <th>gb_exceed</th>\n",
       "      <th>messages_exceed</th>\n",
       "      <th>messages_exceed</th>\n",
       "      <th>gb_exceed</th>\n",
       "      <th>messages_exceed</th>\n",
       "      <th>messages_exceed</th>\n",
       "    </tr>\n",
       "    <tr>\n",
       "      <th>user_id</th>\n",
       "      <th></th>\n",
       "      <th></th>\n",
       "      <th></th>\n",
       "      <th></th>\n",
       "      <th></th>\n",
       "      <th></th>\n",
       "    </tr>\n",
       "  </thead>\n",
       "  <tbody>\n",
       "    <tr>\n",
       "      <th>1001</th>\n",
       "      <td>3</td>\n",
       "      <td>3</td>\n",
       "      <td>3</td>\n",
       "      <td>5.0</td>\n",
       "      <td>1.0</td>\n",
       "      <td>1.0</td>\n",
       "    </tr>\n",
       "    <tr>\n",
       "      <th>1002</th>\n",
       "      <td>1</td>\n",
       "      <td>1</td>\n",
       "      <td>1</td>\n",
       "      <td>4.0</td>\n",
       "      <td>0.0</td>\n",
       "      <td>0.0</td>\n",
       "    </tr>\n",
       "    <tr>\n",
       "      <th>1003</th>\n",
       "      <td>1</td>\n",
       "      <td>1</td>\n",
       "      <td>1</td>\n",
       "      <td>12.0</td>\n",
       "      <td>0.0</td>\n",
       "      <td>0.0</td>\n",
       "    </tr>\n",
       "    <tr>\n",
       "      <th>1004</th>\n",
       "      <td>6</td>\n",
       "      <td>6</td>\n",
       "      <td>6</td>\n",
       "      <td>7.5</td>\n",
       "      <td>0.0</td>\n",
       "      <td>0.0</td>\n",
       "    </tr>\n",
       "    <tr>\n",
       "      <th>1005</th>\n",
       "      <td>1</td>\n",
       "      <td>1</td>\n",
       "      <td>1</td>\n",
       "      <td>2.0</td>\n",
       "      <td>0.0</td>\n",
       "      <td>0.0</td>\n",
       "    </tr>\n",
       "  </tbody>\n",
       "</table>\n",
       "</div>"
      ],
      "text/plain": [
       "            count                                      mean                  \\\n",
       "        gb_exceed messages_exceed messages_exceed gb_exceed messages_exceed   \n",
       "user_id                                                                       \n",
       "1001            3               3               3       5.0             1.0   \n",
       "1002            1               1               1       4.0             0.0   \n",
       "1003            1               1               1      12.0             0.0   \n",
       "1004            6               6               6       7.5             0.0   \n",
       "1005            1               1               1       2.0             0.0   \n",
       "\n",
       "                         \n",
       "        messages_exceed  \n",
       "user_id                  \n",
       "1001                1.0  \n",
       "1002                0.0  \n",
       "1003                0.0  \n",
       "1004                0.0  \n",
       "1005                0.0  "
      ]
     },
     "execution_count": 466,
     "metadata": {},
     "output_type": "execute_result"
    }
   ],
   "source": [
    "df_exceed_surf= df_comb[(df_comb['plan_name']==\"surf\") & ((df_comb['gb_exceed']>0) | (df_comb['messages_exceed']>0) | (df_comb['minutes_exceed']>0))]\n",
    "df_exceed_surf.pivot_table(index='user_id',values=['gb_exceed','messages_exceed','messages_exceed'],aggfunc=['count','mean']).head(5)"
   ]
  },
  {
   "cell_type": "code",
   "execution_count": 467,
   "metadata": {
    "scrolled": true
   },
   "outputs": [
    {
     "data": {
      "text/html": [
       "<div>\n",
       "<style scoped>\n",
       "    .dataframe tbody tr th:only-of-type {\n",
       "        vertical-align: middle;\n",
       "    }\n",
       "\n",
       "    .dataframe tbody tr th {\n",
       "        vertical-align: top;\n",
       "    }\n",
       "\n",
       "    .dataframe thead tr th {\n",
       "        text-align: left;\n",
       "    }\n",
       "\n",
       "    .dataframe thead tr:last-of-type th {\n",
       "        text-align: right;\n",
       "    }\n",
       "</style>\n",
       "<table border=\"1\" class=\"dataframe\">\n",
       "  <thead>\n",
       "    <tr>\n",
       "      <th></th>\n",
       "      <th colspan=\"3\" halign=\"left\">count</th>\n",
       "      <th colspan=\"3\" halign=\"left\">mean</th>\n",
       "    </tr>\n",
       "    <tr>\n",
       "      <th></th>\n",
       "      <th>gb_exceed</th>\n",
       "      <th>messages_exceed</th>\n",
       "      <th>messages_exceed</th>\n",
       "      <th>gb_exceed</th>\n",
       "      <th>messages_exceed</th>\n",
       "      <th>messages_exceed</th>\n",
       "    </tr>\n",
       "    <tr>\n",
       "      <th>user_id</th>\n",
       "      <th></th>\n",
       "      <th></th>\n",
       "      <th></th>\n",
       "      <th></th>\n",
       "      <th></th>\n",
       "      <th></th>\n",
       "    </tr>\n",
       "  </thead>\n",
       "  <tbody>\n",
       "    <tr>\n",
       "      <th>1006</th>\n",
       "      <td>1</td>\n",
       "      <td>1</td>\n",
       "      <td>1</td>\n",
       "      <td>2.000000</td>\n",
       "      <td>0.0</td>\n",
       "      <td>0.0</td>\n",
       "    </tr>\n",
       "    <tr>\n",
       "      <th>1028</th>\n",
       "      <td>9</td>\n",
       "      <td>9</td>\n",
       "      <td>9</td>\n",
       "      <td>8.555556</td>\n",
       "      <td>0.0</td>\n",
       "      <td>0.0</td>\n",
       "    </tr>\n",
       "    <tr>\n",
       "      <th>1038</th>\n",
       "      <td>2</td>\n",
       "      <td>2</td>\n",
       "      <td>2</td>\n",
       "      <td>11.000000</td>\n",
       "      <td>0.0</td>\n",
       "      <td>0.0</td>\n",
       "    </tr>\n",
       "    <tr>\n",
       "      <th>1043</th>\n",
       "      <td>4</td>\n",
       "      <td>4</td>\n",
       "      <td>4</td>\n",
       "      <td>3.500000</td>\n",
       "      <td>0.0</td>\n",
       "      <td>0.0</td>\n",
       "    </tr>\n",
       "    <tr>\n",
       "      <th>1057</th>\n",
       "      <td>1</td>\n",
       "      <td>1</td>\n",
       "      <td>1</td>\n",
       "      <td>5.000000</td>\n",
       "      <td>0.0</td>\n",
       "      <td>0.0</td>\n",
       "    </tr>\n",
       "  </tbody>\n",
       "</table>\n",
       "</div>"
      ],
      "text/plain": [
       "            count                                       mean                  \\\n",
       "        gb_exceed messages_exceed messages_exceed  gb_exceed messages_exceed   \n",
       "user_id                                                                        \n",
       "1006            1               1               1   2.000000             0.0   \n",
       "1028            9               9               9   8.555556             0.0   \n",
       "1038            2               2               2  11.000000             0.0   \n",
       "1043            4               4               4   3.500000             0.0   \n",
       "1057            1               1               1   5.000000             0.0   \n",
       "\n",
       "                         \n",
       "        messages_exceed  \n",
       "user_id                  \n",
       "1006                0.0  \n",
       "1028                0.0  \n",
       "1038                0.0  \n",
       "1043                0.0  \n",
       "1057                0.0  "
      ]
     },
     "execution_count": 467,
     "metadata": {},
     "output_type": "execute_result"
    }
   ],
   "source": [
    "df_exceed_ult= df_comb[(df_comb['plan_name']==\"ultimate\") & ((df_comb['gb_exceed']>0) | (df_comb['messages_exceed']>0) | (df_comb['minutes_exceed']>0))]\n",
    "df_exceed_ult.pivot_table(index='user_id',values=['gb_exceed','messages_exceed','messages_exceed'],aggfunc=['count','mean']).head(5)"
   ]
  },
  {
   "cell_type": "code",
   "execution_count": 468,
   "metadata": {},
   "outputs": [
    {
     "name": "stdout",
     "output_type": "stream",
     "text": [
      "Paket Surf\n",
      "Rata-rata kelebihan penggunaan internet adalah  6.0 gb\n",
      "Rata-rata kelebihan penggunaan pesan adalah  10.0 SMS\n",
      "Rata-rata kelebihan penggunaan telepon adalah  85.0 menit\n",
      "Paket Ultimate\n",
      "Rata-rata kelebihan penggunaan internet adalah  6.0 gb\n",
      "Rata-rata kelebihan penggunaan pesan adalah  0.0 SMS\n",
      "Rata-rata kelebihan penggunaan telepon adalah  0.0 menit\n"
     ]
    }
   ],
   "source": [
    "print(\"Paket Surf\")\n",
    "print(\"Rata-rata kelebihan penggunaan internet adalah \", np.ceil(df_exceed_surf['gb_exceed'].mean()),\"gb\")\n",
    "print(\"Rata-rata kelebihan penggunaan pesan adalah \", np.ceil(df_exceed_surf['messages_exceed'].mean()),\"SMS\")\n",
    "print(\"Rata-rata kelebihan penggunaan telepon adalah \", np.ceil(df_exceed_surf['minutes_exceed'].mean()),\"menit\")\n",
    "\n",
    "print(\"Paket Ultimate\")\n",
    "print(\"Rata-rata kelebihan penggunaan internet adalah \", np.ceil(df_exceed_ult['gb_exceed'].mean()),\"gb\")\n",
    "print(\"Rata-rata kelebihan penggunaan pesan adalah \", np.ceil(df_exceed_ult['messages_exceed'].mean()),\"SMS\")\n",
    "print(\"Rata-rata kelebihan penggunaan telepon adalah \", np.ceil(df_exceed_ult['minutes_exceed'].mean()),\"menit\")"
   ]
  },
  {
   "cell_type": "markdown",
   "metadata": {},
   "source": [
    "Dari analisa singkat di atas, secara rata-rata setiap paket mengalami kelebihan penggunaan internet sebesar 6 gb!, ini rata-rata loh!. Apakah paket yang kita sediakan kurang bagi mereka? Untuk menjawab itu kita perlu menghilangkan Outliers, siapa tau ada sebagian kecil orang yang sangat kaya dan boros yang menjadi bias bagi data kita."
   ]
  },
  {
   "cell_type": "markdown",
   "metadata": {},
   "source": [
    "<div class=\"alert alert-success\">\n",
    "<b>Chamdani's comment v.1</b> <a class=\"tocSkip\"></a>\n",
    "\n",
    "Bagus, semua berjalan lancar.\n",
    "\n",
    "</div>"
   ]
  },
  {
   "cell_type": "markdown",
   "metadata": {},
   "source": [
    "## Mengatasi Outlier"
   ]
  },
  {
   "cell_type": "markdown",
   "metadata": {},
   "source": [
    "Sebelum kita melakukan analisa lebih lanjut, perlu dilakukan analisa outlier dan membersihkannya. Karena target pasar kita adalah pelanggan secara general, kita tidak ingin pelanggan yang sangat kaya dan boros menjadi bias untuk pelanggan yang lain. Kita cek dengan menggunakan boxplot."
   ]
  },
  {
   "cell_type": "code",
   "execution_count": 469,
   "metadata": {},
   "outputs": [
    {
     "data": {
      "text/plain": [
       "<AxesSubplot:title={'center':'jumlah SMS'}>"
      ]
     },
     "execution_count": 469,
     "metadata": {},
     "output_type": "execute_result"
    },
    {
     "data": {
      "image/png": "[encoded data removed]",
      "text/plain": [
       "<Figure size 864x288 with 3 Axes>"
      ]
     },
     "metadata": {
      "needs_background": "light"
     },
     "output_type": "display_data"
    }
   ],
   "source": [
    "plt.figure(0,figsize=(12,4))\n",
    "plt.subplot(1,3,1)\n",
    "plt.title('durasi telepon')\n",
    "df_comb['minutes_used'].plot(kind='box')\n",
    "\n",
    "plt.subplot(1,3,2)\n",
    "plt.title('gb internet')\n",
    "df_comb['gb_used'].plot(kind='box')\n",
    "\n",
    "plt.subplot(1,3,3)\n",
    "plt.title('jumlah SMS')\n",
    "df_comb['messages_used'].plot(kind='box')"
   ]
  },
  {
   "cell_type": "markdown",
   "metadata": {},
   "source": [
    "Dari grafik boxplot di atas, terlihat bahwa terdapat outlier pada data pemakaian internet, telepon, dan SMS. Dugaan kita sepertinya benar, ada 2 orang yang penggunana internetnya melebihi 60 GB! Fantastis sekali.\n",
    "\n",
    "Outlier ini perlu dihapus karena kita ingin mengetahui perilaku pelanggan secara umum."
   ]
  },
  {
   "cell_type": "markdown",
   "metadata": {},
   "source": [
    "<div class=\"alert alert-success\">\n",
    "<b>Chamdani's comment v.1</b> <a class=\"tocSkip\"></a>\n",
    "\n",
    "Bagus, semua berjalan lancar.\n",
    "\n",
    "</div>"
   ]
  },
  {
   "cell_type": "code",
   "execution_count": 470,
   "metadata": {},
   "outputs": [],
   "source": [
    "def outlier(data,col):\n",
    "    data = data[col]\n",
    "    q3 = data.quantile(0.75)\n",
    "    q1 = data.quantile(0.25)\n",
    "    iqr = q3-q1\n",
    "    print(iqr)\n",
    "    lower = q1 - 1.5*iqr\n",
    "    if lower < 0: lower = 0\n",
    "    upper  = q3 + 1.5*iqr\n",
    "    return lower,upper"
   ]
  },
  {
   "cell_type": "markdown",
   "metadata": {},
   "source": [
    "Selanjutnya yaitu menghitung batas outlier"
   ]
  },
  {
   "cell_type": "code",
   "execution_count": 471,
   "metadata": {},
   "outputs": [
    {
     "name": "stdout",
     "output_type": "stream",
     "text": [
      "308.25\n",
      "9.0\n",
      "48.0\n",
      "(0, 1034.375) (0, 34.5) (0, 123.0)\n"
     ]
    }
   ],
   "source": [
    "df_comb\n",
    "# Calls\n",
    "min_call, max_call = outlier(df_comb,'minutes_used')\n",
    "# Internets\n",
    "min_gb, max_gb = outlier(df_comb,'gb_used')\n",
    "# Messages\n",
    "min_msg, max_msg = outlier(df_comb,'messages_used')\n",
    "\n",
    "print((min_call,max_call),(min_gb,max_gb),(min_msg,max_msg))"
   ]
  },
  {
   "cell_type": "markdown",
   "metadata": {},
   "source": [
    "Selanjutnya yaitu membuat query untuk memfilter data outlier"
   ]
  },
  {
   "cell_type": "code",
   "execution_count": 472,
   "metadata": {},
   "outputs": [],
   "source": [
    "# Calls\n",
    "df_final = df_comb.query('@min_call <= minutes_used <= @max_call')\n",
    "df_final = df_final.query('@min_gb <= gb_used <= @max_gb')\n",
    "df_final = df_final.query('@min_msg <= messages_used <= @max_msg')"
   ]
  },
  {
   "cell_type": "markdown",
   "metadata": {},
   "source": [
    "Selanjutnya yaitu melihat kembali boxplot setelah outlier dihilangkan"
   ]
  },
  {
   "cell_type": "code",
   "execution_count": 473,
   "metadata": {},
   "outputs": [
    {
     "data": {
      "text/plain": [
       "<AxesSubplot:title={'center':'jumlah SMS'}>"
      ]
     },
     "execution_count": 473,
     "metadata": {},
     "output_type": "execute_result"
    },
    {
     "data": {
      "image/png": "[encoded data removed]",
      "text/plain": [
       "<Figure size 864x288 with 3 Axes>"
      ]
     },
     "metadata": {
      "needs_background": "light"
     },
     "output_type": "display_data"
    }
   ],
   "source": [
    "plt.figure(1,figsize=(12,4))\n",
    "plt.subplot(1,3,1)\n",
    "plt.title('durasi telepon')\n",
    "df_final['minutes_used'].plot(kind='box')\n",
    "\n",
    "plt.subplot(1,3,2)\n",
    "plt.title('gb internet')\n",
    "df_final['gb_used'].plot(kind='box')\n",
    "\n",
    "plt.subplot(1,3,3)\n",
    "plt.title('jumlah SMS')\n",
    "df_final['messages_used'].plot(kind='box')"
   ]
  },
  {
   "cell_type": "markdown",
   "metadata": {},
   "source": [
    "Sebagian besar outlier berhasil teratasi, namun dari grafik diatas dapat dilihat masih terdapat outlier. Hal tersebut bukanlah data outlier sebelumnya, tapi outlier baru yang terbentuk dari data baru. Outlier ini dapat kita toleransi karena nilainya tidak terlalu ekstrim yang ditandai dengan jaraknya yang tidak terlalu jauh dengan batas atas outliers."
   ]
  },
  {
   "cell_type": "markdown",
   "metadata": {},
   "source": [
    "<div class=\"alert alert-success\">\n",
    "<b>Chamdani's comment v.1</b> <a class=\"tocSkip\"></a>\n",
    "\n",
    "Bagus, semua berjalan lancar.\n",
    "\n",
    "</div>"
   ]
  },
  {
   "cell_type": "markdown",
   "metadata": {},
   "source": [
    "## Analisis Data"
   ]
  },
  {
   "cell_type": "markdown",
   "metadata": {},
   "source": [
    "### Pendapatan dari masing-masing paket"
   ]
  },
  {
   "cell_type": "markdown",
   "metadata": {},
   "source": [
    "Kita akan melihat distribusi pendapatan dari masing-masing paket pada tahun 2018. Biaya ini terdiri dari biaya paket bulanan dan biaya tambahan jika penggunaan layanan yang melebihi kuota.\n",
    "\n",
    "Data yang digunakan ialah, data dengan outlier. Disini kita memerlukan data aktual, bukan data yang telah di \"generalisir\". Data tanpa outlier dapat kita gunakan untuk menganalisa perilaku konsumen pada langkah berikutnya."
   ]
  },
  {
   "cell_type": "code",
   "execution_count": 474,
   "metadata": {},
   "outputs": [
    {
     "data": {
      "text/plain": [
       "<AxesSubplot:xlabel='total_pay', ylabel='plan_name'>"
      ]
     },
     "execution_count": 474,
     "metadata": {},
     "output_type": "execute_result"
    },
    {
     "data": {
      "image/png": "[encoded data removed]",
      "text/plain": [
       "<Figure size 432x288 with 1 Axes>"
      ]
     },
     "metadata": {
      "needs_background": "light"
     },
     "output_type": "display_data"
    }
   ],
   "source": [
    "sb.violinplot(data=df_comb,x='total_pay',y='plan_name')"
   ]
  },
  {
   "cell_type": "markdown",
   "metadata": {},
   "source": [
    "Dari violin plot di atas dapat dilihat bahwa pengguna paket surf memiliki pengguna dengan biaya total jauh di atas biaya total pengguna paket ultimate. Sekarang mari kita lihat histogramnya."
   ]
  },
  {
   "cell_type": "code",
   "execution_count": 475,
   "metadata": {},
   "outputs": [
    {
     "data": {
      "image/png": "[encoded data removed]",
      "text/plain": [
       "<Figure size 432x288 with 1 Axes>"
      ]
     },
     "metadata": {
      "needs_background": "light"
     },
     "output_type": "display_data"
    },
    {
     "data": {
      "image/png": "[encoded data removed]",
      "text/plain": [
       "<Figure size 432x288 with 1 Axes>"
      ]
     },
     "metadata": {
      "needs_background": "light"
     },
     "output_type": "display_data"
    }
   ],
   "source": [
    "plt.figure(1)\n",
    "df_comb.loc[df_comb['plan_name']=='surf','total_pay'].plot(kind='hist',title='Paket Surf',bins=35)\n",
    "plt.grid()\n",
    "\n",
    "plt.figure(2)\n",
    "df_comb.loc[df_comb['plan_name']=='ultimate','total_pay'].plot(kind='hist',title='Paket Ultimate',bins=35)\n",
    "plt.grid()"
   ]
  },
  {
   "cell_type": "markdown",
   "metadata": {},
   "source": [
    "Dari histogram di atas dapat dilihat bahwa total biaya yang dikeluarkan pengguna paket surf sebagian besar terdistribusi pada kisaran 0 hingga 200 USD dengan maksimal di kisaran 600 USD, sedangkan pengguna paket surf terdistribusi pada 0 hingga 80 USD dengan maksimal di kisaran 180 USD.\\\n",
    "\n",
    "Mari kita lihat sebagian besar biaya tersebut disumbang oleh layanan apa?\n",
    "\n",
    "Kita mulai dari paket surf dulu ya!"
   ]
  },
  {
   "cell_type": "markdown",
   "metadata": {},
   "source": [
    "<div class=\"alert alert-success\">\n",
    "<b>Chamdani's comment v.1</b> <a class=\"tocSkip\"></a>\n",
    "\n",
    "Bagus, semua berjalan lancar.\n",
    "\n",
    "</div>"
   ]
  },
  {
   "cell_type": "code",
   "execution_count": 476,
   "metadata": {},
   "outputs": [],
   "source": [
    "df_expay_surf_internet = df_comb.loc[(df_comb['plan_name']=='surf') & (df_comb['internet_expay']>0),:]\n",
    "df_expay_surf_call =  df_comb.loc[(df_comb['plan_name']=='surf') & (df_comb['call_expay']>0),:]\n",
    "df_expay_surf_msg = df_comb.loc[(df_comb['plan_name']=='surf') & (df_comb['message_expay']>0),:]\n",
    "\n",
    "df_expay_surf_internet = df_expay_surf_internet.pivot_table(index='user_id',values=['internet_expay'],aggfunc=['count','sum'])\n",
    "df_expay_surf_call = df_expay_surf_call.pivot_table(index='user_id',values=['call_expay'],aggfunc=['count','sum'])\n",
    "df_expay_surf_msg = df_expay_surf_msg.pivot_table(index='user_id',values=['message_expay'],aggfunc=['count','sum'])"
   ]
  },
  {
   "cell_type": "code",
   "execution_count": 477,
   "metadata": {},
   "outputs": [
    {
     "data": {
      "text/html": [
       "<div>\n",
       "<style scoped>\n",
       "    .dataframe tbody tr th:only-of-type {\n",
       "        vertical-align: middle;\n",
       "    }\n",
       "\n",
       "    .dataframe tbody tr th {\n",
       "        vertical-align: top;\n",
       "    }\n",
       "\n",
       "    .dataframe thead tr th {\n",
       "        text-align: left;\n",
       "    }\n",
       "\n",
       "    .dataframe thead tr:last-of-type th {\n",
       "        text-align: right;\n",
       "    }\n",
       "</style>\n",
       "<table border=\"1\" class=\"dataframe\">\n",
       "  <thead>\n",
       "    <tr>\n",
       "      <th></th>\n",
       "      <th>count</th>\n",
       "      <th>sum</th>\n",
       "    </tr>\n",
       "    <tr>\n",
       "      <th></th>\n",
       "      <th>internet_expay</th>\n",
       "      <th>internet_expay</th>\n",
       "    </tr>\n",
       "    <tr>\n",
       "      <th>user_id</th>\n",
       "      <th></th>\n",
       "      <th></th>\n",
       "    </tr>\n",
       "  </thead>\n",
       "  <tbody>\n",
       "    <tr>\n",
       "      <th>1268</th>\n",
       "      <td>10</td>\n",
       "      <td>1620.0</td>\n",
       "    </tr>\n",
       "    <tr>\n",
       "      <th>1292</th>\n",
       "      <td>6</td>\n",
       "      <td>1460.0</td>\n",
       "    </tr>\n",
       "    <tr>\n",
       "      <th>1240</th>\n",
       "      <td>6</td>\n",
       "      <td>1400.0</td>\n",
       "    </tr>\n",
       "    <tr>\n",
       "      <th>1359</th>\n",
       "      <td>11</td>\n",
       "      <td>1380.0</td>\n",
       "    </tr>\n",
       "    <tr>\n",
       "      <th>1147</th>\n",
       "      <td>8</td>\n",
       "      <td>1370.0</td>\n",
       "    </tr>\n",
       "    <tr>\n",
       "      <th>...</th>\n",
       "      <td>...</td>\n",
       "      <td>...</td>\n",
       "    </tr>\n",
       "    <tr>\n",
       "      <th>1398</th>\n",
       "      <td>1</td>\n",
       "      <td>10.0</td>\n",
       "    </tr>\n",
       "    <tr>\n",
       "      <th>1035</th>\n",
       "      <td>1</td>\n",
       "      <td>10.0</td>\n",
       "    </tr>\n",
       "    <tr>\n",
       "      <th>1167</th>\n",
       "      <td>1</td>\n",
       "      <td>10.0</td>\n",
       "    </tr>\n",
       "    <tr>\n",
       "      <th>1070</th>\n",
       "      <td>1</td>\n",
       "      <td>10.0</td>\n",
       "    </tr>\n",
       "    <tr>\n",
       "      <th>1262</th>\n",
       "      <td>1</td>\n",
       "      <td>10.0</td>\n",
       "    </tr>\n",
       "  </tbody>\n",
       "</table>\n",
       "<p>261 rows × 2 columns</p>\n",
       "</div>"
      ],
      "text/plain": [
       "                 count            sum\n",
       "        internet_expay internet_expay\n",
       "user_id                              \n",
       "1268                10         1620.0\n",
       "1292                 6         1460.0\n",
       "1240                 6         1400.0\n",
       "1359                11         1380.0\n",
       "1147                 8         1370.0\n",
       "...                ...            ...\n",
       "1398                 1           10.0\n",
       "1035                 1           10.0\n",
       "1167                 1           10.0\n",
       "1070                 1           10.0\n",
       "1262                 1           10.0\n",
       "\n",
       "[261 rows x 2 columns]"
      ]
     },
     "execution_count": 477,
     "metadata": {},
     "output_type": "execute_result"
    }
   ],
   "source": [
    "df_expay_surf_internet.sort_values(by=('sum','internet_expay'),ascending=False)"
   ]
  },
  {
   "cell_type": "code",
   "execution_count": 478,
   "metadata": {},
   "outputs": [
    {
     "data": {
      "text/plain": [
       "59730.0"
      ]
     },
     "execution_count": 478,
     "metadata": {},
     "output_type": "execute_result"
    }
   ],
   "source": [
    "df_expay_surf_internet[(  'sum', 'internet_expay')].sum()"
   ]
  },
  {
   "cell_type": "markdown",
   "metadata": {},
   "source": [
    "Kita bisa lihat urutan teratas dengan penggunaan internet paling boros diduduki oleh user 1268, ia membayar biaya tambahan untuk internet sebesar 1620 USD per dalam satu tahun!. Total biaya internet tambahan yang diperoleh dari paket surf sebesar 59.730 USD yang disumbang oleh 261 pengguna."
   ]
  },
  {
   "cell_type": "code",
   "execution_count": 479,
   "metadata": {},
   "outputs": [
    {
     "data": {
      "text/html": [
       "<div>\n",
       "<style scoped>\n",
       "    .dataframe tbody tr th:only-of-type {\n",
       "        vertical-align: middle;\n",
       "    }\n",
       "\n",
       "    .dataframe tbody tr th {\n",
       "        vertical-align: top;\n",
       "    }\n",
       "\n",
       "    .dataframe thead tr th {\n",
       "        text-align: left;\n",
       "    }\n",
       "\n",
       "    .dataframe thead tr:last-of-type th {\n",
       "        text-align: right;\n",
       "    }\n",
       "</style>\n",
       "<table border=\"1\" class=\"dataframe\">\n",
       "  <thead>\n",
       "    <tr>\n",
       "      <th></th>\n",
       "      <th>count</th>\n",
       "      <th>sum</th>\n",
       "    </tr>\n",
       "    <tr>\n",
       "      <th></th>\n",
       "      <th>call_expay</th>\n",
       "      <th>call_expay</th>\n",
       "    </tr>\n",
       "    <tr>\n",
       "      <th>user_id</th>\n",
       "      <th></th>\n",
       "      <th></th>\n",
       "    </tr>\n",
       "  </thead>\n",
       "  <tbody>\n",
       "    <tr>\n",
       "      <th>1324</th>\n",
       "      <td>9</td>\n",
       "      <td>149.85</td>\n",
       "    </tr>\n",
       "    <tr>\n",
       "      <th>1365</th>\n",
       "      <td>6</td>\n",
       "      <td>119.94</td>\n",
       "    </tr>\n",
       "    <tr>\n",
       "      <th>1240</th>\n",
       "      <td>6</td>\n",
       "      <td>114.45</td>\n",
       "    </tr>\n",
       "    <tr>\n",
       "      <th>1334</th>\n",
       "      <td>9</td>\n",
       "      <td>104.58</td>\n",
       "    </tr>\n",
       "    <tr>\n",
       "      <th>1320</th>\n",
       "      <td>8</td>\n",
       "      <td>96.24</td>\n",
       "    </tr>\n",
       "    <tr>\n",
       "      <th>...</th>\n",
       "      <td>...</td>\n",
       "      <td>...</td>\n",
       "    </tr>\n",
       "    <tr>\n",
       "      <th>1361</th>\n",
       "      <td>1</td>\n",
       "      <td>0.15</td>\n",
       "    </tr>\n",
       "    <tr>\n",
       "      <th>1208</th>\n",
       "      <td>1</td>\n",
       "      <td>0.15</td>\n",
       "    </tr>\n",
       "    <tr>\n",
       "      <th>1122</th>\n",
       "      <td>2</td>\n",
       "      <td>0.12</td>\n",
       "    </tr>\n",
       "    <tr>\n",
       "      <th>1260</th>\n",
       "      <td>1</td>\n",
       "      <td>0.12</td>\n",
       "    </tr>\n",
       "    <tr>\n",
       "      <th>1117</th>\n",
       "      <td>1</td>\n",
       "      <td>0.09</td>\n",
       "    </tr>\n",
       "  </tbody>\n",
       "</table>\n",
       "<p>178 rows × 2 columns</p>\n",
       "</div>"
      ],
      "text/plain": [
       "             count        sum\n",
       "        call_expay call_expay\n",
       "user_id                      \n",
       "1324             9     149.85\n",
       "1365             6     119.94\n",
       "1240             6     114.45\n",
       "1334             9     104.58\n",
       "1320             8      96.24\n",
       "...            ...        ...\n",
       "1361             1       0.15\n",
       "1208             1       0.15\n",
       "1122             2       0.12\n",
       "1260             1       0.12\n",
       "1117             1       0.09\n",
       "\n",
       "[178 rows x 2 columns]"
      ]
     },
     "execution_count": 479,
     "metadata": {},
     "output_type": "execute_result"
    }
   ],
   "source": [
    "df_expay_surf_call.sort_values(by=('sum','call_expay'),ascending=False)"
   ]
  },
  {
   "cell_type": "code",
   "execution_count": 480,
   "metadata": {},
   "outputs": [
    {
     "data": {
      "text/plain": [
       "2870.4599999999996"
      ]
     },
     "execution_count": 480,
     "metadata": {},
     "output_type": "execute_result"
    }
   ],
   "source": [
    "df_expay_surf_call[(  'sum', 'call_expay')].sum()"
   ]
  },
  {
   "cell_type": "markdown",
   "metadata": {},
   "source": [
    "Kita bisa lihat urutan teratas dengan penggunaan telepon paling boros diduduki oleh user 1324, ia membayar biaya tambahan untuk telepon sebesar 149.85 USD per dalam satu tahun!. Total biaya telepon tambahan yang diperoleh dari paket surf sebesar 2870.5 USD yang disumbang oleh 178 pengguna."
   ]
  },
  {
   "cell_type": "markdown",
   "metadata": {},
   "source": [
    "<div class=\"alert alert-success\">\n",
    "<b>Chamdani's comment v.1</b> <a class=\"tocSkip\"></a>\n",
    "\n",
    "Bagus, semua berjalan lancar.\n",
    "\n",
    "</div>"
   ]
  },
  {
   "cell_type": "code",
   "execution_count": 481,
   "metadata": {},
   "outputs": [
    {
     "data": {
      "text/html": [
       "<div>\n",
       "<style scoped>\n",
       "    .dataframe tbody tr th:only-of-type {\n",
       "        vertical-align: middle;\n",
       "    }\n",
       "\n",
       "    .dataframe tbody tr th {\n",
       "        vertical-align: top;\n",
       "    }\n",
       "\n",
       "    .dataframe thead tr th {\n",
       "        text-align: left;\n",
       "    }\n",
       "\n",
       "    .dataframe thead tr:last-of-type th {\n",
       "        text-align: right;\n",
       "    }\n",
       "</style>\n",
       "<table border=\"1\" class=\"dataframe\">\n",
       "  <thead>\n",
       "    <tr>\n",
       "      <th></th>\n",
       "      <th>count</th>\n",
       "      <th>sum</th>\n",
       "    </tr>\n",
       "    <tr>\n",
       "      <th></th>\n",
       "      <th>message_expay</th>\n",
       "      <th>message_expay</th>\n",
       "    </tr>\n",
       "    <tr>\n",
       "      <th>user_id</th>\n",
       "      <th></th>\n",
       "      <th></th>\n",
       "    </tr>\n",
       "  </thead>\n",
       "  <tbody>\n",
       "    <tr>\n",
       "      <th>1328</th>\n",
       "      <td>8</td>\n",
       "      <td>24.36</td>\n",
       "    </tr>\n",
       "    <tr>\n",
       "      <th>1324</th>\n",
       "      <td>9</td>\n",
       "      <td>21.75</td>\n",
       "    </tr>\n",
       "    <tr>\n",
       "      <th>1470</th>\n",
       "      <td>8</td>\n",
       "      <td>19.68</td>\n",
       "    </tr>\n",
       "    <tr>\n",
       "      <th>1076</th>\n",
       "      <td>5</td>\n",
       "      <td>14.43</td>\n",
       "    </tr>\n",
       "    <tr>\n",
       "      <th>1381</th>\n",
       "      <td>4</td>\n",
       "      <td>12.72</td>\n",
       "    </tr>\n",
       "    <tr>\n",
       "      <th>...</th>\n",
       "      <td>...</td>\n",
       "      <td>...</td>\n",
       "    </tr>\n",
       "    <tr>\n",
       "      <th>1001</th>\n",
       "      <td>1</td>\n",
       "      <td>0.09</td>\n",
       "    </tr>\n",
       "    <tr>\n",
       "      <th>1189</th>\n",
       "      <td>1</td>\n",
       "      <td>0.06</td>\n",
       "    </tr>\n",
       "    <tr>\n",
       "      <th>1357</th>\n",
       "      <td>1</td>\n",
       "      <td>0.03</td>\n",
       "    </tr>\n",
       "    <tr>\n",
       "      <th>1480</th>\n",
       "      <td>1</td>\n",
       "      <td>0.03</td>\n",
       "    </tr>\n",
       "    <tr>\n",
       "      <th>1046</th>\n",
       "      <td>1</td>\n",
       "      <td>0.03</td>\n",
       "    </tr>\n",
       "  </tbody>\n",
       "</table>\n",
       "<p>112 rows × 2 columns</p>\n",
       "</div>"
      ],
      "text/plain": [
       "                count           sum\n",
       "        message_expay message_expay\n",
       "user_id                            \n",
       "1328                8         24.36\n",
       "1324                9         21.75\n",
       "1470                8         19.68\n",
       "1076                5         14.43\n",
       "1381                4         12.72\n",
       "...               ...           ...\n",
       "1001                1          0.09\n",
       "1189                1          0.06\n",
       "1357                1          0.03\n",
       "1480                1          0.03\n",
       "1046                1          0.03\n",
       "\n",
       "[112 rows x 2 columns]"
      ]
     },
     "execution_count": 481,
     "metadata": {},
     "output_type": "execute_result"
    }
   ],
   "source": [
    "df_expay_surf_msg.sort_values(by=('sum','message_expay'),ascending=False)"
   ]
  },
  {
   "cell_type": "code",
   "execution_count": 482,
   "metadata": {},
   "outputs": [
    {
     "data": {
      "text/plain": [
       "327.21"
      ]
     },
     "execution_count": 482,
     "metadata": {},
     "output_type": "execute_result"
    }
   ],
   "source": [
    "df_expay_surf_msg[(  'sum', 'message_expay')].sum()"
   ]
  },
  {
   "cell_type": "markdown",
   "metadata": {},
   "source": [
    "Kita bisa lihat urutan teratas dengan penggunaan SMS paling boros diduduki oleh user 1328, ia membayar biaya tambahan untuk telepon sebesar 24.36 USD per dalam satu tahun!, tapi user 1324 muncul lagi sebagai user terboros di posisi kedua!. Total biaya telepon tambahan yang diperoleh dari paket surf sebesar 327.21 USD yang disumbangkan oleh 112 pengguna."
   ]
  },
  {
   "cell_type": "code",
   "execution_count": 483,
   "metadata": {},
   "outputs": [
    {
     "name": "stdout",
     "output_type": "stream",
     "text": [
      "95.04956135794731\n",
      "62927.67\n",
      "93887.67\n",
      "67.02442397388283\n",
      "60.6509496124031\n"
     ]
    }
   ],
   "source": [
    "total_biaya_tambahan_surf = (df_expay_surf_internet[(  'sum', 'internet_expay')].sum() + df_expay_surf_call[(  'sum', 'call_expay')].sum() + df_expay_surf_msg[(  'sum', 'message_expay')].sum())\n",
    "Persentase_exceed_surf = df_expay_surf_internet[(  'sum', 'internet_expay')].sum()/total_biaya_tambahan_surf\n",
    "\n",
    "print(Persentasi_exceed_surf*100)\n",
    "print(total_biaya_tambahan_surf)\n",
    "print(df_comb.loc[df_comb['plan_name']=='surf','total_pay'].sum())\n",
    "print(total_biaya_tambahan_surf/df_comb.loc[df_comb['plan_name']=='surf','total_pay'].sum()*100)\n",
    "print(df_comb.loc[df_comb['plan_name']=='surf','total_pay'].mean())"
   ]
  },
  {
   "cell_type": "markdown",
   "metadata": {},
   "source": [
    "Kita bisa lihat sebagian besar pendapatan tambahan diperoleh dari penggunaan internet yaitu sebesar 61396 USD dengan 279 pengguna. Berarti layanan internet menyumbang 95% dari total biaya tambahan paket surf sebesar 62.927 USD!. Sedangkan total pendapatan dari paket Surf adalah 93.887 USD yang artinya biaya tambahan menyumbang 67% dari pendapatan paket surf!. Keuntungan besar ini bisa saja sirna dengan sekejap apabila mereka sadar ada paket yang lebih murah dari provider lain :). Rata-rata pendapatan paket surf adalah 60.65 USD per user per bulan!.\n",
    "\n",
    "Mari kita analisa untuk paket Ultimate"
   ]
  },
  {
   "cell_type": "markdown",
   "metadata": {},
   "source": [
    "<div class=\"alert alert-success\">\n",
    "<b>Chamdani's comment v.1</b> <a class=\"tocSkip\"></a>\n",
    "\n",
    "Bagus, semua berjalan lancar.\n",
    "\n",
    "</div>"
   ]
  },
  {
   "cell_type": "code",
   "execution_count": 484,
   "metadata": {},
   "outputs": [],
   "source": [
    "df_expay_ult_internet = df_comb.loc[(df_comb['plan_name']=='ultimate') & (df_comb['internet_expay']>0),:]\n",
    "df_expay_ult_call =  df_comb.loc[(df_comb['plan_name']=='ultimate') & (df_comb['call_expay']>0),:]\n",
    "df_expay_ult_msg = df_comb.loc[(df_comb['plan_name']=='ultimate') & (df_comb['message_expay']>0),:]\n",
    "\n",
    "df_expay_ult_internet = df_expay_ult_internet.pivot_table(index='user_id',values=['internet_expay'],aggfunc=['count','sum'])\n",
    "df_expay_ult_call = df_expay_ult_call.pivot_table(index='user_id',values=['call_expay'],aggfunc=['count','sum'])\n",
    "df_expay_ult_msg = df_expay_ult_msg.pivot_table(index='user_id',values=['message_expay'],aggfunc=['count','sum'])"
   ]
  },
  {
   "cell_type": "code",
   "execution_count": 485,
   "metadata": {},
   "outputs": [
    {
     "data": {
      "text/html": [
       "<div>\n",
       "<style scoped>\n",
       "    .dataframe tbody tr th:only-of-type {\n",
       "        vertical-align: middle;\n",
       "    }\n",
       "\n",
       "    .dataframe tbody tr th {\n",
       "        vertical-align: top;\n",
       "    }\n",
       "\n",
       "    .dataframe thead tr th {\n",
       "        text-align: left;\n",
       "    }\n",
       "\n",
       "    .dataframe thead tr:last-of-type th {\n",
       "        text-align: right;\n",
       "    }\n",
       "</style>\n",
       "<table border=\"1\" class=\"dataframe\">\n",
       "  <thead>\n",
       "    <tr>\n",
       "      <th></th>\n",
       "      <th>count</th>\n",
       "      <th>sum</th>\n",
       "    </tr>\n",
       "    <tr>\n",
       "      <th></th>\n",
       "      <th>internet_expay</th>\n",
       "      <th>internet_expay</th>\n",
       "    </tr>\n",
       "    <tr>\n",
       "      <th>user_id</th>\n",
       "      <th></th>\n",
       "      <th></th>\n",
       "    </tr>\n",
       "  </thead>\n",
       "  <tbody>\n",
       "    <tr>\n",
       "      <th>1028</th>\n",
       "      <td>9</td>\n",
       "      <td>539.0</td>\n",
       "    </tr>\n",
       "    <tr>\n",
       "      <th>1490</th>\n",
       "      <td>4</td>\n",
       "      <td>266.0</td>\n",
       "    </tr>\n",
       "    <tr>\n",
       "      <th>1144</th>\n",
       "      <td>5</td>\n",
       "      <td>224.0</td>\n",
       "    </tr>\n",
       "    <tr>\n",
       "      <th>1038</th>\n",
       "      <td>2</td>\n",
       "      <td>154.0</td>\n",
       "    </tr>\n",
       "    <tr>\n",
       "      <th>1043</th>\n",
       "      <td>4</td>\n",
       "      <td>98.0</td>\n",
       "    </tr>\n",
       "  </tbody>\n",
       "</table>\n",
       "</div>"
      ],
      "text/plain": [
       "                 count            sum\n",
       "        internet_expay internet_expay\n",
       "user_id                              \n",
       "1028                 9          539.0\n",
       "1490                 4          266.0\n",
       "1144                 5          224.0\n",
       "1038                 2          154.0\n",
       "1043                 4           98.0"
      ]
     },
     "execution_count": 485,
     "metadata": {},
     "output_type": "execute_result"
    }
   ],
   "source": [
    "df_expay_ult_internet.sort_values(by=('sum','internet_expay'),ascending=False).head()\n"
   ]
  },
  {
   "cell_type": "code",
   "execution_count": 486,
   "metadata": {},
   "outputs": [
    {
     "data": {
      "text/plain": [
       "count  internet_expay    18\n",
       "sum    internet_expay    18\n",
       "dtype: int64"
      ]
     },
     "execution_count": 486,
     "metadata": {},
     "output_type": "execute_result"
    }
   ],
   "source": [
    "df_expay_ult_internet.sort_values(by=('sum','internet_expay'),ascending=False).count()"
   ]
  },
  {
   "cell_type": "code",
   "execution_count": 487,
   "metadata": {},
   "outputs": [
    {
     "data": {
      "text/plain": [
       "1666.0"
      ]
     },
     "execution_count": 487,
     "metadata": {},
     "output_type": "execute_result"
    }
   ],
   "source": [
    "df_expay_ult_internet[(  'sum', 'internet_expay')].sum()"
   ]
  },
  {
   "cell_type": "code",
   "execution_count": 488,
   "metadata": {},
   "outputs": [
    {
     "data": {
      "text/html": [
       "<div>\n",
       "<style scoped>\n",
       "    .dataframe tbody tr th:only-of-type {\n",
       "        vertical-align: middle;\n",
       "    }\n",
       "\n",
       "    .dataframe tbody tr th {\n",
       "        vertical-align: top;\n",
       "    }\n",
       "\n",
       "    .dataframe thead tr th {\n",
       "        text-align: left;\n",
       "    }\n",
       "\n",
       "    .dataframe thead tr:last-of-type th {\n",
       "        text-align: right;\n",
       "    }\n",
       "</style>\n",
       "<table border=\"1\" class=\"dataframe\">\n",
       "  <thead>\n",
       "    <tr>\n",
       "      <th>user_id</th>\n",
       "    </tr>\n",
       "  </thead>\n",
       "  <tbody>\n",
       "  </tbody>\n",
       "</table>\n",
       "</div>"
      ],
      "text/plain": [
       "Empty DataFrame\n",
       "Columns: []\n",
       "Index: []"
      ]
     },
     "execution_count": 488,
     "metadata": {},
     "output_type": "execute_result"
    }
   ],
   "source": [
    "df_expay_ult_call"
   ]
  },
  {
   "cell_type": "code",
   "execution_count": 489,
   "metadata": {},
   "outputs": [
    {
     "data": {
      "text/html": [
       "<div>\n",
       "<style scoped>\n",
       "    .dataframe tbody tr th:only-of-type {\n",
       "        vertical-align: middle;\n",
       "    }\n",
       "\n",
       "    .dataframe tbody tr th {\n",
       "        vertical-align: top;\n",
       "    }\n",
       "\n",
       "    .dataframe thead tr th {\n",
       "        text-align: left;\n",
       "    }\n",
       "\n",
       "    .dataframe thead tr:last-of-type th {\n",
       "        text-align: right;\n",
       "    }\n",
       "</style>\n",
       "<table border=\"1\" class=\"dataframe\">\n",
       "  <thead>\n",
       "    <tr>\n",
       "      <th>user_id</th>\n",
       "    </tr>\n",
       "  </thead>\n",
       "  <tbody>\n",
       "  </tbody>\n",
       "</table>\n",
       "</div>"
      ],
      "text/plain": [
       "Empty DataFrame\n",
       "Columns: []\n",
       "Index: []"
      ]
     },
     "execution_count": 489,
     "metadata": {},
     "output_type": "execute_result"
    }
   ],
   "source": [
    "df_expay_ult_msg"
   ]
  },
  {
   "cell_type": "markdown",
   "metadata": {},
   "source": [
    "Biaya tambahan dari penggunaan internet untuk paket Ultimate yaitu sebesar 1666 USD sekaligus menjadi pendapatan tambahan total. Karena tidak ada biaya tambahan yang diperoleh dari layanan telepon dan SMS. Mungkin kuota telepon yang ditawarkan oleh paket Ulitmate sudah lebih dari cukup"
   ]
  },
  {
   "cell_type": "markdown",
   "metadata": {},
   "source": [
    "<div class=\"alert alert-success\">\n",
    "<b>Chamdani's comment v.1</b> <a class=\"tocSkip\"></a>\n",
    "\n",
    "Bagus, semua berjalan lancar.\n",
    "\n",
    "</div>"
   ]
  },
  {
   "cell_type": "code",
   "execution_count": 490,
   "metadata": {},
   "outputs": [
    {
     "name": "stdout",
     "output_type": "stream",
     "text": [
      "51226.0\n",
      "3.252254714402842\n",
      "72.35310734463278\n"
     ]
    }
   ],
   "source": [
    "print(df_comb.loc[df_comb['plan_name']=='ultimate','total_pay'].sum())\n",
    "print(df_expay_ult_internet[(  'sum', 'internet_expay')].sum()/df_comb.loc[df_comb['plan_name']=='ultimate','total_pay'].sum()*100)\n",
    "print(df_comb.loc[df_comb['plan_name']=='ultimate','total_pay'].mean())"
   ]
  },
  {
   "cell_type": "markdown",
   "metadata": {},
   "source": [
    "Biaya tambahan tersebut menyumbang 3.25% dari total pendapatan yang diperoleh dari paket Ultimate sebesar 51.226 USD. Meskipun pengguna paket ini tidak sebanyak pengguna paket Surf tapi pendapatan ini dapat dikatakan cukup besar dikarenakan biaya dasar paket yang sudah besar yaitu 70 USD per bulan, yang setara dengan 50 USD biaya tambahan per user untuk paket Surf.\n",
    "\n",
    "Jadi meski secara keuntungan total tidak sebesar paket Surf, tapi rata-rata uang yang dikeluarkan oleh tiap pengguna paket ini mencapai 72 USD per bulan, 12 USD lebih besar dari pengeluaran pengguna paket Surf.\n",
    "\n",
    "Saya jadi ingin mengetahui pengguna surf yang pengeluaran totalnya melebihi 70 USD ada berapa orang."
   ]
  },
  {
   "cell_type": "code",
   "execution_count": 491,
   "metadata": {
    "scrolled": true
   },
   "outputs": [
    {
     "data": {
      "text/html": [
       "<div>\n",
       "<style scoped>\n",
       "    .dataframe tbody tr th:only-of-type {\n",
       "        vertical-align: middle;\n",
       "    }\n",
       "\n",
       "    .dataframe tbody tr th {\n",
       "        vertical-align: top;\n",
       "    }\n",
       "\n",
       "    .dataframe thead th {\n",
       "        text-align: right;\n",
       "    }\n",
       "</style>\n",
       "<table border=\"1\" class=\"dataframe\">\n",
       "  <thead>\n",
       "    <tr style=\"text-align: right;\">\n",
       "      <th></th>\n",
       "      <th>index</th>\n",
       "      <th>user_id</th>\n",
       "      <th>year_month</th>\n",
       "      <th>minutes_used</th>\n",
       "      <th>gb_used</th>\n",
       "      <th>messages_used</th>\n",
       "      <th>city</th>\n",
       "      <th>plan_name</th>\n",
       "      <th>gb_exceed</th>\n",
       "      <th>messages_exceed</th>\n",
       "      <th>minutes_exceed</th>\n",
       "      <th>usd_monthly_pay</th>\n",
       "      <th>internet_expay</th>\n",
       "      <th>message_expay</th>\n",
       "      <th>call_expay</th>\n",
       "      <th>total_expay</th>\n",
       "      <th>total_pay</th>\n",
       "    </tr>\n",
       "  </thead>\n",
       "  <tbody>\n",
       "    <tr>\n",
       "      <th>1698</th>\n",
       "      <td>1722.0</td>\n",
       "      <td>1379</td>\n",
       "      <td>201812</td>\n",
       "      <td>1103.0</td>\n",
       "      <td>70.0</td>\n",
       "      <td>126.0</td>\n",
       "      <td>Grand Rapids-Kentwood, MI MSA</td>\n",
       "      <td>surf</td>\n",
       "      <td>55.0</td>\n",
       "      <td>76.0</td>\n",
       "      <td>603.0</td>\n",
       "      <td>20</td>\n",
       "      <td>550.0</td>\n",
       "      <td>2.28</td>\n",
       "      <td>18.09</td>\n",
       "      <td>570.37</td>\n",
       "      <td>590.37</td>\n",
       "    </tr>\n",
       "    <tr>\n",
       "      <th>2230</th>\n",
       "      <td>2267.0</td>\n",
       "      <td>1121</td>\n",
       "      <td>201812</td>\n",
       "      <td>0.0</td>\n",
       "      <td>66.0</td>\n",
       "      <td>97.0</td>\n",
       "      <td>Miami-Fort Lauderdale-West Palm Beach, FL MSA</td>\n",
       "      <td>surf</td>\n",
       "      <td>51.0</td>\n",
       "      <td>47.0</td>\n",
       "      <td>0.0</td>\n",
       "      <td>20</td>\n",
       "      <td>510.0</td>\n",
       "      <td>1.41</td>\n",
       "      <td>0.00</td>\n",
       "      <td>511.41</td>\n",
       "      <td>531.41</td>\n",
       "    </tr>\n",
       "    <tr>\n",
       "      <th>1316</th>\n",
       "      <td>1332.0</td>\n",
       "      <td>1292</td>\n",
       "      <td>201812</td>\n",
       "      <td>144.0</td>\n",
       "      <td>51.0</td>\n",
       "      <td>0.0</td>\n",
       "      <td>Dallas-Fort Worth-Arlington, TX MSA</td>\n",
       "      <td>surf</td>\n",
       "      <td>36.0</td>\n",
       "      <td>0.0</td>\n",
       "      <td>0.0</td>\n",
       "      <td>20</td>\n",
       "      <td>360.0</td>\n",
       "      <td>0.00</td>\n",
       "      <td>0.00</td>\n",
       "      <td>360.00</td>\n",
       "      <td>380.00</td>\n",
       "    </tr>\n",
       "    <tr>\n",
       "      <th>1312</th>\n",
       "      <td>1328.0</td>\n",
       "      <td>1292</td>\n",
       "      <td>201808</td>\n",
       "      <td>323.0</td>\n",
       "      <td>51.0</td>\n",
       "      <td>0.0</td>\n",
       "      <td>Dallas-Fort Worth-Arlington, TX MSA</td>\n",
       "      <td>surf</td>\n",
       "      <td>36.0</td>\n",
       "      <td>0.0</td>\n",
       "      <td>0.0</td>\n",
       "      <td>20</td>\n",
       "      <td>360.0</td>\n",
       "      <td>0.00</td>\n",
       "      <td>0.00</td>\n",
       "      <td>360.00</td>\n",
       "      <td>380.00</td>\n",
       "    </tr>\n",
       "    <tr>\n",
       "      <th>1086</th>\n",
       "      <td>1099.0</td>\n",
       "      <td>1240</td>\n",
       "      <td>201808</td>\n",
       "      <td>1095.0</td>\n",
       "      <td>49.0</td>\n",
       "      <td>15.0</td>\n",
       "      <td>Baton Rouge, LA MSA</td>\n",
       "      <td>surf</td>\n",
       "      <td>34.0</td>\n",
       "      <td>0.0</td>\n",
       "      <td>595.0</td>\n",
       "      <td>20</td>\n",
       "      <td>340.0</td>\n",
       "      <td>0.00</td>\n",
       "      <td>17.85</td>\n",
       "      <td>357.85</td>\n",
       "      <td>377.85</td>\n",
       "    </tr>\n",
       "    <tr>\n",
       "      <th>...</th>\n",
       "      <td>...</td>\n",
       "      <td>...</td>\n",
       "      <td>...</td>\n",
       "      <td>...</td>\n",
       "      <td>...</td>\n",
       "      <td>...</td>\n",
       "      <td>...</td>\n",
       "      <td>...</td>\n",
       "      <td>...</td>\n",
       "      <td>...</td>\n",
       "      <td>...</td>\n",
       "      <td>...</td>\n",
       "      <td>...</td>\n",
       "      <td>...</td>\n",
       "      <td>...</td>\n",
       "      <td>...</td>\n",
       "      <td>...</td>\n",
       "    </tr>\n",
       "    <tr>\n",
       "      <th>215</th>\n",
       "      <td>221.0</td>\n",
       "      <td>1053</td>\n",
       "      <td>201811</td>\n",
       "      <td>511.0</td>\n",
       "      <td>20.0</td>\n",
       "      <td>16.0</td>\n",
       "      <td>New York-Newark-Jersey City, NY-NJ-PA MSA</td>\n",
       "      <td>surf</td>\n",
       "      <td>5.0</td>\n",
       "      <td>0.0</td>\n",
       "      <td>11.0</td>\n",
       "      <td>20</td>\n",
       "      <td>50.0</td>\n",
       "      <td>0.00</td>\n",
       "      <td>0.33</td>\n",
       "      <td>50.33</td>\n",
       "      <td>70.33</td>\n",
       "    </tr>\n",
       "    <tr>\n",
       "      <th>1401</th>\n",
       "      <td>1419.0</td>\n",
       "      <td>1316</td>\n",
       "      <td>201808</td>\n",
       "      <td>274.0</td>\n",
       "      <td>20.0</td>\n",
       "      <td>60.0</td>\n",
       "      <td>Tulsa, OK MSA</td>\n",
       "      <td>surf</td>\n",
       "      <td>5.0</td>\n",
       "      <td>10.0</td>\n",
       "      <td>0.0</td>\n",
       "      <td>20</td>\n",
       "      <td>50.0</td>\n",
       "      <td>0.30</td>\n",
       "      <td>0.00</td>\n",
       "      <td>50.30</td>\n",
       "      <td>70.30</td>\n",
       "    </tr>\n",
       "    <tr>\n",
       "      <th>1403</th>\n",
       "      <td>1421.0</td>\n",
       "      <td>1316</td>\n",
       "      <td>201810</td>\n",
       "      <td>228.0</td>\n",
       "      <td>20.0</td>\n",
       "      <td>59.0</td>\n",
       "      <td>Tulsa, OK MSA</td>\n",
       "      <td>surf</td>\n",
       "      <td>5.0</td>\n",
       "      <td>9.0</td>\n",
       "      <td>0.0</td>\n",
       "      <td>20</td>\n",
       "      <td>50.0</td>\n",
       "      <td>0.27</td>\n",
       "      <td>0.00</td>\n",
       "      <td>50.27</td>\n",
       "      <td>70.27</td>\n",
       "    </tr>\n",
       "    <tr>\n",
       "      <th>1977</th>\n",
       "      <td>2005.0</td>\n",
       "      <td>1439</td>\n",
       "      <td>201807</td>\n",
       "      <td>309.0</td>\n",
       "      <td>20.0</td>\n",
       "      <td>59.0</td>\n",
       "      <td>Riverside-San Bernardino-Ontario, CA MSA</td>\n",
       "      <td>surf</td>\n",
       "      <td>5.0</td>\n",
       "      <td>9.0</td>\n",
       "      <td>0.0</td>\n",
       "      <td>20</td>\n",
       "      <td>50.0</td>\n",
       "      <td>0.27</td>\n",
       "      <td>0.00</td>\n",
       "      <td>50.27</td>\n",
       "      <td>70.27</td>\n",
       "    </tr>\n",
       "    <tr>\n",
       "      <th>895</th>\n",
       "      <td>906.0</td>\n",
       "      <td>1193</td>\n",
       "      <td>201810</td>\n",
       "      <td>272.0</td>\n",
       "      <td>20.0</td>\n",
       "      <td>55.0</td>\n",
       "      <td>Houston-The Woodlands-Sugar Land, TX MSA</td>\n",
       "      <td>surf</td>\n",
       "      <td>5.0</td>\n",
       "      <td>5.0</td>\n",
       "      <td>0.0</td>\n",
       "      <td>20</td>\n",
       "      <td>50.0</td>\n",
       "      <td>0.15</td>\n",
       "      <td>0.00</td>\n",
       "      <td>50.15</td>\n",
       "      <td>70.15</td>\n",
       "    </tr>\n",
       "  </tbody>\n",
       "</table>\n",
       "<p>482 rows × 17 columns</p>\n",
       "</div>"
      ],
      "text/plain": [
       "       index  user_id year_month  minutes_used  gb_used  messages_used  \\\n",
       "1698  1722.0     1379     201812        1103.0     70.0          126.0   \n",
       "2230  2267.0     1121     201812           0.0     66.0           97.0   \n",
       "1316  1332.0     1292     201812         144.0     51.0            0.0   \n",
       "1312  1328.0     1292     201808         323.0     51.0            0.0   \n",
       "1086  1099.0     1240     201808        1095.0     49.0           15.0   \n",
       "...      ...      ...        ...           ...      ...            ...   \n",
       "215    221.0     1053     201811         511.0     20.0           16.0   \n",
       "1401  1419.0     1316     201808         274.0     20.0           60.0   \n",
       "1403  1421.0     1316     201810         228.0     20.0           59.0   \n",
       "1977  2005.0     1439     201807         309.0     20.0           59.0   \n",
       "895    906.0     1193     201810         272.0     20.0           55.0   \n",
       "\n",
       "                                               city plan_name  gb_exceed  \\\n",
       "1698                  Grand Rapids-Kentwood, MI MSA      surf       55.0   \n",
       "2230  Miami-Fort Lauderdale-West Palm Beach, FL MSA      surf       51.0   \n",
       "1316            Dallas-Fort Worth-Arlington, TX MSA      surf       36.0   \n",
       "1312            Dallas-Fort Worth-Arlington, TX MSA      surf       36.0   \n",
       "1086                            Baton Rouge, LA MSA      surf       34.0   \n",
       "...                                             ...       ...        ...   \n",
       "215       New York-Newark-Jersey City, NY-NJ-PA MSA      surf        5.0   \n",
       "1401                                  Tulsa, OK MSA      surf        5.0   \n",
       "1403                                  Tulsa, OK MSA      surf        5.0   \n",
       "1977       Riverside-San Bernardino-Ontario, CA MSA      surf        5.0   \n",
       "895        Houston-The Woodlands-Sugar Land, TX MSA      surf        5.0   \n",
       "\n",
       "      messages_exceed  minutes_exceed  usd_monthly_pay  internet_expay  \\\n",
       "1698             76.0           603.0               20           550.0   \n",
       "2230             47.0             0.0               20           510.0   \n",
       "1316              0.0             0.0               20           360.0   \n",
       "1312              0.0             0.0               20           360.0   \n",
       "1086              0.0           595.0               20           340.0   \n",
       "...               ...             ...              ...             ...   \n",
       "215               0.0            11.0               20            50.0   \n",
       "1401             10.0             0.0               20            50.0   \n",
       "1403              9.0             0.0               20            50.0   \n",
       "1977              9.0             0.0               20            50.0   \n",
       "895               5.0             0.0               20            50.0   \n",
       "\n",
       "      message_expay  call_expay  total_expay  total_pay  \n",
       "1698           2.28       18.09       570.37     590.37  \n",
       "2230           1.41        0.00       511.41     531.41  \n",
       "1316           0.00        0.00       360.00     380.00  \n",
       "1312           0.00        0.00       360.00     380.00  \n",
       "1086           0.00       17.85       357.85     377.85  \n",
       "...             ...         ...          ...        ...  \n",
       "215            0.00        0.33        50.33      70.33  \n",
       "1401           0.30        0.00        50.30      70.30  \n",
       "1403           0.27        0.00        50.27      70.27  \n",
       "1977           0.27        0.00        50.27      70.27  \n",
       "895            0.15        0.00        50.15      70.15  \n",
       "\n",
       "[482 rows x 17 columns]"
      ]
     },
     "execution_count": 491,
     "metadata": {},
     "output_type": "execute_result"
    }
   ],
   "source": [
    "df_comb.loc[(df_comb['plan_name']=='surf') & (df_comb['total_pay']>70)].sort_values(by='total_pay',ascending=False)"
   ]
  },
  {
   "cell_type": "markdown",
   "metadata": {},
   "source": [
    "Terdapat 482 data yang seharusnya beralih paket ke Ultimate karena memiliki kuota yang lebih besar dan biaya tambahan yang lebih murah. Sepertinya mereka malas untuk menghitung. Atau iklan paket ultimate tidak sampai ke telinga mereka? Ayo, bagaimana ini kinerja tim sales kita :)).\n",
    "\n",
    "Tapi bagi perusahaan hal ini menguntungkan sih, tapi mereka akan menjadi pelanggan yang berpotensi untuk pindah paket atau bahkan provider suatu saat nanti jika mereka sudah sadar."
   ]
  },
  {
   "cell_type": "markdown",
   "metadata": {},
   "source": [
    "<div class=\"alert alert-success\">\n",
    "<b>Chamdani's comment v.1</b> <a class=\"tocSkip\"></a>\n",
    "\n",
    "Bagus, semua berjalan lancar.\n",
    "\n",
    "</div>"
   ]
  },
  {
   "cell_type": "markdown",
   "metadata": {},
   "source": [
    "### Perilaku pelanggan: penggunaan layanan panggilan"
   ]
  },
  {
   "cell_type": "markdown",
   "metadata": {},
   "source": [
    "Untuk mengetahui perilaku pengguna, kita harus menggeneralisir data kita. Caranya dengan menghilangkan Outlier dari dataset. Kita telah melakukannya pada langkah sebelumnya (5).\n",
    "\n",
    "Mari kita tampilkan distribusi datanya."
   ]
  },
  {
   "cell_type": "code",
   "execution_count": 492,
   "metadata": {},
   "outputs": [
    {
     "data": {
      "text/plain": [
       "<AxesSubplot:xlabel='minutes_used', ylabel='Count'>"
      ]
     },
     "execution_count": 492,
     "metadata": {},
     "output_type": "execute_result"
    },
    {
     "data": {
      "image/png": "[encoded data removed]",
      "text/plain": [
       "<Figure size 432x288 with 1 Axes>"
      ]
     },
     "metadata": {
      "needs_background": "light"
     },
     "output_type": "display_data"
    }
   ],
   "source": [
    "sb.histplot(data = df_final['minutes_used'])"
   ]
  },
  {
   "cell_type": "code",
   "execution_count": 493,
   "metadata": {},
   "outputs": [],
   "source": [
    "call_mean = df_final['minutes_used'].mean()\n",
    "call_var  = df_final['minutes_used'].var()\n",
    "call_std  = df_final['minutes_used'].std()\n",
    "call_med  = df_final['minutes_used'].median()"
   ]
  },
  {
   "cell_type": "code",
   "execution_count": 494,
   "metadata": {},
   "outputs": [
    {
     "name": "stdout",
     "output_type": "stream",
     "text": [
      "Rata rata durasi panggilan adalah 411.9644886363636 menit\n",
      "Varians durasi panggilan adalah 45368.59987524762 menit\n",
      "Standar deviasi durasi panggilan adalah 212.99906073794696 menit\n",
      "Median durasi panggilan adalah 417.0 menit\n"
     ]
    }
   ],
   "source": [
    "print(f'Rata rata durasi panggilan adalah {call_mean} menit')\n",
    "print(f'Varians durasi panggilan adalah {call_var} menit')\n",
    "print(f'Standar deviasi durasi panggilan adalah {call_std} menit')\n",
    "print(f'Median durasi panggilan adalah {call_med} menit')"
   ]
  },
  {
   "cell_type": "markdown",
   "metadata": {},
   "source": [
    "Durasi panggilan memiki variance dan standar deviasi yang tinggi dikarenakan jumlah populasinya yang besar dan nilanya sangat random dan bervariasi. Namun kita dapat menyimpulkan kebutuhan rata-rata waktu panggilan pengguna paket Surf dan Ultimate adalah 412 menit dimana nilai rata-rata tersebut tidak jauh berbeda dengan nilai mediannya. Bisa dikatakan terdisibusi normal. \n",
    "\n",
    "Sekarang bagaimana jika kita pisah data pengguna paket Surf dan paket Ultimate?"
   ]
  },
  {
   "cell_type": "markdown",
   "metadata": {},
   "source": [
    "<div class=\"alert alert-success\">\n",
    "<b>Chamdani's comment v.1</b> <a class=\"tocSkip\"></a>\n",
    "\n",
    "Bagus, semua berjalan lancar.\n",
    "\n",
    "</div>"
   ]
  },
  {
   "cell_type": "markdown",
   "metadata": {},
   "source": [
    "#### Pengguna paket surf"
   ]
  },
  {
   "cell_type": "code",
   "execution_count": 495,
   "metadata": {},
   "outputs": [
    {
     "data": {
      "text/plain": [
       "<AxesSubplot:xlabel='minutes_used', ylabel='Count'>"
      ]
     },
     "execution_count": 495,
     "metadata": {},
     "output_type": "execute_result"
    },
    {
     "data": {
      "image/png": "[encoded data removed]",
      "text/plain": [
       "<Figure size 432x288 with 1 Axes>"
      ]
     },
     "metadata": {
      "needs_background": "light"
     },
     "output_type": "display_data"
    }
   ],
   "source": [
    "sb.histplot(data = df_final.loc[df_final['plan_name']=='surf','minutes_used'])"
   ]
  },
  {
   "cell_type": "code",
   "execution_count": 496,
   "metadata": {},
   "outputs": [],
   "source": [
    "call_mean = df_final.loc[df_final['plan_name']=='surf','minutes_used'].mean()\n",
    "call_var  = df_final.loc[df_final['plan_name']=='surf','minutes_used'].var()\n",
    "call_std  = df_final.loc[df_final['plan_name']=='surf','minutes_used'].std()\n",
    "call_med  = df_final.loc[df_final['plan_name']=='surf','minutes_used'].median()"
   ]
  },
  {
   "cell_type": "code",
   "execution_count": 497,
   "metadata": {},
   "outputs": [
    {
     "name": "stdout",
     "output_type": "stream",
     "text": [
      "Rata rata durasi panggilan adalah 410.98494182067077 menit\n",
      "Varians durasi panggilan adalah 45866.86963610963 menit\n",
      "Standar deviasi durasi panggilan adalah 214.16551925113816 menit\n",
      "Median durasi panggilan adalah 414.0 menit\n"
     ]
    }
   ],
   "source": [
    "print(f'Rata rata durasi panggilan adalah {call_mean} menit')\n",
    "print(f'Varians durasi panggilan adalah {call_var} menit')\n",
    "print(f'Standar deviasi durasi panggilan adalah {call_std} menit')\n",
    "print(f'Median durasi panggilan adalah {call_med} menit')"
   ]
  },
  {
   "cell_type": "markdown",
   "metadata": {},
   "source": [
    "Dapat kita lihat bahwa distribusi, rata-rata, variance, dan standar deviasi yang diperoleh dari paket surf tidak jauh berbeda dengan dataset total."
   ]
  },
  {
   "cell_type": "markdown",
   "metadata": {},
   "source": [
    "<div class=\"alert alert-success\">\n",
    "<b>Chamdani's comment v.1</b> <a class=\"tocSkip\"></a>\n",
    "\n",
    "Bagus, semua berjalan lancar.\n",
    "\n",
    "</div>"
   ]
  },
  {
   "cell_type": "markdown",
   "metadata": {},
   "source": [
    "#### Pengguna paket Ultimate"
   ]
  },
  {
   "cell_type": "code",
   "execution_count": 498,
   "metadata": {},
   "outputs": [
    {
     "data": {
      "text/plain": [
       "<AxesSubplot:xlabel='minutes_used', ylabel='Count'>"
      ]
     },
     "execution_count": 498,
     "metadata": {},
     "output_type": "execute_result"
    },
    {
     "data": {
      "image/png": "[encoded data removed]",
      "text/plain": [
       "<Figure size 432x288 with 1 Axes>"
      ]
     },
     "metadata": {
      "needs_background": "light"
     },
     "output_type": "display_data"
    }
   ],
   "source": [
    "sb.histplot(data = df_final.loc[df_final['plan_name']=='ultimate','minutes_used'])"
   ]
  },
  {
   "cell_type": "code",
   "execution_count": 499,
   "metadata": {},
   "outputs": [],
   "source": [
    "call_mean = df_final.loc[df_final['plan_name']=='ultimate','minutes_used'].mean()\n",
    "call_var  = df_final.loc[df_final['plan_name']=='ultimate','minutes_used'].var()\n",
    "call_std  = df_final.loc[df_final['plan_name']=='ultimate','minutes_used'].std()\n",
    "call_med  = df_final.loc[df_final['plan_name']=='ultimate','minutes_used'].median()"
   ]
  },
  {
   "cell_type": "code",
   "execution_count": 500,
   "metadata": {},
   "outputs": [
    {
     "name": "stdout",
     "output_type": "stream",
     "text": [
      "Rata rata durasi panggilan adalah 414.16282642089095 menit\n",
      "Varians durasi panggilan adalah 44312.210369845205 menit\n",
      "Standar deviasi durasi panggilan adalah 210.5046564089384 menit\n",
      "Median durasi panggilan adalah 420.0 menit\n"
     ]
    }
   ],
   "source": [
    "print(f'Rata rata durasi panggilan adalah {call_mean} menit')\n",
    "print(f'Varians durasi panggilan adalah {call_var} menit')\n",
    "print(f'Standar deviasi durasi panggilan adalah {call_std} menit')\n",
    "print(f'Median durasi panggilan adalah {call_med} menit')"
   ]
  },
  {
   "cell_type": "markdown",
   "metadata": {},
   "source": [
    "Begitu pula dengan pengguna paket Ultimate. Sehingga dapat disimpulkan durasi panggilan yang dibutuhkan untuk pelanggan surf dan ultimate kurang lebih sama yaitu sebesar 412 menit per bulan."
   ]
  },
  {
   "cell_type": "markdown",
   "metadata": {},
   "source": [
    "<div class=\"alert alert-success\">\n",
    "<b>Chamdani's comment v.1</b> <a class=\"tocSkip\"></a>\n",
    "\n",
    "Bagus, semua berjalan lancar.\n",
    "\n",
    "</div>"
   ]
  },
  {
   "cell_type": "markdown",
   "metadata": {},
   "source": [
    "### Perilaku pelanggan: penggunaan layanan internet"
   ]
  },
  {
   "cell_type": "markdown",
   "metadata": {},
   "source": [
    "Sekarang kita akan menganalisa perilaku penggunaan internet pelanggan dengan cara yang sama dengan analisis sebelumnya."
   ]
  },
  {
   "cell_type": "code",
   "execution_count": 501,
   "metadata": {},
   "outputs": [
    {
     "data": {
      "text/plain": [
       "<AxesSubplot:xlabel='gb_used', ylabel='Count'>"
      ]
     },
     "execution_count": 501,
     "metadata": {},
     "output_type": "execute_result"
    },
    {
     "data": {
      "image/png": "[encoded data removed]",
      "text/plain": [
       "<Figure size 432x288 with 1 Axes>"
      ]
     },
     "metadata": {
      "needs_background": "light"
     },
     "output_type": "display_data"
    }
   ],
   "source": [
    "sb.histplot(data = df_final['gb_used'])"
   ]
  },
  {
   "cell_type": "code",
   "execution_count": 502,
   "metadata": {},
   "outputs": [],
   "source": [
    "gb_mean = df_final['gb_used'].mean()\n",
    "gb_var  = df_final['gb_used'].var()\n",
    "gb_std  = df_final['gb_used'].std()\n",
    "gb_med  = df_final['gb_used'].median()"
   ]
  },
  {
   "cell_type": "code",
   "execution_count": 503,
   "metadata": {},
   "outputs": [
    {
     "name": "stdout",
     "output_type": "stream",
     "text": [
      "Rata rata penggunaan internet adalah 16.181818181818183\n",
      "Varians penggunaan internet adalah 45.51027087550063\n",
      "Standar deviasi penggunaan internet adalah 6.746130066601194\n",
      "Median penggunaan internet adalah 17.0\n"
     ]
    }
   ],
   "source": [
    "print(f'Rata rata penggunaan internet adalah {gb_mean}')\n",
    "print(f'Varians penggunaan internet adalah {gb_var}')\n",
    "print(f'Standar deviasi penggunaan internet adalah {gb_std}')\n",
    "print(f'Median penggunaan internet adalah {gb_med}')"
   ]
  },
  {
   "cell_type": "markdown",
   "metadata": {},
   "source": [
    "Penggunaan internet setiap pengguna cukup beragam namun tidak se-ekstrim durasi panggilan. Dari data histogram kita memperoleh data yang terdisirbusi normal tanpa danya outlier. Sehingga secara general kita dapat menyimpulkan kebutuhan internet pengguna adalah 16 GB yang diambil dari nilai rata-rata.\n",
    "\n",
    "Mari kita lihat distribusi untuk pengguna paket Surf dan Ultimate"
   ]
  },
  {
   "cell_type": "markdown",
   "metadata": {},
   "source": [
    "<div class=\"alert alert-success\">\n",
    "<b>Chamdani's comment v.1</b> <a class=\"tocSkip\"></a>\n",
    "\n",
    "Bagus, semua berjalan lancar.\n",
    "\n",
    "</div>"
   ]
  },
  {
   "cell_type": "markdown",
   "metadata": {},
   "source": [
    "#### Pengguna paket surf"
   ]
  },
  {
   "cell_type": "code",
   "execution_count": 504,
   "metadata": {},
   "outputs": [
    {
     "data": {
      "text/plain": [
       "<AxesSubplot:xlabel='gb_used', ylabel='Count'>"
      ]
     },
     "execution_count": 504,
     "metadata": {},
     "output_type": "execute_result"
    },
    {
     "data": {
      "image/png": "[encoded data removed]",
      "text/plain": [
       "<Figure size 432x288 with 1 Axes>"
      ]
     },
     "metadata": {
      "needs_background": "light"
     },
     "output_type": "display_data"
    }
   ],
   "source": [
    "sb.histplot(data = df_final.loc[(df_final['plan_name']=='surf'),'gb_used'])"
   ]
  },
  {
   "cell_type": "code",
   "execution_count": 505,
   "metadata": {},
   "outputs": [],
   "source": [
    "gb_mean = df_final.loc[(df_final['plan_name']=='surf'),'gb_used'].mean()\n",
    "gb_var  = df_final.loc[(df_final['plan_name']=='surf'),'gb_used'].var()\n",
    "gb_std  = df_final.loc[(df_final['plan_name']=='surf'),'gb_used'].std()\n",
    "gb_med  = df_final.loc[(df_final['plan_name']=='surf'),'gb_used'].median()"
   ]
  },
  {
   "cell_type": "code",
   "execution_count": 506,
   "metadata": {},
   "outputs": [
    {
     "name": "stdout",
     "output_type": "stream",
     "text": [
      "Rata rata penggunaan internet adalah 16.140999315537304\n",
      "Varians penggunaan internet adalah 46.56640694588995\n",
      "Standar deviasi penggunaan internet adalah 6.823958304817663\n",
      "Median penggunaan internet adalah 17.0\n"
     ]
    }
   ],
   "source": [
    "print(f'Rata rata penggunaan internet adalah {gb_mean}')\n",
    "print(f'Varians penggunaan internet adalah {gb_var}')\n",
    "print(f'Standar deviasi penggunaan internet adalah {gb_std}')\n",
    "print(f'Median penggunaan internet adalah {gb_med}')"
   ]
  },
  {
   "cell_type": "markdown",
   "metadata": {},
   "source": [
    "<div class=\"alert alert-success\">\n",
    "<b>Chamdani's comment v.1</b> <a class=\"tocSkip\"></a>\n",
    "\n",
    "Bagus, semua berjalan lancar.\n",
    "\n",
    "</div>"
   ]
  },
  {
   "cell_type": "markdown",
   "metadata": {},
   "source": [
    "#### Pengguna paket ultimate"
   ]
  },
  {
   "cell_type": "code",
   "execution_count": 507,
   "metadata": {},
   "outputs": [
    {
     "data": {
      "text/plain": [
       "<AxesSubplot:xlabel='gb_used', ylabel='Count'>"
      ]
     },
     "execution_count": 507,
     "metadata": {},
     "output_type": "execute_result"
    },
    {
     "data": {
      "image/png": "[encoded data removed]",
      "text/plain": [
       "<Figure size 432x288 with 1 Axes>"
      ]
     },
     "metadata": {
      "needs_background": "light"
     },
     "output_type": "display_data"
    }
   ],
   "source": [
    "sb.histplot(data = df_final.loc[(df_final['plan_name']=='ultimate'),'gb_used'])"
   ]
  },
  {
   "cell_type": "code",
   "execution_count": 508,
   "metadata": {},
   "outputs": [],
   "source": [
    "gb_mean = df_final.loc[(df_final['plan_name']=='ultimate'),'gb_used'].mean()\n",
    "gb_var  = df_final.loc[(df_final['plan_name']=='ultimate'),'gb_used'].var()\n",
    "gb_std  = df_final.loc[(df_final['plan_name']=='ultimate'),'gb_used'].std()\n",
    "gb_med  = df_final.loc[(df_final['plan_name']=='ultimate'),'gb_used'].median()"
   ]
  },
  {
   "cell_type": "code",
   "execution_count": 509,
   "metadata": {},
   "outputs": [
    {
     "name": "stdout",
     "output_type": "stream",
     "text": [
      "Rata rata penggunaan internet adalah 16.27342549923195\n",
      "Varians penggunaan internet adalah 43.1958927094411\n",
      "Standar deviasi penggunaan internet adalah 6.572358230455876\n",
      "Median penggunaan internet adalah 16.0\n"
     ]
    }
   ],
   "source": [
    "print(f'Rata rata penggunaan internet adalah {gb_mean}')\n",
    "print(f'Varians penggunaan internet adalah {gb_var}')\n",
    "print(f'Standar deviasi penggunaan internet adalah {gb_std}')\n",
    "print(f'Median penggunaan internet adalah {gb_med}')"
   ]
  },
  {
   "cell_type": "markdown",
   "metadata": {},
   "source": [
    "Sama halnya dengan penggunaan telepon, kebutuhan internet pada paket surf dan ultimate kurang lebih sama. yaitu sebesar 16 GB. Yang berarti bukan pengguna paket surf yang terlalu boros, tetapi pengguna paket ultimate yang terlalu hemat!. Diberikan kuota sebesar 30 GB tapi cuma dipakai setengahnya saja."
   ]
  },
  {
   "cell_type": "markdown",
   "metadata": {},
   "source": [
    "<div class=\"alert alert-success\">\n",
    "<b>Chamdani's comment v.1</b> <a class=\"tocSkip\"></a>\n",
    "\n",
    "Bagus, semua berjalan lancar.\n",
    "\n",
    "</div>"
   ]
  },
  {
   "cell_type": "markdown",
   "metadata": {},
   "source": [
    "### Perilaku pelanggan: penggunaan layanan SMS"
   ]
  },
  {
   "cell_type": "code",
   "execution_count": 510,
   "metadata": {},
   "outputs": [
    {
     "data": {
      "text/plain": [
       "<AxesSubplot:xlabel='messages_used', ylabel='Count'>"
      ]
     },
     "execution_count": 510,
     "metadata": {},
     "output_type": "execute_result"
    },
    {
     "data": {
      "image/png": "[encoded data removed]",
      "text/plain": [
       "<Figure size 432x288 with 1 Axes>"
      ]
     },
     "metadata": {
      "needs_background": "light"
     },
     "output_type": "display_data"
    }
   ],
   "source": [
    "sb.histplot(data = df_final['messages_used'])"
   ]
  },
  {
   "cell_type": "code",
   "execution_count": 511,
   "metadata": {},
   "outputs": [],
   "source": [
    "sms_mean = df_final['messages_used'].mean()\n",
    "sms_var  = df_final['messages_used'].var()\n",
    "sms_std  = df_final['messages_used'].std()\n",
    "sms_med  = df_final['messages_used'].median()"
   ]
  },
  {
   "cell_type": "code",
   "execution_count": 512,
   "metadata": {},
   "outputs": [
    {
     "name": "stdout",
     "output_type": "stream",
     "text": [
      "Rata rata penggunaan SMS adalah 29.262310606060606\n",
      "Varians penggunaan SMS adalah 800.5356134174525\n",
      "Standar deviasi penggunaan SMS adalah 28.29373806016894\n",
      "Median penggunaan SMS adalah 24.0\n"
     ]
    }
   ],
   "source": [
    "print(f'Rata rata penggunaan SMS adalah {sms_mean}')\n",
    "print(f'Varians penggunaan SMS adalah {sms_var}')\n",
    "print(f'Standar deviasi penggunaan SMS adalah {sms_std}')\n",
    "print(f'Median penggunaan SMS adalah {sms_med}')"
   ]
  },
  {
   "cell_type": "markdown",
   "metadata": {},
   "source": [
    "Kebutuhan SMS pelanggan memiliki varians dan standar deviasi yang cukup tinggi yang artinya penggunaan SMS cukup bervariatif setiap orangnya.\n",
    "\n",
    "Bahkan sebagian besar pelanggan tidak terlalu sering menggunakan layanan SMS ini (sebagian  besar data menggunakan SMS kurang dari 20 pesan). Data histogram yang kita peroleh tidak terdistribusi normal sehingga akan lebih baik jika kita menyimpulkan kebutuhan SMS pelanggan dengan menggunakan median yaitu sebesar 24 SMS per bulan.\n",
    "\n",
    "Sekarang kita akan melihat histogram untuk pengguna pake Surf dan Ultimate"
   ]
  },
  {
   "cell_type": "markdown",
   "metadata": {},
   "source": [
    "<div class=\"alert alert-success\">\n",
    "<b>Chamdani's comment v.1</b> <a class=\"tocSkip\"></a>\n",
    "\n",
    "Bagus, semua berjalan lancar.\n",
    "\n",
    "</div>"
   ]
  },
  {
   "cell_type": "markdown",
   "metadata": {},
   "source": [
    "#### Pengguna paket surf"
   ]
  },
  {
   "cell_type": "code",
   "execution_count": 513,
   "metadata": {},
   "outputs": [
    {
     "data": {
      "text/plain": [
       "<AxesSubplot:xlabel='messages_used', ylabel='Count'>"
      ]
     },
     "execution_count": 513,
     "metadata": {},
     "output_type": "execute_result"
    },
    {
     "data": {
      "image/png": "[encoded data removed]",
      "text/plain": [
       "<Figure size 432x288 with 1 Axes>"
      ]
     },
     "metadata": {
      "needs_background": "light"
     },
     "output_type": "display_data"
    }
   ],
   "source": [
    "sb.histplot(data = df_final.loc[df_final['plan_name']=='surf','messages_used'])"
   ]
  },
  {
   "cell_type": "code",
   "execution_count": 514,
   "metadata": {},
   "outputs": [
    {
     "data": {
      "text/plain": [
       "22.0"
      ]
     },
     "execution_count": 514,
     "metadata": {},
     "output_type": "execute_result"
    }
   ],
   "source": [
    "df_final.loc[df_final['plan_name']=='surf','messages_used'].median()"
   ]
  },
  {
   "cell_type": "markdown",
   "metadata": {},
   "source": [
    "<div class=\"alert alert-success\">\n",
    "<b>Chamdani's comment v.1</b> <a class=\"tocSkip\"></a>\n",
    "\n",
    "Bagus, semua berjalan lancar.\n",
    "\n",
    "</div>"
   ]
  },
  {
   "cell_type": "markdown",
   "metadata": {},
   "source": [
    "#### Pengguna paket ultimate"
   ]
  },
  {
   "cell_type": "code",
   "execution_count": 515,
   "metadata": {},
   "outputs": [
    {
     "data": {
      "text/plain": [
       "<AxesSubplot:xlabel='messages_used', ylabel='Count'>"
      ]
     },
     "execution_count": 515,
     "metadata": {},
     "output_type": "execute_result"
    },
    {
     "data": {
      "image/png": "[encoded data removed]",
      "text/plain": [
       "<Figure size 432x288 with 1 Axes>"
      ]
     },
     "metadata": {
      "needs_background": "light"
     },
     "output_type": "display_data"
    }
   ],
   "source": [
    "sb.histplot(data = df_final.loc[df_final['plan_name']=='ultimate','messages_used'])"
   ]
  },
  {
   "cell_type": "code",
   "execution_count": 516,
   "metadata": {},
   "outputs": [
    {
     "data": {
      "text/plain": [
       "28.0"
      ]
     },
     "execution_count": 516,
     "metadata": {},
     "output_type": "execute_result"
    }
   ],
   "source": [
    "df_final.loc[df_final['plan_name']=='ultimate','messages_used'].median()"
   ]
  },
  {
   "cell_type": "markdown",
   "metadata": {},
   "source": [
    "Terdapat perbedaan kebutuhan SMS antara pelanggan paket surf dan paket ultimate sebesar 6 pesan/bulan."
   ]
  },
  {
   "cell_type": "markdown",
   "metadata": {},
   "source": [
    "<div class=\"alert alert-success\">\n",
    "<b>Chamdani's comment v.1</b> <a class=\"tocSkip\"></a>\n",
    "\n",
    "Bagus, semua berjalan lancar.\n",
    "\n",
    "</div>"
   ]
  },
  {
   "cell_type": "markdown",
   "metadata": {},
   "source": [
    "### Kesimpulan dan saran dari hasil analisa"
   ]
  },
  {
   "cell_type": "markdown",
   "metadata": {},
   "source": [
    "Berikut adalah beberapa simpulan yang bisa diperoleh dari hasil analisis data oleh seorang ilmuwan data kepada pengguna:\n",
    "\n",
    "1. Sebagian besar pengguna paket surf cenderung membayar lebih mahal untuk internet.\n",
    "2. Terdapat beberapa pengguna yang membayar lebih mahal untuk layanan pesan dan panggilan.\n",
    "3. Sebagian besar pendapatan diperoleh dari tambahan biaya karena penggunaan internet yang melebihi kuota\n",
    "4. Kuota panggilan dan pesan pada paket ultimate dianggap sangat berlebihan.\n",
    "5. Kebutuhan telepon pelanggan sebesar 412 menit per bulan baik untuk pelanggan dengan paket surf maupun ultimate.\n",
    "7. Kebutuhan internet pelanggan sebesar 16 GB per bulan baik untuk pelanggan dengan paket surf maupun ultimate.\n",
    "6. Kebutuhan SMS pelanggan sebesar 24 SMS per bulan baik untuk pelanggan dengan paket surf maupun ultimate."
   ]
  },
  {
   "cell_type": "markdown",
   "metadata": {},
   "source": [
    "Saran:\n",
    "1. Disarankan untuk membuat paket mid-range dengan harga berkisar antara 30-50 dolar, yang dapat meningkatkan kuota internet dan panggilan serta pesan, sehingga dapat menarik pelanggan yang merasa bahwa paket ultimate memberikan terlalu banyak kuota panggilan dan pesan dan juga bermanfaat untuk mempertahankan pelanggan paket surf jika suatu saat nanti mereka ingin melirik paket lain (semoga saja bukan paket dari provider lain, yakaan?).\n",
    "2. Jika tidak membuat paket mid-range, bisa juga dengan membuat paket add-on. Jadi selama pelanggan telah berlangganan paket dan kuota mereka sudah habis. Mereka dapat membeli tambahan internet/telepon/SMS tambahan secara terpisah namun dengan harga per GB yang lebih mahal namun tidak semahal tarif kelebihan batas. Biaya internet jika telah exceed adalah 10 USD/GB, dan harga paket adalah 20 USD/(15 GB + SMS + telepon) anggaplah 1 USD/GB, maka harga paket add-on ini bisa kita buat 2.5 - 4 USD/GB. Jadi pelanggan akan berpikir untuk membeli add-on daripada harus bayar 10 USD/GB, tapi kita tetap untung dari segi mendapat reputasi dan loyalitas pelanggan.\n",
    "3. Disarankan juga untuk membuat paket baru dengan pengurangan kuota pesan, mengingat banyak pengguna yang tidak memanfaatkan kuota pesan secara maksimal. Tujuannya adalah untuk menarik pelanggan baru yang memiliki kekhawatiran yang sama tentang penggunaan kuota pesan yang berlebihan dan potensi pemborosan biaya. Tapi paket ultimate jangan dihapus, ini bisa menjadi paket \"Jebakan\", mereka membayar lebih namun tidak memanfaatkannya."
   ]
  },
  {
   "cell_type": "markdown",
   "metadata": {},
   "source": [
    "<div class=\"alert alert-success\">\n",
    "<b>Chamdani's comment v.1</b> <a class=\"tocSkip\"></a>\n",
    "\n",
    "Bagus, semua berjalan lancar.\n",
    "\n",
    "</div>"
   ]
  },
  {
   "cell_type": "markdown",
   "metadata": {},
   "source": [
    "## Uji Hipotesis"
   ]
  },
  {
   "cell_type": "markdown",
   "metadata": {},
   "source": [
    "Pada tahap ini kita akan melakukan pengujian hipotesis terhadap:\n",
    "1. Perbedaan pendapatan pengguna paket Surf dan Ultimate\n",
    "2. Perbedaan pendapatan dari pengguna di wilayah NY-NJ\n",
    "\n",
    "Saya akan menggunakan P-value untuk menguji hipotesis tersebut karena p-value memberikan informasi tentang signifikansi statistik dari perbedaan yang diamati antara dua variabel. Semakin rendah p-value menunjukan bahwa perbedaan antara dua kelompok atau variable tidak signifikan dengan batas toleransi yang telah ditentukan. Batas error yang saya tentukan adalah sebesar 5%."
   ]
  },
  {
   "cell_type": "markdown",
   "metadata": {},
   "source": [
    "### Pendapatan pengguna paket Surf dan Ultimate"
   ]
  },
  {
   "cell_type": "markdown",
   "metadata": {},
   "source": [
    "Hipotesis paket adalah hipotesis dimana pendapatan dari pengguna paket surf dan ultimate berbeda. Kita definisikan H0 dan H1 sebagai berikut:\n",
    "* Ho : Pendapatan dari pengguna paket surf dan ultimate berbeda\n",
    "* H1 : Pendapatan dari pengguna paket surf dan ultimate sama\n",
    "\n",
    "Pertama kita pisahkan dulu datanya antara pengguna surf dan pengguna ultimate"
   ]
  },
  {
   "cell_type": "code",
   "execution_count": 517,
   "metadata": {},
   "outputs": [],
   "source": [
    "surf = df_comb[df_comb['plan_name']=='surf']['total_pay']\n",
    "ultimate = df_comb[df_comb['plan_name']=='ultimate']['total_pay']"
   ]
  },
  {
   "cell_type": "code",
   "execution_count": 518,
   "metadata": {},
   "outputs": [
    {
     "name": "stdout",
     "output_type": "stream",
     "text": [
      "pvalue = 3.199397264170127e-15\n",
      "H0 ditolak, Pendapatan dari pengguna paket surf dan ultimate sama\n"
     ]
    }
   ],
   "source": [
    "pv1 = st.ttest_ind(surf,ultimate,equal_var=False).pvalue\n",
    "print(f'pvalue = {pv1}')\n",
    "if pv1 < 0.05:\n",
    "    print(\"H0 ditolak, Pendapatan dari pengguna paket surf dan ultimate sama\")\n",
    "else:\n",
    "    print(\"H0 diterima, Pendapatan dari pengguna paket surf dan ultimate berbeda\") "
   ]
  },
  {
   "cell_type": "code",
   "execution_count": 519,
   "metadata": {},
   "outputs": [
    {
     "name": "stdout",
     "output_type": "stream",
     "text": [
      "Pendapatan rata rata dari paket surf adalah 60.6509496124031\n",
      "Pendapatan rata rata dari paket ultimate adalah 72.35310734463278\n"
     ]
    }
   ],
   "source": [
    "print(f'Pendapatan rata rata dari paket surf adalah {surf.mean()}')\n",
    "print(f'Pendapatan rata rata dari paket ultimate adalah {ultimate.mean()}')"
   ]
  },
  {
   "cell_type": "code",
   "execution_count": 520,
   "metadata": {},
   "outputs": [
    {
     "data": {
      "text/plain": [
       "Text(0.5, 1.0, '0: Surf | 1: Ultimate')"
      ]
     },
     "execution_count": 520,
     "metadata": {},
     "output_type": "execute_result"
    },
    {
     "data": {
      "image/png": "[encoded data removed]",
      "text/plain": [
       "<Figure size 432x288 with 1 Axes>"
      ]
     },
     "metadata": {
      "needs_background": "light"
     },
     "output_type": "display_data"
    }
   ],
   "source": [
    "sb.boxplot(data=(surf,ultimate)).set(xlabel='Paket', ylabel='Pendapatan')\n",
    "plt.title('0: Surf | 1: Ultimate')"
   ]
  },
  {
   "cell_type": "markdown",
   "metadata": {},
   "source": [
    "Pendapatan secara total lebih besar paket surf karena memang penggunanya yang juga besar dan juga diperbesar dengan adanya outliernya yang menyumbang uang dengan gila-gilan yaitu diatas 200 USD bahkan hingga 600 USD. Sedangkan outlier pengguna paket ultimate maksimal hanya di kisaran 200 USD saja dan penggunanya lebih sedikit.\n",
    "\n",
    "Namun hipotesis tersebut dapat ditolak karena secara overal pendapatan dari kedua paket tersebut tidak terlalu besar gap-nya. Hal tersebut dapat dibuktikan dengan melihat pendapatan rata-rata per orang per bulannya. Paket surf berada pada nilai 60 USD/bulan sedangkan paket ultimate berada pada nilai 72 USD/bulan."
   ]
  },
  {
   "cell_type": "markdown",
   "metadata": {},
   "source": [
    "<div class=\"alert alert-success\">\n",
    "<b>Chamdani's comment v.1</b> <a class=\"tocSkip\"></a>\n",
    "\n",
    "Bagus, semua berjalan lancar.\n",
    "\n",
    "</div>"
   ]
  },
  {
   "cell_type": "markdown",
   "metadata": {},
   "source": [
    "### Pendapatan dari pengguna di wilayah NY-NJ"
   ]
  },
  {
   "cell_type": "markdown",
   "metadata": {},
   "source": [
    "Hipotesis region adalah hipotesis dimana pendapatan dari pengguna di wilayah NY-NJ berbeda dengan pendapatan pengguna dari wilayah lain.\n",
    "* H0 : Pendapatan dari pengguna di region New York dan New Jersey berbeda dengan wilayah lain.\n",
    "* H1 : Pendapatan dari pengguna di region New York dan New Jersey sama dengan wilayah lain."
   ]
  },
  {
   "cell_type": "code",
   "execution_count": 524,
   "metadata": {},
   "outputs": [],
   "source": [
    "ny_nj = df_comb[df_comb['city'].str.contains(\"NY\"or\"NJ\")]['total_pay'].dropna()\n",
    "other = df_comb[~df_comb['city'].str.contains(\"NY\"or\"NJ\")]['total_pay'].dropna()\n"
   ]
  },
  {
   "cell_type": "code",
   "execution_count": 525,
   "metadata": {},
   "outputs": [
    {
     "name": "stdout",
     "output_type": "stream",
     "text": [
      "pvalue = 0.09858803097119573\n",
      "H0 diterima, Pendapatan dari pengguna di region New York dan New Jersey berbeda.\n"
     ]
    }
   ],
   "source": [
    "pv2 = st.ttest_ind(ny_nj,other,equal_var=False).pvalue\n",
    "print(f'pvalue = {pv2}')\n",
    "if pv2 < 0.05:\n",
    "    print(\"H0 ditolak, Pendapatan dari pengguna region New York dan New Jersey sama.\")\n",
    "else:\n",
    "    print(\"H0 diterima, Pendapatan dari pengguna di region New York dan New Jersey berbeda.\") "
   ]
  },
  {
   "cell_type": "code",
   "execution_count": 528,
   "metadata": {},
   "outputs": [
    {
     "name": "stdout",
     "output_type": "stream",
     "text": [
      "Pendapatan rata rata di New York dan New Jersey adalah 60.9264\n",
      "Pendapatan rata rata di luar wilayah New York dan New Jersey adalah 65.05555495689656\n",
      "Pendapatan median di New York dan New Jersey adalah 51.635\n",
      "Pendapatan median di luar wilayah New York dan New Jersey adalah 70.0\n"
     ]
    },
    {
     "data": {
      "image/png": "[encoded data removed]",
      "text/plain": [
       "<Figure size 432x288 with 1 Axes>"
      ]
     },
     "metadata": {
      "needs_background": "light"
     },
     "output_type": "display_data"
    }
   ],
   "source": [
    "sb.boxplot(data = (ny_nj,other)).set(xlabel='Region', ylabel='Pendapatan')\n",
    "plt.title('0: NY-NJ | 1: Other')\n",
    "\n",
    "print(f'Pendapatan rata rata di New York dan New Jersey adalah {ny_nj.mean()}')\n",
    "print(f'Pendapatan rata rata di luar wilayah New York dan New Jersey adalah {other.mean()}')\n",
    "print(f'Pendapatan median di New York dan New Jersey adalah {ny_nj.median()}')\n",
    "print(f'Pendapatan median di luar wilayah New York dan New Jersey adalah {other.median()}')"
   ]
  },
  {
   "cell_type": "markdown",
   "metadata": {},
   "source": [
    "Meskipun wilayah NY-NJ dan wilayah lain memiliki rata-rata yang terlampau jauh, namun perbedaan mediannya cukup besar. Pendapatan wilayah NY-NJ terdistribusi normal sedangkan pendapatan wilayah lain agak skewed yang ditandai dengan nilai median yang hampir berhimpit dengan nilai Q3 nya.\n",
    "\n",
    "Dapat disimpulkan pendapatan wilayah lain lebih besar dari pendapatan dari wilayah NY-NJ."
   ]
  },
  {
   "cell_type": "markdown",
   "metadata": {},
   "source": [
    "<div class=\"alert alert-success\">\n",
    "<b>Chamdani's comment v.1</b> <a class=\"tocSkip\"></a>\n",
    "\n",
    "Bagus, semua berjalan lancar.\n",
    "\n",
    "</div>"
   ]
  },
  {
   "cell_type": "markdown",
   "metadata": {},
   "source": [
    "## Kesimpulan"
   ]
  },
  {
   "cell_type": "markdown",
   "metadata": {},
   "source": [
    "Kesimpulan yang bisa diberikan adalah\n",
    "1. Pendapatan paket surf sama dengan pendapatan paket ultimate secara statistik dengan nilai rata-rata sebesar 60 USD (Surf) dan 72 USD (Ultimate).\n",
    "2. Pendapatan di wilayah New York dan New Jersey secara statistik nilai mediannya adalah 51 USD (NY-NJ) dan 70 USD (Other)\n",
    "3. Faktor geografi mempengaruhi penggunaan paket penggunanya.\n",
    "4. Banyak sekali pengguna baik pengguna paket surf ataupun ultimate yang penggunaan internetnya sangat besar (melebihi batas kuota).\n",
    "5. Banyak penggunaan pesan dan panggilan yang melebihi kuota untuk paket surf.\n",
    "6. Penggunaan kuota pesan dan panggilan untuk paket ultimate dirasa terlalu rendah dibandingkan dengan kuota yang diberikan yang dibuktikan dengan kecilnya kebutuhan durasi telepon dan SMS yang dibutuhkan dibandingkan dengan kuota yang disediakan."
   ]
  },
  {
   "cell_type": "markdown",
   "metadata": {},
   "source": [
    "Rekomendasi yang dapat diberikan:\n",
    "1. Disarankan untuk membuat paket mid-range dengan harga berkisar antara 30-50 dolar, yang dapat meningkatkan kuota internet dan panggilan serta pesan, sehingga dapat menarik pelanggan yang merasa bahwa paket ultimate memberikan terlalu banyak kuota panggilan dan pesan dan juga bermanfaat untuk mempertahankan pelanggan paket surf jika suatu saat nanti mereka ingin melirik paket lain (semoga saja bukan paket dari provider lain, yakaan?).\n",
    "2. Jika tidak membuat paket mid-range, bisa juga dengan membuat paket add-on. Jadi selama pelanggan telah berlangganan paket dan kuota mereka sudah habis. Mereka dapat membeli tambahan internet/telepon/SMS tambahan secara terpisah namun dengan harga per GB yang lebih mahal namun tidak semahal tarif kelebihan batas. Biaya internet jika telah exceed adalah 10 USD/GB, dan harga paket adalah 20 USD/(15 GB + SMS + telepon) anggaplah 1 USD/GB, maka harga paket add-on ini bisa kita buat 2.5 - 4 USD/GB. Jadi pelanggan akan berpikir untuk membeli add-on daripada harus bayar 10 USD/GB, tapi kita tetap untung dari segi mendapat reputasi dan loyalitas pelanggan.\n",
    "3. Disarankan juga untuk membuat paket baru dengan pengurangan kuota pesan, mengingat banyak pengguna yang tidak memanfaatkan kuota pesan secara maksimal. Tujuannya adalah untuk menarik pelanggan baru yang memiliki kekhawatiran yang sama tentang penggunaan kuota pesan yang berlebihan dan potensi pemborosan biaya. Tapi paket ultimate jangan dihapus, ini bisa menjadi paket \"Jebakan\", mereka membayar lebih namun tidak memanfaatkannya.\n",
    "4. Membuat notifikasi kepada pengguna jika paket mereka telah habis, bahkan perlu membuat persetujuan untuk mengenakan biaya tambahan karena telah melebihi kuota. Bisa jadi pelanggan yang membayar mahal itu karena mereka asik internetan tanpa tahu paketnya sudah habis dan rekening mereka terkuras:)."
   ]
  },
  {
   "cell_type": "markdown",
   "metadata": {},
   "source": [
    "<div class=\"alert alert-success\">\n",
    "<b>Chamdani's comment v.1</b> <a class=\"tocSkip\"></a>\n",
    "\n",
    "Bagus, semua berjalan lancar.\n",
    "\n",
    "</div>"
   ]
  },
  {
   "cell_type": "markdown",
   "metadata": {},
   "source": [
    "<div style=\"border:solid black 2px; padding: 20px\" class=\"alert alert-success\">\n",
    "    \n",
    "# General feedback v.1 *Project Accepted*\n",
    "\n",
    "Terima kasih banyak telah mengirimkan proyek Anda! \n",
    "<br>\n",
    "    \n",
    "Secara keseluruhan, proyek Anda **SANGAT** mengesankan. Semoga apa yang kamu pelajari dalam project ini dapat membantu meningkatkan kemampuanmu. Pertahankan apa yang sudah bagus, dan tingkatkan apa yang menurutmu masih perlu ditingkatkan. Semoga berhasil pada project selanjutnya yaa :)\n",
    "\n",
    "**TETAP SEMANGAT!!**\n",
    "    \n",
    "</div>"
   ]
  },
  {
   "cell_type": "code",
   "execution_count": null,
   "metadata": {},
   "outputs": [],
   "source": []
  }
 ],
 "metadata": {
  "kernelspec": {
   "display_name": "Python 3 (ipykernel)",
   "language": "python",
   "name": "python3"
  },
  "language_info": {
   "codemirror_mode": {
    "name": "ipython",
    "version": 3
   },
   "file_extension": ".py",
   "mimetype": "text/x-python",
   "name": "python",
   "nbconvert_exporter": "python",
   "pygments_lexer": "ipython3",
   "version": "3.9.5"
  },
  "toc": {
   "base_numbering": 1,
   "nav_menu": {},
   "number_sections": true,
   "sideBar": true,
   "skip_h1_title": true,
   "title_cell": "Table of Contents",
   "title_sidebar": "Contents",
   "toc_cell": false,
   "toc_position": {
    "height": "calc(100% - 180px)",
    "left": "10px",
    "top": "150px",
    "width": "164.997px"
   },
   "toc_section_display": true,
   "toc_window_display": true
  }
 },
 "nbformat": 4,
 "nbformat_minor": 2
}
